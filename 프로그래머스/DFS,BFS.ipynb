{
 "cells": [
  {
   "cell_type": "markdown",
   "metadata": {},
   "source": [
    "### Level3 - 네트워크"
   ]
  },
  {
   "cell_type": "code",
   "execution_count": null,
   "metadata": {},
   "outputs": [],
   "source": [
    "from collections import deque\n",
    "\n",
    "\n",
    "def solution(n, computers):\n",
    "    answer = 0\n",
    "    global length\n",
    "    length = len(computers)\n",
    "    global visited\n",
    "    visited = [[False]*length for _ in range(length)]\n",
    "    for i in range(length):\n",
    "        for j in range(length):\n",
    "            if computers[i][j] and not visited[i][j]:\n",
    "                BFS(computers,i,j)\n",
    "                answer+=1\n",
    "    return answer\n",
    "\n",
    "def BFS(Graph,x,y):\n",
    "    queue = deque([(x,y)])\n",
    "    visited[x][y] = True\n",
    "    while queue:\n",
    "        X,Y = queue.popleft()\n",
    "        for i in range(length):\n",
    "            if Graph[Y][i] and not visited[Y][i]:\n",
    "                visited[Y][i] = True\n",
    "                queue.append((Y,i))"
   ]
  },
  {
   "cell_type": "markdown",
   "metadata": {},
   "source": [
    "### Level3 - 여행경로"
   ]
  },
  {
   "cell_type": "code",
   "execution_count": 7,
   "metadata": {},
   "outputs": [],
   "source": [
    "from collections import deque\n",
    "\n",
    "def solution(tickets):\n",
    "    \n",
    "    answer = []\n",
    "    trip = sorted(tickets,key=lambda data:data[1])\n",
    "    length = len(trip)\n",
    "    \n",
    "    def BFS(start,end,i):\n",
    "        answer.append(start)\n",
    "        answer.append(end)\n",
    "        visited = [False]*length\n",
    "        visited[i] = True\n",
    "        queue = deque([(start,end)])\n",
    "        while queue:\n",
    "            S,E = queue.popleft()\n",
    "            for spot in range(length):\n",
    "                if trip[spot][0] == E and not visited[spot]:\n",
    "                    queue.append( (trip[spot][0],trip[spot][1]) )\n",
    "                    visited[spot] = True\n",
    "                    answer.append(trip[spot][1])\n",
    "                    break\n",
    "    \n",
    "    for i in range(length):\n",
    "        if trip[i][0] == \"ICN\":\n",
    "            BFS(trip[i][0],trip[i][1],i)\n",
    "            break\n",
    "    \n",
    "    return answer"
   ]
  },
  {
   "cell_type": "code",
   "execution_count": 10,
   "metadata": {},
   "outputs": [
    {
     "name": "stdout",
     "output_type": "stream",
     "text": [
      "['ICN', 'JFK', 'HND', 'IAD']\n"
     ]
    }
   ],
   "source": [
    "Tick = [[\"ICN\",\"JFK\"],\n",
    "        [\"HND\",\"IAD\"],\n",
    "        [\"JFK\",\"HND\"],\n",
    "#         [\"\",\"\"],\n",
    "#         [\"\",\"\"],\n",
    "       ]\n",
    "print(solution(Tick))\n"
   ]
  },
  {
   "cell_type": "code",
   "execution_count": 12,
   "metadata": {},
   "outputs": [],
   "source": [
    "def solution(tickets):\n",
    "    routes = dict()\n",
    "    \n",
    "    for (start,end) in tickets:\n",
    "        routes[start] = routes.get(start,[]) + [end]\n",
    "    for r in routes.keys():\n",
    "        routes[r].sort(reverse=True)\n",
    "        \n",
    "    st = [\"ICN\"]\n",
    "    path = []\n",
    "    \n",
    "    while st:\n",
    "        top = st[-1]\n",
    "        \n",
    "        if top not in routes or len(routes[top]) == 0:\n",
    "            path.append(st.pop())\n",
    "        else:\n",
    "            st.append(routes[top][-1])\n",
    "            routes[top] = routes[top][:-1]\n",
    "    answer = path[::-1]\n",
    "    return answer"
   ]
  },
  {
   "cell_type": "code",
   "execution_count": null,
   "metadata": {},
   "outputs": [],
   "source": []
  }
 ],
 "metadata": {
  "kernelspec": {
   "display_name": "Python 3",
   "language": "python",
   "name": "python3"
  },
  "language_info": {
   "codemirror_mode": {
    "name": "ipython",
    "version": 3
   },
   "file_extension": ".py",
   "mimetype": "text/x-python",
   "name": "python",
   "nbconvert_exporter": "python",
   "pygments_lexer": "ipython3",
   "version": "3.7.3"
  }
 },
 "nbformat": 4,
 "nbformat_minor": 2
}
