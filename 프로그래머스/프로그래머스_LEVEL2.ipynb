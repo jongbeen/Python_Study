{
 "cells": [
  {
   "cell_type": "markdown",
   "metadata": {},
   "source": [
    "## Level 2 - 문제"
   ]
  },
  {
   "cell_type": "markdown",
   "metadata": {},
   "source": [
    "### 1. 가장 큰 정사각형 크기 찾기"
   ]
  },
  {
   "cell_type": "markdown",
   "metadata": {},
   "source": [
    "- BFS로 풀어야 되나 생각이 들었지만, 계단형도 True인 경우 때문에 안된다고 판단했다\n",
    "\n",
    "> 해답은 DP였다. 하지만 생각이 안들어 결국 검색을 통해 알았다.\n",
    "- (1,1) index부터 시작해, 왼쪽, 왼쪽 대각선, 위쪽 index중 가장 작은값을 +1 해준다. 그러면서 max_point를 갱신해 가는 방법"
   ]
  },
  {
   "cell_type": "code",
   "execution_count": null,
   "metadata": {},
   "outputs": [],
   "source": [
    "def solution(board):\n",
    "    max_point = 0\n",
    "    for i in range(len(board)):\n",
    "        max_point += sum(board[i][:])\n",
    "    if max_point ==0:\n",
    "        return 0\n",
    "    max_point = 0\n",
    "    for i in range(1,len(board)):\n",
    "        for j in range(1,len(board[i])):\n",
    "            if board[i][j] == 0:\n",
    "                continue\n",
    "            else:\n",
    "                min_point = min(board[i][j-1], board[i-1][j],board[i-1][j-1])\n",
    "                min_point+=1\n",
    "                board[i][j] = min_point\n",
    "                if max_point < board[i][j]:\n",
    "                    max_point = board[i][j]\n",
    "    if max_point == 0:\n",
    "        return 1\n",
    "    else:\n",
    "        return max_point**2"
   ]
  },
  {
   "cell_type": "markdown",
   "metadata": {},
   "source": [
    "### 2. 캐쉬"
   ]
  },
  {
   "cell_type": "markdown",
   "metadata": {},
   "source": [
    "#### LRU알고리즘 을 활용\n",
    "> 간과한점\n",
    "- 쉬운 문제였으나, 초기에는 cache hit일때 answer+=1 외에는 아무것도 하지 않았다.\n",
    "- 하지만, hit한 캐쉬는 가장 최근으로 배치시켜야 함을 검색을 통해 다시 알아냈다. 별거 아니였지만 조금 당황한 문제였다"
   ]
  },
  {
   "cell_type": "code",
   "execution_count": 1,
   "metadata": {},
   "outputs": [],
   "source": [
    "def solution(cacheSize, cities):\n",
    "    answer = 0\n",
    "    List = []\n",
    "    \n",
    "    for city in cities:\n",
    "        city = city.lower()\n",
    "        if city not in List:\n",
    "            if len(List) < cacheSize:\n",
    "                List.append(city)\n",
    "                answer += 5\n",
    "            else:\n",
    "                List.pop(0)\n",
    "                List.append(city)\n",
    "                answer+= 5\n",
    "        else:\n",
    "            answer+=1\n",
    "    return answer\n"
   ]
  },
  {
   "cell_type": "code",
   "execution_count": 3,
   "metadata": {},
   "outputs": [
    {
     "name": "stdout",
     "output_type": "stream",
     "text": [
      "52\n"
     ]
    }
   ],
   "source": [
    "city = ['Jeju', 'Pangyo',\n",
    " 'Seoul', 'NewYork', \n",
    " 'LA', 'SanFrancisco', \n",
    " 'Seoul', 'Rome', 'Paris', \n",
    " 'Jeju', \"NewYork\", \"Rome\"]\n",
    "a = solution(5,city)\n",
    "print(a)"
   ]
  },
  {
   "cell_type": "code",
   "execution_count": 4,
   "metadata": {},
   "outputs": [
    {
     "data": {
      "text/plain": [
       "0"
      ]
     },
     "execution_count": 4,
     "metadata": {},
     "output_type": "execute_result"
    }
   ],
   "source": [
    "city.index(\"Jeju\")"
   ]
  },
  {
   "cell_type": "code",
   "execution_count": null,
   "metadata": {},
   "outputs": [],
   "source": []
  }
 ],
 "metadata": {
  "kernelspec": {
   "display_name": "Python 3",
   "language": "python",
   "name": "python3"
  },
  "language_info": {
   "codemirror_mode": {
    "name": "ipython",
    "version": 3
   },
   "file_extension": ".py",
   "mimetype": "text/x-python",
   "name": "python",
   "nbconvert_exporter": "python",
   "pygments_lexer": "ipython3",
   "version": "3.7.3"
  }
 },
 "nbformat": 4,
 "nbformat_minor": 2
}
