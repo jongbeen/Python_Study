{
 "cells": [
  {
   "cell_type": "markdown",
   "metadata": {},
   "source": [
    "## Level 2 - 문제"
   ]
  },
  {
   "cell_type": "markdown",
   "metadata": {},
   "source": [
    "### 1. 가장 큰 정사각형 크기 찾기"
   ]
  },
  {
   "cell_type": "markdown",
   "metadata": {},
   "source": [
    "- BFS로 풀어야 되나 생각이 들었지만, 계단형도 True인 경우 때문에 안된다고 판단했다\n",
    "\n",
    "> 해답은 DP였다. 하지만 생각이 안들어 결국 검색을 통해 알았다.\n",
    "- (1,1) index부터 시작해, 왼쪽, 왼쪽 대각선, 위쪽 index중 가장 작은값을 +1 해준다. 그러면서 max_point를 갱신해 가는 방법"
   ]
  },
  {
   "cell_type": "code",
   "execution_count": null,
   "metadata": {},
   "outputs": [],
   "source": [
    "def solution(board):\n",
    "    max_point = 0\n",
    "    for i in range(len(board)):\n",
    "        max_point += sum(board[i][:])\n",
    "    if max_point ==0:\n",
    "        return 0\n",
    "    max_point = 0\n",
    "    for i in range(1,len(board)):\n",
    "        for j in range(1,len(board[i])):\n",
    "            if board[i][j] == 0:\n",
    "                continue\n",
    "            else:\n",
    "                min_point = min(board[i][j-1], board[i-1][j],board[i-1][j-1])\n",
    "                min_point+=1\n",
    "                board[i][j] = min_point\n",
    "                if max_point < board[i][j]:\n",
    "                    max_point = board[i][j]\n",
    "    if max_point == 0:\n",
    "        return 1\n",
    "    else:\n",
    "        return max_point**2"
   ]
  },
  {
   "cell_type": "markdown",
   "metadata": {},
   "source": [
    "### 2. 캐쉬"
   ]
  },
  {
   "cell_type": "markdown",
   "metadata": {},
   "source": [
    "#### LRU알고리즘 을 활용\n",
    "> 간과한점\n",
    "- 쉬운 문제였으나, 초기에는 cache hit일때 answer+=1 외에는 아무것도 하지 않았다.\n",
    "- 하지만, hit한 캐쉬는 가장 최근으로 배치시켜야 함을 검색을 통해 다시 알아냈다. 별거 아니였지만 조금 당황한 문제였다"
   ]
  },
  {
   "cell_type": "code",
   "execution_count": 64,
   "metadata": {},
   "outputs": [],
   "source": [
    "def solution(cacheSize, cities):\n",
    "    answer = 0\n",
    "    List = []\n",
    "    if cacheSize == 0:\n",
    "        return 5 * len(cities)\n",
    "    \n",
    "    for city in cities:\n",
    "        city = city.lower()\n",
    "        if city not in List:\n",
    "            if len(List) < cacheSize:\n",
    "                List.append(city)\n",
    "                answer += 5\n",
    "            else:\n",
    "                List.pop(0)\n",
    "                List.append(city)\n",
    "                answer+= 5\n",
    "        else:\n",
    "            List.pop(List.index(city))\n",
    "            List.append(city)\n",
    "            answer+=1\n",
    "            \n",
    "    return answer"
   ]
  },
  {
   "cell_type": "code",
   "execution_count": 65,
   "metadata": {},
   "outputs": [
    {
     "name": "stdout",
     "output_type": "stream",
     "text": [
      "52\n"
     ]
    }
   ],
   "source": [
    "city = ['Jeju', 'Pangyo',\n",
    " 'Seoul', 'NewYork', \n",
    " 'LA', 'SanFrancisco', \n",
    " 'Seoul', 'Rome', 'Paris', \n",
    " 'Jeju', \"NewYork\", \"Rome\"]\n",
    "a = solution(5,city)\n",
    "print(a)"
   ]
  },
  {
   "cell_type": "code",
   "execution_count": 4,
   "metadata": {},
   "outputs": [
    {
     "data": {
      "text/plain": [
       "0"
      ]
     },
     "execution_count": 4,
     "metadata": {},
     "output_type": "execute_result"
    }
   ],
   "source": [
    "city.index(\"Jeju\")"
   ]
  },
  {
   "cell_type": "markdown",
   "metadata": {},
   "source": [
    "### 3. 탑 - B2493동일"
   ]
  },
  {
   "cell_type": "code",
   "execution_count": null,
   "metadata": {},
   "outputs": [],
   "source": [
    "def solution(heights):\n",
    "    Tower = [0] * len(heights)\n",
    "\n",
    "    for i in range(len(heights)-1,0,-1):\n",
    "        for j in range(i-1,-1,-1):\n",
    "            if heights[i] < heights[j]:\n",
    "                Tower[i] = j+1\n",
    "                break\n",
    "    return Tower"
   ]
  },
  {
   "cell_type": "markdown",
   "metadata": {},
   "source": [
    "### 4. 스킬트리"
   ]
  },
  {
   "cell_type": "markdown",
   "metadata": {},
   "source": [
    "#### [내 풀이]\n",
    "> 문자열의 index()함수를 활용해 해결했다\n",
    "- 좀 아쉽다, BDA에 대한 처리를 약간 억지로 한 감이 있다\n",
    "- 되긴 하지만 만족스럽지는 않다"
   ]
  },
  {
   "cell_type": "code",
   "execution_count": 62,
   "metadata": {},
   "outputs": [],
   "source": [
    "def solution(skill, skill_trees):\n",
    "    check = [[] for _ in range(len(skill_trees))]\n",
    "    i=0\n",
    "    count = 0\n",
    "    for skills in skill_trees:\n",
    "        point = False\n",
    "        for stat in skill:\n",
    "            if stat not in skills:\n",
    "                point = True\n",
    "                continue\n",
    "            else:\n",
    "                if point == True:\n",
    "                    count-=1\n",
    "                    break\n",
    "                else:\n",
    "                    check[i].append(skills.index(stat))\n",
    "        i+=1\n",
    "    for i in range(len(check)):\n",
    "        test = True\n",
    "        for j in range(1,len(check[i])):\n",
    "            if check[i][j-1] > check[i][j]:\n",
    "                test = False\n",
    "                break\n",
    "        if test==True:\n",
    "            count+=1\n",
    "    return count"
   ]
  },
  {
   "cell_type": "code",
   "execution_count": 63,
   "metadata": {},
   "outputs": [
    {
     "name": "stdout",
     "output_type": "stream",
     "text": [
      "2\n"
     ]
    }
   ],
   "source": [
    "Skill = \"CBD\"\n",
    "S_TREE = ['BACDE',\"CBADF\",\"AECB\",\"BDA\"]\n",
    "\n",
    "print(solution(Skill,S_TREE))"
   ]
  },
  {
   "cell_type": "markdown",
   "metadata": {},
   "source": [
    "#### [다른 사람의 킹 갓 풀이]\n"
   ]
  },
  {
   "cell_type": "code",
   "execution_count": null,
   "metadata": {},
   "outputs": [],
   "source": [
    "def solution(skill, skill_trees):\n",
    "    answer = 0\n",
    "\n",
    "    for skills in skill_trees:\n",
    "        skill_list = list(skill)\n",
    "        # skill_list = [C,B,D]\n",
    "\n",
    "        for s in skills:\n",
    "            # s = \"B,A,C,D,E\" , \"C,B,A,D,F\"\n",
    "            if s in skill:\n",
    "                if s != skill_list.pop(0):\n",
    "                    # 1) B != C\n",
    "                    # 2) C == C\n",
    "                    break\n",
    "        else:\n",
    "            answer += 1\n",
    "\n",
    "    return answer"
   ]
  },
  {
   "cell_type": "code",
   "execution_count": null,
   "metadata": {},
   "outputs": [],
   "source": []
  },
  {
   "cell_type": "markdown",
   "metadata": {},
   "source": [
    "### 5. 쇠막대기"
   ]
  },
  {
   "cell_type": "markdown",
   "metadata": {},
   "source": [
    "#### [내 풀이]\n",
    "> 쇠막대기 스택과 레이저를 확인하며 count\n",
    "- ( 인경우 count증가\n",
    "- ) 이전 (인 경우 count감소\n",
    "- 레이저인 경우 현재 막대 개수 + count\n",
    "- 쇠막대기 끝인경우 막대 개수 감소"
   ]
  },
  {
   "cell_type": "code",
   "execution_count": 33,
   "metadata": {},
   "outputs": [],
   "source": [
    "def solution(arrangement):\n",
    "    steel = []\n",
    "    count = 0\n",
    "    for i in range(len(arrangement)):\n",
    "        if arrangement[i] =='(':\n",
    "            steel.append(arrangement[i])\n",
    "            count+=1\n",
    "            \n",
    "        elif arrangement[i] == ')':\n",
    "            if arrangement[i-1] == '(':\n",
    "                steel.pop()\n",
    "                count-=1\n",
    "                if len(steel) !=0:\n",
    "                    count += len(steel)\n",
    "            else :\n",
    "                steel.pop()\n",
    "    return count"
   ]
  },
  {
   "cell_type": "code",
   "execution_count": 34,
   "metadata": {},
   "outputs": [
    {
     "name": "stdout",
     "output_type": "stream",
     "text": [
      "17\n"
     ]
    }
   ],
   "source": [
    "test = \"()(((()())(())()))(())\"\n",
    "\n",
    "print(solution(test))"
   ]
  },
  {
   "cell_type": "markdown",
   "metadata": {},
   "source": [
    "#### [다른사람의 킹 갓 풀이]"
   ]
  },
  {
   "cell_type": "markdown",
   "metadata": {},
   "source": [
    "> 문자열 replace()함수를 활용\n",
    "- 문자열에 존재하는 레이저()를 0으로 교체\n",
    "-"
   ]
  },
  {
   "cell_type": "code",
   "execution_count": null,
   "metadata": {},
   "outputs": [],
   "source": [
    "def solution(arrangement):\n",
    "    answer = 0\n",
    "    sticks = 0\n",
    "    rasor_to_zero = arrangement.replace('()','0')\n",
    "\n",
    "    for i in rasor_to_zero:\n",
    "        if i == '(':\n",
    "            sticks += 1\n",
    "        elif i =='0' :\n",
    "            answer += sticks\n",
    "        else :\n",
    "            sticks -= 1\n",
    "            answer += 1\n",
    "\n",
    "    return answer\n"
   ]
  },
  {
   "cell_type": "code",
   "execution_count": null,
   "metadata": {},
   "outputs": [],
   "source": []
  },
  {
   "cell_type": "code",
   "execution_count": null,
   "metadata": {},
   "outputs": [],
   "source": []
  },
  {
   "cell_type": "code",
   "execution_count": null,
   "metadata": {},
   "outputs": [],
   "source": []
  },
  {
   "cell_type": "code",
   "execution_count": null,
   "metadata": {},
   "outputs": [],
   "source": []
  }
 ],
 "metadata": {
  "kernelspec": {
   "display_name": "Python 3",
   "language": "python",
   "name": "python3"
  },
  "language_info": {
   "codemirror_mode": {
    "name": "ipython",
    "version": 3
   },
   "file_extension": ".py",
   "mimetype": "text/x-python",
   "name": "python",
   "nbconvert_exporter": "python",
   "pygments_lexer": "ipython3",
   "version": "3.7.3"
  }
 },
 "nbformat": 4,
 "nbformat_minor": 2
}
