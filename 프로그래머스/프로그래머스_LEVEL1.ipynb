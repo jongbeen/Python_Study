{
 "cells": [
  {
   "cell_type": "markdown",
   "metadata": {},
   "source": [
    "### 모의고사(완전탐색)"
   ]
  },
  {
   "cell_type": "markdown",
   "metadata": {},
   "source": [
    "#### 내 해답"
   ]
  },
  {
   "cell_type": "code",
   "execution_count": null,
   "metadata": {},
   "outputs": [],
   "source": [
    "def solution(answers):\n",
    "    one = [1,2,3,4,5]\n",
    "    two = [2,1,2,3,2,4,2,5]\n",
    "    three = [3,3,1,1,2,2,4,4,5,5]\n",
    "    result = []\n",
    "    first,second,third = 0,0,0\n",
    "    ptr=0\n",
    "    for i in range(len(answers)):\n",
    "        if ptr >= len(one):\n",
    "            ptr=0\n",
    "        if answers[i] == one[ptr]:\n",
    "            first+=1\n",
    "        ptr+=1\n",
    "    ptr=0\n",
    "    for i in range(len(answers)):\n",
    "        if ptr >= len(two):\n",
    "            ptr=0\n",
    "        if answers[i] == two[ptr]:\n",
    "            second+=1\n",
    "        ptr+=1\n",
    "    ptr=0\n",
    "    for i in range(len(answers)):\n",
    "        if ptr >= len(three):\n",
    "            ptr=0\n",
    "        if answers[i] == three[ptr]:\n",
    "            third+=1\n",
    "        ptr+=1\n",
    "    Max = first\n",
    "    if first > second:\n",
    "        Max = first\n",
    "        result = [1]\n",
    "    elif first == second:\n",
    "        result.append(1)\n",
    "        result.append(2)\n",
    "    else:\n",
    "        Max = second\n",
    "        result = [2]\n",
    "        \n",
    "    if Max < third:\n",
    "        result = [3]\n",
    "    elif Max == third:\n",
    "        result.append(3)\n",
    "    return result"
   ]
  },
  {
   "cell_type": "markdown",
   "metadata": {},
   "source": [
    "#### 인상적인 해답"
   ]
  },
  {
   "cell_type": "code",
   "execution_count": null,
   "metadata": {},
   "outputs": [],
   "source": [
    "def solution(answers):\n",
    "    pattern1 = [1,2,3,4,5]\n",
    "    pattern2 = [2,1,2,3,2,4,2,5]\n",
    "    pattern3 = [3,3,1,1,2,2,4,4,5,5]\n",
    "    score = [0, 0, 0]\n",
    "    result = []\n",
    "\n",
    "    for idx, answer in enumerate(answers):\n",
    "        if answer == pattern1[idx%len(pattern1)]:\n",
    "            score[0] += 1\n",
    "        if answer == pattern2[idx%len(pattern2)]:\n",
    "            score[1] += 1\n",
    "        if answer == pattern3[idx%len(pattern3)]:\n",
    "            score[2] += 1\n",
    "\n",
    "    for idx, s in enumerate(score):\n",
    "        if s == max(score):\n",
    "            result.append(idx+1)\n",
    "\n",
    "    return result"
   ]
  }
 ],
 "metadata": {
  "kernelspec": {
   "display_name": "Python 3",
   "language": "python",
   "name": "python3"
  },
  "language_info": {
   "codemirror_mode": {
    "name": "ipython",
    "version": 3
   },
   "file_extension": ".py",
   "mimetype": "text/x-python",
   "name": "python",
   "nbconvert_exporter": "python",
   "pygments_lexer": "ipython3",
   "version": "3.7.3"
  }
 },
 "nbformat": 4,
 "nbformat_minor": 2
}
