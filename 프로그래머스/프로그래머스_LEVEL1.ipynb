{
 "cells": [
  {
   "cell_type": "markdown",
   "metadata": {},
   "source": [
    "### 모의고사(완전탐색)"
   ]
  },
  {
   "cell_type": "markdown",
   "metadata": {},
   "source": [
    "#### 내 해답"
   ]
  },
  {
   "cell_type": "code",
   "execution_count": null,
   "metadata": {},
   "outputs": [],
   "source": [
    "def solution(answers):\n",
    "    one = [1,2,3,4,5]\n",
    "    two = [2,1,2,3,2,4,2,5]\n",
    "    three = [3,3,1,1,2,2,4,4,5,5]\n",
    "    result = []\n",
    "    first,second,third = 0,0,0\n",
    "    ptr=0\n",
    "    for i in range(len(answers)):\n",
    "        if ptr >= len(one):\n",
    "            ptr=0\n",
    "        if answers[i] == one[ptr]:\n",
    "            first+=1\n",
    "        ptr+=1\n",
    "    ptr=0\n",
    "    for i in range(len(answers)):\n",
    "        if ptr >= len(two):\n",
    "            ptr=0\n",
    "        if answers[i] == two[ptr]:\n",
    "            second+=1\n",
    "        ptr+=1\n",
    "    ptr=0\n",
    "    for i in range(len(answers)):\n",
    "        if ptr >= len(three):\n",
    "            ptr=0\n",
    "        if answers[i] == three[ptr]:\n",
    "            third+=1\n",
    "        ptr+=1\n",
    "    Max = first\n",
    "    if first > second:\n",
    "        Max = first\n",
    "        result = [1]\n",
    "    elif first == second:\n",
    "        result.append(1)\n",
    "        result.append(2)\n",
    "    else:\n",
    "        Max = second\n",
    "        result = [2]\n",
    "        \n",
    "    if Max < third:\n",
    "        result = [3]\n",
    "    elif Max == third:\n",
    "        result.append(3)\n",
    "    return result"
   ]
  },
  {
   "cell_type": "markdown",
   "metadata": {},
   "source": [
    "#### 인상적인 해답"
   ]
  },
  {
   "cell_type": "code",
   "execution_count": null,
   "metadata": {},
   "outputs": [],
   "source": [
    "def solution(answers):\n",
    "    pattern1 = [1,2,3,4,5]\n",
    "    pattern2 = [2,1,2,3,2,4,2,5]\n",
    "    pattern3 = [3,3,1,1,2,2,4,4,5,5]\n",
    "    score = [0, 0, 0]\n",
    "    result = []\n",
    "\n",
    "    for idx, answer in enumerate(answers):\n",
    "        if answer == pattern1[idx%len(pattern1)]:\n",
    "            score[0] += 1\n",
    "        if answer == pattern2[idx%len(pattern2)]:\n",
    "            score[1] += 1\n",
    "        if answer == pattern3[idx%len(pattern3)]:\n",
    "            score[2] += 1\n",
    "\n",
    "    for idx, s in enumerate(score):\n",
    "        if s == max(score):\n",
    "            result.append(idx+1)\n",
    "\n",
    "    return result"
   ]
  },
  {
   "cell_type": "markdown",
   "metadata": {},
   "source": [
    "### K 번째 수"
   ]
  },
  {
   "cell_type": "markdown",
   "metadata": {},
   "source": [
    "#### [내 해답] "
   ]
  },
  {
   "cell_type": "code",
   "execution_count": null,
   "metadata": {},
   "outputs": [],
   "source": [
    "def solution(array, commands):\n",
    "    List = []\n",
    "    result = []\n",
    "    \n",
    "    for index in range(len(commands)):\n",
    "        i = commands[index][0] - 1\n",
    "        j = commands[index][1]\n",
    "        k = commands[index][2] - 1\n",
    "        \n",
    "        List = array[i:j]\n",
    "        List.sort()\n",
    "        result.append(List[k])\n",
    "    \n",
    "    return result"
   ]
  },
  {
   "cell_type": "markdown",
   "metadata": {},
   "source": [
    "#### [다른 사람의 킹 갓 해답]"
   ]
  },
  {
   "cell_type": "code",
   "execution_count": 1,
   "metadata": {},
   "outputs": [],
   "source": [
    "def solution(array, commands):\n",
    "    return list(map(lambda x:sorted(array[x[0]-1:x[1]])[x[2]-1], commands))"
   ]
  },
  {
   "cell_type": "markdown",
   "metadata": {},
   "source": [
    "### 프린터"
   ]
  },
  {
   "cell_type": "code",
   "execution_count": 7,
   "metadata": {},
   "outputs": [],
   "source": [
    "def solution(priorities, location):\n",
    "    items = enumurate(priorities)\n",
    "    items = sorted(items, key = lambda data: data[1])\n",
    "        \n",
    "    \n",
    "    answer = 0\n",
    "    return answer\n"
   ]
  },
  {
   "cell_type": "code",
   "execution_count": 11,
   "metadata": {},
   "outputs": [
    {
     "data": {
      "text/plain": [
       "2"
      ]
     },
     "execution_count": 11,
     "metadata": {},
     "output_type": "execute_result"
    }
   ],
   "source": []
  },
  {
   "cell_type": "code",
   "execution_count": 12,
   "metadata": {},
   "outputs": [],
   "source": [
    "def solution(bridge_length, weight, truck_weights):\n",
    "    \n",
    "    Sum = 0\n",
    "    wait = []\n",
    "    wait = truck_weights.sort()\n",
    "    crossing = []\n",
    "    time = 0\n",
    "    while wait:\n",
    "        for i in range(len(wait)):\n",
    "            Sum += wait[i]\n",
    "            if Sum > weight:\n",
    "                Sum -= wait[i]\n",
    "                break\n",
    "            else:\n",
    "                crossing.append(i)\n",
    "        if len(crossing) >=2 :\n",
    "            time = bridge_length + len(crossing)\n",
    "        else:\n",
    "            time +=bridge_length\n",
    "    return time"
   ]
  },
  {
   "cell_type": "code",
   "execution_count": 13,
   "metadata": {},
   "outputs": [
    {
     "name": "stdout",
     "output_type": "stream",
     "text": [
      "0\n"
     ]
    }
   ],
   "source": [
    "B,W,T = 2,10,[7,4,5,6]\n",
    "print(solution(B,W,T))"
   ]
  },
  {
   "cell_type": "markdown",
   "metadata": {},
   "source": [
    "### 문자열 내 마음대로 정렬하기"
   ]
  },
  {
   "cell_type": "code",
   "execution_count": null,
   "metadata": {},
   "outputs": [],
   "source": [
    "def solution(strings, n):\n",
    "    answer = sorted(strings, key=lambda data:[data[n],data])\n",
    "    return answer"
   ]
  },
  {
   "cell_type": "markdown",
   "metadata": {},
   "source": [
    "### 문자열 내 p와 y의 개수"
   ]
  },
  {
   "cell_type": "code",
   "execution_count": null,
   "metadata": {},
   "outputs": [],
   "source": [
    "def solution(s):\n",
    "    s = s.upper()\n",
    "    if s.count('P') == s.count('Y'):\n",
    "        return True\n",
    "    else:\n",
    "        return False"
   ]
  },
  {
   "cell_type": "markdown",
   "metadata": {},
   "source": [
    "### 체육복"
   ]
  },
  {
   "cell_type": "markdown",
   "metadata": {},
   "source": [
    "#### 정답 코드"
   ]
  },
  {
   "cell_type": "code",
   "execution_count": 1,
   "metadata": {},
   "outputs": [],
   "source": [
    "def solution(n,lost,reserve):\n",
    "    answer = 0\n",
    "    cloth = [1] * n\n",
    "    \n",
    "    for idx in lost:\n",
    "        cloth[idx-1] -= 1\n",
    "    \n",
    "    for idx in reserve:\n",
    "        cloth[idx-1] += 1\n",
    "        \n",
    "    for idx,value in enumerate(cloth):\n",
    "        if idx > 0 and value == 0 and cloth[idx-1] == 2:\n",
    "            cloth[idx] = 1\n",
    "            cloth[idx-1] = 1\n",
    "        elif idx <n-1 and value == 0 and cloth[idx+1] == 2:\n",
    "            cloth[idx] = 1\n",
    "            cloth[idx+1] = 1\n",
    "    print(cloth)\n",
    "    return n-cloth.count(0)"
   ]
  },
  {
   "cell_type": "code",
   "execution_count": 2,
   "metadata": {},
   "outputs": [
    {
     "name": "stdout",
     "output_type": "stream",
     "text": [
      "[1, 1, 1, 1, 2]\n",
      "5\n"
     ]
    }
   ],
   "source": [
    "l,r = [2,4],[1,3,5]\n",
    "print(solution(5,l,r))"
   ]
  },
  {
   "cell_type": "markdown",
   "metadata": {},
   "source": [
    "#### 내답 - [83/100]"
   ]
  },
  {
   "cell_type": "code",
   "execution_count": null,
   "metadata": {},
   "outputs": [],
   "source": [
    "def solution(n, lost, reserve):\n",
    "    cover = [1,0,-1]\n",
    "    count = 0\n",
    "    for l_item in lost:\n",
    "        for c in cover:\n",
    "            subs = l_item+c\n",
    "            if subs in reserve:\n",
    "                pt = reserve.index(subs)\n",
    "                reserve.pop(pt)\n",
    "                count+=1\n",
    "                break\n",
    "    return n-len(lost)+count"
   ]
  },
  {
   "cell_type": "markdown",
   "metadata": {},
   "source": [
    "### 가운데 글자 가져오기"
   ]
  },
  {
   "cell_type": "code",
   "execution_count": null,
   "metadata": {},
   "outputs": [],
   "source": [
    "def solution(s):\n",
    "    mid = len(s)//2\n",
    "    if len(s) % 2 == 1:\n",
    "        return s[mid]\n",
    "    return s[mid-1:mid+1]"
   ]
  },
  {
   "cell_type": "markdown",
   "metadata": {},
   "source": [
    "### 같은 숫자는 싫어"
   ]
  },
  {
   "cell_type": "markdown",
   "metadata": {},
   "source": [
    "#### 내답 [정답]"
   ]
  },
  {
   "cell_type": "code",
   "execution_count": 3,
   "metadata": {},
   "outputs": [
    {
     "data": {
      "text/plain": [
       "{0, 1, 3}"
      ]
     },
     "execution_count": 3,
     "metadata": {},
     "output_type": "execute_result"
    }
   ],
   "source": [
    "def solution(arr):\n",
    "    check, answer = arr[0], [arr[0]]\n",
    "    for i in range(1,len(arr)):\n",
    "        if arr[i]!= check:\n",
    "            check = arr[i]\n",
    "            answer.append(arr[i])\n",
    "    return answer"
   ]
  },
  {
   "cell_type": "markdown",
   "metadata": {},
   "source": [
    "#### 다른사람 풀이 [정답임 이것도]"
   ]
  },
  {
   "cell_type": "code",
   "execution_count": 4,
   "metadata": {},
   "outputs": [
    {
     "name": "stdout",
     "output_type": "stream",
     "text": [
      "['1', '3', '0', '3']\n"
     ]
    }
   ],
   "source": [
    "def no_continuous(s):\n",
    "    a = []\n",
    "    for i in s:\n",
    "        if a[-1:] == [i]: continue\n",
    "        a.append(i)\n",
    "    return a\n",
    "\n",
    "# 아래는 테스트로 출력해 보기 위한 코드입니다.\n",
    "print( no_continuous( \"133303\" ))"
   ]
  },
  {
   "cell_type": "markdown",
   "metadata": {},
   "source": [
    "### x만큼 간격이 있는 n개의 숫자"
   ]
  },
  {
   "cell_type": "markdown",
   "metadata": {},
   "source": [
    "#### 내 답 [95/100]\n",
    "> 하나의 Test case만 Runtime Error\n",
    "- 잘 모르겠음"
   ]
  },
  {
   "cell_type": "code",
   "execution_count": null,
   "metadata": {},
   "outputs": [],
   "source": [
    "def solution(x, n):\n",
    "    answer = []\n",
    "    if x < 0 or n < 0:\n",
    "        for i in range(x,x*n-1,x):\n",
    "            answer.append(i)\n",
    "    else:\n",
    "        for i in range(x,x*n+1,x):\n",
    "            answer.append(i)\n",
    "    return answer"
   ]
  },
  {
   "cell_type": "markdown",
   "metadata": {},
   "source": [
    "#### 다른사람 풀이\n",
    "> +x 만 생각을 못했음, 초기코드와 유사한데 ㅠㅠ"
   ]
  },
  {
   "cell_type": "code",
   "execution_count": null,
   "metadata": {},
   "outputs": [],
   "source": [
    "def solution(x, n):\n",
    "    return [i*x+x for i in range(n)]"
   ]
  }
 ],
 "metadata": {
  "kernelspec": {
   "display_name": "Python 3",
   "language": "python",
   "name": "python3"
  },
  "language_info": {
   "codemirror_mode": {
    "name": "ipython",
    "version": 3
   },
   "file_extension": ".py",
   "mimetype": "text/x-python",
   "name": "python",
   "nbconvert_exporter": "python",
   "pygments_lexer": "ipython3",
   "version": "3.7.3"
  }
 },
 "nbformat": 4,
 "nbformat_minor": 2
}
