{
 "cells": [
  {
   "cell_type": "markdown",
   "metadata": {},
   "source": [
    "### 프렌즈 4블록"
   ]
  },
  {
   "cell_type": "code",
   "execution_count": 1,
   "metadata": {},
   "outputs": [],
   "source": [
    "dx = [0,0,1,1]\n",
    "dy = [0,1,0,1]\n",
    "\n",
    "def safe(c_idx,r_idx,height,width,board):\n",
    "    for x,y in zip(dx,dy):\n",
    "        if c_idx+x <0 or c_idx+x>width-1 or r_idx+y<0 or r_idx+y>height-1:\n",
    "            return False\n",
    "    return True\n",
    "\n",
    "def del_check(c_idx,r_idx,board):\n",
    "    square_set = set()\n",
    "    for x,y in zip(dx,dy):\n",
    "        square_set.add(board[r_idx+y][c_idx+x])\n",
    "    if len(square_set) == 1 and square_set != {\" \"}:\n",
    "        return True\n",
    "    return False\n",
    "\n",
    "def del_block(c_idx,r_idx,board):\n",
    "    for x,y in zip(dx,dy):\n",
    "        board[r_idx+y][c_idx+x] = \"\"\n",
    "    return board\n",
    "def drop_block(width,height,board):\n",
    "    for c_idx in range(width):\n",
    "        tmp_lst = []\n",
    "        for r_idx in range(height):\n",
    "            tmp_lst.append(board[r_idx][c_idx])\n",
    "        col_str = \"\".join(tmp_lst)\n",
    "        col_str = (height-len(col_str))*' '+col_str\n",
    "        for r_idx in range(height):\n",
    "            board[r_idx][c_idx] = col_str[r_idx]\n",
    "    return board\n",
    "\n",
    "def total_del_block(board):\n",
    "    total = 0\n",
    "    for row in board:\n",
    "        for block in row:\n",
    "            if block == ' ':\n",
    "                total+=1\n",
    "    return total\n",
    "\n",
    "\n",
    "def solution (height,width,board):\n",
    "    board = [[block for block in row] for row in board]\n",
    "    while True:\n",
    "        del_lst = []\n",
    "        for r_idx in range(height):\n",
    "            for c_idx in range(width):\n",
    "                if safe(c_idx,r_idx,height,width,board):\n",
    "                    if del_check(c_idx,r_idx,board):\n",
    "                        del_lst.append([c_idx,r_idx])\n",
    "        if len(del_lst) == 0:\n",
    "            break\n",
    "        for del_pos in del_lst:\n",
    "            board = del_block(del_pos[0],del_pos[1],board)\n",
    "        board = drop_block(width,height,board)\n",
    "    return total_del_block(board)"
   ]
  },
  {
   "cell_type": "code",
   "execution_count": 2,
   "metadata": {},
   "outputs": [
    {
     "name": "stdout",
     "output_type": "stream",
     "text": [
      "15\n"
     ]
    }
   ],
   "source": [
    "B = [\"TTTANT\", \n",
    "     \"RRFACC\",\n",
    "     \"RRRFCC\", \n",
    "     \"TRRRAA\", \n",
    "     \"TTMMMF\",\n",
    "     \"TMMTTJ\"]\n",
    "print(solution(6,6,B))"
   ]
  },
  {
   "cell_type": "markdown",
   "metadata": {},
   "source": [
    "### 단어변환 - [BFS]\n",
    "> 내답\n",
    "- 왠지 모르겠는데 test 한개 fail, 이유를 모르겠음"
   ]
  },
  {
   "cell_type": "code",
   "execution_count": 4,
   "metadata": {},
   "outputs": [],
   "source": [
    "from collections import deque\n",
    "\n",
    "def BFS(begin, target,words):\n",
    "    visited = [False]*len(words)\n",
    "    queue = deque([(begin,0)])\n",
    "    while queue:\n",
    "        begin,count = queue.popleft()\n",
    "        if begin == target:\n",
    "            return count\n",
    "        for w in words:\n",
    "            for i in range(len(begin)):\n",
    "                tmp = begin.replace(begin[i],w[i])\n",
    "                if tmp in words:\n",
    "                    pt = words.index(tmp)\n",
    "                    if not visited[pt]:\n",
    "                        visited[pt] = True\n",
    "                        queue.append((tmp,count+1))\n",
    "    return 0\n",
    "\n",
    "def solution(begin, target, words):\n",
    "    if target not in words:\n",
    "        return 0\n",
    "    \n",
    "    return BFS(begin,target,words)"
   ]
  },
  {
   "cell_type": "code",
   "execution_count": 5,
   "metadata": {},
   "outputs": [
    {
     "name": "stdout",
     "output_type": "stream",
     "text": [
      "4\n"
     ]
    }
   ],
   "source": [
    "a = 'hit'\n",
    "b= 'cog'\n",
    "words = ['hot','dot','dog','lot','log','cog']\n",
    "print(solution(a,b,words))"
   ]
  },
  {
   "cell_type": "code",
   "execution_count": null,
   "metadata": {},
   "outputs": [],
   "source": []
  }
 ],
 "metadata": {
  "kernelspec": {
   "display_name": "Python 3",
   "language": "python",
   "name": "python3"
  },
  "language_info": {
   "codemirror_mode": {
    "name": "ipython",
    "version": 3
   },
   "file_extension": ".py",
   "mimetype": "text/x-python",
   "name": "python",
   "nbconvert_exporter": "python",
   "pygments_lexer": "ipython3",
   "version": "3.7.3"
  }
 },
 "nbformat": 4,
 "nbformat_minor": 2
}
