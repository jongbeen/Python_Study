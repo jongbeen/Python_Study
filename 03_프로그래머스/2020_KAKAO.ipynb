{
 "cells": [
  {
   "cell_type": "markdown",
   "metadata": {},
   "source": [
    "### 1. 문자열 압축\n",
    "#### 풀이1. defaultdict활용 (오답)\n",
    "- <strong>연속된</strong> 문자만 처리해야 되는데, 그렇지 않은 문자까지 카운트하는 문제 발생"
   ]
  },
  {
   "cell_type": "code",
   "execution_count": null,
   "metadata": {},
   "outputs": [],
   "source": [
    "from collections import defaultdict\n",
    "\n",
    "def solution(s):\n",
    "    length = len(s)\n",
    "    result = [length]\n",
    "    for step in range(1,length+1):\n",
    "        temp_dict = defaultdict()\n",
    "        for idx in range(0,length,step):\n",
    "            word = s[idx:idx+step]\n",
    "            temp_dict[word] += 1\n",
    "#         temp_dict의 각 key의 value를 취합해 count하려 했음\n",
    "#         하지만 연속되지 않은 것도 count하는 문제 발생\n",
    "    answer = min(result)\n",
    "    return answer\n"
   ]
  },
  {
   "cell_type": "markdown",
   "metadata": {},
   "source": [
    "#### 풀이 2. pre_word와 cur_word 비교 count\n",
    "- pre_word와 cur_word가 같을때마다 combo증가, 마지막 pre_word는 combo에 따라 결정\n",
    "- <strong>step으로 시작하는 cur_word 처리 중요</strong>"
   ]
  },
  {
   "cell_type": "code",
   "execution_count": null,
   "metadata": {},
   "outputs": [],
   "source": [
    "def solution(s):\n",
    "    length = len(s)\n",
    "    result = [length]\n",
    "    for step in range(1,length+1):\n",
    "        temp, combo, sum_value = [], 1, 0\n",
    "        pre_word = s[0:step]\n",
    "        for idx in range(step,length,step):\n",
    "            cur_word = s[idx:idx+step]\n",
    "            if pre_word == cur_word:\n",
    "                combo += 1\n",
    "                pre_word = cur_word\n",
    "            else:\n",
    "                if combo != 1:\n",
    "                    temp.append(str(combo) + pre_word)\n",
    "                else:\n",
    "                    temp.append(pre_word)\n",
    "                combo = 1\n",
    "                pre_word = cur_word\n",
    "        if combo != 1:\n",
    "            temp.append(str(combo) + pre_word)\n",
    "        else:\n",
    "            temp.append(pre_word)\n",
    "        # print(temp)\n",
    "        for w in temp:\n",
    "            sum_value += len(w)\n",
    "        result.append(sum_value)\n",
    "\n",
    "    answer = min(result)\n",
    "    return answer\n",
    "\n",
    "print(solution(\"aabbaccc\"))\n",
    "print(solution(\"ababcdcdababcdcd\"))\n",
    "print(solution(\"abcabcabcabcdededededede\"))\n"
   ]
  }
 ],
 "metadata": {
  "kernelspec": {
   "display_name": "Python 3",
   "language": "python",
   "name": "python3"
  },
  "language_info": {
   "codemirror_mode": {
    "name": "ipython",
    "version": 3
   },
   "file_extension": ".py",
   "mimetype": "text/x-python",
   "name": "python",
   "nbconvert_exporter": "python",
   "pygments_lexer": "ipython3",
   "version": "3.7.3"
  }
 },
 "nbformat": 4,
 "nbformat_minor": 2
}
