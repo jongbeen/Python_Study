{
 "cells": [
  {
   "cell_type": "markdown",
   "metadata": {},
   "source": [
    "### I. 땅따먹기(level2)\n",
    "#### 풀이 (간단한 DP)"
   ]
  },
  {
   "cell_type": "code",
   "execution_count": 2,
   "metadata": {},
   "outputs": [
    {
     "name": "stdout",
     "output_type": "stream",
     "text": [
      "[[1, 2, 3, 5], [10, 11, 12, 11], [16, 15, 13, 13]]\n",
      "16\n"
     ]
    }
   ],
   "source": [
    "def solution(land):\n",
    "    N = len(land)\n",
    "    dp = [[0]*4 for _ in range(N)]\n",
    "    dp[0] = land[0]\n",
    "    for i in range(1,N):\n",
    "        for j in range(4):\n",
    "            for k in range(4):\n",
    "                if j != k:\n",
    "                    dp[i][j] = max(dp[i][j],dp[i-1][k]+land[i][j])\n",
    "    print(dp)\n",
    "    answer = max(dp[N-1])\n",
    "    return answer\n",
    "l = [[1,2,3,5],[5,6,7,8],[4,3,2,1]]\n",
    "print(solution(l))"
   ]
  },
  {
   "cell_type": "code",
   "execution_count": null,
   "metadata": {},
   "outputs": [],
   "source": []
  }
 ],
 "metadata": {
  "kernelspec": {
   "display_name": "Python 3",
   "language": "python",
   "name": "python3"
  },
  "language_info": {
   "codemirror_mode": {
    "name": "ipython",
    "version": 3
   },
   "file_extension": ".py",
   "mimetype": "text/x-python",
   "name": "python",
   "nbconvert_exporter": "python",
   "pygments_lexer": "ipython3",
   "version": "3.7.3"
  }
 },
 "nbformat": 4,
 "nbformat_minor": 2
}
