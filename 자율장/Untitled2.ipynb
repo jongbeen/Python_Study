{
 "cells": [
  {
   "cell_type": "code",
   "execution_count": 7,
   "metadata": {},
   "outputs": [],
   "source": [
    "from collections import deque\n",
    "\n",
    "def DFS(Graph,start):\n",
    "    visited[start] = True\n",
    "    print(start,end=\" \")\n",
    "    for node in Graph[start]:\n",
    "        if not visited[node]:\n",
    "            DFS(Graph,node)\n",
    "            \n",
    "def BFS(Graph,start):\n",
    "    visited = [False] * (N+1)\n",
    "    visited[start] = True\n",
    "    queue = deque([start])\n",
    "    while queue:\n",
    "        start = queue.popleft()\n",
    "        print(start,end=' ')\n",
    "        for node in Graph[start]:\n",
    "            if not visited[node]:\n",
    "                visited[node] = True\n",
    "                queue.append(node)\n"
   ]
  },
  {
   "cell_type": "code",
   "execution_count": 8,
   "metadata": {},
   "outputs": [
    {
     "name": "stdout",
     "output_type": "stream",
     "text": [
      "4 5 1\n",
      "1 2\n",
      "1 3\n",
      "1 4\n",
      "2 4\n",
      "3 4\n",
      "1 2 4 3 \n",
      "1 2 3 4 "
     ]
    }
   ],
   "source": [
    "N,M,V = map(int,input().split())\n",
    "graph = [[] for _ in range(N+1)]\n",
    "for _ in range(M):\n",
    "    S,E = map(int,input().split())\n",
    "    graph[S].append(E)\n",
    "    graph[E].append(S)\n",
    "visited = [False]*(N+1)\n",
    "DFS(graph,1)\n",
    "print()\n",
    "BFS(graph,1)"
   ]
  },
  {
   "cell_type": "code",
   "execution_count": 11,
   "metadata": {},
   "outputs": [
    {
     "name": "stdout",
     "output_type": "stream",
     "text": [
      "5 17\n",
      "4\n"
     ]
    }
   ],
   "source": [
    "from collections import deque\n",
    "\n",
    "def BFS(start,end):\n",
    "    array[start] = 0\n",
    "    queue = deque([start])\n",
    "    visited = [False] * Max\n",
    "    while queue:\n",
    "        now = queue.popleft()\n",
    "        if end == now:\n",
    "            return array[now]\n",
    "        for next_pos in (now-1,now+1,now*2):\n",
    "            if 0<=next_pos <Max and not visited[next_pos]:\n",
    "                queue.append(next_pos)\n",
    "                visited[next_pos] = True\n",
    "                array[next_pos] = array[now] + 1\n",
    "\n",
    "Max = 100001\n",
    "array = [0] * Max\n",
    "N,K = map(int,input().split())\n",
    "T = BFS(N,K)\n",
    "print(T)"
   ]
  },
  {
   "cell_type": "code",
   "execution_count": 14,
   "metadata": {},
   "outputs": [
    {
     "name": "stdout",
     "output_type": "stream",
     "text": [
      "5 17\n",
      "4\n"
     ]
    }
   ],
   "source": [
    "from collections import deque\n",
    "Max = 10001\n",
    "spot = [0] * Max\n",
    "\n",
    "def BFS(start,end):\n",
    "    visited = [False] * Max\n",
    "    queue = deque([start])\n",
    "    while queue:\n",
    "        now = queue.popleft()\n",
    "        if now == end:\n",
    "            return spot[now]\n",
    "        for next_pos in (now-1,now+1,now*2):\n",
    "            if 0 <= next_pos < Max and not visited[next_pos]:\n",
    "                queue.append(next_pos)\n",
    "                spot[next_pos] = spot[now]+1\n",
    "                visited[next_pos] = True\n",
    "                \n",
    "\n",
    "N,K = map(int,input().split())\n",
    "print(BFS(N,K))"
   ]
  },
  {
   "cell_type": "code",
   "execution_count": 17,
   "metadata": {},
   "outputs": [
    {
     "name": "stdout",
     "output_type": "stream",
     "text": [
      "7\n",
      "6\n",
      "1 2\n",
      "2 3\n",
      "1 5\n",
      "5 2\n",
      "5 6\n",
      "4 7\n",
      "4\n"
     ]
    }
   ],
   "source": [
    "def DFS(Graph,start):\n",
    "    visited,need_visit = [],[]\n",
    "    need_visit.append(start)\n",
    "    while need_visit:\n",
    "        node = need_visit.pop()\n",
    "        if node not in visited:\n",
    "            visited.append(node)\n",
    "            need_visit.extend(Graph[node])\n",
    "    return visited\n",
    "\n",
    "\n",
    "N = int(input())\n",
    "M = int(input())\n",
    "com = [[] for _ in range(N+1)]\n",
    "for _ in range(M):\n",
    "    S,E = map(int,input().split())\n",
    "    com[S].append(E)\n",
    "    com[E].append(S)\n",
    "\n",
    "result = []\n",
    "result = DFS(com,1)\n",
    "print(len(result)-1)\n",
    "    "
   ]
  },
  {
   "cell_type": "code",
   "execution_count": 22,
   "metadata": {},
   "outputs": [
    {
     "name": "stdout",
     "output_type": "stream",
     "text": [
      "1\n",
      "10 10 1\n",
      "5 5\n",
      "1\n"
     ]
    }
   ],
   "source": [
    "import sys\n",
    "sys.setrecursionlimit(100000)\n",
    "def DFS(x,y):\n",
    "    visited[x][y] = True\n",
    "    directions = [(1,0),(-1,0),(0,1),(0,-1)]\n",
    "    for dx,dy in directions:\n",
    "        nx,ny = dx+x,dy+y\n",
    "        if 0<=nx<N and 0<=ny<M:\n",
    "            if array[nx][ny] and not visited[nx][ny]:\n",
    "                DFS(nx,ny)\n",
    "\n",
    "for _ in range(int(input())):\n",
    "    M,N,K = map(int,input().split())\n",
    "    array = [[0]*M for _ in range(N)]\n",
    "    count = 0\n",
    "    visited = [ [False] * M for _ in range(N) ]\n",
    "    for _ in range(K):\n",
    "        Y,X = map(int,input().split())\n",
    "        array[X][Y] = 1\n",
    "    for i in range(N):\n",
    "        for j in range(M):\n",
    "            if not visited[i][j] and array[i][j]:\n",
    "                DFS(i,j)\n",
    "                count+=1\n",
    "    print(count)"
   ]
  },
  {
   "cell_type": "code",
   "execution_count": 18,
   "metadata": {},
   "outputs": [
    {
     "data": {
      "text/plain": [
       "[[0, 0, 0], [0, 0, 0], [0, 0, 0], [0, 0, 0]]"
      ]
     },
     "execution_count": 18,
     "metadata": {},
     "output_type": "execute_result"
    }
   ],
   "source": [
    "a = [[0]*3 for _ in range(4)]\n",
    "a"
   ]
  },
  {
   "cell_type": "code",
   "execution_count": 25,
   "metadata": {},
   "outputs": [
    {
     "name": "stdout",
     "output_type": "stream",
     "text": [
      "5 4\n",
      "3 1\n",
      "3 2\n",
      "4 3\n",
      "4 3\n",
      "1 2 "
     ]
    }
   ],
   "source": [
    "from collections import deque\n",
    "\n",
    "def BFS(Graph,start):\n",
    "    count = 0\n",
    "    visited = [False] * (N+1)\n",
    "    visited[start] = True\n",
    "    queue = deque([start])\n",
    "    while queue:\n",
    "        start = queue.popleft()\n",
    "        count+=1\n",
    "        for node in Graph[start]:\n",
    "            if not visited[node]:\n",
    "                visited[node] = True\n",
    "                queue.append(node)\n",
    "    return count\n",
    "\n",
    "N,M = map(int,input().split())\n",
    "com = [[] for _ in range(N+1)]\n",
    "for _ in range(M):\n",
    "    S,E = map(int,input().split())\n",
    "    com[E].append(S)\n",
    "result = []\n",
    "for i in range(1,N+1):\n",
    "    result.append(BFS(com,i))\n",
    "data = max(result)\n",
    "for index in range(len(result)):\n",
    "    if result[index] == data:\n",
    "        print(index+1,end=' ')"
   ]
  },
  {
   "cell_type": "code",
   "execution_count": 28,
   "metadata": {},
   "outputs": [
    {
     "name": "stdout",
     "output_type": "stream",
     "text": [
      "1\n",
      "3 2 2\n",
      "2 1 5\n",
      "3 2 5\n",
      "2 5\n"
     ]
    }
   ],
   "source": [
    "from heapq import heappush,heappop\n",
    "\n",
    "INF = 1e9\n",
    "\n",
    "def dijkstra(Graph,start):\n",
    "    distance = [INF]*(N+1)\n",
    "    distance[start] = 0\n",
    "    queue = []\n",
    "    heappush(queue,[0,start])\n",
    "    while queue:\n",
    "        cost,pos = heappop(queue)\n",
    "        for p,c in Graph[pos]:\n",
    "            c += cost\n",
    "            if distance[p] > c:\n",
    "                distance[p] = c\n",
    "                heappush(queue,[c,p])\n",
    "    return distance \n",
    "\n",
    "for _ in range(int(input())):\n",
    "    N,D,C = map(int,input().split())\n",
    "    com = [[] for _ in range(N+1)]\n",
    "    for _ in range(D):\n",
    "        a,b,s = map(int,input().split())\n",
    "        com[b].append((a,s))\n",
    "    result,answer = [],[]\n",
    "    count = 0\n",
    "    result = dijkstra(com,C)\n",
    "    for i in range(len(result)):\n",
    "        if result[i] != INF:\n",
    "            count+=1\n",
    "            answer.append(result[i])\n",
    "    print(count,max(answer))"
   ]
  },
  {
   "cell_type": "code",
   "execution_count": 30,
   "metadata": {},
   "outputs": [
    {
     "name": "stdout",
     "output_type": "stream",
     "text": [
      "6\n",
      "2\n",
      "1 6 9 3 6 7\n",
      "5\n"
     ]
    }
   ],
   "source": [
    "import sys\n",
    "\n",
    "N = int(input())\n",
    "K = int(input())\n",
    "if K >= N:\n",
    "    print(0)\n",
    "    sys.exit()\n",
    "spot = list(map(int,input().split()))\n",
    "spot.sort()\n",
    "dist = []\n",
    "for i in range(1,len(spot)):\n",
    "    dist.append(spot[i] - spot[i-1])\n",
    "dist.sort()    \n",
    "for i in range(K-1):\n",
    "    dist.pop()\n",
    "print(sum(dist))"
   ]
  },
  {
   "cell_type": "code",
   "execution_count": 64,
   "metadata": {},
   "outputs": [
    {
     "name": "stdout",
     "output_type": "stream",
     "text": [
      "6\n",
      "0 0 0 0 0 0 \n",
      "0 1 0 0 0 0\n",
      "0 0 0 0 0 0\n",
      "0 0 0 0 0 0 \n",
      "0 0 0 0 0 0 \n",
      "0 0 0 0 0 0\n",
      "13\n"
     ]
    }
   ],
   "source": [
    "from collections import deque\n",
    "\n",
    "def BFS(x,y):\n",
    "    directions = [(0,1),(1,1),(1,0)]\n",
    "    global count\n",
    "    queue = deque([(x,y,0)])\n",
    "    \n",
    "    while queue:\n",
    "        now_x,now_y,p_type = queue.popleft()\n",
    "        if now_x == N-1 and now_y == N-1:\n",
    "            count+=1\n",
    "        \n",
    "        for dx,dy in directions:\n",
    "            next_x,next_y = now_x+dx,now_y+dy\n",
    "            if p_type == 0:\n",
    "                if next_x == now_x and next_y == now_y+1:\n",
    "                    if 0<=next_x<N and 0<=next_y<N and not array[next_x][next_y]:\n",
    "                        queue.append((next_x,next_y,0))\n",
    "\n",
    "                if next_x == now_x+1 and next_y == now_y+1:\n",
    "                    if 0<=next_x<N and 0<=next_y<N:\n",
    "                        if not array[next_x][next_y] and not array[now_x][now_y+1] and not array[now_x+1][now_y]:\n",
    "                            queue.append((next_x,next_y,1))\n",
    "                            \n",
    "            if p_type == 1:\n",
    "                if next_x == now_x and next_y == now_y+1:\n",
    "                    if 0<=next_x<N and 0<=next_y<N and not array[next_x][next_y]:\n",
    "                        queue.append((next_x,next_y,0))\n",
    "\n",
    "                if next_x == now_x+1 and next_y == now_y+1:\n",
    "                    if 0<=next_x<N and 0<=next_y<N:\n",
    "                        if not array[next_x][next_y] and not array[now_x][now_y+1] and not array[now_x+1][now_y]:\n",
    "                            queue.append((next_x,next_y,1))\n",
    "                            \n",
    "                if next_x == now_x+1 and next_y == now_y:\n",
    "                    if 0<=next_x<N and 0<=next_y<N:\n",
    "                        if not array[next_x][next_y]:\n",
    "                            queue.append((next_x,next_y,2))\n",
    "            \n",
    "            if p_type == 2:\n",
    "                if next_x == now_x+1 and next_y == now_y+1:\n",
    "                    if 0<=next_x<N and 0<=next_y<N:\n",
    "                        if not array[next_x][next_y] and not array[now_x][now_y+1] and not array[now_x+1][now_y]:\n",
    "                            queue.append((next_x,next_y,1))\n",
    "                            \n",
    "                if next_x == now_x+1 and next_y == now_y:\n",
    "                    if 0<=next_x<N and 0<=next_y<N:\n",
    "                        if not array[next_x][next_y]:\n",
    "                            queue.append((next_x,next_y,2))\n",
    "\n",
    "N = int(input())\n",
    "array = [[] for _ in range(N) ]\n",
    "for i in range(N):\n",
    "    array[i].extend(list(map(int,input().split())))\n",
    "count = 0    \n",
    "BFS(0,1)\n",
    "print(count)\n",
    "        "
   ]
  },
  {
   "cell_type": "code",
   "execution_count": 49,
   "metadata": {},
   "outputs": [
    {
     "name": "stdout",
     "output_type": "stream",
     "text": [
      "0 0 0\n",
      "0 0 0\n",
      "0 0 0\n"
     ]
    },
    {
     "data": {
      "text/plain": [
       "[[0, 0, 0], [0, 0, 0], [0, 0, 0]]"
      ]
     },
     "execution_count": 49,
     "metadata": {},
     "output_type": "execute_result"
    }
   ],
   "source": [
    "array = [[] for _ in range(3) ]\n",
    "for i in range(3):\n",
    "    array[i].extend(list(map(int,input().split())))\n",
    "array"
   ]
  },
  {
   "cell_type": "code",
   "execution_count": null,
   "metadata": {},
   "outputs": [],
   "source": []
  },
  {
   "cell_type": "code",
   "execution_count": null,
   "metadata": {},
   "outputs": [],
   "source": []
  },
  {
   "cell_type": "code",
   "execution_count": null,
   "metadata": {},
   "outputs": [],
   "source": []
  },
  {
   "cell_type": "code",
   "execution_count": null,
   "metadata": {},
   "outputs": [],
   "source": []
  },
  {
   "cell_type": "code",
   "execution_count": null,
   "metadata": {},
   "outputs": [],
   "source": []
  },
  {
   "cell_type": "code",
   "execution_count": null,
   "metadata": {},
   "outputs": [],
   "source": []
  }
 ],
 "metadata": {
  "kernelspec": {
   "display_name": "Python 3",
   "language": "python",
   "name": "python3"
  },
  "language_info": {
   "codemirror_mode": {
    "name": "ipython",
    "version": 3
   },
   "file_extension": ".py",
   "mimetype": "text/x-python",
   "name": "python",
   "nbconvert_exporter": "python",
   "pygments_lexer": "ipython3",
   "version": "3.7.3"
  }
 },
 "nbformat": 4,
 "nbformat_minor": 2
}
