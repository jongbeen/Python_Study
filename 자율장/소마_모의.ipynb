{
 "cells": [
  {
   "cell_type": "code",
   "execution_count": 8,
   "metadata": {},
   "outputs": [
    {
     "name": "stdout",
     "output_type": "stream",
     "text": [
      "4 3\n",
      "2 3 1 4\n",
      "2\n"
     ]
    }
   ],
   "source": [
    "N,K = map(int,input().split())\n",
    "array = list(map(int,input().split()))\n",
    "\n",
    "array.sort(reverse=True)\n",
    "count = 0\n",
    "\n",
    "while len(array):\n",
    "    Min = array.pop()\n",
    "    if len(array) > K-1:\n",
    "        for _ in range(K-1):\n",
    "            array.pop(0)\n",
    "        array.append(Min)\n",
    "        count+=1\n",
    "    else:\n",
    "        count+=1\n",
    "        break\n",
    "print(count)"
   ]
  },
  {
   "cell_type": "code",
   "execution_count": 3,
   "metadata": {},
   "outputs": [
    {
     "data": {
      "text/plain": [
       "[3, 2, 1, 3, 4]"
      ]
     },
     "execution_count": 3,
     "metadata": {},
     "output_type": "execute_result"
    }
   ],
   "source": [
    "hello"
   ]
  },
  {
   "cell_type": "code",
   "execution_count": null,
   "metadata": {},
   "outputs": [],
   "source": []
  }
 ],
 "metadata": {
  "kernelspec": {
   "display_name": "Python 3",
   "language": "python",
   "name": "python3"
  },
  "language_info": {
   "codemirror_mode": {
    "name": "ipython",
    "version": 3
   },
   "file_extension": ".py",
   "mimetype": "text/x-python",
   "name": "python",
   "nbconvert_exporter": "python",
   "pygments_lexer": "ipython3",
   "version": "3.7.3"
  }
 },
 "nbformat": 4,
 "nbformat_minor": 2
}
