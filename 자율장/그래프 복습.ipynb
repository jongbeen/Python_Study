{
 "cells": [
  {
   "cell_type": "code",
   "execution_count": 1,
   "metadata": {},
   "outputs": [],
   "source": [
    "from heapq import heappush, heappop\n",
    "from collections import deque\n",
    "\n",
    "def dijkstra():\n",
    "    distance[S] = 0\n",
    "    queue = []\n",
    "    heappush(queue,[0,S])\n",
    "    while queue:\n",
    "        cost, pos = heappop(queue)\n",
    "        for p,c in Edges[pos]:\n",
    "            c += cost\n",
    "            if distance[p] > c and not dropped[pos][p]:\n",
    "                distance[p] = c\n",
    "                heappush(queue,[c,p])\n",
    "def BFS():\n",
    "    queue = deque([D])\n",
    "    visited = [False] *N\n",
    "    visited[D] = True\n",
    "    while queue:\n",
    "        node = queue.popleft()\n",
    "        if node == S:\n",
    "            continue\n",
    "        for prev,cost in Rev_Edges[node]:\n",
    "            if distance[node] == distance[prev]+cost:\n",
    "                dropped[prev][node] = True\n",
    "                queue.append(prev)\n"
   ]
  },
  {
   "cell_type": "code",
   "execution_count": 5,
   "metadata": {},
   "outputs": [
    {
     "name": "stdout",
     "output_type": "stream",
     "text": [
      "7 9\n",
      "0 6\n",
      "0 1 1\n",
      "0 2 1\n",
      "0 3 2\n",
      "0 4 3\n",
      "1 5 2\n",
      "2 6 4\n",
      "3 6 2\n",
      "4 6 4\n",
      "5 6 1\n",
      "5\n",
      "0 0\n"
     ]
    }
   ],
   "source": [
    "INF = 1e9\n",
    "\n",
    "while True:\n",
    "    N,M = map(int,input().split())\n",
    "    Edges = [ [] for _ in range(N) ]\n",
    "    Rev_Edges = [ [] for _ in range(N) ]\n",
    "    dropped = [[False]*N for _ in range(N) ]\n",
    "    if N==0 and M ==0:\n",
    "        break\n",
    "    S,D = map(int,input().split())\n",
    "    for _ in range(M):\n",
    "        U,V,P = map(int,input().split())\n",
    "        Edges[U].append( (V,P) )\n",
    "        Rev_Edges[V].append( (U,P) )\n",
    "    distance = [INF] * N\n",
    "    dijkstra()\n",
    "    BFS()\n",
    "    distance = [INF] * N\n",
    "    dijkstra()\n",
    "    if distance[D] != INF:\n",
    "        print(distance[D])\n",
    "    else:\n",
    "        print(-1)"
   ]
  },
  {
   "cell_type": "code",
   "execution_count": 7,
   "metadata": {},
   "outputs": [
    {
     "data": {
      "text/plain": [
       "['t', 'h', 'i', 's', ' ', 'i', 's', ' ', 'm', 'e']"
      ]
     },
     "execution_count": 7,
     "metadata": {},
     "output_type": "execute_result"
    }
   ],
   "source": [
    "import math\n",
    "\n",
    "parent = {}\n",
    "\n",
    "def get_dist(p1,p2):\n",
    "    a = p1[0] - p2[0]\n",
    "    b = p1[1] - p2[1]\n",
    "    return math.sqrt((a*a)+(b*b))\n",
    "def get_parent(parent,n):\n",
    "    if parent[n] != n:\n",
    "        parent[n] = get_parent(parent,parent[n])\n",
    "    return parent[n]\n",
    "\n",
    "def union(parent,a,b):\n",
    "    a = get_parent(parent,a)\n",
    "    b = get_parent(parent,b)\n",
    "    \n",
    "    if a<b:\n",
    "        parent[b] = a\n",
    "    else:\n",
    "        parent[a] = b\n",
    "        \n",
    "def find(parent,a,b):\n",
    "    a = get_parent(parent,a)\n",
    "    b = get_parent(parent,b)\n",
    "    \n",
    "    if a==b:\n",
    "        return True\n",
    "    else:\n",
    "        return False"
   ]
  },
  {
   "cell_type": "code",
   "execution_count": null,
   "metadata": {},
   "outputs": [],
   "source": [
    "N,M = map(int,input().split())\n",
    "locations = []\n",
    "edges = []\n",
    "\n",
    "for _ in range(N):\n",
    "    X,Y = map(int,input().split())\n",
    "    locations.append((X,Y))\n",
    "    \n",
    "length = len(locations)\n",
    "\n",
    "for i in range(length-1):\n",
    "    for j in range(i+1, length):\n",
    "        edges.append((i+1,j+1,get_dist(locations[i],locations[j])))\n",
    "for i in range(1,N+1):\n",
    "    parent[i] = i\n",
    "for i in range(M):\n",
    "    a,b = map(int,input().split())\n",
    "    union(parent,a,b)\n",
    "edges.sort(key=lambda data:data[2])\n",
    "\n",
    "for a,b cost in edges:\n",
    "    if not find(parent,a,b):\n",
    "        union(parent,a,b)\n",
    "        result +=cost\n"
   ]
  },
  {
   "cell_type": "code",
   "execution_count": null,
   "metadata": {},
   "outputs": [],
   "source": [
    "N,M = map(int,input().split())\n",
    "locations = []\n",
    "edges = []\n",
    "\n",
    "for _ in range(N):\n",
    "    X,Y = map(int,input().split())\n",
    "    locations.append((X,Y))\n",
    "\n",
    "length = N\n",
    "for i in range(length-1):\n",
    "    for j in range(i+1,length):\n",
    "        edges.append(i,)"
   ]
  }
 ],
 "metadata": {
  "kernelspec": {
   "display_name": "Python 3",
   "language": "python",
   "name": "python3"
  },
  "language_info": {
   "codemirror_mode": {
    "name": "ipython",
    "version": 3
   },
   "file_extension": ".py",
   "mimetype": "text/x-python",
   "name": "python",
   "nbconvert_exporter": "python",
   "pygments_lexer": "ipython3",
   "version": "3.7.3"
  }
 },
 "nbformat": 4,
 "nbformat_minor": 2
}
