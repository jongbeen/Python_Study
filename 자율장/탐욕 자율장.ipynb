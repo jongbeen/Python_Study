{
 "cells": [
  {
   "cell_type": "code",
   "execution_count": 1,
   "metadata": {},
   "outputs": [
    {
     "name": "stdout",
     "output_type": "stream",
     "text": [
      "6\n",
      "2\n",
      "1 6 9 3 6 7\n",
      "5\n"
     ]
    }
   ],
   "source": [
    "import sys\n",
    "\n",
    "N = int(input())\n",
    "K = int(input())\n",
    "Sensors = list(map(int,input().split()))\n",
    "\n",
    "if K>=N:\n",
    "    print(0)\n",
    "    sys.exit()\n",
    "    \n",
    "Sensors.sort()\n",
    "array = []\n",
    "\n",
    "for i in range(N-1):\n",
    "    array.append(Sensors[i+1]-Sensors[i])\n",
    "array.sort()\n",
    "for _ in range(K-1):\n",
    "    array.pop()\n",
    "print(sum(array))"
   ]
  },
  {
   "cell_type": "code",
   "execution_count": 7,
   "metadata": {},
   "outputs": [
    {
     "name": "stdout",
     "output_type": "stream",
     "text": [
      "7 2\n",
      "-37 2 -6 -39 -29 11 -28\n",
      "131\n"
     ]
    }
   ],
   "source": [
    "from heapq import heappush,heappop\n",
    "\n",
    "N,M = map(int,input().split())\n",
    "location = list(map(int,input().split()))\n",
    "\n",
    "positive = []\n",
    "negative = []\n",
    "\n",
    "location.sort()\n",
    "\n",
    "largest = max(max(location),-min(location))\n",
    "\n",
    "for i in location:\n",
    "    if i<0:\n",
    "        heappush(negative,i)\n",
    "    else:\n",
    "        heappush(positive,-i)\n",
    "        \n",
    "result = 0        \n",
    "while negative:\n",
    "    result += heappop(negative) \n",
    "    for _ in range(M-1):\n",
    "        if negative:\n",
    "            heappop(negative)\n",
    "while positive:\n",
    "    result = heappop(positive)\n",
    "    for _ in range(M-1):\n",
    "        if positive:\n",
    "            heappop(positive)\n",
    "print( (result*-2)-largest )\n",
    "    "
   ]
  },
  {
   "cell_type": "code",
   "execution_count": 14,
   "metadata": {},
   "outputs": [
    {
     "name": "stdout",
     "output_type": "stream",
     "text": [
      "WEDONTNEEDNOEDUCATION\n",
      "WEDONTNEEDNOTHOUGHTCONTROL\n",
      "16\n",
      "WEDONTNEEDNOEDUCTON\n"
     ]
    }
   ],
   "source": [
    "A = input()\n",
    "B = input()\n",
    "lenA = len(A)\n",
    "lenB = len(B)\n",
    "result =\"\"\n",
    "dp = [[0]*(lenB+1) for _ in range(lenA+1)]\n",
    "check  = [False] * (lenA+1)\n",
    "\n",
    "for i in range(1, lenA+1):\n",
    "    for j in range(1, lenB+1):\n",
    "        if A[i-1] == B[j-1]:\n",
    "            dp[i][j] = dp[i-1][j-1] +1\n",
    "            if not check[i-1]:\n",
    "                result+=A[i-1]\n",
    "                check[i-1] = True\n",
    "        else:\n",
    "            dp[i][j] = max(dp[i-1][j],dp[i][j-1])\n",
    "print(dp[lenA][lenB])\n",
    "print(result)"
   ]
  },
  {
   "cell_type": "code",
   "execution_count": 16,
   "metadata": {},
   "outputs": [
    {
     "name": "stdout",
     "output_type": "stream",
     "text": [
      "7\n",
      "1 6\n",
      "1 7\n",
      "3 2\n",
      "3 1\n",
      "2 4\n",
      "2 5\n",
      "6 1\n",
      "15\n"
     ]
    }
   ],
   "source": [
    "from heapq import heappush, heappop\n",
    "\n",
    "N = int(input())\n",
    "Questions = []\n",
    "result = []\n",
    "\n",
    "for _ in range(N):\n",
    "    dead, cup = map(int,input().split())\n",
    "    Questions.append((dead,cup))\n",
    "\n",
    "Questions.sort()\n",
    "\n",
    "for data in Questions:\n",
    "    heappush(result,data[1])\n",
    "    if len(result) > data[0]:\n",
    "        heappop(result)\n",
    "        \n",
    "print(sum(result))"
   ]
  }
 ],
 "metadata": {
  "kernelspec": {
   "display_name": "Python 3",
   "language": "python",
   "name": "python3"
  },
  "language_info": {
   "codemirror_mode": {
    "name": "ipython",
    "version": 3
   },
   "file_extension": ".py",
   "mimetype": "text/x-python",
   "name": "python",
   "nbconvert_exporter": "python",
   "pygments_lexer": "ipython3",
   "version": "3.7.3"
  }
 },
 "nbformat": 4,
 "nbformat_minor": 2
}
