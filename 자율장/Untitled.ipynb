{
 "cells": [
  {
   "cell_type": "code",
   "execution_count": 6,
   "metadata": {},
   "outputs": [],
   "source": [
    "class Node:\n",
    "    def __init__(self, value):\n",
    "        self.value = value\n",
    "        self.left = None\n",
    "        self.right = None\n",
    "\n",
    "        \n",
    "class NodeMgmt:\n",
    "    def __init__(self, head):\n",
    "        self.head = head\n",
    "    \n",
    "    def insert(self, value):\n",
    "        self.current_node = self.head\n",
    "        while True:\n",
    "            if value < self.current_node.value:\n",
    "                if self.current_node.left != None:\n",
    "                    self.current_node = self.current_node.left\n",
    "                else:\n",
    "                    self.current_node.left = Node(value)\n",
    "                    break\n",
    "            else:\n",
    "                if self.current_node.right != None:\n",
    "                    self.current_node = self.current_node.right\n",
    "                else:\n",
    "                    self.current_node.right = Node(value)\n",
    "                    break\n",
    "    \n",
    "    def search(self, value):\n",
    "        self.current_node = self.head\n",
    "        while self.current_node:\n",
    "            if self.current_node.value == value:\n",
    "                return True\n",
    "            elif value < self.current_node.value:\n",
    "                self.current_node = self.current_node.left\n",
    "            else:\n",
    "                self.current_node = self.current_node.right\n",
    "        return False        \n",
    "    \n",
    "    def delete(self, value):\n",
    "        # 삭제할 노드 탐색\n",
    "        searched = False\n",
    "        self.current_node = self.head\n",
    "        self.parent = self.head\n",
    "        while self.current_node:\n",
    "            if self.current_node.value == value:\n",
    "                searched = True\n",
    "                break\n",
    "            elif value < self.current_node.value:\n",
    "                self.parent = self.current_node\n",
    "                self.current_node = self.current_node.left\n",
    "            else:\n",
    "                self.parent = self.current_node\n",
    "                self.current_node = self.current_node.right\n",
    "\n",
    "        if searched == False:\n",
    "            return False    \n",
    "\n",
    "        # case1\n",
    "        if  self.current_node.left == None and self.current_node.right == None:\n",
    "            if value < self.parent.value:\n",
    "                self.parent.left = None\n",
    "            else:\n",
    "                self.parent.right = None\n",
    "        \n",
    "        # case2\n",
    "        elif self.current_node.left != None and self.current_node.right == None:\n",
    "            if value < self.parent.value:\n",
    "                self.parent.left = self.current_node.left\n",
    "            else:\n",
    "                self.parent.right = self.current_node.left\n",
    "        elif self.current_node.left == None and self.current_node.right != None:\n",
    "            if value < self.parent.value:\n",
    "                self.parent.left = self.current_node.right\n",
    "            else:\n",
    "                self.parent.right = self.current_node.right        \n",
    "        \n",
    "        # case 3\n",
    "        elif self.current_node.left != None and self.current_node.right != None:\n",
    "            # case3-1\n",
    "            if value < self.parent.value:\n",
    "                self.change_node = self.current_node.right\n",
    "                self.change_node_parent = self.current_node.right\n",
    "                while self.change_node.left != None:\n",
    "                    self.change_node_parent = self.change_node\n",
    "                    self.change_node = self.change_node.left\n",
    "                if self.change_node.right != None:\n",
    "                    self.change_node_parent.left = self.change_node.right\n",
    "                else:\n",
    "                    self.change_node_parent.left = None\n",
    "                self.parent.left = self.change_node\n",
    "                self.change_node.right = self.current_node.right\n",
    "                self.change_node.left = self.change_node.left\n",
    "            # case 3-2\n",
    "            else:\n",
    "                self.change_node = self.current_node.right\n",
    "                self.change_node_parent = self.current_node.right\n",
    "                while self.change_node.left != None:\n",
    "                    self.change_node_parent = self.change_node\n",
    "                    self.change_node = self.change_node.left\n",
    "                if self.change_node.right != None:\n",
    "                    self.change_node_parent.left = self.change_node.right\n",
    "                else:\n",
    "                    self.change_node_parent.left = None\n",
    "                self.parent.right = self.change_node\n",
    "                self.change_node.right = self.current_node.right\n",
    "                self.change_node.left = self.current_node.left\n",
    "\n",
    "        return True    "
   ]
  },
  {
   "cell_type": "code",
   "execution_count": 7,
   "metadata": {},
   "outputs": [],
   "source": [
    "class Heap:\n",
    "    def __init__(self,data):\n",
    "        self.heap_array = list()\n",
    "        self.heap_array.append(None)\n",
    "        self.heap_array.apped(data)\n",
    "        \n",
    "    def move_up(self, inserted_idx):\n",
    "        if inserted_idx <=1:\n",
    "            return False\n",
    "        \n",
    "        parent_idx = inserted_idx // 2\n",
    "        \n",
    "        if self.heap_array[parent_idx] < self.heap_array[inserted_idx]:\n",
    "            return True\n",
    "        else:\n",
    "            return False\n",
    "    \n",
    "    \n",
    "    def insert(self,data):\n",
    "        if len(self.heap_array) <= 1:\n",
    "            self.heap_array.append(None)\n",
    "            self.heap_array.append(data)\n",
    "            return True\n",
    "        \n",
    "        self.heap_array.append(data)\n",
    "        \n",
    "        inserted_idx = len(self.heap_array)-1\n",
    "        \n",
    "        while self.move_up(inserted_idx):\n",
    "            parent_idx = inserted_idx //2 \n",
    "            #swap()\n",
    "            inserted_idx = parent_idx\n",
    "            \n",
    "        return True\n",
    "    \n",
    "    def move_down(self,popped_idx):\n",
    "        left_child_popped_idx = popped_idx *2\n",
    "        right_child_popped_idx = popped_idx *2 +1\n",
    "        \n",
    "        if left_child_popped_idx >= len(self.heap_array):\n",
    "            return False\n",
    "        elif right_child_popped_idx >= len(self.heap_array):\n",
    "            if self.heap_array[popped_idx] < self.heap_array[left_child_popped_idx]:\n",
    "                return True\n",
    "            else:\n",
    "                return False\n",
    "            \n",
    "        else:\n",
    "            #[left child] 와 [right child] 비교후 \n",
    "            #[popped_idx]와 비교\n",
    "            \n",
    "\n",
    "        \n",
    "    \n",
    "    def pop(self):\n",
    "        if len(self.heap_array) <=1:\n",
    "            return None\n",
    "        \n",
    "        returned_data = self.heap_array[1]\n",
    "        self.heap_array[1] = self.heap_array[-1]\n",
    "        del self.heap_array[-1]\n",
    "        popped_idx = 1\n",
    "        \n",
    "        while self.move_down(popped_idx):\n",
    "            left_child_popped_idx = popped_idx *2\n",
    "            right_child_popped_idx = popped_idx *2 +1\n",
    "            \n",
    "    \n",
    "    \n",
    "    \n",
    "    \n",
    "    \n",
    "    \n",
    "    \n",
    "    "
   ]
  },
  {
   "cell_type": "code",
   "execution_count": 4,
   "metadata": {},
   "outputs": [
    {
     "name": "stdout",
     "output_type": "stream",
     "text": [
      "Life is too short\n",
      "You need Python\n",
      "superfast\n"
     ]
    }
   ],
   "source": [
    "multiline='''Life is too short\n",
    "You need Python\n",
    "superfast'''\n",
    "print(multiline)\n",
    "\n",
    "\n",
    "\n",
    "\n",
    "\n"
   ]
  },
  {
   "cell_type": "code",
   "execution_count": null,
   "metadata": {},
   "outputs": [],
   "source": [
    "from heapq import heappush, heappop\n",
    "\n",
    "def dijkstra(V,S,graph):\n",
    "    dist = [[INF]*V]\n",
    "    dist[S-1] = 0\n",
    "    queue = []\n",
    "    heappush(queue,[0,S-1])\n",
    "    \n",
    "    while queue:\n",
    "        cost,pos = heappop(queue)\n",
    "        for c,p in graph[pos]:\n",
    "            c+=cost\n",
    "            if c < dist[p]:\n",
    "                dist[p] = c\n",
    "                heapq.heappush(queue,[c,p])\n",
    "    return dist\n",
    "\n",
    "\n",
    "\n"
   ]
  },
  {
   "cell_type": "code",
   "execution_count": null,
   "metadata": {},
   "outputs": [],
   "source": [
    "from heapq import heappush, heappop\n",
    "\n",
    "def dijkstra(v, k, g):\n",
    "    dist = [INF] * v\n",
    "    dist[k - 1] = 0\n",
    "    q = []\n",
    "    heapq.heappush(q, [0, k-1])\n",
    "\n",
    "    while q:\n",
    "        cost, pos = heapq.heappop(q)\n",
    "\n",
    "        for p, c in g[pos]:\n",
    "            c += cost\n",
    "            if c < dist[p]:\n",
    "                dist[p] = c\n",
    "                heapq.heappush(q, [c, p])\n",
    "    return dist\n",
    "\n",
    "\n",
    "Graph = [[] for _ in range(V)]\n",
    "\n",
    "N = int(input())\n",
    "M = int(input())\n",
    "for _ in range(M):\n",
    "    u, v, w = map(int, input().split())\n",
    "    Graph[u-1].append([v-1, w])\n",
    "Start,End = list(map(int,input().split()))\n",
    "\n",
    "Path = dijkstra(N,Start,Graph)\n",
    "print(Path[End-1])"
   ]
  },
  {
   "cell_type": "code",
   "execution_count": null,
   "metadata": {},
   "outputs": [],
   "source": []
  },
  {
   "cell_type": "code",
   "execution_count": 10,
   "metadata": {},
   "outputs": [
    {
     "name": "stdout",
     "output_type": "stream",
     "text": [
      "납입 금액을 입력하세요\n",
      "300000\n",
      "개월수를 입력하세요\n",
      "12\n",
      "연 이율을 입력하세요 ex) 3.1 -> 0.031\n",
      "0.0481\n",
      "3693795.0\n"
     ]
    }
   ],
   "source": [
    "print(\"납입 금액을 입력하세요\")\n",
    "money=int(input())\n",
    "print(\"개월수를 입력하세요\")\n",
    "months = int(input())\n",
    "print(\"연 이율을 입력하세요 ex) 3.1 -> 0.031\")\n",
    "rate = float(input())\n",
    "\n",
    "total = 0\n",
    "total = money*months+money*months*(months+1)/2* (rate/12)\n",
    "print(total)\n",
    "\n"
   ]
  },
  {
   "cell_type": "code",
   "execution_count": null,
   "metadata": {},
   "outputs": [],
   "source": [
    "from collections import deque\n",
    "\n",
    "N,M = map(int,input().split())\n",
    "adj = [ [] for _ in range(N+1)]\n",
    "\n",
    "def BFS(cost):\n",
    "    queue = deque([start_node])\n",
    "    visited = [False] * (N+1)\n",
    "    visited[start_node] = True\n",
    "    while queue:\n",
    "        x = queue.popleft()\n",
    "        for y,weight in adj[x]:\n",
    "            if not visited[y] and weight >= cost:\n",
    "                visited[y] = True\n",
    "                queue.append(y)\n",
    "    return visited[end_node]\n",
    "start = 1e9\n",
    "end = 1\n",
    "\n",
    "for _ in range(M):\n",
    "    x, y, weight = map(int,input().split())\n",
    "    adj[x].append( (y,weight) )\n",
    "    adj[y].append( (x,weight) )\n",
    "    start = min(start,weight)\n",
    "    end = max(end,weight)\n",
    "    \n",
    "start_node , end_node = map(int,input().split())\n",
    "result = start\n",
    "\n",
    "while(start<=end):\n",
    "    mid = (start+end) //2\n",
    "    if BFS(mid):\n",
    "        result = mid\n",
    "        start = mid +1\n",
    "    else:\n",
    "        end = mid -1\n",
    "print(result)\n"
   ]
  },
  {
   "cell_type": "code",
   "execution_count": null,
   "metadata": {},
   "outputs": [],
   "source": [
    "from heapq import heappush, heappop\n",
    "\n",
    "N,M = map(int,input().split())\n",
    "array = [ [] for i in range(N+1) ]\n",
    "indegree = [0] * (N+1)\n",
    "queue = []\n",
    "result = []\n",
    "\n",
    "for _ in range(M):\n",
    "    x,y = map(int,input().split())\n",
    "    array[x].append(y)\n",
    "    indegree[y]+=1\n",
    "for i in range(1,N+1):\n",
    "    if indegree[i] == 0:\n",
    "        heappush(queue,i)\n",
    "while queue:\n",
    "    data = heappop(queue)\n",
    "    result.append(data)\n",
    "    for y in array[data]:\n",
    "        indegree[y]-=1\n",
    "        if indegree[y] == 0:\n",
    "            heappush(queue, y)\n",
    "        "
   ]
  },
  {
   "cell_type": "code",
   "execution_count": 2,
   "metadata": {},
   "outputs": [
    {
     "name": "stdout",
     "output_type": "stream",
     "text": [
      "5 3\n",
      "1\n",
      "2\n",
      "8\n",
      "4\n",
      "9\n",
      "3\n"
     ]
    }
   ],
   "source": [
    "N,C = map(int,input().split())\n",
    "array = []\n",
    "for _ in range(N):\n",
    "    array.append(int(input()))\n",
    "array.sort()\n",
    "\n",
    "start = array[1] - array[0]\n",
    "end = array[-1] - array[0]\n",
    "result = 0\n",
    "while start <=end:\n",
    "    mid = (start+end) // 2\n",
    "    spot = array[0]\n",
    "    count = 1\n",
    "    for i in range(1,len(array)):\n",
    "        if array[i] >= spot+mid:\n",
    "            spot = array[i]\n",
    "            count+=1\n",
    "    if count >= C:\n",
    "        result = mid\n",
    "        start = mid+1\n",
    "    else:\n",
    "        end = mid -1\n",
    "print(result)"
   ]
  },
  {
   "cell_type": "code",
   "execution_count": null,
   "metadata": {},
   "outputs": [
    {
     "name": "stdout",
     "output_type": "stream",
     "text": [
      "3 3\n",
      "1 2 2\n",
      "3 1 3\n",
      "2 3 2\n",
      "1 3\n"
     ]
    }
   ],
   "source": [
    "from collections import deque\n",
    "\n",
    "N,M = map(int,input().split())\n",
    "Edges = [ [] for _ in range(N) ]\n",
    "\n",
    "def BFS(cost):\n",
    "    queue = deque([start_node])\n",
    "    visited = [False] * N\n",
    "    visited[start_node-1] = True\n",
    "    \n",
    "    while queue:\n",
    "        data = queue.popleft()\n",
    "        for adj, weight in Edges[data]:\n",
    "            if not visited[adj] and weight >= cost:\n",
    "                queue.append(adj)\n",
    "    return visited[end_node]\n",
    "\n",
    "\n",
    "start = 1e9\n",
    "end = 0\n",
    "for _ in range(M):\n",
    "    A,B,C = map(int,input().split())\n",
    "    Edges[A-1].append( (B-1,C) )\n",
    "    Edges[B-1].append( (A-1,C) )\n",
    "    start = min(start,C)\n",
    "    end = max(end,C)\n",
    "#\n",
    "start_node, end_node = map(int,input().split())\n",
    "result = 0\n",
    "while start <= end:\n",
    "    mid = (start+end)//2\n",
    "    if BFS(mid):\n",
    "        result = mid\n",
    "        start = mid+1\n",
    "    else:\n",
    "        end = mid-1\n",
    "print(result)"
   ]
  },
  {
   "cell_type": "code",
   "execution_count": 2,
   "metadata": {},
   "outputs": [
    {
     "name": "stdout",
     "output_type": "stream",
     "text": [
      "4 7\n",
      "6 13\n",
      "4 8\n",
      "3 6\n",
      "5 12\n",
      "14\n"
     ]
    }
   ],
   "source": [
    "N,K = map(int,input().split())\n",
    "dp = [ [0]*(K+1) for _ in range(N+1) ]\n",
    "\n",
    "\n",
    "for i in range(1,N+1):\n",
    "    W,V = map(int,input().split())\n",
    "    for j in range(1,K+1):\n",
    "        if j < W:\n",
    "            dp[i][j] = dp[i-1][j]\n",
    "        else:\n",
    "            dp[i][j] = max(dp[i-1][j],dp[i-1][j-W]+V)\n",
    "print(dp[N][K])"
   ]
  },
  {
   "cell_type": "code",
   "execution_count": 6,
   "metadata": {},
   "outputs": [
    {
     "name": "stdout",
     "output_type": "stream",
     "text": [
      "6\n",
      "10 20 10 30 20 50\n",
      "4\n"
     ]
    }
   ],
   "source": [
    "N = int(input())\n",
    "Arr = list(map(int,input().split()))\n",
    "dp = [1]*N\n",
    "\n",
    "for i in range(1,N):\n",
    "    for j in range(0,i):\n",
    "        if Arr[j] < Arr[i]:\n",
    "            dp[i] = max(dp[i],dp[j]+1)\n",
    "print(max(dp))"
   ]
  },
  {
   "cell_type": "code",
   "execution_count": 32,
   "metadata": {},
   "outputs": [
    {
     "name": "stdout",
     "output_type": "stream",
     "text": [
      "5\n",
      "6 9 5 7 4\n",
      "0 0 2 2 4 "
     ]
    }
   ],
   "source": [
    "N = int(input())\n",
    "Tower = list(map(int,input().split()))\n",
    "dp = [0] * N\n",
    "for i in range(len(Tower)-1,-1,-1):\n",
    "    for j in range(i-1,-1,-1):\n",
    "        if Tower[i] < Tower[j]:\n",
    "            dp[i] = j+1\n",
    "            break\n",
    "for i in range(len(dp)):\n",
    "    print(dp[i], end=\" \")"
   ]
  },
  {
   "cell_type": "code",
   "execution_count": 24,
   "metadata": {},
   "outputs": [
    {
     "name": "stdout",
     "output_type": "stream",
     "text": [
      "5\n",
      "4\n",
      "3\n",
      "2\n",
      "1\n"
     ]
    }
   ],
   "source": [
    "a = [1,2,3,4,5]\n",
    "\n",
    "for i in range(len(a)-1,-1,-1):\n",
    "    print(a[i])\n",
    "\n",
    "\n",
    "#a[len(a)::-1]"
   ]
  },
  {
   "cell_type": "code",
   "execution_count": 5,
   "metadata": {},
   "outputs": [
    {
     "name": "stdout",
     "output_type": "stream",
     "text": [
      "4 7\n",
      "1 2\n",
      "4 8\n",
      "3 6\n",
      "8 10\n",
      "14\n"
     ]
    }
   ],
   "source": [
    "N,K = map(int,input().split())\n",
    "dp = [[0] *(K+1) for _ in range(N+1)]\n",
    "for i in range(1,N+1):\n",
    "    W,V = map(int,input().split())\n",
    "    for j in range(1,K+1):\n",
    "        if j<W:\n",
    "            dp[i][j] = dp[i-1][j]\n",
    "        else :\n",
    "            # 그전에 들었던거(지금거 추가해도 무게 안넘는걸로)+V\n",
    "            # VS\n",
    "            # 그냥 현재무게 그전에 들었던거\n",
    "            dp[i][j] = max(dp[i-1][j-W]+V,dp[i-1][j])\n",
    "print(dp[N][K])"
   ]
  },
  {
   "cell_type": "code",
   "execution_count": 10,
   "metadata": {},
   "outputs": [
    {
     "name": "stdout",
     "output_type": "stream",
     "text": [
      "6\n",
      "10 20 10 30 20 50\n",
      "4\n"
     ]
    }
   ],
   "source": [
    "N = int(input())\n",
    "A = list(map(int,input().split()))\n",
    "dp = [1] * (N)\n",
    "\n",
    "for i in range(1,N):\n",
    "    for j in range(0,i):\n",
    "        if A[j] < A[i]:\n",
    "            dp[i] = max(dp[i],dp[j]+1)\n",
    "print(max(dp))"
   ]
  },
  {
   "cell_type": "code",
   "execution_count": 11,
   "metadata": {},
   "outputs": [
    {
     "name": "stdout",
     "output_type": "stream",
     "text": [
      "ACAYKP\n",
      "CAPCAK\n",
      "4\n"
     ]
    }
   ],
   "source": [
    "A = input()\n",
    "B = input()\n",
    "dp = [ [0]*(len(A)+1) for _ in range(len(B)+1) ]\n",
    "\n",
    "for i in range(1,len(A)+1):\n",
    "    for j in range(1,len(B)+1):\n",
    "        if A[i-1] == B[j-1]:\n",
    "            dp[i][j] = dp[i-1][j-1]+1\n",
    "        else:\n",
    "            dp[i][j] = max(dp[i-1][j],dp[i][j-1])\n",
    "            \n",
    "print(dp[len(A)][len(B)])"
   ]
  },
  {
   "cell_type": "code",
   "execution_count": 14,
   "metadata": {},
   "outputs": [
    {
     "name": "stdout",
     "output_type": "stream",
     "text": [
      "3 5 10\n",
      "5 3 7\n",
      "10\n"
     ]
    }
   ],
   "source": [
    "N,S,M = map(int,input().split())\n",
    "dp = [[0]*(M+1) for _ in range(N+1) ]\n",
    "dp[0][S] = 1\n",
    "A = list(map(int,input().split()))\n",
    "\n",
    "for i in range(1,N+1):\n",
    "    for j in range(0,M+1):\n",
    "        if dp[i-1][j] == 0:\n",
    "            continue\n",
    "        if j-A[i-1] >= 0:\n",
    "            dp[i][j-A[i-1]] = 1\n",
    "        if j+A[i-1] <=10:\n",
    "            dp[i][j+A[i-1]] = 1\n",
    "            \n",
    "result = -1            \n",
    "for i in range(M,-1,-1):\n",
    "    if dp[N][i] == 1:\n",
    "        result = i\n",
    "        break\n",
    "print(result)"
   ]
  },
  {
   "cell_type": "code",
   "execution_count": 30,
   "metadata": {},
   "outputs": [
    {
     "name": "stdout",
     "output_type": "stream",
     "text": [
      "4 5 1\n",
      "1 2\n",
      "1 3\n",
      "1 4\n",
      "2 4\n",
      "3 4\n",
      "1 2 4 3 \n",
      "1 2 3 4 \n"
     ]
    }
   ],
   "source": [
    "from collections import deque\n",
    "\n",
    "def dfs(Graph,start):\n",
    "    visited,need_visit = list(),list()\n",
    "    need_visit.append(start)\n",
    "    \n",
    "    while need_visit:\n",
    "        node = need_visit.pop()\n",
    "        if node not in visited:\n",
    "            visited.append(node)\n",
    "            Graph[node].reverse()\n",
    "            need_visit.extend(Graph[node])\n",
    "    return visited\n",
    "            \n",
    "def bfs(Graph,start) :\n",
    "    visited, need_visit = list(),list()\n",
    "    need_visit.append(start)\n",
    "    \n",
    "    while need_visit:\n",
    "        node = need_visit.pop(0)\n",
    "        if node not in visited:\n",
    "            visited.append(node)\n",
    "            need_visit.extend(Graph[node])\n",
    "    return visited\n",
    "\n",
    "N,M,V = map(int,input().split())\n",
    "Edges = [[] for _ in range(N+1) ]\n",
    "for _ in range(M):\n",
    "    U,T = map(int,input().split())\n",
    "    Edges[U].append(T)\n",
    "    Edges[T].append(U)\n",
    "\n",
    "for e in Edges:\n",
    "    e.sort()\n",
    "\n",
    "DFS = dfs(Edges,V)\n",
    "BFS = bfs(Edges,V)\n",
    "\n",
    "for _ in range(2):\n",
    "    for i in range(N):\n",
    "        if _ == 0:\n",
    "            print(DFS[i],end = ' ')\n",
    "        else:\n",
    "            print(BFS[i],end = ' ')\n",
    "    print()"
   ]
  },
  {
   "cell_type": "code",
   "execution_count": 36,
   "metadata": {},
   "outputs": [],
   "source": [
    "Edges = [ [],[2,3,4],[1,4],[1,4],[1,2,3] ]\n",
    "visited = [False] * 5"
   ]
  },
  {
   "cell_type": "code",
   "execution_count": 37,
   "metadata": {},
   "outputs": [
    {
     "name": "stdout",
     "output_type": "stream",
     "text": [
      "1 2 4 3 "
     ]
    }
   ],
   "source": [
    "from collections import deque\n",
    "\n",
    "def dfs(Graph, start):\n",
    "    visited[start] = True\n",
    "    for node in Graph[start]:\n",
    "        if not visited[node]:\n",
    "            dfs(Graph,node)\n",
    "def bfs(Graph,start):\n",
    "    queue = deque([start])\n",
    "    visited = [False] * (N+1)\n",
    "    \n",
    "    while queue:\n",
    "        node = queue.popleft()\n",
    "        if not visited[node]:\n",
    "            visited[node] = True\n",
    "            print(node, end=' ')\n",
    "            for e in Graph[node]:\n",
    "                if not visited[e]:\n",
    "                    queue.append(e)\n",
    "                    "
   ]
  },
  {
   "cell_type": "code",
   "execution_count": 33,
   "metadata": {},
   "outputs": [],
   "source": [
    "from collections import deque\n",
    "\n",
    "def dfs(Graph,start):\n",
    "    visited[start] = True\n",
    "    \n",
    "    for node in Graph[start]:\n",
    "        if not visited[node]:\n",
    "            dfs(Graph,node)\n",
    "def bfs(Graph,start):\n",
    "    queue = deque([start])\n",
    "    visited = [False] *(N+1)\n",
    "    \n",
    "    while queue:\n",
    "        node = queue.popleft()\n",
    "        if not visited[node]:\n",
    "            visited[node] = True\n",
    "            for e in Graph[node]:\n",
    "                if not visited[e]:\n",
    "                    queue.append(e)"
   ]
  },
  {
   "cell_type": "code",
   "execution_count": null,
   "metadata": {},
   "outputs": [],
   "source": []
  },
  {
   "cell_type": "code",
   "execution_count": null,
   "metadata": {},
   "outputs": [],
   "source": []
  },
  {
   "cell_type": "code",
   "execution_count": null,
   "metadata": {},
   "outputs": [],
   "source": []
  },
  {
   "cell_type": "code",
   "execution_count": null,
   "metadata": {},
   "outputs": [],
   "source": []
  },
  {
   "cell_type": "code",
   "execution_count": null,
   "metadata": {},
   "outputs": [],
   "source": []
  },
  {
   "cell_type": "code",
   "execution_count": null,
   "metadata": {},
   "outputs": [],
   "source": []
  }
 ],
 "metadata": {
  "kernelspec": {
   "display_name": "Python 3",
   "language": "python",
   "name": "python3"
  },
  "language_info": {
   "codemirror_mode": {
    "name": "ipython",
    "version": 3
   },
   "file_extension": ".py",
   "mimetype": "text/x-python",
   "name": "python",
   "nbconvert_exporter": "python",
   "pygments_lexer": "ipython3",
   "version": "3.7.3"
  }
 },
 "nbformat": 4,
 "nbformat_minor": 2
}
