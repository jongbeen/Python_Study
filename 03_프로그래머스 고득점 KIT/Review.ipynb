{
 "cells": [
  {
   "cell_type": "markdown",
   "metadata": {},
   "source": [
    "#### (그리디)섬 연결하기"
   ]
  },
  {
   "cell_type": "code",
   "execution_count": 1,
   "metadata": {},
   "outputs": [],
   "source": [
    "def solution(n,costs):\n",
    "    costs.sort(key=lambda x:x[2])\n",
    "    first_node = costs[0]\n",
    "    start = first_node[0]\n",
    "    visited = [0]*n\n",
    "    visited[start] = 1\n",
    "    answer = 0\n",
    "    while sum(visited) != n:\n",
    "        for cost in costs:\n",
    "            s,e,c = cost\n",
    "            if visited[s] or visited[e]:\n",
    "                if visited[s] and visited[e]:\n",
    "                    continue\n",
    "                else:\n",
    "                    answer +=c\n",
    "                    visited[s] = 1\n",
    "                    visited[e] = 1\n",
    "                    break\n",
    "    return answer"
   ]
  },
  {
   "cell_type": "code",
   "execution_count": null,
   "metadata": {},
   "outputs": [],
   "source": []
  }
 ],
 "metadata": {
  "kernelspec": {
   "display_name": "Python 3",
   "language": "python",
   "name": "python3"
  },
  "language_info": {
   "codemirror_mode": {
    "name": "ipython",
    "version": 3
   },
   "file_extension": ".py",
   "mimetype": "text/x-python",
   "name": "python",
   "nbconvert_exporter": "python",
   "pygments_lexer": "ipython3",
   "version": "3.7.3"
  }
 },
 "nbformat": 4,
 "nbformat_minor": 2
}
