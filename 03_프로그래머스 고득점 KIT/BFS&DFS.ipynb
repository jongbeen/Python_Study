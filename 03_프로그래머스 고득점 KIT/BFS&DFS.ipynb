{
 "cells": [
  {
   "cell_type": "markdown",
   "metadata": {},
   "source": [
    "### I. 타겟넘버\n",
    "#### 1. DFS Solution (시간 초과)\n",
    "> eval()함수를 통해 최종 문자열 결과 확인"
   ]
  },
  {
   "cell_type": "code",
   "execution_count": 14,
   "metadata": {},
   "outputs": [],
   "source": [
    "pre = ['-','+']\n",
    "def DFS(numbers, target,i,ans):\n",
    "    global count\n",
    "    if i == len(numbers):\n",
    "        if eval(ans) == target:\n",
    "            print(ans)\n",
    "            count+=1\n",
    "    elif i<len(numbers):\n",
    "        for p in pre:\n",
    "            s = p+str(numbers[i])\n",
    "            DFS(numbers,target,i+1,ans+s)\n",
    "    \n",
    "def solution(numbers,target):\n",
    "    global count\n",
    "    count = 0\n",
    "    DFS(numbers,target,0,\"\")\n",
    "    return count;"
   ]
  },
  {
   "cell_type": "code",
   "execution_count": 15,
   "metadata": {
    "scrolled": true
   },
   "outputs": [
    {
     "name": "stdout",
     "output_type": "stream",
     "text": [
      "-1+1+1+1+1\n",
      "+1-1+1+1+1\n",
      "+1+1-1+1+1\n",
      "+1+1+1-1+1\n",
      "+1+1+1+1-1\n"
     ]
    },
    {
     "data": {
      "text/plain": [
       "5"
      ]
     },
     "execution_count": 15,
     "metadata": {},
     "output_type": "execute_result"
    }
   ],
   "source": [
    "a = [1,1,1,1,1]\n",
    "solution(a,3)"
   ]
  },
  {
   "cell_type": "markdown",
   "metadata": {},
   "source": [
    "#### 2. DFS Solution (정답)\n",
    "> eval이 문제였다..."
   ]
  },
  {
   "cell_type": "code",
   "execution_count": 48,
   "metadata": {},
   "outputs": [],
   "source": [
    "pre = ['-','+']\n",
    "def DFS(numbers, target,i,ans):\n",
    "    global count\n",
    "    if i == len(numbers):\n",
    "        if ans == target:\n",
    "            count+=1\n",
    "    elif i<len(numbers):\n",
    "        for p in pre:\n",
    "            s = p+str(numbers[i])\n",
    "            DFS(numbers,target,i+1,ans+int(s))\n",
    "    \n",
    "def solution(numbers,target):\n",
    "    global count\n",
    "    count = 0\n",
    "    DFS(numbers,target,0,0)\n",
    "    return count;"
   ]
  },
  {
   "cell_type": "code",
   "execution_count": 49,
   "metadata": {},
   "outputs": [
    {
     "data": {
      "text/plain": [
       "5"
      ]
     },
     "execution_count": 49,
     "metadata": {},
     "output_type": "execute_result"
    }
   ],
   "source": [
    "a = [1,1,1,1,1]\n",
    "solution(a,3)"
   ]
  },
  {
   "cell_type": "markdown",
   "metadata": {},
   "source": [
    "#### 3. BFS Solution (시간초과)\n",
    "> 역시 eval()함수를 통한 최종 결과 확인"
   ]
  },
  {
   "cell_type": "code",
   "execution_count": 35,
   "metadata": {},
   "outputs": [],
   "source": [
    "from collections import deque\n",
    "\n",
    "def solution(numbers,target):\n",
    "    pre = ['-','+']\n",
    "    count = 0\n",
    "    queue = deque([(0,'')])\n",
    "    \n",
    "    while queue:\n",
    "        index, st = queue.popleft()\n",
    "        if index == len(numbers):\n",
    "            if eval(st) == target:\n",
    "                count+=1\n",
    "        elif index < len(numbers):\n",
    "            for p in pre:\n",
    "                queue.append((index+1,st+p+str(numbers[index])))\n",
    "                             \n",
    "    return count"
   ]
  },
  {
   "cell_type": "code",
   "execution_count": 36,
   "metadata": {},
   "outputs": [
    {
     "data": {
      "text/plain": [
       "5"
      ]
     },
     "execution_count": 36,
     "metadata": {},
     "output_type": "execute_result"
    }
   ],
   "source": [
    "a = [1,1,1,1,1]\n",
    "solution(a,3)"
   ]
  },
  {
   "cell_type": "markdown",
   "metadata": {},
   "source": [
    "#### 4. BFS Solution(정답)\n",
    "> eval() 사용안하고 int형 계산"
   ]
  },
  {
   "cell_type": "code",
   "execution_count": 42,
   "metadata": {},
   "outputs": [],
   "source": [
    "from collections import deque\n",
    "\n",
    "def solution(numbers,target):\n",
    "    pre = ['-','+']\n",
    "    count = 0\n",
    "    queue = deque([(0,0)])\n",
    "    \n",
    "    while queue:\n",
    "        index, result = queue.popleft()\n",
    "        if index == len(numbers):\n",
    "            if result == target:\n",
    "                count+=1\n",
    "        elif index < len(numbers):\n",
    "            for p in pre:\n",
    "                queue.append((index+1,result+int(p+str(numbers[index]))))\n",
    "                             \n",
    "    return count"
   ]
  },
  {
   "cell_type": "code",
   "execution_count": 43,
   "metadata": {},
   "outputs": [
    {
     "data": {
      "text/plain": [
       "5"
      ]
     },
     "execution_count": 43,
     "metadata": {},
     "output_type": "execute_result"
    }
   ],
   "source": [
    "a = [1,1,1,1,1]\n",
    "solution(a,3)"
   ]
  },
  {
   "cell_type": "markdown",
   "metadata": {},
   "source": [
    "##### 모범답안"
   ]
  },
  {
   "cell_type": "code",
   "execution_count": 44,
   "metadata": {},
   "outputs": [],
   "source": [
    "def solution(numbers, target):\n",
    "    answer = 0\n",
    "    stack = deque([(0, 0)])\n",
    "    while stack:\n",
    "        current_sum, num_idx = stack.popleft()\n",
    "\n",
    "        if num_idx == len(numbers):\n",
    "            if current_sum == target:\n",
    "                answer += 1\n",
    "        else:\n",
    "            number = numbers[num_idx]\n",
    "            stack.append((current_sum+number, num_idx + 1))\n",
    "            stack.append((current_sum-number, num_idx + 1))\n",
    "\n",
    "    return answer"
   ]
  },
  {
   "cell_type": "code",
   "execution_count": 45,
   "metadata": {},
   "outputs": [
    {
     "data": {
      "text/plain": [
       "5"
      ]
     },
     "execution_count": 45,
     "metadata": {},
     "output_type": "execute_result"
    }
   ],
   "source": [
    "a = [1,1,1,1,1]\n",
    "solution(a,3)"
   ]
  },
  {
   "cell_type": "code",
   "execution_count": 80,
   "metadata": {},
   "outputs": [],
   "source": [
    "from collections import deque\n",
    "\n",
    "def find(begin, target):\n",
    "    ans = []\n",
    "    for i in range(len(begin)):\n",
    "        if begin[i] != target[i]:\n",
    "            ans.append(i)\n",
    "    return ans\n",
    "\n",
    "def BFS(begin, target, words, check):\n",
    "    queue = deque([(check,begin,0)])\n",
    "    visited = [False]*len(words)\n",
    "    \n",
    "    while queue:\n",
    "        check,word,count = queue.popleft()\n",
    "        print(check)\n",
    "        if word == target:\n",
    "            return count\n",
    "        if check:\n",
    "            for i in check:\n",
    "                temp = word.replace(word[i],target[i],1)\n",
    "                if temp in words:\n",
    "                    print(temp)\n",
    "                    t_index = words.index(temp)\n",
    "                    if not visited[t_index]:\n",
    "                        visited[t_index] = True\n",
    "                        ch = check\n",
    "                        ch.pop(ch.index(i))\n",
    "                        queue.append((ch,temp,count+1))\n",
    "    return 0\n",
    "\n",
    "def solution(begin, target, words):\n",
    "    if target not in words:\n",
    "        return 0\n",
    "    check = find(begin,target)\n",
    "    \n",
    "    return BFS(begin,target,words, check)"
   ]
  },
  {
   "cell_type": "code",
   "execution_count": 81,
   "metadata": {},
   "outputs": [
    {
     "name": "stdout",
     "output_type": "stream",
     "text": [
      "[0, 1, 2]\n",
      "hot\n",
      "[0, 2]\n"
     ]
    },
    {
     "data": {
      "text/plain": [
       "0"
      ]
     },
     "execution_count": 81,
     "metadata": {},
     "output_type": "execute_result"
    }
   ],
   "source": [
    "begin = 'hit'\n",
    "target = 'cog'\n",
    "words = [\"hot\", \"dot\", \"dog\",\"lot\",\"log\",\"cog\"]\n",
    "solution(begin,target,words)"
   ]
  },
  {
   "cell_type": "code",
   "execution_count": null,
   "metadata": {},
   "outputs": [],
   "source": [
    " "
   ]
  }
 ],
 "metadata": {
  "kernelspec": {
   "display_name": "Python 3",
   "language": "python",
   "name": "python3"
  },
  "language_info": {
   "codemirror_mode": {
    "name": "ipython",
    "version": 3
   },
   "file_extension": ".py",
   "mimetype": "text/x-python",
   "name": "python",
   "nbconvert_exporter": "python",
   "pygments_lexer": "ipython3",
   "version": "3.7.3"
  }
 },
 "nbformat": 4,
 "nbformat_minor": 2
}
