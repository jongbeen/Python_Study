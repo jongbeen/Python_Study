{
 "cells": [
  {
   "attachments": {
    "image.png": {
     "image/png": "[encoded data removed]"
    }
   },
   "cell_type": "markdown",
   "metadata": {},
   "source": [
    "### 가장 큰 수\n",
    "![image.png](attachment:image.png)"
   ]
  },
  {
   "cell_type": "markdown",
   "metadata": {},
   "source": [
    "#### 내 답(오답)\n",
    "> 숫자로 정렬시 [34,30,3] 으로 정렬되는 문제가 있었다.\n",
    " - [34,3,30]으로 정렬되어야 한다."
   ]
  },
  {
   "cell_type": "code",
   "execution_count": null,
   "metadata": {},
   "outputs": [],
   "source": [
    "def solution(numbers):\n",
    "    result = []\n",
    "    for num in numbers:\n",
    "        temp = []\n",
    "        for i in str(num):\n",
    "            temp.append(i)\n",
    "        result.append(temp)\n",
    "    result.sort(reverse = True, key = lambda x:x[0])\n",
    "    print(result)\n",
    "    answer = ''\n",
    "    for i in result:\n",
    "        for data in i:\n",
    "            answer+=data\n",
    "    return answer"
   ]
  },
  {
   "cell_type": "markdown",
   "metadata": {},
   "source": [
    "#### <mark>문자로 정렬시 사전순 정렬을 이용했다</mark>\n",
    "> '30'X3 = '303030', '3'X3 = '333'\n",
    "- '303030' < '333'\n",
    "\n",
    "> '0000'의 경우 '0'으로 출력하기 위해 int변환 - str변환을 한번 더한다"
   ]
  },
  {
   "cell_type": "code",
   "execution_count": 19,
   "metadata": {},
   "outputs": [],
   "source": [
    "def solution(numbers):\n",
    "    result = list(map(str,numbers))\n",
    "    result.sort(reverse = True, key=lambda x:x* 3)\n",
    "    answer = ''.join(result)\n",
    "    \n",
    "    return str(int(answer))"
   ]
  },
  {
   "cell_type": "code",
   "execution_count": 21,
   "metadata": {},
   "outputs": [
    {
     "name": "stdout",
     "output_type": "stream",
     "text": [
      "['9', '5', '34', '3', '30']\n"
     ]
    },
    {
     "data": {
      "text/plain": [
       "'9534330'"
      ]
     },
     "execution_count": 21,
     "metadata": {},
     "output_type": "execute_result"
    }
   ],
   "source": [
    "solution([3, 30, 34, 5, 9])"
   ]
  },
  {
   "cell_type": "code",
   "execution_count": 9,
   "metadata": {
    "scrolled": true
   },
   "outputs": [
    {
     "data": {
      "text/plain": [
       "True"
      ]
     },
     "execution_count": 9,
     "metadata": {},
     "output_type": "execute_result"
    }
   ],
   "source": [
    "'5' > '30'"
   ]
  }
 ],
 "metadata": {
  "kernelspec": {
   "display_name": "Python 3",
   "language": "python",
   "name": "python3"
  },
  "language_info": {
   "codemirror_mode": {
    "name": "ipython",
    "version": 3
   },
   "file_extension": ".py",
   "mimetype": "text/x-python",
   "name": "python",
   "nbconvert_exporter": "python",
   "pygments_lexer": "ipython3",
   "version": "3.7.3"
  }
 },
 "nbformat": 4,
 "nbformat_minor": 2
}
