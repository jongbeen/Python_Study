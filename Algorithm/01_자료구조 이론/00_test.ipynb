{
 "cells": [
  {
   "cell_type": "code",
   "execution_count": 4,
   "metadata": {},
   "outputs": [
    {
     "name": "stdout",
     "output_type": "stream",
     "text": [
      "this is test\n",
      "a를 누르면 위에서 실행(insert above),\n",
      "\n",
      "b를 누르면 아래에서 실행(insert below)\n"
     ]
    }
   ],
   "source": [
    "print(\"this is test\")\n",
    "print(\"a를 누르면 위에서 실행(insert above),\\n\")\n",
    "print(\"b를 누르면 아래에서 실행(insert below)\")"
   ]
  },
  {
   "cell_type": "code",
   "execution_count": null,
   "metadata": {},
   "outputs": [],
   "source": []
  }
 ],
 "metadata": {
  "kernelspec": {
   "display_name": "Python 3",
   "language": "python",
   "name": "python3"
  },
  "language_info": {
   "codemirror_mode": {
    "name": "ipython",
    "version": 3
   },
   "file_extension": ".py",
   "mimetype": "text/x-python",
   "name": "python",
   "nbconvert_exporter": "python",
   "pygments_lexer": "ipython3",
   "version": "3.7.3"
  }
 },
 "nbformat": 4,
 "nbformat_minor": 2
}
