{
 "cells": [
  {
   "cell_type": "code",
   "execution_count": 10,
   "metadata": {},
   "outputs": [],
   "source": [
    "hash_table = list([0 for i in range(8)])\n",
    "\n",
    "def get_key(data):\n",
    "    return hash(data)       #어차피 data = data[0] 이니까..\n",
    "\n",
    "def hash_function(key):\n",
    "    return key % 8\n",
    "\n",
    "def save_data(key, value):\n",
    "    hash_address = hash_function( get_key(key) )\n",
    "    hash_table[hash_address] = value\n",
    "\n",
    "def read_data(key):\n",
    "    hash_address = hash_function(get_key(key))\n",
    "    return hash_table[hash_address]\n"
   ]
  },
  {
   "cell_type": "code",
   "execution_count": 19,
   "metadata": {},
   "outputs": [
    {
     "data": {
      "text/plain": [
       "4"
      ]
     },
     "execution_count": 19,
     "metadata": {},
     "output_type": "execute_result"
    }
   ],
   "source": [
    "data1 = \"Cha\"\n",
    "data2 = \"Park\"\n",
    "data3 = \"Son\"\n",
    "\n",
    "save_data(data1, \"1\")\n",
    "save_data(data2, \"2\")\n",
    "save_data(data3, \"3\")\n",
    "\n",
    "read_data(data2)\n",
    "\n",
    "hash_function(get_key(data2))\n",
    "hash_function(get_key(data3))\n",
    "#짜기라도 한 듯 Hash Colision  발생...."
   ]
  },
  {
   "cell_type": "code",
   "execution_count": 49,
   "metadata": {},
   "outputs": [],
   "source": [
    "#1 Chaining 기법, Open Hashing \n",
    "hash_table = list([0 for i in range(8)])\n",
    "\n",
    "def get_key(key):\n",
    "    return hash(key)\n",
    "\n",
    "def hash_function(key):\n",
    "    return key % 8\n",
    "\n",
    "def save_data(data,value):\n",
    "    index_key = get_key(data)\n",
    "    hash_address = hash_function(index_key)\n",
    "    if hash_table[hash_address] != 0:\n",
    "        for index in range( len(hash_table[hash_address]) ):\n",
    "            if hash_table[hash_address][index][0] == index_key:\n",
    "                hash_table[hash_address][index][1] = value\n",
    "                return\n",
    "            elif index == len(hash_table[hash_address])-1:\n",
    "                hash_table[hash_address].append([index_key, value])\n",
    "    else:\n",
    "        hash_table[hash_address] = [[index_key,value]]\n",
    "   \n",
    "    \n",
    "#     if hash_table[hash_address] != 0:\n",
    "#         for index in range (len(hash_table[hash_address])):\n",
    "#             if hash_table[hash_address][index][0] == index_key :\n",
    "#                 hash_table[hash_address][index][1] = value\n",
    "#                 return\n",
    "#           hash_table[hash_address].append([index_key,value])  #이것도 된다 ㅠㅠㅠ\n",
    "#     else:\n",
    "#         hash_table[hash_address].append([index_key,value])\n",
    "\n",
    "def read_data(data):\n",
    "    index_key = get_key(data)\n",
    "    hash_address = hash_function(index_key)\n",
    "    \n",
    "    if hash_table[hash_address] != 0:\n",
    "        for index in range ( len(hash_table[hash_address])):\n",
    "            if hash_table[hash_address][index][0] == index_key:\n",
    "                return hash_table[hash_address][index][1]\n",
    "            return None\n",
    "        else:\n",
    "            return None\n",
    "    else:\n",
    "        return None"
   ]
  },
  {
   "cell_type": "code",
   "execution_count": 50,
   "metadata": {},
   "outputs": [
    {
     "name": "stdout",
     "output_type": "stream",
     "text": [
      "3\n",
      "3\n",
      "3\n"
     ]
    }
   ],
   "source": [
    "print (hash('D1') % 8)\n",
    "print (hash('D2') % 8)\n",
    "print (hash('D3') % 8)\n"
   ]
  },
  {
   "cell_type": "code",
   "execution_count": 51,
   "metadata": {},
   "outputs": [
    {
     "data": {
      "text/plain": [
       "[0,\n",
       " 0,\n",
       " 0,\n",
       " [[-6293592521308926213, '1234'],\n",
       "  [2767683779654251283, '5678'],\n",
       "  [-6162805899115495493, '7778']],\n",
       " 0,\n",
       " 0,\n",
       " 0,\n",
       " 0]"
      ]
     },
     "execution_count": 51,
     "metadata": {},
     "output_type": "execute_result"
    }
   ],
   "source": [
    "save_data('D1','1234')\n",
    "save_data('D2','5678')\n",
    "save_data('D3','7778')\n",
    "hash_table"
   ]
  },
  {
   "cell_type": "code",
   "execution_count": null,
   "metadata": {},
   "outputs": [],
   "source": [
    "#2 Linear Probing 기법\n",
    "def get_key(data):\n",
    "    return hash(data)\n",
    "\n",
    "def hash_function(key):\n",
    "    return key % 8\n",
    "\n",
    "def save_data(data, value):\n",
    "    "
   ]
  },
  {
   "cell_type": "code",
   "execution_count": null,
   "metadata": {},
   "outputs": [],
   "source": []
  }
 ],
 "metadata": {
  "kernelspec": {
   "display_name": "Python 3",
   "language": "python",
   "name": "python3"
  },
  "language_info": {
   "codemirror_mode": {
    "name": "ipython",
    "version": 3
   },
   "file_extension": ".py",
   "mimetype": "text/x-python",
   "name": "python",
   "nbconvert_exporter": "python",
   "pygments_lexer": "ipython3",
   "version": "3.7.3"
  }
 },
 "nbformat": 4,
 "nbformat_minor": 2
}
