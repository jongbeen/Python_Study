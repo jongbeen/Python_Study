{
 "cells": [
  {
   "cell_type": "markdown",
   "metadata": {},
   "source": [
    "### 1. Node생성"
   ]
  },
  {
   "cell_type": "code",
   "execution_count": 1,
   "metadata": {},
   "outputs": [],
   "source": [
    "#Node 생성 1 - next가 없는 Node\n",
    "class Node:\n",
    "    def __init__(self, data):\n",
    "        self.data = data\n",
    "        self.next = None\n"
   ]
  },
  {
   "cell_type": "code",
   "execution_count": 2,
   "metadata": {},
   "outputs": [],
   "source": [
    "# Node생성 2 - Next의 default가 none인 Node\n",
    "class Node:\n",
    "    def __init__(self, data, next=None):\n",
    "        self.data= data\n",
    "        self.next = next"
   ]
  },
  {
   "cell_type": "markdown",
   "metadata": {},
   "source": [
    "### 2. Node와 Node연결하기"
   ]
  },
  {
   "cell_type": "code",
   "execution_count": 3,
   "metadata": {},
   "outputs": [],
   "source": [
    "node1 = Node(1)\n",
    "node2 = Node(2)\n",
    "node1.next = node2   # node1의 next는 node2를 가지게 함\n",
    "head = node1\n",
    "#head 라는 변수를 추가해 node1 값을 가지게 함"
   ]
  },
  {
   "cell_type": "markdown",
   "metadata": {},
   "source": [
    "### 3. 링크드 리스트로 데이터 추가하기"
   ]
  },
  {
   "cell_type": "code",
   "execution_count": 2,
   "metadata": {},
   "outputs": [],
   "source": [
    "class Node:\n",
    "    def __init__(self, data, next=None):\n",
    "        self.data = data\n",
    "        self.next = next\n",
    "\n",
    "def add(data):\n",
    "    node = head\n",
    "    while node.next:\n",
    "        node = node.next\n",
    "    node.next = Node(data)   #add를 통해 node.next가 다음 node를 가지게 함"
   ]
  },
  {
   "cell_type": "code",
   "execution_count": 3,
   "metadata": {},
   "outputs": [],
   "source": [
    "node1 = Node(1)\n",
    "head = node1\n",
    "for index in range(2, 10):\n",
    "    add(index)"
   ]
  },
  {
   "cell_type": "markdown",
   "metadata": {},
   "source": [
    "### 4. 링크드 리스트 데이터 출력하기(검색하기)"
   ]
  },
  {
   "cell_type": "code",
   "execution_count": 4,
   "metadata": {},
   "outputs": [
    {
     "name": "stdout",
     "output_type": "stream",
     "text": [
      "1\n",
      "2\n",
      "3\n",
      "4\n",
      "5\n",
      "6\n",
      "7\n",
      "8\n",
      "9\n"
     ]
    }
   ],
   "source": [
    "node = head\n",
    "while node.next:          #node.next가 none을 찾을때 까지\n",
    "    print(node.data)\n",
    "    node = node.next\n",
    "print(node.data)"
   ]
  },
  {
   "cell_type": "markdown",
   "metadata": {},
   "source": [
    "### 5.링크드 리스트 (중간 데이터 삽입하기)"
   ]
  },
  {
   "cell_type": "code",
   "execution_count": 5,
   "metadata": {},
   "outputs": [],
   "source": [
    "node3 = Node(3.5)\n",
    "node = head\n",
    "search = True\n",
    "while search:\n",
    "    if node.data==3:\n",
    "        search = False\n",
    "    else :\n",
    "        node= node.next\n",
    "\n",
    "node_next = node.next      # 기존의 node.next값 저장\n",
    "node.next = node3          # node.next 는 node3로 교체\n",
    "node3.next = node_next     # 저장한 기존의 node.next를 삽입한 node의 next로 교체"
   ]
  },
  {
   "cell_type": "code",
   "execution_count": 7,
   "metadata": {},
   "outputs": [
    {
     "name": "stdout",
     "output_type": "stream",
     "text": [
      "1\n",
      "2\n",
      "3\n",
      "3.5\n",
      "4\n",
      "5\n",
      "6\n",
      "7\n",
      "8\n",
      "9\n"
     ]
    }
   ],
   "source": [
    "node = head\n",
    "while node.next:\n",
    "    print(node.data)\n",
    "    node = node.next\n",
    "print(node.data)"
   ]
  },
  {
   "cell_type": "markdown",
   "metadata": {},
   "source": [
    "### 6. 파이썬 객체지향 프로그래밍으로 링크드 리스트 구현"
   ]
  },
  {
   "cell_type": "code",
   "execution_count": 1,
   "metadata": {},
   "outputs": [],
   "source": [
    "class Node:\n",
    "    def __init__(self, data, next=None):\n",
    "        self.data = data\n",
    "        self.next = next\n",
    "class Nodemgmt:\n",
    "    def __init__(self, data):\n",
    "        self.head = Node(data)\n",
    "        \n",
    "    def add(self, data):\n",
    "        if self.head =='':\n",
    "            self.head = Node(data)\n",
    "        else:\n",
    "            node = self.head\n",
    "            while node.next:            #node.next가 none이여야 탈출. node는 N-1\n",
    "                node = node.next\n",
    "            node.next = Node(data)\n",
    "    def desc(self):\n",
    "        node = self.head\n",
    "        while node:\n",
    "            print(node.data)\n",
    "            node = node.next\n"
   ]
  },
  {
   "cell_type": "code",
   "execution_count": 17,
   "metadata": {},
   "outputs": [
    {
     "name": "stdout",
     "output_type": "stream",
     "text": [
      "0\n",
      "1\n",
      "2\n",
      "3\n",
      "4\n",
      "5\n",
      "6\n",
      "7\n",
      "8\n",
      "9\n"
     ]
    }
   ],
   "source": [
    "linkedlist1 = NodeMgmt(0)\n",
    "for data in range (1,10):\n",
    "    linkedlist1.add(data)\n",
    "linkedlist1.desc()"
   ]
  },
  {
   "cell_type": "markdown",
   "metadata": {},
   "source": [
    "### 7. 링크드 리스트의 특정 노드 삭제기능"
   ]
  },
  {
   "cell_type": "code",
   "execution_count": 34,
   "metadata": {},
   "outputs": [],
   "source": [
    "# 1. Head 삭제\n",
    "# 2. Tail 삭제\n",
    "# 3. 중간 Node 삭제 \n",
    "# 중간 Node와 Tail을 삭제하기 위한 방법은 동일하다.\n",
    "\n",
    "class Node:\n",
    "    def __init__(self, data, next = None):\n",
    "        self.data = data\n",
    "        self.next = next\n",
    "\n",
    "class Nodemgmt:\n",
    "    def __init__(self,data):\n",
    "        self.head = Node(data)\n",
    "        \n",
    "    def add(self, data):\n",
    "        if self.head == '':\n",
    "            self.head = Node(data)\n",
    "        else :\n",
    "            node = self.head\n",
    "            while node.next:\n",
    "                node = node.next\n",
    "            node.next = Node(data)\n",
    "    def desc(self):\n",
    "        node = self.head\n",
    "        while node:\n",
    "            print(node.data)\n",
    "            node = node.next\n",
    "    def delete(self, data):\n",
    "        if self.head =='':\n",
    "            print(\"해당 값을 가진 Node는 없습니다\")\n",
    "            return\n",
    "        \n",
    "        if self.head.data == data:         # Head를 삭제하는 경우\n",
    "            temp = self.head               \n",
    "            self.head = self.head.next     # 기존 head의 next가 head가 되고,\n",
    "            del temp                       # 기존 head는 삭제\n",
    "        \n",
    "        else:                               # Tail 혹은 중간 Node를 삭제하는 경우\n",
    "            node = self.head\n",
    "            while node.next:\n",
    "                if node.next.data == data:      # 다음 next node의 값인 경우(중간)\n",
    "                    temp = node.next           \n",
    "                    node.next = node.next.next #중간 node-1의 next.next는 다다음을 가르킴\n",
    "                    del temp                   #Tail-1의 next.next는 None을 가르킴\n",
    "                    return\n",
    "                else:\n",
    "                    node = node.next\n",
    "                "
   ]
  },
  {
   "cell_type": "markdown",
   "metadata": {},
   "source": [
    "#### head 생성 및 삭제"
   ]
  },
  {
   "cell_type": "code",
   "execution_count": 35,
   "metadata": {},
   "outputs": [
    {
     "name": "stdout",
     "output_type": "stream",
     "text": [
      "0\n"
     ]
    }
   ],
   "source": [
    "linkedlist1 = Nodemgmt(0)\n",
    "linkedlist1.desc()\n",
    "#head 0이 존재하는 상태"
   ]
  },
  {
   "cell_type": "code",
   "execution_count": 36,
   "metadata": {},
   "outputs": [],
   "source": [
    "linkedlist1.delete(0)"
   ]
  },
  {
   "cell_type": "code",
   "execution_count": 37,
   "metadata": {},
   "outputs": [],
   "source": [
    "linkedlist1.desc()\n",
    "#head가 삭제됨"
   ]
  },
  {
   "cell_type": "markdown",
   "metadata": {},
   "source": [
    "#### 중간 Node 또는 Tail 삭제"
   ]
  },
  {
   "cell_type": "code",
   "execution_count": 39,
   "metadata": {},
   "outputs": [
    {
     "name": "stdout",
     "output_type": "stream",
     "text": [
      "0\n",
      "1\n",
      "2\n",
      "3\n",
      "4\n",
      "5\n",
      "6\n",
      "7\n",
      "8\n",
      "9\n"
     ]
    }
   ],
   "source": [
    "linkedlist1 = Nodemgmt(0)\n",
    "for data in range(1,10):\n",
    "    linkedlist1.add(data)\n",
    "linkedlist1.desc()"
   ]
  },
  {
   "cell_type": "code",
   "execution_count": 40,
   "metadata": {},
   "outputs": [
    {
     "name": "stdout",
     "output_type": "stream",
     "text": [
      "0\n",
      "1\n",
      "2\n",
      "3\n",
      "5\n",
      "6\n",
      "7\n",
      "8\n",
      "9\n"
     ]
    }
   ],
   "source": [
    "linkedlist1.delete(4)\n",
    "linkedlist1.desc()"
   ]
  },
  {
   "cell_type": "code",
   "execution_count": 42,
   "metadata": {},
   "outputs": [
    {
     "name": "stdout",
     "output_type": "stream",
     "text": [
      "0\n",
      "1\n",
      "2\n",
      "3\n",
      "5\n",
      "6\n",
      "7\n",
      "8\n"
     ]
    }
   ],
   "source": [
    "linkedlist1.delete(9)\n",
    "linkedlist1.desc()\n",
    "# 중간 Node및 Tail삭제 확인"
   ]
  },
  {
   "cell_type": "markdown",
   "metadata": {},
   "source": [
    "### 8. 더블 링크드 리스트 생성"
   ]
  },
  {
   "cell_type": "code",
   "execution_count": 20,
   "metadata": {},
   "outputs": [],
   "source": [
    "class Node:\n",
    "    def __init__(self, data, prev=None, next=None):\n",
    "        self.data = data\n",
    "        self.prev = prev\n",
    "        self.next = next\n",
    "class NodeMgmt:\n",
    "    def __init__(self, data):\n",
    "        self.head = Node(data)\n",
    "        self.tail = self.head\n",
    "    \n",
    "    def insert(self,data):\n",
    "        if self.head == None:\n",
    "            self.head = Node(data)\n",
    "            self.tail = self.head\n",
    "        else:\n",
    "            node = self.head\n",
    "            while node.next:\n",
    "                node = node.next\n",
    "            new = Node(data)\n",
    "            new.prev = node\n",
    "            node.next = new\n",
    "            self.tail = new\n",
    "    def desc(self):\n",
    "        node = self.head\n",
    "        while node:\n",
    "            print(node.data)\n",
    "            node = node.next"
   ]
  },
  {
   "cell_type": "code",
   "execution_count": 19,
   "metadata": {},
   "outputs": [
    {
     "name": "stdout",
     "output_type": "stream",
     "text": [
      "0\n",
      "1\n",
      "2\n",
      "3\n",
      "4\n",
      "5\n",
      "6\n",
      "7\n",
      "8\n",
      "9\n"
     ]
    }
   ],
   "source": [
    "double_linked_list = Nodemgmt(0)\n",
    "for data in range(1,10):\n",
    "    double_linked_list.insert(data)\n",
    "double_linked_list.desc()"
   ]
  },
  {
   "cell_type": "markdown",
   "metadata": {},
   "source": [
    "### 8.1 Head부터 탐색, Tail부터 탐색, 특정 Node앞에 삽입하기 추가"
   ]
  },
  {
   "cell_type": "code",
   "execution_count": 34,
   "metadata": {},
   "outputs": [],
   "source": [
    "class Node:\n",
    "    def __init__(self, data, prev=None, next=None):\n",
    "        self.data = data\n",
    "        self.next = next\n",
    "        self.prev = prev\n",
    "class NodeMgmt:\n",
    "    def __init__(self, data):\n",
    "        self.head = Node(data)\n",
    "        self.tail = self.head\n",
    "    \n",
    "    def insert(self, data):\n",
    "        if self.head == None:\n",
    "            self.head = Node(data)\n",
    "            self.tail = self.head\n",
    "        else:\n",
    "            node = self.head\n",
    "            while node.next:\n",
    "                node = node.next\n",
    "            new = Node(data)\n",
    "            node.next = new\n",
    "            new.prev = node\n",
    "            self.tail = new\n",
    "    \n",
    "    def desc(self):\n",
    "        node = self.head\n",
    "        while node:\n",
    "            print(node.data)\n",
    "            node = node.next\n",
    "    \n",
    "    def search_from_head(self,data):\n",
    "        if self.head == None:\n",
    "            return False\n",
    "        \n",
    "        node = self.head\n",
    "        while node:\n",
    "            if node.data == data:\n",
    "                return node\n",
    "            else:\n",
    "                node = node.next\n",
    "        return False\n",
    "    \n",
    "    def search_from_tail(self, data):\n",
    "        if self.head == None:\n",
    "            return False\n",
    "        \n",
    "        node = self.tail\n",
    "        while node:\n",
    "            if node.data == data:\n",
    "                return node\n",
    "            else :\n",
    "                node = node.prev\n",
    "        return False\n",
    "    \n",
    "    def insert_before(self, data, before_data):\n",
    "        node = self.tail\n",
    "        while node.data != before_data: #node_data가 입력한 before_data와 일치확인\n",
    "            node = node.prev\n",
    "            if node == None:\n",
    "                return False      #before_data값을 가진 node앞에 생성하기 위해\n",
    "        new = Node(data)           \n",
    "        before_new = node.prev     # 탐색한 node의 앞에 before_new 생성\n",
    "        before_new.next = new      # 생성한 before_new의 next는 new\n",
    "        new.prev = before_new      # new의 prev는 before_new가 됨\n",
    "        new.next = node            # new의 next는 node가 됨 (앞에 생성하므로)\n",
    "        node.prev = new            # 탐색한 node의 prev는 new로 설정\n",
    "        return True"
   ]
  },
  {
   "cell_type": "code",
   "execution_count": 35,
   "metadata": {},
   "outputs": [
    {
     "name": "stdout",
     "output_type": "stream",
     "text": [
      "0\n",
      "1\n",
      "2\n",
      "3\n",
      "4\n",
      "5\n",
      "6\n",
      "7\n",
      "8\n",
      "9\n"
     ]
    }
   ],
   "source": [
    "double_linked_list = NodeMgmt(0)\n",
    "for data in range (1,10):\n",
    "    double_linked_list.insert(data)\n",
    "double_linked_list.desc()"
   ]
  },
  {
   "cell_type": "code",
   "execution_count": 37,
   "metadata": {},
   "outputs": [
    {
     "name": "stdout",
     "output_type": "stream",
     "text": [
      "값 중간 삽입\n",
      "0\n",
      "1\n",
      "2\n",
      "3\n",
      "3.5\n",
      "4\n",
      "5\n",
      "6\n",
      "7\n",
      "8\n",
      "9\n",
      "----------------\n",
      "head 부터 탐색\n",
      "3\n",
      "----------------\n",
      "tail 부터 탐색\n",
      "5\n"
     ]
    }
   ],
   "source": [
    "# 3과 4 사이에 3.5를 넣을것\n",
    "print(\"값 중간 삽입\")\n",
    "double_linked_list.insert_before(3.5,4)\n",
    "double_linked_list.desc()\n",
    "print(\"----------------\")\n",
    "#head 탐색\n",
    "node_3 = double_linked_list.search_from_head(3)\n",
    "print(\"head 부터 탐색\")\n",
    "print(node_3.data)\n",
    "print(\"----------------\")\n",
    "#tail 탐색\n",
    "node_5 = double_linked_list.search_from_tail(5)\n",
    "print(\"tail 부터 탐색\")\n",
    "print(node_5.data)"
   ]
  },
  {
   "cell_type": "markdown",
   "metadata": {},
   "source": [
    "### 8.2 특정 데이터 뒤에 노드 삽입하기"
   ]
  },
  {
   "cell_type": "code",
   "execution_count": 39,
   "metadata": {},
   "outputs": [],
   "source": [
    "class Node:\n",
    "    def __init__(self, data, prev=None, next=None):\n",
    "        self.data = data\n",
    "        self.prev = prev\n",
    "        self.next = next\n",
    "\n",
    "class NodeMgmt:\n",
    "    def __init__(self,data):\n",
    "        self.head = Node(data)\n",
    "        self.tail = self.head\n",
    "    \n",
    "    def insert(self, data):\n",
    "        if self.head == None:\n",
    "            self.head = Node(data)\n",
    "            self.tail = self.head\n",
    "        else:\n",
    "            node = self.head\n",
    "            while node.next:\n",
    "                node = node.next\n",
    "            new = Node(data)\n",
    "            node.next = new\n",
    "            new.prev= node\n",
    "            self.tail = new\n",
    "    \n",
    "    def insert_after(self, data, after_data):\n",
    "        if self.head == None:\n",
    "            return False\n",
    "        node = self.head\n",
    "        while node.data != after_data:\n",
    "            node = node.next\n",
    "            if node == None:\n",
    "                return False\n",
    "        new = Node(data)\n",
    "        after_new = node.next\n",
    "        node.next = new\n",
    "        new.next = after_new\n",
    "        after_new.prev = new\n",
    "        new.prev = node\n",
    "        return True\n",
    "    \n",
    "    def desc(self):\n",
    "        node = self.head\n",
    "        while node:\n",
    "            print (node.data)\n",
    "            node = node.next"
   ]
  },
  {
   "cell_type": "code",
   "execution_count": 40,
   "metadata": {},
   "outputs": [
    {
     "name": "stdout",
     "output_type": "stream",
     "text": [
      "0\n",
      "1\n",
      "2\n",
      "3\n",
      "4\n",
      "5\n",
      "6\n",
      "7\n",
      "8\n",
      "9\n"
     ]
    }
   ],
   "source": [
    "double_linked_list = NodeMgmt(0)\n",
    "for data in range (1,10):\n",
    "    double_linked_list.insert(data)\n",
    "double_linked_list.desc()"
   ]
  },
  {
   "cell_type": "code",
   "execution_count": 41,
   "metadata": {},
   "outputs": [
    {
     "name": "stdout",
     "output_type": "stream",
     "text": [
      "0\n",
      "1\n",
      "2\n",
      "3\n",
      "4\n",
      "4.5\n",
      "5\n",
      "6\n",
      "7\n",
      "8\n",
      "9\n"
     ]
    }
   ],
   "source": [
    "double_linked_list.insert_after(4.5,4)\n",
    "double_linked_list.desc()"
   ]
  },
  {
   "cell_type": "code",
   "execution_count": 20,
   "metadata": {},
   "outputs": [],
   "source": [
    "class Node:\n",
    "    def __init__(self,data, prev = None, next=None):\n",
    "        self.data = data\n",
    "        self.prev = prev\n",
    "        self.next = next\n",
    "        \n",
    "class NodeMgmt:\n",
    "    def __init__(self,data):\n",
    "        self.head = Node(data)\n",
    "        self.tail = self.head\n",
    "        \n",
    "    def insert(self,data):\n",
    "        if self.head == None:\n",
    "            self.head = Node(data)\n",
    "            self.tail = self.head\n",
    "        else:\n",
    "            node = self.head\n",
    "            while node.next:\n",
    "                node = node.next\n",
    "            new = Node(data)\n",
    "            node.next = new\n",
    "            new.prev = node\n",
    "            self.tail = new\n",
    "    \n",
    "    def insert_after(self,position,new_data):\n",
    "        if self.head == None:\n",
    "            return False\n",
    "        else:\n",
    "            node = self.head\n",
    "            while node.data != position:\n",
    "                node = node.next\n",
    "                if node == None:\n",
    "                    return False\n",
    "                \n",
    "            new = Node(new_data)\n",
    "            after_new = node.next\n",
    "            node.next = new\n",
    "            new.next = after_new\n",
    "            after_new.prev = new\n",
    "            new.prev = node\n",
    "            if node == None:\n",
    "                self.tail = new\n",
    "            else:\n",
    "                node = node.next\n",
    "    def search_from_tail(self, data):\n",
    "        if self.head == None:\n",
    "            return False\n",
    "    \n",
    "        node = self.tail\n",
    "        while node:\n",
    "            if node.data == data:\n",
    "                return node\n",
    "            else:\n",
    "                node = node.prev\n",
    "        return False\n",
    "    \n",
    "    def desc(self):\n",
    "        node = self.head\n",
    "        while node:\n",
    "            print (node.data)\n",
    "            node = node.next                    "
   ]
  },
  {
   "cell_type": "code",
   "execution_count": 21,
   "metadata": {},
   "outputs": [
    {
     "name": "stdout",
     "output_type": "stream",
     "text": [
      "0\n",
      "1\n",
      "2\n",
      "3\n",
      "4\n",
      "5\n",
      "6\n",
      "7\n",
      "8\n",
      "9\n"
     ]
    }
   ],
   "source": [
    "double_linked_list = NodeMgmt(0)\n",
    "for data in range(1, 10):\n",
    "    double_linked_list.insert(data)\n",
    "double_linked_list.desc()"
   ]
  },
  {
   "cell_type": "code",
   "execution_count": 22,
   "metadata": {},
   "outputs": [
    {
     "name": "stdout",
     "output_type": "stream",
     "text": [
      "0\n",
      "1\n",
      "2\n",
      "3\n",
      "4\n",
      "4.5\n",
      "5\n",
      "6\n",
      "7\n",
      "8\n",
      "9\n"
     ]
    }
   ],
   "source": [
    "double_linked_list.insert_after(4,4.5)\n",
    "double_linked_list.desc()"
   ]
  },
  {
   "cell_type": "code",
   "execution_count": 25,
   "metadata": {},
   "outputs": [
    {
     "name": "stdout",
     "output_type": "stream",
     "text": [
      "4.5\n"
     ]
    }
   ],
   "source": [
    "T_node = double_linked_list.search_from_tail(4.5)\n",
    "print(T_node.data)"
   ]
  },
  {
   "cell_type": "code",
   "execution_count": null,
   "metadata": {},
   "outputs": [],
   "source": []
  }
 ],
 "metadata": {
  "kernelspec": {
   "display_name": "Python 3",
   "language": "python",
   "name": "python3"
  },
  "language_info": {
   "codemirror_mode": {
    "name": "ipython",
    "version": 3
   },
   "file_extension": ".py",
   "mimetype": "text/x-python",
   "name": "python",
   "nbconvert_exporter": "python",
   "pygments_lexer": "ipython3",
   "version": "3.7.3"
  }
 },
 "nbformat": 4,
 "nbformat_minor": 2
}
