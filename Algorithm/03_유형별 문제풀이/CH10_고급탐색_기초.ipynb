{
 "cells": [
  {
   "cell_type": "markdown",
   "metadata": {},
   "source": [
    "## 1. 트리 순회 - B1991\n",
    "- 이진 트리(BT)를 이용한 문제 (BST아니다!)\n",
    "- 전위 순회, 중위 순회, 후위 순회 출력 하면 됨\n",
    "- 전위 순회는 root에서 시작해 현재 노드 출력후, left를 우선적 재귀, 다음 right 재귀 호출\n",
    "- 중위 순회는 left우선적 재귀, 다음 현재, 다음 right재귀 호출\n",
    "- 후위 순회는 root에서 시작해 left우선적 재귀, right우선적 재귀 호출후 마지막으로 현재 노드 출력"
   ]
  },
  {
   "cell_type": "markdown",
   "metadata": {},
   "source": [
    "### 기존의 이진 탐색 트리"
   ]
  },
  {
   "cell_type": "markdown",
   "metadata": {},
   "source": [
    "> 특징\n",
    "- Value를 가져서, 작은값은 왼쪽, 큰값은 오른쪽\n",
    "- 사실 힙과 유사한 점을 가지기도 한다"
   ]
  },
  {
   "cell_type": "code",
   "execution_count": 1,
   "metadata": {},
   "outputs": [],
   "source": [
    "class Node:\n",
    "    def __init__(self,data):\n",
    "        self.value = data\n",
    "        self.left = None\n",
    "        self.right = None\n",
    "class NodeMgmt:\n",
    "    def __init(self,value):\n",
    "        self.head = Node(value)\n",
    "    \n",
    "    def insert(self,value):\n",
    "        self.current_node = self.head\n",
    "        while True:\n",
    "            if value < self.current_node.value:\n",
    "                if self.current_node.left != None:\n",
    "                    self.current_node  = self.current_node.left\n",
    "                else:\n",
    "                    self.current_node.left = Node(value)\n",
    "                    break\n",
    "            else:\n",
    "                if self.current_node.right != None:\n",
    "                    self.current_node  = self.current_node.right\n",
    "                else:\n",
    "                    self.current_node.right = Node(value)\n",
    "                    break\n"
   ]
  },
  {
   "cell_type": "markdown",
   "metadata": {},
   "source": [
    "### 해답 - 노드 클래스와 호출함수를 차례로 제작"
   ]
  },
  {
   "cell_type": "markdown",
   "metadata": {},
   "source": [
    "- 전위 순회\n",
    "> 1.현재(root) -> 2.left재귀 -> 3.right재귀\n",
    "- 중위 순회\n",
    "> 1.left재귀 -> 2.현재(root) -> 3.right재귀\n",
    "- 후위 순회\n",
    "> 1.left재귀 -> 2.right재귀 -> 3.현재(root)"
   ]
  },
  {
   "cell_type": "code",
   "execution_count": null,
   "metadata": {},
   "outputs": [],
   "source": [
    "class Node:\n",
    "    def __init__(self,data,left,right):\n",
    "        self.data = data\n",
    "        self.left = left\n",
    "        self.right = right\n",
    "\n",
    "def pre_order(node):\n",
    "    print(node.data, end='')\n",
    "    if node.left != None:\n",
    "        ## 그냥 node.left 하면 노드가 아닌 문자열 을 리턴함\n",
    "        pre_order(tree[node.left])\n",
    "    if node.right!= None:\n",
    "        pre_order(tree[node.right])\n",
    "\n",
    "def in_order(node):\n",
    "    if node.left != None:\n",
    "        in_order(tree[node.left])\n",
    "    # 어차피 left먼저 하고 밑부터 출력 -> 현재 출력 -> right 마지막\n",
    "    print(node.data, end='')\n",
    "    if node.right != None:\n",
    "        in_order(tree[node.right])\n",
    "\n",
    "def post_order(node):\n",
    "    if node.left != None:\n",
    "        post_order(tree[node.left])\n",
    "    if node.right != None:\n",
    "        post_order(tree[node.right])\n",
    "    print(node.data,end='')\n",
    "\n",
    "\n",
    "N = int(input())\n",
    "tree = dict()\n",
    "for _ in range(N):\n",
    "    node,Left,Right = input().split()\n",
    "    if Left == '.':\n",
    "        Left = None\n",
    "    if Right == '.':\n",
    "        Right = None\n",
    "    tree[node] = Node(node,Left,Right)\n",
    "pre_order(tree['A'])\n",
    "print()\n",
    "in_order(tree['A'])\n",
    "print()"
   ]
  },
  {
   "cell_type": "markdown",
   "metadata": {},
   "source": [
    "### 주의 할 점 [느낀점]\n",
    "> left에 값을 넣었지만 실제로는 문자열이므로 node.left 가 Node역할을 하기는 어려웠다\n",
    "\n",
    "> 탐색결과가 left말단 부터 나온다고 left에서 시작하는 탐색이 아니다. 모든 탐색을 Root에서 시작한다\n"
   ]
  },
  {
   "cell_type": "code",
   "execution_count": 17,
   "metadata": {},
   "outputs": [
    {
     "data": {
      "text/plain": [
       "'B'"
      ]
     },
     "execution_count": 17,
     "metadata": {},
     "output_type": "execute_result"
    }
   ],
   "source": [
    "class Node:\n",
    "    def __init__(self,data,left,right):\n",
    "        self.data = data\n",
    "        self.left = left\n",
    "        self.right = right\n",
    "A = Node('A','B','C')\n",
    "A.left"
   ]
  },
  {
   "cell_type": "code",
   "execution_count": null,
   "metadata": {},
   "outputs": [],
   "source": [
    "test = {\n",
    "    'A': Node('A','B','C'),\n",
    "    'B': Node('B','D',None),\n",
    "    'C': Node('C','E','F'),\n",
    "    'D': Node('D',None,None),\n",
    "    'E': Node('E',None,None),\n",
    "    'F': Node('F',None,'G'),\n",
    "    'G': Node('G',None,None)\n",
    "}\n",
    "in_order(test['D'])\n",
    "print()\n",
    "post_order(test['D'])"
   ]
  },
  {
   "cell_type": "markdown",
   "metadata": {},
   "source": [
    "## 2. 트리 순회 - B2250\n",
    "- 역시 이진트리를 활용한 문제\n",
    "- [내 생각] 일단 트리를 만들고, right child 개수만큼 더해주는게 width로 하려 했는데..안될거 같다\n",
    "- 존나 어렵네 안해"
   ]
  },
  {
   "cell_type": "code",
   "execution_count": null,
   "metadata": {},
   "outputs": [],
   "source": []
  },
  {
   "cell_type": "code",
   "execution_count": null,
   "metadata": {},
   "outputs": [],
   "source": []
  },
  {
   "cell_type": "code",
   "execution_count": null,
   "metadata": {},
   "outputs": [],
   "source": []
  },
  {
   "cell_type": "code",
   "execution_count": null,
   "metadata": {},
   "outputs": [],
   "source": []
  },
  {
   "cell_type": "code",
   "execution_count": null,
   "metadata": {},
   "outputs": [],
   "source": []
  },
  {
   "cell_type": "code",
   "execution_count": null,
   "metadata": {},
   "outputs": [],
   "source": []
  },
  {
   "cell_type": "code",
   "execution_count": null,
   "metadata": {},
   "outputs": [],
   "source": []
  }
 ],
 "metadata": {
  "kernelspec": {
   "display_name": "Python 3",
   "language": "python",
   "name": "python3"
  },
  "language_info": {
   "codemirror_mode": {
    "name": "ipython",
    "version": 3
   },
   "file_extension": ".py",
   "mimetype": "text/x-python",
   "name": "python",
   "nbconvert_exporter": "python",
   "pygments_lexer": "ipython3",
   "version": "3.7.3"
  }
 },
 "nbformat": 4,
 "nbformat_minor": 2
}
