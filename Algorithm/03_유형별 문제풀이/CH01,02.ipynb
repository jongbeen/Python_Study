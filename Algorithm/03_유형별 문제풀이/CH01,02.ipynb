{
 "cells": [
  {
   "cell_type": "code",
   "execution_count": 8,
   "metadata": {},
   "outputs": [
    {
     "name": "stdout",
     "output_type": "stream",
     "text": [
      "Writing Ch01_BasicDS_01_B2920.py\n"
     ]
    }
   ],
   "source": [
    "%%writefile Ch01_BasicDS_01_B2920.py\n",
    "\n",
    "num = input().split()\n",
    "\n",
    "ascending = True\n",
    "descending = True\n",
    "\n",
    "for i in range(1,len(num)):\n",
    "    if num[i-1] > num[i]:\n",
    "        ascending = False\n",
    "    else:\n",
    "        descending = False\n",
    "\n",
    "if ascending == True:\n",
    "    print('ascending')\n",
    "elif descending == True:\n",
    "    print('descending')\n",
    "else:\n",
    "    print(\"?\")\n",
    "\n",
    "    "
   ]
  },
  {
   "cell_type": "code",
   "execution_count": 13,
   "metadata": {},
   "outputs": [
    {
     "name": "stdout",
     "output_type": "stream",
     "text": [
      "Writing Ans_B2920.py\n"
     ]
    }
   ],
   "source": [
    "%%writefile Ans_B2920.py\n",
    "a = list(map(int, input().split(' ')))\n",
    "\n",
    "ascending = True\n",
    "descending = True\n",
    "\n",
    "for i in range(1,8):\n",
    "    if a[i-1] > a[i]:\n",
    "        ascending = False\n",
    "    else:\n",
    "        descending = False\n",
    "\n",
    "if ascending :\n",
    "    print('ascending')\n",
    "elif descending :\n",
    "    print('descending')\n",
    "else:\n",
    "    print(\"?\")"
   ]
  },
  {
   "cell_type": "code",
   "execution_count": 36,
   "metadata": {},
   "outputs": [
    {
     "name": "stdout",
     "output_type": "stream",
     "text": [
      "Writing Ch01_BasicDS_02_B2798.py\n"
     ]
    }
   ],
   "source": [
    "%%writefile Ch01_BasicDS_02_B2798.py\n",
    "\n",
    "N, M = list(map(int, input().split()))\n",
    "card = list(map(int,input().split()))\n",
    "result = 0\n",
    "for i in range(0,len(card)):\n",
    "    for j in range(i+1,len(card)):\n",
    "        for k in range(j+1,len(card)):\n",
    "            sum_value = card[i]+card[j]+card[k]\n",
    "            if sum_value<=M:\n",
    "                # 둘중 더 큰값 리턴\n",
    "                result = max(result,sum_value)\n",
    "print(result)"
   ]
  },
  {
   "cell_type": "code",
   "execution_count": 2,
   "metadata": {},
   "outputs": [
    {
     "name": "stdout",
     "output_type": "stream",
     "text": [
      "Writing Ch02_BasicDS_02_B1874.py\n"
     ]
    }
   ],
   "source": [
    "%%writefile Ch02_BasicDS_02_B1874.py\n",
    "n = int(input())\n",
    "\n",
    "mystack = []\n",
    "result = []\n",
    "count = 1\n",
    "\n",
    "for i in range(1, n+1):\n",
    "    data = int(input())\n",
    "    while count <= data:\n",
    "        mystack.append(count)\n",
    "        count +=1\n",
    "        result.append('+')\n",
    "    if mystack[-1] == data:\n",
    "        mystack.pop()\n",
    "        result.append('-')\n",
    "    else:\n",
    "        print('no')\n",
    "        exit(0)\n",
    "\n",
    "print(\"\\n\".join(result))"
   ]
  },
  {
   "cell_type": "code",
   "execution_count": 19,
   "metadata": {},
   "outputs": [
    {
     "data": {
      "text/plain": [
       "int"
      ]
     },
     "execution_count": 19,
     "metadata": {},
     "output_type": "execute_result"
    }
   ],
   "source": [
    "a = \"1 2345\"\n",
    "a,b = list(map(int,a.split()))\n",
    "print(a)\n",
    "print(b)\n",
    "\n",
    "\n",
    "# 그냥 둘다 int 형 된다 \n",
    "# list를 씌웟다고 list형으로 되진 않는다.\n",
    "# 중요한것 map(int,~~) 가 중요한거 같다\n",
    "# 근데 인자 한개면 list리턴 맞다"
   ]
  },
  {
   "cell_type": "code",
   "execution_count": 28,
   "metadata": {},
   "outputs": [
    {
     "name": "stdout",
     "output_type": "stream",
     "text": [
      "0\n",
      "1\n",
      "2\n",
      "3\n"
     ]
    }
   ],
   "source": [
    "for i in range(4):\n",
    "    print(i)"
   ]
  },
  {
   "cell_type": "code",
   "execution_count": 29,
   "metadata": {},
   "outputs": [
    {
     "ename": "TypeError",
     "evalue": "'int' object is not iterable",
     "output_type": "error",
     "traceback": [
      "\u001b[1;31m---------------------------------------------------------------------------\u001b[0m",
      "\u001b[1;31mTypeError\u001b[0m                                 Traceback (most recent call last)",
      "\u001b[1;32m<ipython-input-29-5f8f20940d45>\u001b[0m in \u001b[0;36m<module>\u001b[1;34m\u001b[0m\n\u001b[1;32m----> 1\u001b[1;33m \u001b[1;32mfor\u001b[0m \u001b[0mi\u001b[0m \u001b[1;32min\u001b[0m \u001b[1;36m4\u001b[0m\u001b[1;33m:\u001b[0m\u001b[1;33m\u001b[0m\u001b[1;33m\u001b[0m\u001b[0m\n\u001b[0m\u001b[0;32m      2\u001b[0m     \u001b[0mprint\u001b[0m\u001b[1;33m(\u001b[0m\u001b[0mi\u001b[0m\u001b[1;33m)\u001b[0m\u001b[1;33m\u001b[0m\u001b[1;33m\u001b[0m\u001b[0m\n",
      "\u001b[1;31mTypeError\u001b[0m: 'int' object is not iterable"
     ]
    }
   ],
   "source": [
    "for i in 4:\n",
    "    print(i)"
   ]
  },
  {
   "cell_type": "code",
   "execution_count": 30,
   "metadata": {},
   "outputs": [
    {
     "ename": "SyntaxError",
     "evalue": "invalid syntax (<ipython-input-30-deb476341dbb>, line 4)",
     "output_type": "error",
     "traceback": [
      "\u001b[1;36m  File \u001b[1;32m\"<ipython-input-30-deb476341dbb>\"\u001b[1;36m, line \u001b[1;32m4\u001b[0m\n\u001b[1;33m    for j=i+1 in test:\u001b[0m\n\u001b[1;37m         ^\u001b[0m\n\u001b[1;31mSyntaxError\u001b[0m\u001b[1;31m:\u001b[0m invalid syntax\n"
     ]
    }
   ],
   "source": [
    "test = [1,2,3,4,5]\n",
    "\n",
    "for i in test:\n",
    "    for j=i+1 in test:\n",
    "        print(j)"
   ]
  },
  {
   "cell_type": "code",
   "execution_count": 37,
   "metadata": {},
   "outputs": [
    {
     "ename": "SyntaxError",
     "evalue": "can't assign to operator (<ipython-input-37-fddbeb227066>, line 4)",
     "output_type": "error",
     "traceback": [
      "\u001b[1;36m  File \u001b[1;32m\"<ipython-input-37-fddbeb227066>\"\u001b[1;36m, line \u001b[1;32m4\u001b[0m\n\u001b[1;33m    for i+1 in test:\u001b[0m\n\u001b[1;37m       ^\u001b[0m\n\u001b[1;31mSyntaxError\u001b[0m\u001b[1;31m:\u001b[0m can't assign to operator\n"
     ]
    }
   ],
   "source": [
    "test = [1,2,3,4,5]\n",
    "\n",
    "for i in test:\n",
    "    for i+1 in test:\n",
    "        print(i)"
   ]
  },
  {
   "cell_type": "code",
   "execution_count": null,
   "metadata": {},
   "outputs": [],
   "source": [
    "## 정답\n",
    "n = 8\n",
    "\n",
    "mystack = []\n",
    "result = []\n",
    "count = 1\n",
    "for i in range(1, n+1):\n",
    "    data = int(input())\n",
    "    while count <= data:\n",
    "        stack.append(count)\n",
    "        count +=1\n",
    "        result.append('+')\n",
    "    if stack[-1] == data:\n",
    "        stack.pop()\n",
    "        result.append('-')\n",
    "    else:\n",
    "        print('no')\n",
    "        exit(0)\n",
    "\n",
    "print(\"\\n\".join(result))\n",
    "        \n",
    "       "
   ]
  },
  {
   "cell_type": "code",
   "execution_count": 47,
   "metadata": {},
   "outputs": [
    {
     "name": "stdout",
     "output_type": "stream",
     "text": [
      "2\n",
      "1\n",
      "0\n"
     ]
    }
   ],
   "source": [
    "test = int(input())\n",
    "\n",
    "while test > 0:\n",
    "    test -= 1\n",
    "    keylog = list(input())\n",
    "    cursor = 0\n",
    "    for i in keylog:\n",
    "        if cursor ==0:\n",
    "            if i=='<' || i=='>':\n",
    "                cursor += 1\n",
    "        else:\n",
    "            \n",
    "        \n",
    "    "
   ]
  },
  {
   "cell_type": "code",
   "execution_count": 48,
   "metadata": {},
   "outputs": [
    {
     "name": "stdout",
     "output_type": "stream",
     "text": [
      "i\n"
     ]
    }
   ],
   "source": [
    "star = ['a','b']\n",
    "if star[0] == 'a':\n",
    "    print('i')"
   ]
  },
  {
   "cell_type": "code",
   "execution_count": null,
   "metadata": {},
   "outputs": [],
   "source": []
  }
 ],
 "metadata": {
  "kernelspec": {
   "display_name": "Python 3",
   "language": "python",
   "name": "python3"
  },
  "language_info": {
   "codemirror_mode": {
    "name": "ipython",
    "version": 3
   },
   "file_extension": ".py",
   "mimetype": "text/x-python",
   "name": "python",
   "nbconvert_exporter": "python",
   "pygments_lexer": "ipython3",
   "version": "3.7.3"
  }
 },
 "nbformat": 4,
 "nbformat_minor": 2
}
