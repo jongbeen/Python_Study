{
 "cells": [
  {
   "cell_type": "code",
   "execution_count": 7,
   "metadata": {},
   "outputs": [
    {
     "data": {
      "text/plain": [
       "[('python', 28), ('java', 20), ('javascript', 8), ('c', 7), ('r', 4)]"
      ]
     },
     "execution_count": 7,
     "metadata": {},
     "output_type": "execute_result"
    }
   ],
   "source": [
    "Pro = {\n",
    "    \"java\": 20, \n",
    "    \"javascript\": 8, \n",
    "    \"c\": 7,  \n",
    "    \"r\": 4, \n",
    "    \"python\": 28 }\n",
    "\n",
    "V = sorted(Pro.items(), key=lambda item:item[1],reverse=True)\n",
    "V"
   ]
  },
  {
   "cell_type": "code",
   "execution_count": 10,
   "metadata": {},
   "outputs": [
    {
     "name": "stdout",
     "output_type": "stream",
     "text": [
      "21 juk\n",
      "22 jak\n",
      "21 kal\n",
      "24 air\n"
     ]
    },
    {
     "data": {
      "text/plain": [
       "[(21, 'juk'), (21, 'kal'), (22, 'jak'), (24, 'air')]"
      ]
     },
     "execution_count": 10,
     "metadata": {},
     "output_type": "execute_result"
    }
   ],
   "source": [
    "array=[]\n",
    "for _ in range(4):\n",
    "    input_data = input().split()\n",
    "    array.append( (int(input_data[0]), input_data[1]))\n",
    "array = sorted(array,key=lambda x:x[0])\n",
    "array"
   ]
  },
  {
   "cell_type": "code",
   "execution_count": 2,
   "metadata": {},
   "outputs": [
    {
     "name": "stdout",
     "output_type": "stream",
     "text": [
      "5 3\n",
      "1\n",
      "2\n",
      "4\n",
      "8\n",
      "9\n",
      "3\n"
     ]
    }
   ],
   "source": [
    "N,C = map(int,input().split())\n",
    "\n",
    "array = []\n",
    "\n",
    "for _ in range(N):\n",
    "    array.append(int(input()))\n",
    "array = sorted(array)\n",
    "\n",
    "start = array[1] - array[0]\n",
    "end = array[-1] - array[0]\n",
    "result = 0\n",
    "while (start<=end):\n",
    "    mid = (start+end)//2\n",
    "    spot = array[0]\n",
    "    count=1\n",
    "    for i in range(1,len(array)):\n",
    "        if array[i] >= mid+spot:\n",
    "            spot = array[i]\n",
    "            count+=1\n",
    "    if count >=C:\n",
    "        start = mid+1\n",
    "        result = mid\n",
    "    else:\n",
    "        end = mid-1\n",
    "print(result)"
   ]
  },
  {
   "cell_type": "code",
   "execution_count": 3,
   "metadata": {},
   "outputs": [
    {
     "name": "stdout",
     "output_type": "stream",
     "text": [
      "3 3\n",
      "1 2 2\n",
      "3 1 3\n",
      "2 3 2\n",
      "1 3\n",
      "2\n"
     ]
    }
   ],
   "source": [
    "from collections import deque\n",
    "\n",
    "N,M = map(int,input().split())\n",
    "adj = [ [] for _ in range(N+1)]\n",
    "\n",
    "def BFS(cost) : \n",
    "    # N, start_node, end_node 그냥 인자 전달 X하고 사용\n",
    "    # 함수가 중간에 있어서 그런가..?\n",
    "    queue = deque([start_node])\n",
    "    visited = [False] * (N+1)\n",
    "    visited[start_node] = True\n",
    "    while queue:\n",
    "        node = queue.popleft()\n",
    "        for y,weight in adj[node]:\n",
    "            if not visited[node] and weight >=cost:\n",
    "                visited[y] = True\n",
    "                queue.append(y)\n",
    "    return visited[end_node]\n",
    "\n",
    "start = 1e9\n",
    "end =1\n",
    "\n",
    "for _ in range(M):\n",
    "    x, y, weight = map(int,input().split())\n",
    "    adj[x].append( (y,weight) )\n",
    "    adj[y].append( (x,weight) )\n",
    "    start = min(start,weight)   # start는 weight중 가장 작은 값\n",
    "    end = max(end,weight)      # end는 넣은 weight중 가장 큰 값\n",
    "\n",
    "start_node , end_node = map(int,input().split())\n",
    "result = start\n",
    "\n",
    "# 가장 큰 가중치+ 가장 작은 가중치 / 2 부터 탐색 시작\n",
    "# BFS는 start_node 부터 end_node까지 mid가중치 가 갈수 있나 판단\n",
    "\n",
    "while(start <=end):\n",
    "    mid = (start+end)//2\n",
    "    if BFS(mid):\n",
    "        result = mid\n",
    "        start = mid+1\n",
    "    else : \n",
    "        end = mid - 1\n",
    "\n",
    "print(result)"
   ]
  },
  {
   "cell_type": "code",
   "execution_count": null,
   "metadata": {},
   "outputs": [],
   "source": []
  },
  {
   "cell_type": "code",
   "execution_count": null,
   "metadata": {},
   "outputs": [],
   "source": []
  },
  {
   "cell_type": "code",
   "execution_count": 4,
   "metadata": {},
   "outputs": [
    {
     "name": "stdout",
     "output_type": "stream",
     "text": [
      "1\n",
      "2\n",
      "3\n"
     ]
    }
   ],
   "source": []
  },
  {
   "cell_type": "code",
   "execution_count": null,
   "metadata": {},
   "outputs": [],
   "source": []
  }
 ],
 "metadata": {
  "kernelspec": {
   "display_name": "Python 3",
   "language": "python",
   "name": "python3"
  },
  "language_info": {
   "codemirror_mode": {
    "name": "ipython",
    "version": 3
   },
   "file_extension": ".py",
   "mimetype": "text/x-python",
   "name": "python",
   "nbconvert_exporter": "python",
   "pygments_lexer": "ipython3",
   "version": "3.7.3"
  }
 },
 "nbformat": 4,
 "nbformat_minor": 2
}
