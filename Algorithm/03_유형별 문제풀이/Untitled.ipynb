{
 "cells": [
  {
   "cell_type": "code",
   "execution_count": 7,
   "metadata": {},
   "outputs": [
    {
     "data": {
      "text/plain": [
       "[('python', 28), ('java', 20), ('javascript', 8), ('c', 7), ('r', 4)]"
      ]
     },
     "execution_count": 7,
     "metadata": {},
     "output_type": "execute_result"
    }
   ],
   "source": [
    "Pro = {\n",
    "    \"java\": 20, \n",
    "    \"javascript\": 8, \n",
    "    \"c\": 7,  \n",
    "    \"r\": 4, \n",
    "    \"python\": 28 }\n",
    "\n",
    "V = sorted(Pro.items(), key=lambda item:item[1],reverse=True)\n",
    "V"
   ]
  },
  {
   "cell_type": "code",
   "execution_count": 10,
   "metadata": {},
   "outputs": [
    {
     "name": "stdout",
     "output_type": "stream",
     "text": [
      "21 juk\n",
      "22 jak\n",
      "21 kal\n",
      "24 air\n"
     ]
    },
    {
     "data": {
      "text/plain": [
       "[(21, 'juk'), (21, 'kal'), (22, 'jak'), (24, 'air')]"
      ]
     },
     "execution_count": 10,
     "metadata": {},
     "output_type": "execute_result"
    }
   ],
   "source": [
    "array=[]\n",
    "for _ in range(4):\n",
    "    input_data = input().split()\n",
    "    array.append( (int(input_data[0]), input_data[1]))\n",
    "array = sorted(array,key=lambda x:x[0])\n",
    "array"
   ]
  },
  {
   "cell_type": "code",
   "execution_count": 2,
   "metadata": {},
   "outputs": [
    {
     "name": "stdout",
     "output_type": "stream",
     "text": [
      "5 3\n",
      "1\n",
      "2\n",
      "4\n",
      "8\n",
      "9\n",
      "3\n"
     ]
    }
   ],
   "source": [
    "N,C = map(int,input().split())\n",
    "\n",
    "array = []\n",
    "\n",
    "for _ in range(N):\n",
    "    array.append(int(input()))\n",
    "array = sorted(array)\n",
    "\n",
    "start = array[1] - array[0]\n",
    "end = array[-1] - array[0]\n",
    "result = 0\n",
    "while (start<=end):\n",
    "    mid = (start+end)//2\n",
    "    spot = array[0]\n",
    "    count=1\n",
    "    for i in range(1,len(array)):\n",
    "        if array[i] >= mid+spot:\n",
    "            spot = array[i]\n",
    "            count+=1\n",
    "    if count >=C:\n",
    "        start = mid+1\n",
    "        result = mid\n",
    "    else:\n",
    "        end = mid-1\n",
    "print(result)"
   ]
  },
  {
   "cell_type": "code",
   "execution_count": 3,
   "metadata": {},
   "outputs": [
    {
     "name": "stdout",
     "output_type": "stream",
     "text": [
      "3 3\n",
      "1 2 2\n",
      "3 1 3\n",
      "2 3 2\n",
      "1 3\n",
      "2\n"
     ]
    }
   ],
   "source": [
    "from collections import deque\n",
    "\n",
    "N,M = map(int,input().split())\n",
    "adj = [ [] for _ in range(N+1)]\n",
    "\n",
    "def BFS(cost) : \n",
    "    # N, start_node, end_node 그냥 인자 전달 X하고 사용\n",
    "    # 함수가 중간에 있어서 그런가..?\n",
    "    queue = deque([start_node])\n",
    "    visited = [False] * (N+1)\n",
    "    visited[start_node] = True\n",
    "    while queue:\n",
    "        node = queue.popleft()\n",
    "        for y,weight in adj[node]:\n",
    "            if not visited[node] and weight >=cost:\n",
    "                visited[y] = True\n",
    "                queue.append(y)\n",
    "    return visited[end_node]\n",
    "\n",
    "start = 1e9\n",
    "end =1\n",
    "\n",
    "for _ in range(M):\n",
    "    x, y, weight = map(int,input().split())\n",
    "    adj[x].append( (y,weight) )\n",
    "    adj[y].append( (x,weight) )\n",
    "    start = min(start,weight)   # start는 weight중 가장 작은 값\n",
    "    end = max(end,weight)      # end는 넣은 weight중 가장 큰 값\n",
    "\n",
    "start_node , end_node = map(int,input().split())\n",
    "result = start\n",
    "\n",
    "# 가장 큰 가중치+ 가장 작은 가중치 / 2 부터 탐색 시작\n",
    "# BFS는 start_node 부터 end_node까지 mid가중치 가 갈수 있나 판단\n",
    "\n",
    "while(start <=end):\n",
    "    mid = (start+end)//2\n",
    "    if BFS(mid):\n",
    "        result = mid\n",
    "        start = mid+1\n",
    "    else : \n",
    "        end = mid - 1\n",
    "\n",
    "print(result)"
   ]
  },
  {
   "cell_type": "code",
   "execution_count": 1,
   "metadata": {},
   "outputs": [
    {
     "name": "stdout",
     "output_type": "stream",
     "text": [
      "5 3\n",
      "1\n",
      "2\n",
      "4\n",
      "8\n",
      "9\n",
      "3\n"
     ]
    }
   ],
   "source": [
    "N, C = map(int,input().split())\n",
    "array = []\n",
    "\n",
    "for _ in range(N):\n",
    "    array.append(int(input()))\n",
    "array = sorted(array)\n",
    "\n",
    "start = array[1] - array[0]\n",
    "end = array[-1] - array[0]\n",
    "result = 0\n",
    "\n",
    "while (start<=end):\n",
    "    mid = (start+end) // 2\n",
    "    spot = array[0]\n",
    "    count=1\n",
    "    for i in range(1,len(array)):\n",
    "        if array[i] >= spot+mid:\n",
    "            spot = array[i]\n",
    "            count+=1\n",
    "    if count >=C:\n",
    "        start = mid+1\n",
    "        result = mid\n",
    "    else :\n",
    "        end = mid -1\n",
    "print(result)"
   ]
  },
  {
   "cell_type": "code",
   "execution_count": 3,
   "metadata": {},
   "outputs": [
    {
     "name": "stdout",
     "output_type": "stream",
     "text": [
      "3 3\n",
      "1 2 2\n",
      "3 1 3\n",
      "2 3 2\n",
      "1 3\n",
      "3\n"
     ]
    }
   ],
   "source": [
    "from collections import deque\n",
    "\n",
    "N,M = map(int,input().split())\n",
    "Edges = [ [] for _ in range(N) ]\n",
    "\n",
    "def BFS(cost):\n",
    "    queue = deque([start_node-1])\n",
    "    visited = [False] * N\n",
    "    visited[start_node-1] = True\n",
    "    while queue:\n",
    "        node = queue.popleft()\n",
    "        for adjacent, weight in Edges[node]:\n",
    "            if not visited[adjacent] and weight >= cost:\n",
    "                visited[adjacent] = True\n",
    "                queue.append(adjacent)\n",
    "    return visited[end_node-1]\n",
    "\n",
    "\n",
    "start = 1e9\n",
    "end = 1\n",
    "\n",
    "for _ in range(M):\n",
    "    A,B,C = map(int,input().split())\n",
    "    Edges[A-1].append( (B-1,C) )\n",
    "    Edges[B-1].append( (A-1,C) )\n",
    "    start = min(start,C)\n",
    "    end = max(end,C)\n",
    "\n",
    "start_node,end_node = map(int,input().split())\n",
    "result = start\n",
    "\n",
    "while(start<=end):\n",
    "    mid = (start+end)//2\n",
    "    if BFS(mid):\n",
    "        result = mid\n",
    "        start = mid+1\n",
    "    else:\n",
    "        end = mid-1\n",
    "print(result)"
   ]
  },
  {
   "cell_type": "code",
   "execution_count": 2,
   "metadata": {},
   "outputs": [
    {
     "name": "stdout",
     "output_type": "stream",
     "text": [
      "사전에서 찾는 내용은?3\n",
      "사전에 추가하시겠습니까? Y/NY\n",
      "뜻을 입력하세요three\n",
      "사전에서 찾는 내용은?test\n",
      "사전에 추가하시겠습니까? Y/NY\n",
      "뜻을 입력하세요tesing\n",
      "사전에서 찾는 내용은?test\n",
      "tesing\n",
      "사전에서 찾는 내용은?3\n",
      "three\n",
      "사전에서 찾는 내용은?bruno\n",
      "사전에 추가하시겠습니까? Y/NN\n",
      "사전에서 찾는 내용은?End\n",
      "사전을 종료합니다\n"
     ]
    },
    {
     "ename": "SystemExit",
     "evalue": "",
     "output_type": "error",
     "traceback": [
      "An exception has occurred, use %tb to see the full traceback.\n",
      "\u001b[1;31mSystemExit\u001b[0m\n"
     ]
    }
   ],
   "source": [
    "import sys\n",
    "\n",
    "Dict= dict()\n",
    "\n",
    "#2 입력받은 문자열 = word, Search함수 시작\n",
    "def search(word):\n",
    "    # 입력받은 문자열이 \"End\"면 종료\n",
    "    if word=='End':\n",
    "        print(\"사전을 종료합니다\")\n",
    "        # 종료하는 라이브러리 함수입니다\n",
    "        sys.exit()\n",
    "    \n",
    "    # word가 사전의 key에 없으면 \n",
    "    if word not in Dict.keys():\n",
    "        # ErrorMsg 함수 시작, Y라 입력하는 경우에만 뜻 입력\n",
    "        if ErrorMsg():\n",
    "            Dict[word] = input('뜻을 입력하세요')\n",
    "    # word가 사전에 있으면 뜻 출력\n",
    "    else:\n",
    "        print(Dict[word])\n",
    "\n",
    "#3 입력한 문자열 word가 사전에 없을때만 ErrorMsg함수 시작\n",
    "def ErrorMsg():\n",
    "    check = input(\"사전에 추가하시겠습니까? Y/N\")\n",
    "    # 만약 Y라 입력하면 True 리턴, 그밖엔 False 리턴\n",
    "    if check == 'Y':\n",
    "        return True\n",
    "    else:\n",
    "        return False        \n",
    "\n",
    "    \n",
    "# 1 여기서 시작합니다    \n",
    "while True:\n",
    "    ST = input('사전에서 찾는 내용은?')\n",
    "    # 입력받은 문자열에 따라 search 함수 시작\n",
    "    search(ST)"
   ]
  },
  {
   "cell_type": "code",
   "execution_count": null,
   "metadata": {},
   "outputs": [],
   "source": []
  },
  {
   "cell_type": "code",
   "execution_count": null,
   "metadata": {},
   "outputs": [],
   "source": []
  },
  {
   "cell_type": "code",
   "execution_count": null,
   "metadata": {},
   "outputs": [],
   "source": []
  },
  {
   "cell_type": "code",
   "execution_count": null,
   "metadata": {},
   "outputs": [],
   "source": []
  },
  {
   "cell_type": "code",
   "execution_count": null,
   "metadata": {},
   "outputs": [],
   "source": []
  },
  {
   "cell_type": "code",
   "execution_count": null,
   "metadata": {},
   "outputs": [],
   "source": []
  }
 ],
 "metadata": {
  "kernelspec": {
   "display_name": "Python 3",
   "language": "python",
   "name": "python3"
  },
  "language_info": {
   "codemirror_mode": {
    "name": "ipython",
    "version": 3
   },
   "file_extension": ".py",
   "mimetype": "text/x-python",
   "name": "python",
   "nbconvert_exporter": "python",
   "pygments_lexer": "ipython3",
   "version": "3.7.3"
  }
 },
 "nbformat": 4,
 "nbformat_minor": 2
}
