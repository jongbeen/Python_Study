{
 "cells": [
  {
   "cell_type": "code",
   "execution_count": 7,
   "metadata": {},
   "outputs": [
    {
     "data": {
      "text/plain": [
       "[('python', 28), ('java', 20), ('javascript', 8), ('c', 7), ('r', 4)]"
      ]
     },
     "execution_count": 7,
     "metadata": {},
     "output_type": "execute_result"
    }
   ],
   "source": [
    "Pro = {\n",
    "    \"java\": 20, \n",
    "    \"javascript\": 8, \n",
    "    \"c\": 7,  \n",
    "    \"r\": 4, \n",
    "    \"python\": 28 }\n",
    "\n",
    "V = sorted(Pro.items(), key=lambda item:item[1],reverse=True)\n",
    "V"
   ]
  },
  {
   "cell_type": "code",
   "execution_count": 10,
   "metadata": {},
   "outputs": [
    {
     "name": "stdout",
     "output_type": "stream",
     "text": [
      "21 juk\n",
      "22 jak\n",
      "21 kal\n",
      "24 air\n"
     ]
    },
    {
     "data": {
      "text/plain": [
       "[(21, 'juk'), (21, 'kal'), (22, 'jak'), (24, 'air')]"
      ]
     },
     "execution_count": 10,
     "metadata": {},
     "output_type": "execute_result"
    }
   ],
   "source": [
    "array=[]\n",
    "for _ in range(4):\n",
    "    input_data = input().split()\n",
    "    array.append( (int(input_data[0]), input_data[1]))\n",
    "array = sorted(array,key=lambda x:x[0])\n",
    "array"
   ]
  },
  {
   "cell_type": "code",
   "execution_count": null,
   "metadata": {},
   "outputs": [],
   "source": []
  }
 ],
 "metadata": {
  "kernelspec": {
   "display_name": "Python 3",
   "language": "python",
   "name": "python3"
  },
  "language_info": {
   "codemirror_mode": {
    "name": "ipython",
    "version": 3
   },
   "file_extension": ".py",
   "mimetype": "text/x-python",
   "name": "python",
   "nbconvert_exporter": "python",
   "pygments_lexer": "ipython3",
   "version": "3.7.3"
  }
 },
 "nbformat": 4,
 "nbformat_minor": 2
}
