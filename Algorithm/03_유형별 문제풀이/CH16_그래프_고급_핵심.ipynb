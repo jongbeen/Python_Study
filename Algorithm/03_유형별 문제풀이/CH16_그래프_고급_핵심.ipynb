{
 "cells": [
  {
   "cell_type": "markdown",
   "metadata": {},
   "source": [
    "### 1. 해킹 - B10282\n",
    "> 다익스트라\n",
    "- 오랜만에 보니 너무 반갑다 ^^ heapq 를 import해야함\n",
    "- 그냥 다익스트라 풀고 INF아닌것 카운트 하면 되는 문제\n",
    "\n",
    "> 다익스트라의 시간복잡도는 ElogE, 간선의 개수가 절대적인 영향\n",
    "- O(ElogE)"
   ]
  },
  {
   "cell_type": "code",
   "execution_count": 2,
   "metadata": {},
   "outputs": [
    {
     "name": "stdout",
     "output_type": "stream",
     "text": [
      "1\n",
      "3 2 2\n",
      "2 1 5\n",
      "3 2 5\n",
      "5\n"
     ]
    }
   ],
   "source": [
    "from heapq import heappush,heappop\n",
    "\n",
    "INF = 1e9\n",
    "\n",
    "def dijkstra(graph,start):\n",
    "    distance = [INF]*(N+1)\n",
    "    distance[start] = 0\n",
    "    queue = []\n",
    "    heappush(queue,[0,start])\n",
    "    while queue:\n",
    "        cost,pos = heappop(queue)\n",
    "        for p, c in graph[pos]:\n",
    "            c += cost\n",
    "            if distance[p] > c:\n",
    "                distance[p]=c\n",
    "                heappush(queue,[c,p])\n",
    "    return distance\n",
    "\n",
    "for _ in range(int(input())):\n",
    "    # D 신뢰 개수 , C = start_node라 생각하자\n",
    "    N,D,C = map(int,input().split())\n",
    "    Graph = [[]for _ in range(N+1) ]\n",
    "    for _ in range(D):\n",
    "        # B 에서 S초 후 A로 감(일방향)\n",
    "        A,B,S = map(int,input().split())\n",
    "        Graph[B].append((A,S))\n",
    "    ANS = dijkstra(Graph,C)\n",
    "    result=[]\n",
    "    final=[]\n",
    "    count=0\n",
    "    for i in ANS:\n",
    "        if i !=INF:\n",
    "            count+=1\n",
    "            result.append(i)\n",
    "    final.append([count,max(result)])\n",
    "    for i in range(len(final)):\n",
    "        for j in range(len(final[i])):\n",
    "            print(final[i][j], end=' ')\n",
    "        print()"
   ]
  },
  {
   "cell_type": "code",
   "execution_count": 4,
   "metadata": {},
   "outputs": [
    {
     "name": "stdout",
     "output_type": "stream",
     "text": [
      "2 5 \n",
      "3 6 \n"
     ]
    }
   ],
   "source": [
    "final = [[2,5],[3,6]]\n",
    "for i in range(len(final)):\n",
    "    for j in range(len(final[i])):\n",
    "        print(final[i][j], end=' ')\n",
    "    print()"
   ]
  },
  {
   "cell_type": "markdown",
   "metadata": {},
   "source": [
    "### 2. 거의 최단경로 - B5719\n",
    "> 다익스트라 & BFS\n",
    "- 개빡치는 문제다.\n",
    "- 다익스트라 수행후, 최단경로에 포함되는 모든 간선을 추적! \n",
    "- 초기 최단경로 포함 간선 제외후, 다시 최단경로 탐색 (다익스트라X2)\n",
    "\n",
    "> 풀어본 후 핵심 point\n",
    "- 처음에 생성하는 연결 그래프를, 역방향그래프도 동시에 만들어야 추적에 용이\n",
    "- 다익스트라 함수밖에서 distance를 생성.\n",
    "- 조건에 not dropped[pos][p] 를 설정. 초기에는 그냥 지나갈 것\n",
    "- BFS() 에서 역으로 추적할때 distance를 사용\n",
    "- BFS()에서 연결되는 간선들은 dropped[출발][다음간선] 을 True로 \n",
    "- distance 초기화 후 다익스트라 재 탐색, dropped가 첫번째 최단 제외하고 탐색\n"
   ]
  },
  {
   "cell_type": "markdown",
   "metadata": {},
   "source": [
    "#### 추적! 이란?\n",
    "> 최단경로상 도착노드부터, 인접노드의 가중치를 파악해 추적함\n",
    "- 이를 위해 BFS를 활용함"
   ]
  },
  {
   "cell_type": "code",
   "execution_count": 1,
   "metadata": {},
   "outputs": [],
   "source": [
    "from collections import deque\n",
    "from heapq import heappush,heappop\n",
    "INF = 1e9\n",
    "\n",
    "def dijkstra(Graph,start):\n",
    "    distance[start] = 0\n",
    "    queue = []\n",
    "    heappush(queue,[0,start])\n",
    "    while queue:\n",
    "        cost, pos = heappop(queue)\n",
    "        for p,c in Graph[pos]:\n",
    "            c += cost\n",
    "            if distance[p] > c and not dropped[pos][p]:\n",
    "                distance[p] = c\n",
    "                heappush(queue,[c,p])\n",
    "                \n",
    "def BFS(Graph,start_rev):\n",
    "    queue = deque([end])\n",
    "    visited = [False] *(N+1)\n",
    "    visited[start_rev] = True\n",
    "    while queue:\n",
    "        node = queue.popleft()\n",
    "        if node == start:\n",
    "            continue\n",
    "        for prev, cost in Graph[node]:\n",
    "            if distance[node] == distance[prev] + cost:\n",
    "                dropped[prev][node] = True\n",
    "                queue.append(prev)"
   ]
  },
  {
   "cell_type": "code",
   "execution_count": 2,
   "metadata": {
    "collapsed": true
   },
   "outputs": [
    {
     "name": "stdout",
     "output_type": "stream",
     "text": [
      "1 1\n",
      "1111\n"
     ]
    },
    {
     "ename": "ValueError",
     "evalue": "not enough values to unpack (expected 2, got 1)",
     "output_type": "error",
     "traceback": [
      "\u001b[1;31m---------------------------------------------------------------------------\u001b[0m",
      "\u001b[1;31mValueError\u001b[0m                                Traceback (most recent call last)",
      "\u001b[1;32m<ipython-input-2-557bb7280840>\u001b[0m in \u001b[0;36m<module>\u001b[1;34m\u001b[0m\n\u001b[0;32m      3\u001b[0m     \u001b[1;32mif\u001b[0m \u001b[0mN\u001b[0m \u001b[1;33m==\u001b[0m\u001b[1;36m0\u001b[0m\u001b[1;33m:\u001b[0m\u001b[1;33m\u001b[0m\u001b[1;33m\u001b[0m\u001b[0m\n\u001b[0;32m      4\u001b[0m         \u001b[1;32mbreak\u001b[0m\u001b[1;33m\u001b[0m\u001b[1;33m\u001b[0m\u001b[0m\n\u001b[1;32m----> 5\u001b[1;33m     \u001b[0mstart\u001b[0m\u001b[1;33m,\u001b[0m\u001b[0mend\u001b[0m \u001b[1;33m=\u001b[0m \u001b[0mmap\u001b[0m\u001b[1;33m(\u001b[0m\u001b[0mint\u001b[0m\u001b[1;33m,\u001b[0m\u001b[0minput\u001b[0m\u001b[1;33m(\u001b[0m\u001b[1;33m)\u001b[0m\u001b[1;33m.\u001b[0m\u001b[0msplit\u001b[0m\u001b[1;33m(\u001b[0m\u001b[1;33m)\u001b[0m\u001b[1;33m)\u001b[0m\u001b[1;33m\u001b[0m\u001b[1;33m\u001b[0m\u001b[0m\n\u001b[0m\u001b[0;32m      6\u001b[0m     \u001b[0madj\u001b[0m \u001b[1;33m=\u001b[0m \u001b[1;33m[\u001b[0m\u001b[1;33m[\u001b[0m\u001b[1;33m]\u001b[0m \u001b[1;32mfor\u001b[0m \u001b[0m_\u001b[0m \u001b[1;32min\u001b[0m \u001b[0mrange\u001b[0m\u001b[1;33m(\u001b[0m\u001b[0mN\u001b[0m\u001b[1;33m+\u001b[0m\u001b[1;36m1\u001b[0m\u001b[1;33m)\u001b[0m\u001b[1;33m]\u001b[0m\u001b[1;33m\u001b[0m\u001b[1;33m\u001b[0m\u001b[0m\n\u001b[0;32m      7\u001b[0m     \u001b[0mreverse_adj\u001b[0m \u001b[1;33m=\u001b[0m \u001b[1;33m[\u001b[0m\u001b[1;33m[\u001b[0m\u001b[1;33m]\u001b[0m \u001b[1;32mfor\u001b[0m \u001b[0m_\u001b[0m \u001b[1;32min\u001b[0m \u001b[0mrange\u001b[0m\u001b[1;33m(\u001b[0m\u001b[0mN\u001b[0m\u001b[1;33m+\u001b[0m\u001b[1;36m1\u001b[0m\u001b[1;33m)\u001b[0m\u001b[1;33m]\u001b[0m\u001b[1;33m\u001b[0m\u001b[1;33m\u001b[0m\u001b[0m\n",
      "\u001b[1;31mValueError\u001b[0m: not enough values to unpack (expected 2, got 1)"
     ]
    }
   ],
   "source": [
    "while True:\n",
    "    N,M = map(int,input().split())\n",
    "    if N ==0:\n",
    "        break\n",
    "    start,end = map(int,input().split())\n",
    "    adj = [[] for _ in range(N+1)]\n",
    "    reverse_adj = [[] for _ in range(N+1)]\n",
    "    for _ in range(M):\n",
    "        x,y,cost = map(int,input().split())\n",
    "        adj[x].append((y,cost))\n",
    "        reverse_adj[y].append((x,cost))\n",
    "    dropped = [[False]*(N+1) for _ in range(M+1)]\n",
    "    distance = [INF] * (N+1)\n",
    "    dijkstra(adj,start)\n",
    "    BFS(reverse_adj,end)\n",
    "    distance = [INF] * (N+1)\n",
    "    dijkstra(adj,start)\n",
    "    if distance[end] != INF:\n",
    "        print(distance[end])\n",
    "    else:\n",
    "        print(-1)"
   ]
  },
  {
   "cell_type": "markdown",
   "metadata": {},
   "source": [
    "### 3. 우주신과의 교감 - B1774\n",
    "\n",
    "> 주어진 2차원 좌표를 이용해, 모든 좌표를 잇는 MST를 만들어야 함\n",
    "- 2차원 좌표상의 점을 잇는 통로들을 고려해야함\n",
    "- 정점의 개수 N이 최대 1000, 가능한 통로의 개수는 약 N^2\n",
    "- Kruskal은 간선이 E일때 O(ElogE)로 동작\n",
    "\n",
    "##### 따라서 크루스칼 알고리즘으로 해결 할 수 있음"
   ]
  },
  {
   "cell_type": "markdown",
   "metadata": {},
   "source": [
    "#### 기존의 크루스칼 알고리즘 - Dave way"
   ]
  },
  {
   "cell_type": "code",
   "execution_count": 9,
   "metadata": {},
   "outputs": [],
   "source": [
    "# graph는 vertices:[A,B,C....], edges:[(7,A,B), .... ]\n",
    "# 이런식의 dict()자료형\n",
    "parent = dict()\n",
    "rank = dict()\n",
    "\n",
    "def find(node):\n",
    "    if parent[node] != node:\n",
    "        parent[node] =  find(parent[node])\n",
    "    return parent[node]\n",
    "\n",
    "def union(node_v,node_u):\n",
    "    root1 = find(node_v)\n",
    "    root2 = find(node_u)\n",
    "    \n",
    "    if rank[root1] > rank[root2]:\n",
    "        parent[root2] = root1\n",
    "    else:\n",
    "        parent[root1] = root2\n",
    "        if rank[root1] == rank[root2]:\n",
    "            rank[root2]+=1\n",
    "            \n",
    "def make_set(node):\n",
    "    parent[node] = node\n",
    "    rank[node] = 0\n",
    "\n",
    "def kruskal(graph):\n",
    "    mst = list()\n",
    "    \n",
    "    for node in graph['vertices']:\n",
    "        make_set(node)\n",
    "    edges = graph['edges']\n",
    "    edges.sort()\n",
    "    \n",
    "    for edge in edges:\n",
    "        weight, node_v,node_u = edge\n",
    "        if find(node_v) != find(node_u):\n",
    "            union(node_v,node_u)\n",
    "            mst.append(edge)\n",
    "    return mst"
   ]
  },
  {
   "cell_type": "markdown",
   "metadata": {},
   "source": [
    "#### 우주신과의 교감- [해답]"
   ]
  },
  {
   "cell_type": "code",
   "execution_count": 3,
   "metadata": {},
   "outputs": [],
   "source": [
    "import math\n",
    "\n",
    "parent = {}\n",
    "\n",
    "def get_distance(p1,p2):\n",
    "    a = p1[0] - p2[0]\n",
    "    b = p1[1] - p2[1]\n",
    "    return math.sqrt((a*a)+(b*b))\n",
    "\n",
    "def get_parent(parent,n):\n",
    "    if parent[n] == n:\n",
    "        return n\n",
    "    return get_parent(parent,parent[n])\n",
    "\n",
    "def union(parent,a,b):\n",
    "    a = get_parent(parent,a)\n",
    "    b = get_parent(parent,b)\n",
    "    if a<b:\n",
    "        parent[b] = a\n",
    "    else:\n",
    "        parent[a] = b\n",
    "\n",
    "def find(parent,a,b):\n",
    "    a = get_parent(parent,a)\n",
    "    b = get_parent(parent,b)\n",
    "    if a== b:\n",
    "        return True\n",
    "    else:\n",
    "        return False"
   ]
  },
  {
   "cell_type": "code",
   "execution_count": 8,
   "metadata": {},
   "outputs": [
    {
     "name": "stdout",
     "output_type": "stream",
     "text": [
      "4 1\n",
      "1 1\n",
      "3 1\n",
      "2 3\n",
      "4 3\n",
      "1 4\n",
      "4.00\n"
     ]
    }
   ],
   "source": [
    "N,M = map(int,input().split())\n",
    "locations = []\n",
    "edges = []\n",
    "\n",
    "# N개의 우주신의 위치 (X,Y) 를 location리스트에 모두 저장\n",
    "\n",
    "for _ in range(N):\n",
    "    X,Y = map(int,input().split())\n",
    "    locations.append((X,Y))\n",
    "    \n",
    "length = len(locations)\n",
    "\n",
    "# 모든 우주신들 사이의 거리를 edges라는 리스트에 추가\n",
    "for i in range(length-1):\n",
    "    for j in range(i+1,length):\n",
    "        edges.append((i+1,j+1,get_distance(locations[i],locations[j])))\n",
    "\n",
    "# 모든 우주신들의 parent는 자신으로 초기화\n",
    "for i in range(1,N+1):\n",
    "    parent[i] = i\n",
    "    \n",
    "#  M개의 존재하는 통로를 설정, 거리길이가 오름차순이 되도록 정렬\n",
    "for i in range(M):\n",
    "    a,b = map(int,input().split())\n",
    "    union(parent,a,b)\n",
    "edges.sort(key = lambda data:data[2])\n",
    "\n",
    "result = 0\n",
    "# 짧은 거리부터 우주신 a,b의 root가 일치하는지 확인후 union\n",
    "# 앞서 설정한 존재하는 통로는 union되어 있는 상태\n",
    "# root가 다른경우(추가되는 경우)만 cost를 합산, 최종 통로길이\n",
    "for a, b, cost in edges:\n",
    "    if not find(parent,a,b):\n",
    "        union(parent,a,b)\n",
    "        result += cost\n",
    "        \n",
    "print(\"%.2f\" %result)"
   ]
  },
  {
   "cell_type": "code",
   "execution_count": null,
   "metadata": {},
   "outputs": [],
   "source": []
  }
 ],
 "metadata": {
  "kernelspec": {
   "display_name": "Python 3",
   "language": "python",
   "name": "python3"
  },
  "language_info": {
   "codemirror_mode": {
    "name": "ipython",
    "version": 3
   },
   "file_extension": ".py",
   "mimetype": "text/x-python",
   "name": "python",
   "nbconvert_exporter": "python",
   "pygments_lexer": "ipython3",
   "version": "3.7.3"
  }
 },
 "nbformat": 4,
 "nbformat_minor": 2
}
