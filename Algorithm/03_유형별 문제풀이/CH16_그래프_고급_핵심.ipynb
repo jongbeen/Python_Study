{
 "cells": [
  {
   "cell_type": "markdown",
   "metadata": {},
   "source": [
    "### 1. 해킹 - B2606\n",
    "> 다익스트라\n",
    "- 오랜만에 보니 너무 반갑다 ^^ heapq 를 import해야함\n",
    "- 그냥 다익스트라 풀고 INF아닌것 카운트 하면 되는 문제\n",
    "- ㅈ밥임 ㅋㅋㅋㅋㅋ\n",
    "\n",
    "> 다익스트라의 시간복잡도는 ElogE, 간선의 개수가 절대적인 영향\n",
    "- O(ElogE)"
   ]
  },
  {
   "cell_type": "code",
   "execution_count": 2,
   "metadata": {},
   "outputs": [
    {
     "name": "stdout",
     "output_type": "stream",
     "text": [
      "1\n",
      "3 2 2\n",
      "2 1 5\n",
      "3 2 5\n",
      "5\n"
     ]
    }
   ],
   "source": [
    "from heapq import heappush,heappop\n",
    "\n",
    "INF = 1e9\n",
    "\n",
    "def dijkstra(graph,start):\n",
    "    distance = [INF]*(N+1)\n",
    "    distance[start] = 0\n",
    "    queue = []\n",
    "    heappush(queue,[0,start])\n",
    "    while queue:\n",
    "        cost,pos = heappop(queue)\n",
    "        for p, c in graph[pos]:\n",
    "            c += cost\n",
    "            if distance[p] > c:\n",
    "                distance[p]=c\n",
    "                heappush(queue,[c,p])\n",
    "    return distance\n",
    "\n",
    "for _ in range(int(input())):\n",
    "    # D 신뢰 개수 , C = start_node라 생각하자\n",
    "    N,D,C = map(int,input().split())\n",
    "    Graph = [[]for _ in range(N+1) ]\n",
    "    for _ in range(D):\n",
    "        # B 에서 S초 후 A로 감(일방향)\n",
    "        A,B,S = map(int,input().split())\n",
    "        Graph[B].append((A,S))\n",
    "    ANS = dijkstra(Graph,C)\n",
    "    result=[]\n",
    "    final=[]\n",
    "    count=0\n",
    "    for i in ANS:\n",
    "        if i !=INF:\n",
    "            count+=1\n",
    "            result.append(i)\n",
    "    final.append([count,max(result)])\n",
    "    for i in range(len(final)):\n",
    "        for j in range(len(final[i])):\n",
    "            print(final[i][j], end=' ')\n",
    "        print()"
   ]
  },
  {
   "cell_type": "code",
   "execution_count": 4,
   "metadata": {},
   "outputs": [
    {
     "name": "stdout",
     "output_type": "stream",
     "text": [
      "2 5 \n",
      "3 6 \n"
     ]
    }
   ],
   "source": [
    "final = [[2,5],[3,6]]\n",
    "for i in range(len(final)):\n",
    "    for j in range(len(final[i])):\n",
    "        print(final[i][j], end=' ')\n",
    "    print()"
   ]
  },
  {
   "cell_type": "markdown",
   "metadata": {},
   "source": [
    "### 2. 거의 최단경로 - B5719\n",
    "> 다익스트라 & BFS\n",
    "- 개빡치는 문제다.\n",
    "- 다익스트라 수행후, 최단경로에 포함되는 모든 간선을 추적! \n",
    "- 초기 최단경로 포함 간선 제외후, 다시 최단경로 탐색 (다익스트라X2)\n"
   ]
  },
  {
   "cell_type": "markdown",
   "metadata": {},
   "source": [
    "#### 추적! 이란?\n",
    "> 최단경로상 도착노드부터, 인접노드의 가중치를 파악해 추적함\n",
    "- 이를 위해 BFS를 활용함\n"
   ]
  },
  {
   "cell_type": "code",
   "execution_count": 13,
   "metadata": {},
   "outputs": [],
   "source": [
    "from collections import deque\n",
    "from heapq import heappush,heappop\n",
    "\n",
    "def dijkstra():\n",
    "    queue = []\n",
    "    heappush(queue,[0,start])\n",
    "    distance[start] = 0\n",
    "    while queue:\n",
    "        dist,now = heappop(queue)\n",
    "        if distance[now]<dist:\n",
    "            continue\n",
    "        for p,c in adj[now]:\n",
    "            cost = dist+c\n",
    "            if distance[p] > cost and not dropped[now][p]:\n",
    "                distance[p] = cost\n",
    "                heappush(queue,(cost,p))\n",
    "def bfs():\n",
    "    queue = deque()\n",
    "    queue.append(end)\n",
    "    while queue:\n",
    "        now = queue.popleft()\n",
    "        if now == start:\n",
    "            continue\n",
    "        for prev,cost in reverse_adj[now]:\n",
    "            if distance[now] == distance[prev] + cost:\n",
    "                dropped[prev][now] = True\n",
    "                queue.append(prev)\n",
    "                "
   ]
  },
  {
   "cell_type": "code",
   "execution_count": 14,
   "metadata": {},
   "outputs": [
    {
     "name": "stdout",
     "output_type": "stream",
     "text": [
      "7 9\n",
      "0 6\n",
      "0 1 1\n",
      "0 2 1\n",
      "0 3 2\n",
      "0 4 3\n",
      "1 5 2\n",
      "2 6 4\n",
      "3 6 2\n",
      "4 6 4\n",
      "5 6 1\n",
      "5\n",
      "0 0\n"
     ]
    }
   ],
   "source": [
    "INF = 1e9\n",
    "\n",
    "while True:\n",
    "    N,M = map(int,input().split())\n",
    "    if N==0:\n",
    "        break\n",
    "    start,end = map(int,input().split())\n",
    "    adj = [[] for _ in range(N+1)]\n",
    "    reverse_adj=[[]for _ in range(N+1)]\n",
    "    for _ in range(M):\n",
    "        x,y,cost = map(int,input().split())\n",
    "        adj[x].append((y,cost))\n",
    "        reverse_adj[y].append((x,cost))\n",
    "    dropped=[[False]*(N+1) for _ in range(N+1)]\n",
    "    distance = [INF]*(N+1)\n",
    "    dijkstra()\n",
    "    bfs()\n",
    "    distance=[INF]*(N+1)\n",
    "    dijkstra()\n",
    "    if distance[end] != INF:\n",
    "        print(distance[end])\n",
    "    else:\n",
    "        print(-1)"
   ]
  },
  {
   "cell_type": "code",
   "execution_count": 16,
   "metadata": {},
   "outputs": [
    {
     "ename": "TypeError",
     "evalue": "'int' object is not subscriptable",
     "output_type": "error",
     "traceback": [
      "\u001b[1;31m---------------------------------------------------------------------------\u001b[0m",
      "\u001b[1;31mTypeError\u001b[0m                                 Traceback (most recent call last)",
      "\u001b[1;32m<ipython-input-16-c5ada4bc41ab>\u001b[0m in \u001b[0;36m<module>\u001b[1;34m\u001b[0m\n\u001b[0;32m      1\u001b[0m \u001b[0mtest\u001b[0m\u001b[1;33m=\u001b[0m \u001b[1;33m[\u001b[0m\u001b[1;33m(\u001b[0m\u001b[1;36m1\u001b[0m\u001b[1;33m,\u001b[0m\u001b[1;36m10\u001b[0m\u001b[1;33m)\u001b[0m\u001b[1;33m,\u001b[0m\u001b[1;33m(\u001b[0m\u001b[1;36m3\u001b[0m\u001b[1;33m,\u001b[0m\u001b[1;36m20\u001b[0m\u001b[1;33m)\u001b[0m\u001b[1;33m,\u001b[0m\u001b[1;33m(\u001b[0m\u001b[1;36m5\u001b[0m\u001b[1;33m,\u001b[0m\u001b[1;36m30\u001b[0m\u001b[1;33m)\u001b[0m\u001b[1;33m]\u001b[0m\u001b[1;33m\u001b[0m\u001b[1;33m\u001b[0m\u001b[0m\n\u001b[0;32m      2\u001b[0m \u001b[1;32mfor\u001b[0m \u001b[0mi\u001b[0m \u001b[1;32min\u001b[0m \u001b[0mtest\u001b[0m\u001b[1;33m[\u001b[0m\u001b[1;36m1\u001b[0m\u001b[1;33m]\u001b[0m\u001b[1;33m:\u001b[0m\u001b[1;33m\u001b[0m\u001b[1;33m\u001b[0m\u001b[0m\n\u001b[1;32m----> 3\u001b[1;33m     \u001b[0mprint\u001b[0m\u001b[1;33m(\u001b[0m\u001b[0mi\u001b[0m\u001b[1;33m[\u001b[0m\u001b[1;36m0\u001b[0m\u001b[1;33m]\u001b[0m\u001b[1;33m)\u001b[0m\u001b[1;33m\u001b[0m\u001b[1;33m\u001b[0m\u001b[0m\n\u001b[0m",
      "\u001b[1;31mTypeError\u001b[0m: 'int' object is not subscriptable"
     ]
    }
   ],
   "source": []
  },
  {
   "cell_type": "code",
   "execution_count": null,
   "metadata": {},
   "outputs": [],
   "source": []
  },
  {
   "cell_type": "code",
   "execution_count": null,
   "metadata": {},
   "outputs": [],
   "source": []
  },
  {
   "cell_type": "code",
   "execution_count": null,
   "metadata": {},
   "outputs": [],
   "source": []
  },
  {
   "cell_type": "code",
   "execution_count": null,
   "metadata": {},
   "outputs": [],
   "source": []
  }
 ],
 "metadata": {
  "kernelspec": {
   "display_name": "Python 3",
   "language": "python",
   "name": "python3"
  },
  "language_info": {
   "codemirror_mode": {
    "name": "ipython",
    "version": 3
   },
   "file_extension": ".py",
   "mimetype": "text/x-python",
   "name": "python",
   "nbconvert_exporter": "python",
   "pygments_lexer": "ipython3",
   "version": "3.7.3"
  }
 },
 "nbformat": 4,
 "nbformat_minor": 2
}
