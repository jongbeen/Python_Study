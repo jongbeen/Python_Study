{
 "cells": [
  {
   "cell_type": "markdown",
   "metadata": {},
   "source": [
    "### 1. 거스름돈 - B5585\n",
    "> 그리디 알고리즘\n",
    "- 그냥... 하면된다\n",
    "\n",
    "> 입력\n",
    "- 1000원이하 돈\n",
    "- 동전의 개수는 500,100,50,10,5,1\n",
    "\n",
    "> 출력\n",
    "- (1000원 - 입력돈) 최소 동전의 개수"
   ]
  },
  {
   "cell_type": "code",
   "execution_count": 5,
   "metadata": {},
   "outputs": [
    {
     "name": "stdout",
     "output_type": "stream",
     "text": [
      "380\n",
      "4\n"
     ]
    }
   ],
   "source": [
    "coins = [500,100,50,10,5,1]\n",
    "\n",
    "money = int(input())\n",
    "\n",
    "money = 1000- money        #620\n",
    "\n",
    "coin=0\n",
    "\n",
    "for i in coins:\n",
    "    coin += money // i\n",
    "    money %= i\n",
    "    \n",
    "print(coin)"
   ]
  },
  {
   "cell_type": "code",
   "execution_count": 4,
   "metadata": {},
   "outputs": [
    {
     "data": {
      "text/plain": [
       "5.0"
      ]
     },
     "execution_count": 4,
     "metadata": {},
     "output_type": "execute_result"
    }
   ],
   "source": [
    "c = 100\n",
    "c /= 20\n",
    "c"
   ]
  },
  {
   "cell_type": "markdown",
   "metadata": {},
   "source": [
    "### 2. 뒤집기 - B1439\n",
    "> 그리디 알고리즘\n",
    "\n",
    "> idea\n",
    "- 1로 만들어본 count VS 0으로 만드는 count\n",
    "- (1이 더적은것을 0으로 만들기 했다 틀림;)"
   ]
  },
  {
   "cell_type": "code",
   "execution_count": 12,
   "metadata": {},
   "outputs": [
    {
     "name": "stdout",
     "output_type": "stream",
     "text": [
      "111111001111\n",
      "1\n"
     ]
    }
   ],
   "source": [
    "S = input()\n",
    "zero_count= 0\n",
    "one_count = 1\n",
    "for i in S:\n",
    "    if i == '0':\n",
    "        zero_count +=1\n",
    "    else:\n",
    "        one_count += 1\n",
    "        \n",
    "count0 = 0\n",
    "count1 = 0\n",
    "S0 = S.split('0')\n",
    "for i in S0:\n",
    "    if i!='':\n",
    "        count0+=1\n",
    "S1 = S.split('1')\n",
    "for i in S1:\n",
    "    if i!='':\n",
    "        count1+=1\n",
    "print(min(count0,count1))"
   ]
  },
  {
   "cell_type": "code",
   "execution_count": 8,
   "metadata": {},
   "outputs": [
    {
     "data": {
      "text/plain": [
       "['', '', '', '11', '', '']"
      ]
     },
     "execution_count": 8,
     "metadata": {},
     "output_type": "execute_result"
    }
   ],
   "source": [
    "S = \"0001100\"\n",
    "S = S.split('0')\n",
    "S"
   ]
  },
  {
   "cell_type": "markdown",
   "metadata": {},
   "source": [
    "### 3. 등수 매기기 - B2012\n",
    "> 그리디 알고리즘\n",
    "\n",
    "> idea\n",
    "- 예상등수 - 12345등 하면 됬었음...\n",
    "- 말을 꼭 이상하게해서.. 헷갈리게해...\n",
    "- 물론 예상등수-12345가 최소가 되게..."
   ]
  },
  {
   "cell_type": "code",
   "execution_count": 16,
   "metadata": {},
   "outputs": [
    {
     "name": "stdout",
     "output_type": "stream",
     "text": [
      "5\n",
      "1\n",
      "5\n",
      "3\n",
      "1\n",
      "2\n",
      "3\n"
     ]
    }
   ],
   "source": [
    "N = int(input())\n",
    "rank = [i for i in range(1,N+1)]\n",
    "expect = []\n",
    "for _ in range(N):\n",
    "    expect.append(int(input()))\n",
    "expect.sort()\n",
    "result =0\n",
    "for i in range(N):\n",
    "    result += abs(expect[i]-rank[i])\n",
    "print(result)"
   ]
  },
  {
   "cell_type": "markdown",
   "metadata": {},
   "source": [
    "### 4. 배 - B1092\n",
    "> 그리디 알고리즘\n",
    "\n",
    "> idea\n",
    "- 배 정렬[내림차순], 짐 정렬[내림차순]해서,앞으로 가면 되지 않을까\n",
    "- ㅅㅂ... 되긴 되는데 시간초과 뜬다\n",
    "- ㄴㅇㅂㅈ"
   ]
  },
  {
   "cell_type": "code",
   "execution_count": 34,
   "metadata": {},
   "outputs": [
    {
     "name": "stdout",
     "output_type": "stream",
     "text": [
      "3\n",
      "6 8 9\n",
      "5\n",
      "2 5 2 4 7\n",
      "2\n"
     ]
    }
   ],
   "source": [
    "import sys\n",
    "\n",
    "N = int(input())\n",
    "crain = list(map(int,input().split()))\n",
    "M = int(input())\n",
    "boxes = list(map(int,input().split()))\n",
    "\n",
    "crain.sort(reverse=True)\n",
    "boxes.sort(reverse=True)\n",
    "check = [False]*M\n",
    "count=0\n",
    "if crain[0]<boxes[0]:\n",
    "    print(-1)\n",
    "    sys.exit()\n",
    "\n",
    "while True:    \n",
    "    for i in range(len(crain)):\n",
    "        for j in range(len(boxes)):\n",
    "            if crain[i] >= boxes[j] and not check[j]:\n",
    "                check[j] = True\n",
    "                break\n",
    "    count+=1\n",
    "    if False not in check:\n",
    "        break  \n",
    "print(count)"
   ]
  },
  {
   "cell_type": "code",
   "execution_count": 28,
   "metadata": {},
   "outputs": [
    {
     "name": "stdout",
     "output_type": "stream",
     "text": [
      "[True, True, True, False, False]\n"
     ]
    }
   ],
   "source": [
    "crain = [6,8,9]\n",
    "boxes=[2,5,2,4,7]\n",
    "crain.sort(reverse=True)\n",
    "boxes.sort(reverse=True)\n",
    "for i in range(len(crain)):\n",
    "    for j in range(len(boxes)):\n",
    "        if crain[i] >= boxes[j] and not check[i]:\n",
    "            check[i] = True\n",
    "            break\n",
    "        else:\n",
    "            continue\n",
    "print(check)"
   ]
  }
 ],
 "metadata": {
  "kernelspec": {
   "display_name": "Python 3",
   "language": "python",
   "name": "python3"
  },
  "language_info": {
   "codemirror_mode": {
    "name": "ipython",
    "version": 3
   },
   "file_extension": ".py",
   "mimetype": "text/x-python",
   "name": "python",
   "nbconvert_exporter": "python",
   "pygments_lexer": "ipython3",
   "version": "3.7.3"
  }
 },
 "nbformat": 4,
 "nbformat_minor": 2
}
