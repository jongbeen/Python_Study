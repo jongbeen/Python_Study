{
 "cells": [
  {
   "cell_type": "markdown",
   "metadata": {},
   "source": [
    "### B9663 - NQueen"
   ]
  },
  {
   "cell_type": "markdown",
   "metadata": {},
   "source": [
    "> 주어진 N의 범위 (1<=N<=15) \n",
    "- N X N 크기인 체스판에 N개의 퀸을 놓음\n",
    "- 서로 공격할 수 없는 경우의 수 출력"
   ]
  },
  {
   "cell_type": "code",
   "execution_count": null,
   "metadata": {},
   "outputs": [],
   "source": [
    "def promising(candidate, current_col):\n",
    "    current_row = len(candidate)\n",
    "    for queen_row in range(current_row):\n",
    "        if candidate[queen_row] == current_col:\n",
    "            return False\n",
    "        elif abs(candidate[queen_row] - current_col) == current_row - queen_row:\n",
    "            return False\n",
    "    return True\n",
    "        "
   ]
  },
  {
   "cell_type": "code",
   "execution_count": null,
   "metadata": {},
   "outputs": [],
   "source": [
    "def check(x):\n",
    "    for i in range(x):\n",
    "        if row[x] == row[i]:\n",
    "            return False\n",
    "        if abs(row[x] - row[i]) == x-i:\n",
    "            return False\n",
    "    return True\n",
    "\n",
    "def DFS(x):\n",
    "    global result\n",
    "    if x == N:\n",
    "        result +=1\n",
    "    else:\n",
    "        for i in range(N):\n",
    "            row[x] = i\n",
    "            if check(x):\n",
    "                DFS(x+1)\n",
    "\n",
    "N = int(input())\n",
    "row = [0] * N\n",
    "result = 0\n",
    "DFS(0)\n",
    "print(result)"
   ]
  },
  {
   "cell_type": "markdown",
   "metadata": {},
   "source": [
    "### B1987 - 알파벳"
   ]
  },
  {
   "cell_type": "code",
   "execution_count": null,
   "metadata": {},
   "outputs": [],
   "source": []
  },
  {
   "cell_type": "markdown",
   "metadata": {},
   "source": [
    "### B1759 - 암호 만들기"
   ]
  },
  {
   "cell_type": "code",
   "execution_count": null,
   "metadata": {},
   "outputs": [],
   "source": []
  }
 ],
 "metadata": {
  "kernelspec": {
   "display_name": "Python 3",
   "language": "python",
   "name": "python3"
  },
  "language_info": {
   "codemirror_mode": {
    "name": "ipython",
    "version": 3
   },
   "file_extension": ".py",
   "mimetype": "text/x-python",
   "name": "python",
   "nbconvert_exporter": "python",
   "pygments_lexer": "ipython3",
   "version": "3.7.3"
  }
 },
 "nbformat": 4,
 "nbformat_minor": 2
}
