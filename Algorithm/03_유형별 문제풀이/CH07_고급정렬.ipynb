{
 "cells": [
  {
   "cell_type": "markdown",
   "metadata": {},
   "source": [
    "### 1. 수 정렬하기2 - B2751\n",
    "- (1) Quick 또는 Merge Sort만들기\n",
    "- (2) Sort라이브러리 제작하기"
   ]
  },
  {
   "cell_type": "markdown",
   "metadata": {},
   "source": [
    "#### (1) MergeSort를 만들어 풀기"
   ]
  },
  {
   "cell_type": "code",
   "execution_count": 1,
   "metadata": {},
   "outputs": [],
   "source": [
    "def merge_sort(data):\n",
    "    if len(data)<=1:\n",
    "        return data\n",
    "    mid = len(data)//2\n",
    "    left = merge_sort(data[:mid])\n",
    "    right = merge_sort(data[mid:])\n",
    "    i, j, k = 0, 0, 0\n",
    "    while i<len(left) and j<len(right):\n",
    "        if left[i] < right[j]:\n",
    "            data[k] = left[i]\n",
    "            i += 1\n",
    "        else:\n",
    "            data[k] = right[j]\n",
    "            j += 1\n",
    "        k += 1\n",
    "    if i== len(left):\n",
    "        while j< len(right):\n",
    "            data[k] = right[j]\n",
    "            j+=1\n",
    "            k+=1\n",
    "    elif j == len(right):\n",
    "        while i< len(left):\n",
    "            data[k] = left[i]\n",
    "            k+=1\n",
    "            i+=1\n",
    "    return data"
   ]
  },
  {
   "cell_type": "markdown",
   "metadata": {},
   "source": [
    "#### (1-2) Mergesort원조"
   ]
  },
  {
   "cell_type": "code",
   "execution_count": 2,
   "metadata": {},
   "outputs": [],
   "source": [
    "def mergesplit(data):\n",
    "    if len(data)<=1:\n",
    "        return data\n",
    "    mid = len(data)//2\n",
    "    left = merge_sort(data[:mid])\n",
    "    right = merge_sort(data[mid:])\n",
    "    \n",
    "    return merge(left,right)\n",
    "\n",
    "def merge(left,right):\n",
    "    left_point, right_point = 0,0\n",
    "    merged = list()\n",
    "    \n",
    "    while left_point < len(left) and right_point < len(right):\n",
    "        if left[left_point] > right[right_point] :\n",
    "            merged.append(right[right_point])\n",
    "            right_point+=1\n",
    "        else:\n",
    "            merged.append(left[left_point])\n",
    "            left_point+=1\n",
    "    while len(left) > left_point:\n",
    "        merge.append(left[left_point])\n",
    "        left_point+=1\n",
    "    while len(right) > right_point:\n",
    "        merge.append(right[right_point])\n",
    "        right_point +=1\n",
    "    return merged"
   ]
  },
  {
   "cell_type": "markdown",
   "metadata": {},
   "source": [
    "#### 생각난 김에 qsort까지.."
   ]
  },
  {
   "cell_type": "code",
   "execution_count": 3,
   "metadata": {},
   "outputs": [],
   "source": [
    "def qsort(data):\n",
    "    if len(data)<=1:\n",
    "        return data\n",
    "    \n",
    "    pivot = data[0]\n",
    "    left = [item for item in data[1:] if item < pivot ]\n",
    "    right = [item for item in data[1:] if item >= pivot]\n",
    "    \n",
    "    return qsort(data)+[pivot]+qsort(right)"
   ]
  },
  {
   "cell_type": "markdown",
   "metadata": {},
   "source": [
    "#### 결론. 이걸 그냥 쓰면 된다"
   ]
  },
  {
   "cell_type": "code",
   "execution_count": 4,
   "metadata": {},
   "outputs": [
    {
     "name": "stdout",
     "output_type": "stream",
     "text": [
      "5\n",
      "5\n",
      "4\n",
      "3\n",
      "2\n",
      "1\n",
      "1\n",
      "2\n",
      "3\n",
      "4\n",
      "5\n"
     ]
    }
   ],
   "source": [
    "n = int(input())\n",
    "array=[]\n",
    "\n",
    "for _ in range(n):\n",
    "    array.append(int(input()))\n",
    "array = merge_sort(array)\n",
    "for data in array:\n",
    "    print(data)"
   ]
  },
  {
   "cell_type": "markdown",
   "metadata": {},
   "source": [
    "#### (2) Sort 라이브러리 활용해서 풀기"
   ]
  },
  {
   "cell_type": "code",
   "execution_count": 6,
   "metadata": {},
   "outputs": [
    {
     "name": "stdout",
     "output_type": "stream",
     "text": [
      "5\n",
      "5\n",
      "4\n",
      "3\n",
      "2\n",
      "1\n",
      "1\n",
      "2\n",
      "3\n",
      "4\n",
      "5\n"
     ]
    }
   ],
   "source": [
    "N = int(input())\n",
    "array=[]\n",
    "for _ in range(N):\n",
    "    array.append(int(input()))\n",
    "array = sorted(array)\n",
    "\n",
    "for data in array:\n",
    "    print(data)"
   ]
  },
  {
   "cell_type": "markdown",
   "metadata": {},
   "source": [
    "### 2. K번째 수 - B11004\n",
    "- 역시 동일"
   ]
  },
  {
   "cell_type": "code",
   "execution_count": 11,
   "metadata": {},
   "outputs": [
    {
     "name": "stdout",
     "output_type": "stream",
     "text": [
      "5 2\n",
      "4 1 2 3 5\n",
      "2\n"
     ]
    }
   ],
   "source": [
    "N,K = map(int,input().split())\n",
    "data = list(map(int,input().split()))\n",
    "\n",
    "data.sort()\n",
    "print(data[K-1])"
   ]
  },
  {
   "cell_type": "code",
   "execution_count": null,
   "metadata": {},
   "outputs": [],
   "source": []
  },
  {
   "cell_type": "code",
   "execution_count": null,
   "metadata": {},
   "outputs": [],
   "source": []
  },
  {
   "cell_type": "code",
   "execution_count": null,
   "metadata": {},
   "outputs": [],
   "source": []
  }
 ],
 "metadata": {
  "kernelspec": {
   "display_name": "Python 3",
   "language": "python",
   "name": "python3"
  },
  "language_info": {
   "codemirror_mode": {
    "name": "ipython",
    "version": 3
   },
   "file_extension": ".py",
   "mimetype": "text/x-python",
   "name": "python",
   "nbconvert_exporter": "python",
   "pygments_lexer": "ipython3",
   "version": "3.7.3"
  }
 },
 "nbformat": 4,
 "nbformat_minor": 2
}
