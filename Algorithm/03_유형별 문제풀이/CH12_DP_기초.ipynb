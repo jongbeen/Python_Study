{
 "cells": [
  {
   "cell_type": "markdown",
   "metadata": {},
   "source": [
    "### 1. 01타일 - B1904\n",
    "> 길이가 i인 수열을 형성하는 방법은 오직 두가지\n",
    "- i-1 까지의 모든 경우의수 + 1 작성\n",
    "- i-2 까지의 모든 경우의 수 + 0 0 작성\n",
    "\n",
    "> 점화식\n",
    "- D[i] = D[i-1] + D[i-2]\n",
    "- 즉, 피보나치 수열과 동일한 문제\n"
   ]
  },
  {
   "cell_type": "code",
   "execution_count": 8,
   "metadata": {},
   "outputs": [
    {
     "name": "stdout",
     "output_type": "stream",
     "text": [
      "5\n",
      "8\n"
     ]
    }
   ],
   "source": [
    "N = int(input())\n",
    "dp = [0] * 100001\n",
    "dp[1] = 1\n",
    "dp[2] = 2\n",
    "\n",
    "for i in range(3,N+1):\n",
    "    dp[i] = (dp[i-2]+dp[i-1]) % 15746\n",
    "\n",
    "print(dp[N])"
   ]
  },
  {
   "cell_type": "markdown",
   "metadata": {},
   "source": [
    "### 2. 평범한 배낭 - B12865\n",
    "> 배낭 문제(Knapsack Problem)으로 알려짐\n",
    "- 물품의 수 N, 배낭에 담을수 있는 무게 K\n",
    "- 시간복잡도 O(NK)로 풀 수 있음\n",
    "\n",
    "> 핵심 아이디어 : 모든 무게에 대하여 최대 가치 저장하기\n",
    "- D[i][j] = 배낭에 넣은 물품의 무게합이 j일때 얻는 최대 가치\n",
    "\n",
    "> 점화식\n",
    "- D[i][j] = D[i-1][j]      if j <W[i]\n",
    "- D[i][j] = max(D[i-1][j] , D[i-1][j-W[i]] + V[i] )     if j>=W[i]\n"
   ]
  },
  {
   "cell_type": "markdown",
   "metadata": {},
   "source": [
    "#### [내답]"
   ]
  },
  {
   "cell_type": "code",
   "execution_count": 6,
   "metadata": {
    "scrolled": true
   },
   "outputs": [
    {
     "name": "stdout",
     "output_type": "stream",
     "text": [
      "4 7\n",
      "1 2\n",
      "4 8\n",
      "3 6\n",
      "8 10\n",
      "14\n"
     ]
    }
   ],
   "source": [
    "N, K = map(int,input().split())\n",
    "List= []\n",
    "for _ in range(N):\n",
    "    W,V = map(int,input().split())\n",
    "    List.append( (W,V) )\n",
    "List.sort()\n",
    "MV = 0\n",
    "for i in range(N):\n",
    "    for j in range(i+1,N):\n",
    "        if List[i][0] + List[j][0] <=K:\n",
    "            price = List[i][1] + List[j][1]\n",
    "            MV = max(MV,price)\n",
    "        else:\n",
    "            break\n",
    "print(MV)"
   ]
  },
  {
   "cell_type": "markdown",
   "metadata": {},
   "source": [
    "#### [해답]"
   ]
  },
  {
   "cell_type": "code",
   "execution_count": null,
   "metadata": {},
   "outputs": [],
   "source": [
    "N,K = map(int,input().split())\n",
    "\n",
    "# 물품수 (0~N) X 버틸수 있는 무게 (0~K)\n",
    "dp = [ [0] * (K+1) for _ in range(N+1) ]\n",
    "for i in range(1, N+1):\n",
    "    weight, value = map(int,input(),split())\n",
    "    for j in range(1,K+1):\n",
    "        # 입력한 무게 weight 보다 작은 1~K 사이 수는 증가X\n",
    "        if j < weight:\n",
    "            dp[i][j] = dp[i-1][j]\n",
    "        # 입력한 무게 weight 보다 큰 1~K 사이의 수는 \n",
    "        # j-weight (7-6=1, 즉 최대 합을 위해 이런 짓) + value\n",
    "        # 혹은 하나 전의 값이 큰지 비교하는 max연산\n",
    "        else:\n",
    "            dp[i][j] = max(dp[i-1][j], dp[i-1][j-weight]+value)\n",
    "            \n",
    "print(dp[n][k])"
   ]
  },
  {
   "cell_type": "markdown",
   "metadata": {},
   "source": [
    "- 물건수N    ...무게K\n",
    "-  0     1     2     3     ...     7\n",
    "-  0\n",
    "-  0\n",
    "-  0\n",
    "-  0\n",
    "-  0\n",
    "- (1) D[i][j] = D[i-1][j]                         if j <W[i]\n",
    "- (2) D[i][j] = max(D[i-1][j],D[i-1][j-W[i]] + V[i] )  if j>=W[i]\n",
    "  \n",
    "- (1)은 물품수는 이전까지 + 같은 중량 의 경우\n",
    "- (2)는 (이전까지 물품수일때 현재 중량 최대가치, 이전까지 물품수에 j-W(설명함) + 현재 value 더했을때\n"
   ]
  },
  {
   "cell_type": "code",
   "execution_count": 14,
   "metadata": {},
   "outputs": [
    {
     "name": "stdout",
     "output_type": "stream",
     "text": [
      "4 7\n",
      "6 13\n",
      "4 8\n",
      "3 6\n",
      "5 12\n",
      "14\n"
     ]
    }
   ],
   "source": [
    "N,K = map(int,input().split())\n",
    "\n",
    "# 물품수 (0~N) X 버틸수 있는 무게 (0~K)\n",
    "dp = [ [0] * (K+1) for _ in range(N+1) ]\n",
    "\n",
    "for i in range(1,N+1):\n",
    "    weight,value = map(int,input().split())\n",
    "    for j in range(1,K+1):\n",
    "        if j < weight:\n",
    "            dp[i][j] = dp[i-1][j]\n",
    "        else:\n",
    "            dp[i][j] = max(dp[i-1][j],dp[i-1][j-weight]+value)\n",
    "            \n",
    "print(dp[N][K])"
   ]
  },
  {
   "cell_type": "code",
   "execution_count": 17,
   "metadata": {},
   "outputs": [
    {
     "name": "stdout",
     "output_type": "stream",
     "text": [
      "4 7\n",
      "6 13\n",
      "4 8\n",
      "3 6\n",
      "5 12\n",
      "14\n"
     ]
    }
   ],
   "source": [
    "N,K = map(int,input().split())\n",
    "\n",
    "dp = [ [0]*(K+1) for _ in range(N+1) ]\n",
    "\n",
    "for i in range(1,N+1):\n",
    "    W,V = map(int,input().split())\n",
    "    for j in range(1,K+1):\n",
    "        if j < W:\n",
    "            dp[i][j] = dp[i-1][j]\n",
    "        else :\n",
    "            dp[i][j] = max(dp[i-1][j], dp[i-1][j-W] + V)\n",
    "print(dp[N][K])"
   ]
  },
  {
   "cell_type": "markdown",
   "metadata": {},
   "source": [
    "### 3. 가장 긴 증가하는 부분 수열 - B11053\n",
    "> DP, LIS(Longest Increasing Subset)\n",
    "- 수열의 크기가 N일때, 시간복잡도 O(N^2)로 풀 수 있음\n",
    "- ㅅㅂ 그럴거면 정렬해서 한개씩 하는개 낫지 않냐?\n",
    "\n",
    "> 핵심 아이디어\n",
    "- D[i] = array[i]를 마지막 원소로 가지는 부분수열 최대 길이\n",
    "\n",
    "> 점화식\n",
    "- 모든 0<=j<i 에 대해, D[i] = max(D[i],D[j]+1) if array[i] < array[j]"
   ]
  },
  {
   "cell_type": "code",
   "execution_count": 19,
   "metadata": {},
   "outputs": [
    {
     "name": "stdout",
     "output_type": "stream",
     "text": [
      "6\n",
      "10 20 10 30 20 50\n",
      "[1, 2, 1, 3, 2, 4]\n"
     ]
    }
   ],
   "source": [
    "N = int(input())\n",
    "array = list(map(int,input().split()))\n",
    "dp = [1] * N\n",
    "\n",
    "for i in range(1,N):\n",
    "    \n",
    "    # 여기서 부터 순차적으로 증가할때만 count 조건 의미\n",
    "    for j in range(0,i):\n",
    "        if array[j] < array[i]:\n",
    "            dp[i] = max(dp[i], dp[j] + 1)\n",
    "            \n",
    "print(max(dp))"
   ]
  }
 ],
 "metadata": {
  "kernelspec": {
   "display_name": "Python 3",
   "language": "python",
   "name": "python3"
  },
  "language_info": {
   "codemirror_mode": {
    "name": "ipython",
    "version": 3
   },
   "file_extension": ".py",
   "mimetype": "text/x-python",
   "name": "python",
   "nbconvert_exporter": "python",
   "pygments_lexer": "ipython3",
   "version": "3.7.3"
  }
 },
 "nbformat": 4,
 "nbformat_minor": 2
}
