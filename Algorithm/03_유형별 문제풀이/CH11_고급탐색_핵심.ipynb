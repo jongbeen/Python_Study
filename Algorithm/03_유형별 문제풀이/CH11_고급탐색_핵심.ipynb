{
 "cells": [
  {
   "cell_type": "markdown",
   "metadata": {},
   "source": [
    "### 1. 최소힙 B-1927\n",
    "- 가장 작은 최솟값을 계속 더함\n",
    "- heapq 를 통해 쉽게 해결 가능 (heappop/heappush)"
   ]
  },
  {
   "cell_type": "code",
   "execution_count": 2,
   "metadata": {},
   "outputs": [
    {
     "name": "stdout",
     "output_type": "stream",
     "text": [
      "9\n",
      "0\n",
      "12345678\n",
      "1\n",
      "2\n",
      "0\n",
      "0\n",
      "0\n",
      "0\n",
      "32\n",
      "[0, 1, 2, 12345678, 0]\n"
     ]
    }
   ],
   "source": [
    "from heapq import heappush, heappop\n",
    "\n",
    "queue=[]\n",
    "result=[]\n",
    "\n",
    "N = int(input())\n",
    "for _ in range(N):\n",
    "    num = int(input())\n",
    "    if num == 0:\n",
    "        if queue:\n",
    "            result.append(heappop(queue))\n",
    "        else:\n",
    "            result.append(0)\n",
    "    else:\n",
    "        heappush(queue,num)\n",
    "for data in result:\n",
    "    print(data)"
   ]
  },
  {
   "cell_type": "markdown",
   "metadata": {},
   "source": [
    "### 2. 카드 정렬하기 - B1715\n",
    "- 최소값 2pop/ 합 1push queue의 길이가 1일때 까지(Sum만 존재)\n",
    "- heapq 를 통해 쉽게 해결 가능"
   ]
  },
  {
   "cell_type": "code",
   "execution_count": 7,
   "metadata": {},
   "outputs": [
    {
     "name": "stdout",
     "output_type": "stream",
     "text": [
      "3\n",
      "10\n",
      "20\n",
      "40\n",
      "100\n"
     ]
    }
   ],
   "source": [
    "from heapq import heappush, heappop\n",
    "\n",
    "N = int(input())\n",
    "queue = []\n",
    "for _ in range(N):\n",
    "    num = int(input())\n",
    "    heappush(queue, num)\n",
    "Sum=0\n",
    "while len(queue)!=1:\n",
    "    a = heappop(queue)\n",
    "    b = heappop(queue)\n",
    "    Sum += a+b\n",
    "    heappush(queue,Sum)\n",
    "print(Sum)"
   ]
  },
  {
   "cell_type": "markdown",
   "metadata": {},
   "source": [
    "### 3. 문제집 - B1766\n",
    "- 위상정렬을 이용한 heap문제\n",
    "- data의 rank를 파악해 rank가 0인것부터 pop해야함\n",
    "- cycle이 생기지 말아야함\n"
   ]
  },
  {
   "cell_type": "code",
   "execution_count": 11,
   "metadata": {},
   "outputs": [
    {
     "name": "stdout",
     "output_type": "stream",
     "text": [
      "4 2\n",
      "4 2\n",
      "3 1\n",
      "3 1 4 2 "
     ]
    }
   ],
   "source": [
    "from heapq import heappush, heappop\n",
    "\n",
    "N,M = map(int,input().split())\n",
    "array=[ [] for i in range(N+1) ]\n",
    "indegree = [0] * (N+1)\n",
    "\n",
    "queue = []\n",
    "result = []\n",
    "\n",
    "for _ in range(M):\n",
    "    x,y = map(int,input().split())\n",
    "    array[x].append(y)\n",
    "    indegree[y] += 1\n",
    "\n",
    "for i in range(1,N+1):\n",
    "    if indegree[i] == 0:\n",
    "        heappush(queue,i)\n",
    "while queue:\n",
    "    data = heappop(queue)\n",
    "    result.append(data)\n",
    "    for y in array[data]:\n",
    "        indegree[y] -= 1\n",
    "        if indegree[y] == 0:\n",
    "            heappush(queue,y)\n",
    "            \n",
    "for i in result:\n",
    "    print(i,end = ' ')"
   ]
  },
  {
   "cell_type": "markdown",
   "metadata": {},
   "source": []
  }
 ],
 "metadata": {
  "kernelspec": {
   "display_name": "Python 3",
   "language": "python",
   "name": "python3"
  },
  "language_info": {
   "codemirror_mode": {
    "name": "ipython",
    "version": 3
   },
   "file_extension": ".py",
   "mimetype": "text/x-python",
   "name": "python",
   "nbconvert_exporter": "python",
   "pygments_lexer": "ipython3",
   "version": "3.7.3"
  }
 },
 "nbformat": 4,
 "nbformat_minor": 2
}
