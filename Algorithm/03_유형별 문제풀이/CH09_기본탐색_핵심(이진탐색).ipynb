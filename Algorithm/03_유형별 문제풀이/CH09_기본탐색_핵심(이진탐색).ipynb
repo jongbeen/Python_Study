{
 "cells": [
  {
   "cell_type": "markdown",
   "metadata": {},
   "source": [
    "## 1. 공유기설치 - B2110\n",
    "- 이진 탐색을 이용한 문제\n",
    "- 첫번째 공유기 설치 (0번째 index = left) 후, 첫번째로 부터 최대거리 (-1번째 index = right)\n",
    "- 그 사이의 gap(= mid)을 조절하며, 0번째 index로 부터 gap, gap번째 index로 부터 다음 gap ... 까지 총 C개가 나오는지 확인\n",
    "- C개 보다 적게 나오면 gap-1, 많이나오면 gap+1"
   ]
  },
  {
   "cell_type": "markdown",
   "metadata": {},
   "source": [
    "### 중요한점은, 입력범위X가 10억이라는것이다. 일반적인 탐색으로는 풀면 안되는것을 명심해야된다\n",
    "### logX 로 줄일수 있도록 이진 탐색을 활용해야함"
   ]
  },
  {
   "cell_type": "markdown",
   "metadata": {},
   "source": [
    "### 기존의 이진탐색 구현\n",
    "#### 재귀로 풀었다는점이 아쉬움"
   ]
  },
  {
   "cell_type": "code",
   "execution_count": 1,
   "metadata": {},
   "outputs": [],
   "source": [
    "def binary_search(data,search):\n",
    "    medium = len(data) // 2\n",
    "    if search == data[medium]:\n",
    "        return medium\n",
    "    else:\n",
    "        if search > data[medium]:\n",
    "            return binary_search(data[medium+1:],search)\n",
    "        else :\n",
    "            return binary_search(data[:medium],search)"
   ]
  },
  {
   "cell_type": "markdown",
   "metadata": {},
   "source": [
    "### 해설 (정답)\n",
    "- array[i] > 설치한 spot의 값+ mid (=gap) 인 경우엔, 해당 index에 공유기 설치 가능함\n",
    "- 즉, 0번째 index - 1번째 index = start (min) ,\n",
    "- -1번째 index(가장 큰 수) - 0번째 index = end (max)\n",
    "- max와 min사이 mid를 gap으로 생각해서, gap을 최대 몇번 더할수 있는지가 목표"
   ]
  },
  {
   "cell_type": "code",
   "execution_count": 1,
   "metadata": {},
   "outputs": [
    {
     "name": "stdout",
     "output_type": "stream",
     "text": [
      "5 2\n",
      "1\n",
      "2\n",
      "4\n",
      "8\n",
      "9\n",
      "8\n"
     ]
    }
   ],
   "source": [
    "N,C = map(int,input().split())\n",
    "\n",
    "array = []\n",
    "\n",
    "for _ in range(N):\n",
    "    array.append(int(input()))\n",
    "array = sorted(array)\n",
    "\n",
    "start = array[1] - array[0]\n",
    "end = array[-1] - array[0]\n",
    "\n",
    "while start<=end:\n",
    "    mid = (start+end)//2\n",
    "    spot = array[0]\n",
    "    count=1\n",
    "    for i in range(1,len(array)):\n",
    "        if array[i] >= spot + mid:\n",
    "            spot = array[i]\n",
    "            count+=1\n",
    "    if count >= C:\n",
    "        start = mid+1\n",
    "        result = mid\n",
    "    else :\n",
    "        end = mid -1\n",
    "print(result)"
   ]
  },
  {
   "cell_type": "markdown",
   "metadata": {},
   "source": [
    "## 2. 중량 제한 - B1939\n",
    "- 이진 탐색과 BFS를 이용한 문제\n",
    "- BFS를 통해 경로가 있는지 파악, 이동이 가능한지 유무 확인\n",
    "> 기존엔 BFS를 통해 root디렉토리부터 전위 순회 하는 것을 확인했다.\n",
    ">\n",
    "> 이번에는 BFS를 통해 start_node부터 end_node까지 이어지는지 확인할 것\n",
    "- 이진 탐색으로 중량 증/감 해서 최종 중량 파악"
   ]
  },
  {
   "cell_type": "markdown",
   "metadata": {},
   "source": [
    "### 그래프 예와 파이썬 표현\n",
    "<img src=\"https://www.fun-coding.org/00_Images/bfsgraph.png\" width=500>"
   ]
  },
  {
   "cell_type": "markdown",
   "metadata": {},
   "source": [
    "### 기존의 BFS 구현\n",
    "- Key와 Value를 다음과 같이 표현한 딕셔너리 자료형 Graph생성\n",
    "- 이후 방문할 큐(need_visit)와 방문한 큐(visited)로 다음 노드 탐색\n",
    "- 하지만 딕셔너리형 그래프에만 적용됨"
   ]
  },
  {
   "cell_type": "code",
   "execution_count": 7,
   "metadata": {},
   "outputs": [],
   "source": [
    "def BFS(graph,start):\n",
    "    need_visit,visted =[],[]\n",
    "    need_visit.append(start)\n",
    "    \n",
    "    while need_visit:\n",
    "        node = need_visit.pop(0)\n",
    "        if node not in visited:\n",
    "            visited.append(node)\n",
    "            need_visit.extend(graph[node])\n",
    "    return visited"
   ]
  },
  {
   "cell_type": "markdown",
   "metadata": {},
   "source": [
    "### 해답 "
   ]
  },
  {
   "cell_type": "code",
   "execution_count": 1,
   "metadata": {},
   "outputs": [
    {
     "name": "stdout",
     "output_type": "stream",
     "text": [
      "3 3\n",
      "1 2 2\n",
      "3 1 3\n",
      "2 3 2\n",
      "1 3\n",
      "3\n"
     ]
    }
   ],
   "source": [
    "from collections import deque\n",
    "\n",
    "N,M = map(int,input().split())\n",
    "adj = [ [] for _ in range(N+1)]\n",
    "\n",
    "def BFS(cost):\n",
    "    queue = deque([start_node])\n",
    "    visited = [False] * (N+1)\n",
    "    visited[start_node] = True\n",
    "    while queue:\n",
    "        x = queue.popleft()\n",
    "        for y,weight in adj[x]:\n",
    "            if not visited[y] and weight >= cost:\n",
    "                visited[y] = True\n",
    "                queue.append(y)\n",
    "    return visited[end_node]\n",
    "start = 1e9\n",
    "end = 1\n",
    "\n",
    "for _ in range(M):\n",
    "    x, y, weight = map(int,input().split())\n",
    "    adj[x].append( (y,weight) )\n",
    "    adj[y].append( (x,weight) )\n",
    "    start = min(start,weight)\n",
    "    end = max(end,weight)\n",
    "    \n",
    "start_node , end_node = map(int,input().split())\n",
    "result = start\n",
    "\n",
    "while(start<=end):\n",
    "    mid = (start+end) //2\n",
    "    if BFS(mid):\n",
    "        result = mid\n",
    "        start = mid +1\n",
    "    else:\n",
    "        end = mid -1\n",
    "print(result)\n"
   ]
  },
  {
   "cell_type": "markdown",
   "metadata": {},
   "source": [
    "### deque란?\n",
    "- Stack과 queue의 기능을 모두 가짐\n",
    "\n",
    "> Stack의 구현\n",
    ">> append(), pop()으로 리스트 처럼 사용 가능\n",
    "\n",
    "> Queue 구현\n",
    ">> appendleft(),pop(),append(),popleft()\n",
    ">> 원하는 방향으로(왼쪽부터) 값을 뺄수 있다\n",
    "\n",
    "- deque 확장하기 : extend([]), extendleft()\n",
    "- 리스트처럼 사용 : insert(),remove()"
   ]
  },
  {
   "cell_type": "code",
   "execution_count": 20,
   "metadata": {},
   "outputs": [
    {
     "data": {
      "text/plain": [
       "deque([3, 1, 0])"
      ]
     },
     "execution_count": 20,
     "metadata": {},
     "output_type": "execute_result"
    }
   ],
   "source": [
    "from collections import deque\n",
    "\n",
    "que = deque([1])\n",
    "que.append(0)\n",
    "que.appendleft(3)\n",
    "que"
   ]
  },
  {
   "cell_type": "code",
   "execution_count": null,
   "metadata": {},
   "outputs": [],
   "source": []
  }
 ],
 "metadata": {
  "kernelspec": {
   "display_name": "Python 3",
   "language": "python",
   "name": "python3"
  },
  "language_info": {
   "codemirror_mode": {
    "name": "ipython",
    "version": 3
   },
   "file_extension": ".py",
   "mimetype": "text/x-python",
   "name": "python",
   "nbconvert_exporter": "python",
   "pygments_lexer": "ipython3",
   "version": "3.7.3"
  }
 },
 "nbformat": 4,
 "nbformat_minor": 2
}
