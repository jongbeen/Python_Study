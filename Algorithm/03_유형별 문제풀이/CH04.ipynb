{
 "cells": [
  {
   "cell_type": "code",
   "execution_count": 3,
   "metadata": {},
   "outputs": [
    {
     "name": "stdout",
     "output_type": "stream",
     "text": [
      "Writing CH04_BasicSort_01_B2750.py\n"
     ]
    }
   ],
   "source": [
    "%%writefile CH04_BasicSort_01_B2750.py\n",
    "def quicksort(data):\n",
    "    if len(data)<=1:\n",
    "        return data\n",
    "    pivot = data[0]\n",
    "    left = [item for item in data[1:] if pivot > item]\n",
    "    right = [item for item in data[1:] if pivot <=item]\n",
    "    \n",
    "    return quicksort(left)+[pivot]+quicksort(right)\n",
    "\n",
    "N = int(input())\n",
    "ANS = [0] * N\n",
    "for i in range(N):\n",
    "    ANS[i] = int(input())\n",
    "\n",
    "ANS = quicksort(ANS)\n",
    "\n",
    "for i in range(len(ANS)):\n",
    "    print(ANS[i])"
   ]
  },
  {
   "cell_type": "code",
   "execution_count": 14,
   "metadata": {},
   "outputs": [
    {
     "name": "stdout",
     "output_type": "stream",
     "text": [
      "Writing CH04_BasicSort_02_B1427.py\n"
     ]
    }
   ],
   "source": [
    "%%writefile CH04_BasicSort_02_B1427.py\n",
    "def quicksort(data):\n",
    "    if len(data) <=1:\n",
    "        return data\n",
    "    \n",
    "    pivot = data[0]\n",
    "    \n",
    "    left = [item for item in data[1:] if pivot <= item]\n",
    "    right = [item for item in data[1:] if pivot > item]\n",
    "    \n",
    "    return quicksort(left)+[pivot]+quicksort(right)\n",
    "\n",
    "Num = list(input())\n",
    "Num = quicksort(Num)\n",
    "print(''.join(Num))"
   ]
  },
  {
   "cell_type": "code",
   "execution_count": 12,
   "metadata": {},
   "outputs": [
    {
     "data": {
      "text/plain": [
       "'12345'"
      ]
     },
     "execution_count": 12,
     "metadata": {},
     "output_type": "execute_result"
    }
   ],
   "source": [
    "a = [1,2,3,4,5]\n",
    "String =\"\"\n",
    "for i in range(len(a)):\n",
    "    String+= str(a[i])\n",
    "String"
   ]
  },
  {
   "cell_type": "code",
   "execution_count": null,
   "metadata": {},
   "outputs": [],
   "source": []
  }
 ],
 "metadata": {
  "kernelspec": {
   "display_name": "Python 3",
   "language": "python",
   "name": "python3"
  },
  "language_info": {
   "codemirror_mode": {
    "name": "ipython",
    "version": 3
   },
   "file_extension": ".py",
   "mimetype": "text/x-python",
   "name": "python",
   "nbconvert_exporter": "python",
   "pygments_lexer": "ipython3",
   "version": "3.7.3"
  }
 },
 "nbformat": 4,
 "nbformat_minor": 2
}
