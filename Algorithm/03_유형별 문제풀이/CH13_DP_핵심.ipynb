{
 "cells": [
  {
   "cell_type": "markdown",
   "metadata": {},
   "source": [
    "### 1. LCS - B9251\n",
    "> D[i][j] = X[0...i]와 Y[0...j]의 공통 부분 수열의 최대길이\n",
    "- 두 문자열의 길이를 조금씩 늘려가며 최대길이 확인\n",
    "- 두 수열을 각각 X,Y라고 함\n",
    "\n",
    "> 점화식\n",
    "- D[i][j] = D[i-1][j-1] + 1   if X[i] = Y[i]\n",
    "- D[i][j] = max( D[i][j-1] , D[i-1][j] )  if X[i] != Y[i]\n"
   ]
  },
  {
   "cell_type": "code",
   "execution_count": null,
   "metadata": {},
   "outputs": [],
   "source": [
    "# 문자열 입력\n",
    "x = input()\n",
    "y = input()\n",
    "\n",
    "# 공집합 ~ 문자열 X 공집합 ~ 문자열\n",
    "dp = [[0] * (len(y)+1) for _ in range(len(x) + 1) ]\n",
    "\n",
    "# 한글자씩 비교시작, 일치하는 지 확인\n",
    "for i in range(1,len(x) + 1):\n",
    "    for j in range(1,len(y) + 1):\n",
    "        # 일치한다면 대각선방향으로 1 증가\n",
    "        if x[i-1] == y[j-1]:\n",
    "            dp[i][j] = dp[i-1][j-1] +1\n",
    "        # 그렇지 않다면 왼쪽/위쪽 과 비교해서 더 큰 것 선택\n",
    "        else:\n",
    "            dp[i][j] = max(dp[i][j-1],dp[i-1][j])\n",
    "            \n",
    "print(dp[len(x)][len(y)])"
   ]
  },
  {
   "cell_type": "markdown",
   "metadata": {},
   "source": [
    "### 2. 기타리스트 - B1495\n",
    "> 차례대로 연주한다는 점에서, DP로 해결할 수 있음\n",
    "- 곡의 개수가 N, 볼륨의 최댓값은 M\n",
    "- DP활용시 시간복잡도 O(NM)\n",
    "\n",
    "> 핵심 아이디어 : 모든 볼륨에 대해 연주가능 여부 계산\n",
    "- D[i][j+1] = i번째 노래일때, j크기의 볼륨으로 연주 가능한지 여부\n",
    "- 노래를 순서대로 확인, 매번 모든 크기의 볼륨에 대해 검사\n",
    "\n",
    "> 점화식\n",
    "- D[i][j - V[i]] = True if D[i-1][j] = True\n",
    "- D[i][j + V[i]] = True if D[i-1][j] = True\n"
   ]
  },
  {
   "cell_type": "code",
   "execution_count": 4,
   "metadata": {},
   "outputs": [
    {
     "name": "stdout",
     "output_type": "stream",
     "text": [
      "3 5 10\n",
      "5 3 7\n",
      "10\n"
     ]
    }
   ],
   "source": [
    "N,S,M = map(int,input().split())\n",
    "array = list(map(int,input().split()))\n",
    "\n",
    "#  M+1 (0<=M<=10이니까) X N+1( 디폴트 볼륨은 0, 1번째~N번째 존재)\n",
    "dp = [[0] * (M+1) for _ in range(N+1)]\n",
    "# (디폴트 S번째 시작 볼륨은 True)\n",
    "dp[0][S] = 1\n",
    "\n",
    "for i in range(1, N+1):\n",
    "    for j in range(M+1):\n",
    "        # 디폴트 시작 볼륨을 찾고\n",
    "        if dp[i-1][j] == 0:\n",
    "            continue\n",
    "        # 시작 볼륨 - N번째 볼륨이 0 이상이면 index에 체크\n",
    "        if j - array[i-1] >=0:\n",
    "            dp[i][j-array[i-1]] = 1\n",
    "        # 시작 볼륨 + N번째 볼륨이 10 이하면 index에 체크\n",
    "        if j + array[i-1] <= M:\n",
    "            dp[i][j+array[i-1]] = 1\n",
    "result = -1\n",
    "# N번째 줄에 index체크된 볼륨을 뒤에서부터 찾음\n",
    "for i in range(M,-1,-1):\n",
    "    if dp[N][i] == 1:\n",
    "        result = i\n",
    "        break\n",
    "print(result)\n"
   ]
  },
  {
   "cell_type": "code",
   "execution_count": null,
   "metadata": {},
   "outputs": [],
   "source": []
  }
 ],
 "metadata": {
  "kernelspec": {
   "display_name": "Python 3",
   "language": "python",
   "name": "python3"
  },
  "language_info": {
   "codemirror_mode": {
    "name": "ipython",
    "version": 3
   },
   "file_extension": ".py",
   "mimetype": "text/x-python",
   "name": "python",
   "nbconvert_exporter": "python",
   "pygments_lexer": "ipython3",
   "version": "3.7.3"
  }
 },
 "nbformat": 4,
 "nbformat_minor": 2
}
