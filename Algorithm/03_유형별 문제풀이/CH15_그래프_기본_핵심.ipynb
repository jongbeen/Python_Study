{
 "cells": [
  {
   "cell_type": "markdown",
   "metadata": {},
   "source": [
    "### 1. 바이러스 - B2606\n",
    "> DFS?BFS\n",
    "- 그냥 시작노드부터 BFS/DFS통해 몇번 카운트 되는지 보면 되는거 같은데\n",
    "- collections 라이브러리의 deque를 사용\n",
    "\n",
    "> 시간복잡도는 노드와 간선에 영향을 받음\n",
    "- O(N+M)"
   ]
  },
  {
   "cell_type": "markdown",
   "metadata": {},
   "source": [
    "#### [내 답과 해답 비교]\n",
    "- [내답] : 나는 start(1) 부터 BFS를 이용해 visited에 True체크된 것을 count\n",
    "- [해답] : dfs로 다른 노드 방문시 count체크"
   ]
  },
  {
   "cell_type": "code",
   "execution_count": 4,
   "metadata": {},
   "outputs": [
    {
     "name": "stdout",
     "output_type": "stream",
     "text": [
      "7\n",
      "6\n",
      "1 2\n",
      "2 3\n",
      "1 5\n",
      "5 2\n",
      "5 6\n",
      "4 7\n",
      "5\n"
     ]
    }
   ],
   "source": [
    "from collections import deque\n",
    "\n",
    "def bfs(Graph,start):\n",
    "    queue = deque([start])\n",
    "    visited = [False] * (N+1)\n",
    "    while queue:\n",
    "        node = queue.popleft()\n",
    "        if not visited[node]:\n",
    "            visited[node] = True\n",
    "            for edge in Graph[node]:\n",
    "                if not visited[edge]:\n",
    "                    queue.append(edge)\n",
    "    return visited\n",
    "\n",
    "N = int(input())\n",
    "M = int(input())\n",
    "Edges = [[]for _ in range(N+1) ]\n",
    "\n",
    "for _ in range(M):\n",
    "    S,E = map(int,input().split())\n",
    "    Edges[S].append(E)\n",
    "    Edges[E].append(S)\n",
    "for e in Edges:\n",
    "    e.sort()\n",
    "Ans = bfs(Edges,1)\n",
    "count = 0\n",
    "for i in Ans:\n",
    "    if i == True:\n",
    "        count+=1\n",
    "        \n",
    "print(count-1)"
   ]
  },
  {
   "cell_type": "code",
   "execution_count": 4,
   "metadata": {},
   "outputs": [
    {
     "name": "stdout",
     "output_type": "stream",
     "text": [
      "7\n",
      "6\n",
      "1 2\n",
      "2 3\n",
      "1 5\n",
      "5 2\n",
      "5 6\n",
      "4 7\n",
      "4\n"
     ]
    }
   ],
   "source": [
    "def dfs(Graph,start):\n",
    "    global count\n",
    "    count+=1\n",
    "    visited[start] = True\n",
    "    for node in Graph[start]:\n",
    "        if not visited[node]:\n",
    "            dfs(Graph,node)           \n",
    "            \n",
    "N = int(input())\n",
    "M = int(input())\n",
    "Edges = [[] for _ in range(N+1)]\n",
    "visited = [False] * (N+1)\n",
    "count = 0\n",
    "\n",
    "for _ in range(M):\n",
    "    S,E = map(int,input().split())\n",
    "    Edges[S].append(E)\n",
    "    Edges[E].append(S)\n",
    "\n",
    "dfs(Edges,1)\n",
    "print(count-1)"
   ]
  },
  {
   "cell_type": "markdown",
   "metadata": {},
   "source": [
    "### 2. 유기농 배추 - B1012\n",
    "> 역시 DFS or BFS로 풀면 된다\n",
    "- 가로길이 M 과 세로길이 N을 순차적으로 모두 검사한다\n",
    "- 검사할때마다 DFS 혹은 BFS로 풀면 됨\n",
    "- 한번 방문한 정점은 다시 확인하지 않는다\n",
    "- DFS 및 BFS를 수행한 총 횟수를 계산함\n",
    "\n",
    "> DFS로 문제를 풀때,\n",
    "- sys 라이브러리의 setrecursionlimit()함수를 설정해야함\n",
    "\n",
    "> 시간복잡도는 아마 배열크기 아닐까.. 분석해 보겟"
   ]
  },
  {
   "cell_type": "code",
   "execution_count": 6,
   "metadata": {},
   "outputs": [
    {
     "name": "stdout",
     "output_type": "stream",
     "text": [
      "ㄷㄷ\n"
     ]
    },
    {
     "ename": "ValueError",
     "evalue": "invalid literal for int() with base 10: 'ㄷㄷ'",
     "output_type": "error",
     "traceback": [
      "\u001b[1;31m---------------------------------------------------------------------------\u001b[0m",
      "\u001b[1;31mValueError\u001b[0m                                Traceback (most recent call last)",
      "\u001b[1;32m<ipython-input-6-230a3fbe98c2>\u001b[0m in \u001b[0;36m<module>\u001b[1;34m\u001b[0m\n\u001b[0;32m     12\u001b[0m             \u001b[0mdfs\u001b[0m\u001b[1;33m(\u001b[0m\u001b[0mnx\u001b[0m\u001b[1;33m,\u001b[0m\u001b[0mny\u001b[0m\u001b[1;33m)\u001b[0m\u001b[1;33m\u001b[0m\u001b[1;33m\u001b[0m\u001b[0m\n\u001b[0;32m     13\u001b[0m \u001b[1;33m\u001b[0m\u001b[0m\n\u001b[1;32m---> 14\u001b[1;33m \u001b[1;32mfor\u001b[0m \u001b[0m_\u001b[0m \u001b[1;32min\u001b[0m \u001b[0mrange\u001b[0m\u001b[1;33m(\u001b[0m\u001b[0mint\u001b[0m\u001b[1;33m(\u001b[0m\u001b[0minput\u001b[0m\u001b[1;33m(\u001b[0m\u001b[1;33m)\u001b[0m\u001b[1;33m)\u001b[0m\u001b[1;33m)\u001b[0m\u001b[1;33m:\u001b[0m\u001b[1;33m\u001b[0m\u001b[1;33m\u001b[0m\u001b[0m\n\u001b[0m\u001b[0;32m     15\u001b[0m     \u001b[0mM\u001b[0m\u001b[1;33m,\u001b[0m\u001b[0mN\u001b[0m\u001b[1;33m,\u001b[0m\u001b[0mK\u001b[0m \u001b[1;33m=\u001b[0m \u001b[0mmap\u001b[0m\u001b[1;33m(\u001b[0m\u001b[0mint\u001b[0m\u001b[1;33m,\u001b[0m\u001b[0minput\u001b[0m\u001b[1;33m(\u001b[0m\u001b[1;33m)\u001b[0m\u001b[1;33m.\u001b[0m\u001b[0msplit\u001b[0m\u001b[1;33m(\u001b[0m\u001b[1;33m)\u001b[0m\u001b[1;33m)\u001b[0m\u001b[1;33m\u001b[0m\u001b[1;33m\u001b[0m\u001b[0m\n\u001b[0;32m     16\u001b[0m     \u001b[0marray\u001b[0m \u001b[1;33m=\u001b[0m \u001b[1;33m[\u001b[0m\u001b[1;33m[\u001b[0m\u001b[1;36m0\u001b[0m\u001b[1;33m]\u001b[0m\u001b[1;33m*\u001b[0m\u001b[0mM\u001b[0m \u001b[1;32mfor\u001b[0m \u001b[0m_\u001b[0m \u001b[1;32min\u001b[0m \u001b[0mrange\u001b[0m\u001b[1;33m(\u001b[0m\u001b[0mN\u001b[0m\u001b[1;33m)\u001b[0m\u001b[1;33m]\u001b[0m\u001b[1;33m\u001b[0m\u001b[1;33m\u001b[0m\u001b[0m\n",
      "\u001b[1;31mValueError\u001b[0m: invalid literal for int() with base 10: 'ㄷㄷ'"
     ]
    }
   ],
   "source": [
    "import sys\n",
    "sys.setrecursionlimit(100000)\n",
    "\n",
    "def dfs(x,y):\n",
    "    visited[x][y] = True\n",
    "    directions = [(-1,0),(1,0),(0,-1),(0,1)]\n",
    "    for dx,dy in directions:\n",
    "        nx, ny = x+dx, y+dy\n",
    "        if nx <0 or nx>=N or ny<0 or ny>=M:\n",
    "            continue\n",
    "        if array[nx][ny] and not visited[nx][ny]:\n",
    "            dfs(nx,ny)\n",
    "\n",
    "for _ in range(int(input())):\n",
    "    M,N,K = map(int,input().split())\n",
    "    array = [[0]*M for _ in range(N)]\n",
    "    visited = [[False]*M for _ in range(N)]\n",
    "    for _ in range(K):\n",
    "        Y,X = map(int,input().split())\n",
    "        array[X][Y] = 1\n",
    "    result = 0\n",
    "    for i in range(N):\n",
    "        for j in range(M):\n",
    "            if array[i][j] and not visited[i][j]:\n",
    "                dfs(i,j)\n",
    "                result+=1\n",
    "    print(result)"
   ]
  },
  {
   "cell_type": "code",
   "execution_count": null,
   "metadata": {},
   "outputs": [],
   "source": [
    "def dfs(x,y):\n",
    "    visited[x][y] = True\n",
    "    directions = [(-1,0),(1,0),(0,-1),(0,1)]\n",
    "    for nx,ny in directions:\n",
    "        dx,dy = x+nx, n+dy\n",
    "        if nx <0 or nx>=N or ny<0 or ny>=M:\n",
    "            continue\n",
    "        if array[nx][ny] and not visited[nx][ny]:\n",
    "            dfs(nx,ny)\n",
    "\n",
    "\n",
    "for _ in range(int(input())):\n",
    "    M,N,K = map(int,input().split())\n",
    "    array = [[0] *M for _ in range(N)]\n",
    "    visited = [[False]*M for _ in range(N)]\n",
    "    \n",
    "    for _ in range(K):\n",
    "        Y,X = map(int,input().split())\n",
    "        array[X][Y] = 1\n",
    "    result = 0\n",
    "    for i in range(M):\n",
    "        for j in range(N):\n",
    "            if array[i][j] and not visited[i][j]:\n",
    "                dfs(i,j)\n",
    "                result +=1\n",
    "    print(result)"
   ]
  },
  {
   "cell_type": "markdown",
   "metadata": {},
   "source": [
    "### 3. 효율적인 해킹 - B1325\n",
    "> DFS or BFS로 풀면 된다\n",
    "- 모든 정점에 대해 수행, 가장 노드의 개수가 크게되는 시작정점 출력\n",
    "- DFS or BFS를 수행할 때 마다 방문하게 되는 노드의 개수를 계산\n",
    "\n",
    "> 문제\n",
    "- N개의 컴퓨터, M개의 신뢰 관계 주어짐\n",
    "- A,B 는 B가 A를 신뢰한다는 의미\n",
    "- 한번에 가장많이 해킹할수 있는 컴퓨터 오름차순 출력"
   ]
  },
  {
   "cell_type": "markdown",
   "metadata": {},
   "source": [
    "> 입력\n",
    "- 5 4\n",
    "- 3 1\n",
    "- 3 2\n",
    "- 4 3\n",
    "- 5 3\n",
    "\n",
    "> 출력\n",
    "- 1 2"
   ]
  },
  {
   "cell_type": "code",
   "execution_count": 1,
   "metadata": {},
   "outputs": [],
   "source": [
    "from collections import deque\n",
    "    \n",
    "def BFS(start):\n",
    "    queue = deque([start])\n",
    "    visited = [False] *(N+1)\n",
    "    visited[start] = True\n",
    "    count = 1\n",
    "    while queue:\n",
    "        node = queue.popleft()\n",
    "        for edge in adj[node]:\n",
    "            if not visited[edge]:\n",
    "                queue.append(edge)\n",
    "                visited[edge] = True\n",
    "                count += 1\n",
    "    return count"
   ]
  },
  {
   "cell_type": "code",
   "execution_count": 2,
   "metadata": {},
   "outputs": [
    {
     "name": "stdout",
     "output_type": "stream",
     "text": [
      "5 4\n",
      "3 1\n",
      "3 2\n",
      "4 3\n",
      "5 3\n",
      "1 2 "
     ]
    }
   ],
   "source": [
    "N,M = map(int,input().split())\n",
    "adj = [[] for _ in range (N+1)]\n",
    "\n",
    "for _ in range(M):\n",
    "    X,Y = map(int,input().split())\n",
    "    # 단일방향이어야 함\n",
    "    adj[Y].append(X)\n",
    "result = []\n",
    "max_value = -1\n",
    "for i in range(1,N+1):\n",
    "    c = BFS(i)\n",
    "    if c > max_value:\n",
    "        result = [i]\n",
    "        max_value = c\n",
    "    elif c == max_value:\n",
    "        result.append(i)\n",
    "for e in result:\n",
    "    print(e,end=' ')"
   ]
  },
  {
   "cell_type": "code",
   "execution_count": 4,
   "metadata": {},
   "outputs": [
    {
     "name": "stdout",
     "output_type": "stream",
     "text": [
      "5 4\n",
      "3 1\n",
      "3 2\n",
      "4 3\n",
      "5 3\n",
      "1 2 "
     ]
    }
   ],
   "source": [
    "from collections import deque\n",
    "\n",
    "def BFS(Graph,start):\n",
    "    queue = deque([start])\n",
    "    visited = [False] * (N+1)\n",
    "    visited[start] = True\n",
    "    count=1\n",
    "    while queue:\n",
    "        node = queue.popleft()\n",
    "        for edge in Graph[node]:\n",
    "            if not visited[edge]:\n",
    "                queue.append(edge)\n",
    "                visited[edge] = True\n",
    "                count+=1\n",
    "    return count\n",
    "\n",
    "N,M = map(int,input().split())\n",
    "Edges = [[] for _ in range(N+1)]\n",
    "for _ in range(M):\n",
    "    A,B = map(int,input().split())\n",
    "    Edges[B].append(A)\n",
    "    \n",
    "result = [] \n",
    "Max_count= -1\n",
    "for i in range(1,N+1):\n",
    "    c = BFS(Edges,i)\n",
    "    if c > Max_count:\n",
    "        Max_count = c\n",
    "        result = [i]\n",
    "    elif c == Max_count:\n",
    "        result.append(i)\n",
    "for r in result:\n",
    "    print(r,end=' ')"
   ]
  },
  {
   "cell_type": "code",
   "execution_count": null,
   "metadata": {},
   "outputs": [],
   "source": []
  },
  {
   "cell_type": "code",
   "execution_count": null,
   "metadata": {},
   "outputs": [],
   "source": []
  },
  {
   "cell_type": "code",
   "execution_count": null,
   "metadata": {},
   "outputs": [],
   "source": []
  },
  {
   "cell_type": "code",
   "execution_count": null,
   "metadata": {},
   "outputs": [],
   "source": []
  }
 ],
 "metadata": {
  "kernelspec": {
   "display_name": "Python 3",
   "language": "python",
   "name": "python3"
  },
  "language_info": {
   "codemirror_mode": {
    "name": "ipython",
    "version": 3
   },
   "file_extension": ".py",
   "mimetype": "text/x-python",
   "name": "python",
   "nbconvert_exporter": "python",
   "pygments_lexer": "ipython3",
   "version": "3.7.3"
  }
 },
 "nbformat": 4,
 "nbformat_minor": 2
}
