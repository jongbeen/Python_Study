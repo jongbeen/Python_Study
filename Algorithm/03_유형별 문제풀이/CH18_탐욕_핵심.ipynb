{
 "cells": [
  {
   "cell_type": "markdown",
   "metadata": {},
   "source": [
    "### 1. 센서 - B2212\n",
    "> 그리디 알고리즘\n",
    "- \"모든 센서의 자표가 다를 필요는 없다.\" -> (입력값 동일 가능)\n",
    "- \"각 좌표사이에는 빈칸이 하나 이상 있으며\" ->(입력시 공백)\n",
    "- \"최대 K개의 집중국 수신가능 영역의 최솟값을 구하시오\"\n",
    "\n",
    "> 입력\n",
    "- N (센서의 개수 1<= N <= 10000)\n",
    "- M (집중국의 개수 1<= K <= 1000)\n",
    "- N개의 센서 좌표 (빈칸= 공백, 좌표의 절대값은 1000000이하)\n",
    "\n",
    "> 출력\n",
    "- K개 수신가능영역 길이 합의 최솟값\n",
    "\n",
    "> 헷갈린점\n",
    "- 빈칸, 다를필요X 말을 이상하게 써놓으니; 무슨말인지 헷갈렷다\n",
    "- 해설보고 알았다"
   ]
  },
  {
   "cell_type": "markdown",
   "metadata": {},
   "source": [
    "#### [해답]\n",
    "> 알고리즘\n",
    "- 모든 센서 위치를 정렬후, i, i+1 센서간 거리 모두 분석\n",
    "\n",
    "- 거리가 가장 먼 것들을 K-1개로 분리"
   ]
  },
  {
   "cell_type": "code",
   "execution_count": 2,
   "metadata": {},
   "outputs": [
    {
     "name": "stdout",
     "output_type": "stream",
     "text": [
      "6\n",
      "2\n",
      "1 6 3 6 7 9\n",
      "5\n"
     ]
    }
   ],
   "source": [
    "import sys\n",
    "\n",
    "N = int(input())\n",
    "K = int(input())\n",
    "sensors = list(map(int,input().split()))\n",
    "\n",
    "\n",
    "if K>=N:\n",
    "    print(0) # 각 센서의 모든 위치에 설치하면 되므로\n",
    "    sys.exit()\n",
    "\n",
    "width = []\n",
    "sensors.sort()\n",
    "\n",
    "for i in range(N-1):\n",
    "    width.append(sensors[i+1] - sensors[i])\n",
    "width.sort()\n",
    "\n",
    "for _ in range(K-1):\n",
    "    width.pop()\n",
    "# result = 0    \n",
    "# for i in range(len(width)):\n",
    "#     result += width[i]\n",
    "    \n",
    "# print(result)\n",
    "print(sum(width))"
   ]
  },
  {
   "cell_type": "markdown",
   "metadata": {},
   "source": [
    "### 2. 도서관 - B1461\n",
    "> 그리디 알고리즘\n",
    "- \"한걸음에 한칸씩 간다\"\n",
    "- \"모두 제자리에 둔 후에는 0으로 돌아올 필요는 없다.\"\n",
    "- \"책의 위치는 0이 아니며, 절대값이 10000보다 작거나 같다\"\n",
    "\n",
    "> 입력\n",
    "- N , M(책의 개수 N, 들수 있는 책의 개수)\n",
    "- 0 < N,M <10000 책의 위치는 절대값 10000이내\n",
    "\n",
    "> 출력\n",
    "- 책을 모두 제자리에 두는 최소 걸음\n",
    "\n",
    "> 헷갈린점\n",
    "- 없다, 단지 못 풀었다"
   ]
  },
  {
   "cell_type": "markdown",
   "metadata": {},
   "source": [
    "#### [해답]\n",
    "> 알고리즘\n",
    "- 0보다 큰 책들과 0보다 작은책들을 나누어서 처리\n",
    "- 두개의 우선순위 큐를 이용해 해결 가능\n",
    "- 마지막이 0으로 올 필요가 없으므로, 가장 먼 책을 마지막에 놓음"
   ]
  },
  {
   "cell_type": "code",
   "execution_count": 3,
   "metadata": {},
   "outputs": [
    {
     "name": "stdout",
     "output_type": "stream",
     "text": [
      "7 2\n",
      "-37 2 -6 -39 -29 11 -28\n",
      "131\n"
     ]
    }
   ],
   "source": [
    "import heapq\n",
    "\n",
    "N,M = map(int,input().split())\n",
    "array = list(map(int,input().split()))\n",
    "positive = []\n",
    "negative = []\n",
    "\n",
    "largest = max(max(array),-min(array))\n",
    "\n",
    "for i in array:\n",
    "    # Max_heap을 사용하기 위해 양수에는 *-1 연산 진행\n",
    "    if i>0:\n",
    "        heapq.heappush(positive,-i)\n",
    "    else:\n",
    "        heapq.heappush(negative,i)\n",
    "\n",
    "result = 0\n",
    "\n",
    "while positive:\n",
    "    result+=heapq.heappop(positive)\n",
    "    # 어차피 최댓값 1개가 나머지 M-1개를 cover하기 때문\n",
    "    \n",
    "    for _ in range(M-1):\n",
    "        if positive:\n",
    "            heapq.heappop(positive)\n",
    "        \n",
    "while negative:\n",
    "    result += heapq.heappop(negative)\n",
    "    \n",
    "    for _ in range(M-1):\n",
    "        if negative:\n",
    "            heapq.heappop(negative)\n",
    "            \n",
    "print(-result*2 - largest)"
   ]
  },
  {
   "cell_type": "markdown",
   "metadata": {},
   "source": [
    "### 3. 컵라면 - B1781\n",
    "> 그리디 알고리즘\n",
    "- \"각각의 문제에 데드라인\"\n",
    "- \"문제를 푸는데 단위시간 1\"\n",
    "\n",
    "> 입력\n",
    "- N (숙제의 개수 1<=N<=20만)\n",
    "- 데드라인, 컵라면(공백으로 구분) N개의 줄\n",
    "\n",
    "> 출력\n",
    "- 최대 컵라면 수\n",
    "\n",
    "> 헷갈린점\n",
    "- 없다. heapq를 써먹는 법은 몰랐다."
   ]
  },
  {
   "cell_type": "markdown",
   "metadata": {},
   "source": [
    "#### [해답]\n",
    "- Python 3로는 시간초과만 뜬다\n",
    "- 초기에는 While Total: data = Total.pop(0) 으로 했다\n",
    "- 잘 됬지만 시간 초과 가 떴다.\n",
    "- 따라서 for data in Total로 수정, PyPy3로 겨우 시간내 성공했다."
   ]
  },
  {
   "cell_type": "code",
   "execution_count": 3,
   "metadata": {},
   "outputs": [
    {
     "name": "stdout",
     "output_type": "stream",
     "text": [
      "7\n",
      "1 6\n",
      "1 7\n",
      "3 2\n",
      "3 1\n",
      "2 4\n",
      "2 5\n",
      "6 1\n",
      "15\n"
     ]
    }
   ],
   "source": [
    "from heapq import heappush, heappop\n",
    "\n",
    "N = int(input())\n",
    "\n",
    "Total = []\n",
    "result = []\n",
    "for _ in range(N):\n",
    "    Dead, Cup = map(int,input().split())\n",
    "    Total.append((Dead,Cup))\n",
    "Total.sort()\n",
    "\n",
    "for data in Total:\n",
    "    heappush(result,data[1])\n",
    "    if len(result) > data[0]:\n",
    "        heappop(result)\n",
    "        \n",
    "print(sum(result))"
   ]
  },
  {
   "cell_type": "code",
   "execution_count": null,
   "metadata": {},
   "outputs": [],
   "source": []
  }
 ],
 "metadata": {
  "kernelspec": {
   "display_name": "Python 3",
   "language": "python",
   "name": "python3"
  },
  "language_info": {
   "codemirror_mode": {
    "name": "ipython",
    "version": 3
   },
   "file_extension": ".py",
   "mimetype": "text/x-python",
   "name": "python",
   "nbconvert_exporter": "python",
   "pygments_lexer": "ipython3",
   "version": "3.7.3"
  }
 },
 "nbformat": 4,
 "nbformat_minor": 2
}
