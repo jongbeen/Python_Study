{
 "cells": [
  {
   "cell_type": "markdown",
   "metadata": {},
   "source": [
    "### 1. DFS와 BFS - B1260\n",
    "> 말그대로 DFS와 BFS구현\n",
    "- Dave 방식은 visited 와 need_visit 큐를 생성해, pop()순서 차이\n",
    "- 동빈 방식은 deque를 이용해 visited 큐만을 이용함\n",
    "- collections 라이브러리의 deque를 사용\n",
    "\n",
    "> 또한 정점번호가 작은것을 먼저 방문해야함\n",
    "- 정렬이 추가적으로 필요하다\n",
    "\n",
    "> 시간복잡도는 노드와 간선에 영향을 받음\n",
    "- O(N+M)\n"
   ]
  },
  {
   "cell_type": "markdown",
   "metadata": {},
   "source": [
    "#### 입력 (정점의 개수 N, 간선의 개수 M, 탐색시작 정점 V)\n",
    "- (다음 M개줄은 간선연결 두 정점 번호)\n",
    "- 4 5 1\n",
    "- 1 2\n",
    "- 1 3\n",
    "- 1 4\n",
    "- 2 4\n",
    "- 3 4\n",
    "\n",
    "#### 출력 (첫째줄 DFS, 둘째줄 BFS)\n",
    "- 1 2 4 3\n",
    "- 1 2 3 4"
   ]
  },
  {
   "cell_type": "code",
   "execution_count": 6,
   "metadata": {},
   "outputs": [
    {
     "name": "stdout",
     "output_type": "stream",
     "text": [
      "4 5 1\n",
      "1 2\n",
      "1 3\n",
      "1 4\n",
      "2 4\n",
      "3 4\n",
      "1 2 4 3 \n",
      "1 2 3 4 "
     ]
    }
   ],
   "source": [
    "from collections import deque\n",
    "\n",
    "# 현재노드를 추가후\n",
    "# 현재노드의 인근 노드에 대해서 재귀적 호출\n",
    "\n",
    "def dfs(start):\n",
    "    print(start,end=\" \")\n",
    "    visited[start] = True\n",
    "    for e in Edges[start]:\n",
    "        if not(visited[e]):\n",
    "            dfs(e)\n",
    "            \n",
    "# 먼저 현재 노드가 visited에 있는지 확인\n",
    "# 현재노드의 이웃노드가 visited에 있는지 확인\n",
    "# 없으면 추가\n",
    "def bfs(start):\n",
    "    queue = deque([start])\n",
    "    while queue:\n",
    "        start = queue.popleft()\n",
    "        if not visited[start]:\n",
    "            visited[start] = True\n",
    "            print(start, end=\" \")\n",
    "            for e in Edges[start]:\n",
    "                if not visited[e]:\n",
    "                    queue.append(e)\n",
    "                    \n",
    "\n",
    "N,M,V = map(int,input().split())\n",
    "Edges = [[] for _ in range(N+1)]\n",
    "\n",
    "for _ in range(M):\n",
    "    U,T = map(int,input().split())\n",
    "    Edges[U].append(T)\n",
    "    Edges[T].append(U)\n",
    "    \n",
    "for e in Edges:\n",
    "    e.sort()\n",
    "    \n",
    "visited = [False] * (N+1)\n",
    "dfs(V)\n",
    "print()\n",
    "visited = [False] * (N+1)\n",
    "bfs(V)"
   ]
  },
  {
   "cell_type": "markdown",
   "metadata": {},
   "source": [
    "### 2. 숨바꼭질 - B1697\n",
    "> BFS를 활용해 검색\n",
    "- 이동시간은 모두 1초로 동일, BFS를 이용해 해결\n",
    "- X가 루트 노드가 되서, X-1,X+1,2X의 자식노드를 통해 확인\n",
    "\n",
    "> BFS로 자식 생성한후 N과 같은지 확인\n",
    "- 없으면 계속 BFS로 자식노드 생성후 검사, 있으면 해당 rank리턴\n",
    "- 사실상 100000이란 일차원 array에 index만 검사함, 1이면 X 0이면 1로 변경\n",
    "\n",
    "> 시간복잡도는 노드와 간선에 영향을 받음\n",
    "- O(N+M)\n"
   ]
  },
  {
   "cell_type": "code",
   "execution_count": 7,
   "metadata": {},
   "outputs": [
    {
     "name": "stdout",
     "output_type": "stream",
     "text": [
      "5 17\n",
      "4\n"
     ]
    }
   ],
   "source": [
    "from collections import deque\n",
    "\n",
    "Max = 100001\n",
    "N, K = map(int,input().split())\n",
    "array = [0] * Max\n",
    "\n",
    "def bfs(start):\n",
    "    queue = deque([start])\n",
    "    while queue:\n",
    "        now_pos = queue.popleft()\n",
    "        if now_pos == K:\n",
    "            return array[now_pos]\n",
    "        for next_pos in (now_pos -1, now_pos+1, now_pos*2):\n",
    "            if 0<= next_pos <Max and not array[next_pos]:\n",
    "                array[next_pos] = array[now_pos] +1\n",
    "                queue.append(next_pos)\n",
    "print(bfs(N))"
   ]
  },
  {
   "cell_type": "code",
   "execution_count": 14,
   "metadata": {},
   "outputs": [
    {
     "name": "stdout",
     "output_type": "stream",
     "text": [
      "5 17\n",
      "4\n"
     ]
    }
   ],
   "source": [
    "from collections import deque\n",
    "\n",
    "Max = 100001\n",
    "N,K = map(int,input().split())\n",
    "array = [0] * Max\n",
    "\n",
    "def bfs(start):\n",
    "    queue = deque([start])\n",
    "    while queue:\n",
    "        now_pos = queue.popleft()\n",
    "        if now_pos == K:\n",
    "            return array[now_pos]\n",
    "        for next_pos in (now_pos-1,now_pos+1, now_pos*2):\n",
    "            if 0 <= next_pos< Max and not array[next_pos]:\n",
    "                array[next_pos] = array[now_pos]+1\n",
    "                queue.append(next_pos)\n",
    "print(bfs(N))"
   ]
  },
  {
   "cell_type": "markdown",
   "metadata": {},
   "source": [
    "### 깨달은 파이썬 문법\n",
    "> 1: for a in (1,2,3,...N)\n",
    "- a가 N번 반복한다\n",
    "\n",
    "> 2: a=0, if not a:\n",
    "- a=0(=False) C언어 처럼 0이면 False 나머지는 True"
   ]
  },
  {
   "cell_type": "code",
   "execution_count": 8,
   "metadata": {},
   "outputs": [
    {
     "name": "stdout",
     "output_type": "stream",
     "text": [
      "1\n",
      "2\n",
      "3\n"
     ]
    }
   ],
   "source": [
    "for a in (1,2,3):\n",
    "    print(a)\n",
    "    "
   ]
  },
  {
   "cell_type": "code",
   "execution_count": 11,
   "metadata": {},
   "outputs": [
    {
     "name": "stdout",
     "output_type": "stream",
     "text": [
      "?\n"
     ]
    }
   ],
   "source": [
    "a = 1\n",
    "b = 0\n",
    "if not a:\n",
    "    print(\"!\")\n",
    "if not b:\n",
    "    print(\"?\")"
   ]
  },
  {
   "cell_type": "code",
   "execution_count": null,
   "metadata": {},
   "outputs": [],
   "source": []
  }
 ],
 "metadata": {
  "kernelspec": {
   "display_name": "Python 3",
   "language": "python",
   "name": "python3"
  },
  "language_info": {
   "codemirror_mode": {
    "name": "ipython",
    "version": 3
   },
   "file_extension": ".py",
   "mimetype": "text/x-python",
   "name": "python",
   "nbconvert_exporter": "python",
   "pygments_lexer": "ipython3",
   "version": "3.7.3"
  }
 },
 "nbformat": 4,
 "nbformat_minor": 2
}
