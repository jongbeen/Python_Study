{
 "cells": [
  {
   "cell_type": "markdown",
   "metadata": {},
   "source": [
    "## 키와 값 기준으로 데이터를 정렬하는 법"
   ]
  },
  {
   "cell_type": "markdown",
   "metadata": {},
   "source": [
    "https://rfriend.tistory.com/473"
   ]
  },
  {
   "cell_type": "code",
   "execution_count": 28,
   "metadata": {},
   "outputs": [],
   "source": [
    "Pro = {\n",
    "    \"java\": 20, \n",
    "    \"javascript\": 8, \n",
    "    \"c\": 7,  \n",
    "    \"r\": 4, \n",
    "    \"python\": 28 }"
   ]
  },
  {
   "cell_type": "markdown",
   "metadata": {},
   "source": [
    "### 1. 키를 기준으로 오름차순 정렬 ( sorted(Object.items() )"
   ]
  },
  {
   "cell_type": "code",
   "execution_count": 29,
   "metadata": {},
   "outputs": [
    {
     "name": "stdout",
     "output_type": "stream",
     "text": [
      "c : 7\n",
      "java : 20\n",
      "javascript : 8\n",
      "python : 28\n",
      "r : 4\n"
     ]
    }
   ],
   "source": [
    "# Pro에 적용하기 위해선 대입을 해야함!\n",
    "sorted(Pro.items())\n",
    "\n",
    "for key, value in sorted(Pro.items()):\n",
    "    print(key,\":\",value)\n"
   ]
  },
  {
   "cell_type": "markdown",
   "metadata": {},
   "source": [
    "### 2. 키를 기준으로 내림차순 정렬 { sorted(~~.items(), reverse = True) }"
   ]
  },
  {
   "cell_type": "code",
   "execution_count": 30,
   "metadata": {},
   "outputs": [
    {
     "name": "stdout",
     "output_type": "stream",
     "text": [
      "r : 4\n",
      "python : 28\n",
      "javascript : 8\n",
      "java : 20\n",
      "c : 7\n"
     ]
    }
   ],
   "source": [
    "sorted(Pro.items(), reverse = True)\n",
    "\n",
    "for key, value in sorted(Pro.items(), reverse=True):\n",
    "    print(key,\":\",value)"
   ]
  },
  {
   "cell_type": "markdown",
   "metadata": {},
   "source": [
    "### 3. 값을 기준으로 오름차순 정렬"
   ]
  },
  {
   "cell_type": "code",
   "execution_count": 31,
   "metadata": {},
   "outputs": [
    {
     "name": "stdout",
     "output_type": "stream",
     "text": [
      "r : 4\n",
      "c : 7\n",
      "javascript : 8\n",
      "java : 20\n",
      "python : 28\n"
     ]
    }
   ],
   "source": [
    "# 정렬기준 item을 item[1]로 하겠다, 즉 값을 기준으로 하겠다는 뜻\n",
    "VSort_Pro = sorted(Pro.items(),key=lambda item:item[1] )\n",
    "\n",
    "for key,value in VSort_Pro:\n",
    "    print(key,\":\",value)"
   ]
  },
  {
   "cell_type": "markdown",
   "metadata": {},
   "source": [
    "### 4. 값을 기준으로 내림차순 정렬"
   ]
  },
  {
   "cell_type": "code",
   "execution_count": 15,
   "metadata": {},
   "outputs": [
    {
     "name": "stdout",
     "output_type": "stream",
     "text": [
      "r : 4\n",
      "c : 7\n",
      "javascript : 8\n",
      "java : 20\n",
      "python : 28\n"
     ]
    }
   ],
   "source": [
    "# reverse = True만 추가하면 됨\n",
    "VRsort_Pro = sorted(Pro.items(),reverse = True,key=lambda item:item[1])\n",
    "\n",
    "\n",
    "for key,value in VSort_Pro:\n",
    "    print(key,\":\",value)"
   ]
  },
  {
   "cell_type": "code",
   "execution_count": 19,
   "metadata": {},
   "outputs": [
    {
     "name": "stdout",
     "output_type": "stream",
     "text": [
      "Sunyoung : 20\n",
      "Junkyu : 21\n",
      "Dohyun : 21\n"
     ]
    }
   ],
   "source": [
    "a = {\"Junkyu\":21, \"Dohyun\":21, 'Sunyoung':20}\n",
    "a = sorted(a.items(), key=lambda item:item[1])\n",
    "\n",
    "for key,value in a:\n",
    "    print(key,\":\",value)"
   ]
  },
  {
   "cell_type": "code",
   "execution_count": 42,
   "metadata": {},
   "outputs": [
    {
     "name": "stdout",
     "output_type": "stream",
     "text": [
      "Writing CH05_BasicSort_01_B10814.py\n"
     ]
    }
   ],
   "source": [
    "%%writefile CH05_BasicSort_01_B10814.py\n",
    "# 이것도 되는데... 그냥 정답으로 제출하겠음\n",
    "# 아 print중간에 \" \" 때문에 안되는 거엿네 ㅋㅋㅋ\n",
    "Pro = dict()\n",
    "N = int(input())\n",
    "for _ in range(N):\n",
    "    Age, Name = input().split()\n",
    "    Age = int(Age)\n",
    "    Pro[Name] = Age\n",
    "Pro = sorted(Pro.items(), key=lambda item:item[1])\n",
    "\n",
    "for key,value in Pro:\n",
    "    print(value,\" \",key)\n",
    "\n"
   ]
  },
  {
   "cell_type": "markdown",
   "metadata": {},
   "source": [
    "## 파이썬은 2가지 정렬방법이 존재"
   ]
  },
  {
   "cell_type": "markdown",
   "metadata": {},
   "source": [
    "### 1. data.sort() 를 통해 \n",
    "> 데이터를 바로 정렬하는 효과를 얻을 수 있다"
   ]
  },
  {
   "cell_type": "markdown",
   "metadata": {},
   "source": [
    "### 2. data = sorted(data)\n",
    "> 인자로 data를 줘서, 정렬한 결과를 받을 수 있다"
   ]
  },
  {
   "cell_type": "markdown",
   "metadata": {},
   "source": [
    "### 10814번_나이순 정렬\n",
    "> Tuple형을 리스트의 인자로 줘서,\n",
    "> 기준 x값을 x[0] 으로 하는 lambda식을 통해 정렬한다"
   ]
  },
  {
   "cell_type": "code",
   "execution_count": 26,
   "metadata": {},
   "outputs": [
    {
     "name": "stdout",
     "output_type": "stream",
     "text": [
      "3\n",
      "21 junkyu\n",
      "21 sank\n",
      "20 jjg\n",
      "20 jjg\n",
      "21 junkyu\n",
      "21 sank\n"
     ]
    }
   ],
   "source": [
    "N = int(input())\n",
    "\n",
    "array = []\n",
    "\n",
    "for _ in range(N):\n",
    "    input_data = input().split(' ')\n",
    "    array.append( (int(input_data[0]), input_data[1]) )\n",
    "    \n",
    "array = sorted(array,key=lambda x:x[0])\n",
    "\n",
    "for i in array:\n",
    "    print(i[0],i[1])"
   ]
  },
  {
   "cell_type": "markdown",
   "metadata": {},
   "source": [
    "### 11650번_좌표 정렬하기\n",
    "> x좌표 정렬, y좌표 정렬 \n",
    "> 하지만 파이썬의 내장 SORT는 알아서 모두 정렬한 결과를 RETURN"
   ]
  },
  {
   "cell_type": "code",
   "execution_count": 44,
   "metadata": {},
   "outputs": [
    {
     "name": "stdout",
     "output_type": "stream",
     "text": [
      "Writing CH05_BasicSort_02_B11650.py\n"
     ]
    }
   ],
   "source": [
    "%%writefile CH05_BasicSort_02_B11650.py\n",
    "N = int(input())\n",
    "Ray = []\n",
    "for _ in range(N):\n",
    "    X,Y = list(map(int,input().split()))\n",
    "    Ray.append((X,Y))\n",
    "    \n",
    "Ray.sort()\n",
    "for i in Ray:\n",
    "    print(i[0],i[1])"
   ]
  },
  {
   "cell_type": "markdown",
   "metadata": {},
   "source": [
    "### 10989번 _ 수 정렬하기 3\n",
    "> 시간제한이 있으므로 Counting Sort를 사용함\n",
    "> Counting Sort란 시간복잡도가 O(N), 정해진 범위일때 index를 사용해 정렬하는 기법"
   ]
  },
  {
   "cell_type": "markdown",
   "metadata": {},
   "source": [
    "#### 또한, sys라이브러리 ( sys.stdin.readline() )을 통해 시간 단축\n",
    "> 이걸로 안하고 input()으로 하니 시간 초과"
   ]
  },
  {
   "cell_type": "code",
   "execution_count": 43,
   "metadata": {},
   "outputs": [
    {
     "name": "stdout",
     "output_type": "stream",
     "text": [
      "Writing CH05_BasicSort_03_B10989.py\n"
     ]
    }
   ],
   "source": [
    "%%writefile CH05_BasicSort_03_B10989.py\n",
    "import sys\n",
    "\n",
    "N = int(sys.stdin.readline())\n",
    "array = [0] * 10001\n",
    "\n",
    "for _ in range(N):\n",
    "    data = int(sys.stdin.readline())\n",
    "    array[data] +=1\n",
    "\n",
    "for i in range(N):\n",
    "    if array[i] != 0:\n",
    "        for j in range(array[i]):\n",
    "            print(i)"
   ]
  },
  {
   "cell_type": "markdown",
   "metadata": {},
   "source": [
    "## 주피터 노트북에서는 sys.stdin.readline() 이 안됨!!!!!!"
   ]
  },
  {
   "cell_type": "code",
   "execution_count": 40,
   "metadata": {},
   "outputs": [
    {
     "ename": "ValueError",
     "evalue": "invalid literal for int() with base 10: ''",
     "output_type": "error",
     "traceback": [
      "\u001b[1;31m---------------------------------------------------------------------------\u001b[0m",
      "\u001b[1;31mValueError\u001b[0m                                Traceback (most recent call last)",
      "\u001b[1;32m<ipython-input-40-21bf3c0fc4f8>\u001b[0m in \u001b[0;36m<module>\u001b[1;34m\u001b[0m\n\u001b[0;32m      1\u001b[0m \u001b[1;32mimport\u001b[0m \u001b[0msys\u001b[0m\u001b[1;33m\u001b[0m\u001b[1;33m\u001b[0m\u001b[0m\n\u001b[0;32m      2\u001b[0m \u001b[1;33m\u001b[0m\u001b[0m\n\u001b[1;32m----> 3\u001b[1;33m \u001b[0mN\u001b[0m \u001b[1;33m=\u001b[0m \u001b[0mint\u001b[0m\u001b[1;33m(\u001b[0m\u001b[0msys\u001b[0m\u001b[1;33m.\u001b[0m\u001b[0mstdin\u001b[0m\u001b[1;33m.\u001b[0m\u001b[0mreadline\u001b[0m\u001b[1;33m(\u001b[0m\u001b[1;33m)\u001b[0m\u001b[1;33m)\u001b[0m\u001b[1;33m\u001b[0m\u001b[1;33m\u001b[0m\u001b[0m\n\u001b[0m",
      "\u001b[1;31mValueError\u001b[0m: invalid literal for int() with base 10: ''"
     ]
    }
   ],
   "source": [
    "import sys\n",
    "\n",
    "N = int(sys.stdin.readline())\n"
   ]
  }
 ],
 "metadata": {
  "kernelspec": {
   "display_name": "Python 3",
   "language": "python",
   "name": "python3"
  },
  "language_info": {
   "codemirror_mode": {
    "name": "ipython",
    "version": 3
   },
   "file_extension": ".py",
   "mimetype": "text/x-python",
   "name": "python",
   "nbconvert_exporter": "python",
   "pygments_lexer": "ipython3",
   "version": "3.7.3"
  }
 },
 "nbformat": 4,
 "nbformat_minor": 2
}
