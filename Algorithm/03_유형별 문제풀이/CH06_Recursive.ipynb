{
 "cells": [
  {
   "cell_type": "markdown",
   "metadata": {},
   "source": [
    "## 1. 2747번 피보나치\n",
    "- 일반적인 재귀문제\n",
    "- 하지만 재귀함수를 만들진 않음 ㅋㅋ"
   ]
  },
  {
   "cell_type": "code",
   "execution_count": 4,
   "metadata": {},
   "outputs": [
    {
     "name": "stdout",
     "output_type": "stream",
     "text": [
      "Overwriting CH06_Recursive_01_B2747.py\n"
     ]
    }
   ],
   "source": [
    "#%%writefile CH06_Recursive_01_B2747.py\n",
    "# 그냥 재귀로 풀면 안된다네..ㅋㅋ 시간 때문인가\n",
    "\n",
    "N = int(input())\n",
    "\n",
    "a,b = 0,1\n",
    "\n",
    "while N>0:\n",
    "    a,b = b,a+b\n",
    "    N-=1\n",
    "print(a)\n"
   ]
  },
  {
   "cell_type": "markdown",
   "metadata": {},
   "source": [
    "## 2. 1074번 Z\n",
    "- 재귀 응용\n",
    "- 가장 작은 사각형에 대해서 정의후, 재귀적 호출\n"
   ]
  },
  {
   "cell_type": "markdown",
   "metadata": {},
   "source": [
    "### 전역변수 result\n",
    "- 함수 밖에서 초기화를 안하면 쓰레기값 존재\n",
    "- 함수 안에서 global로 전역화 안하면 값 누적 안함"
   ]
  },
  {
   "cell_type": "code",
   "execution_count": 25,
   "metadata": {},
   "outputs": [
    {
     "name": "stdout",
     "output_type": "stream",
     "text": [
      "2 3 1\n",
      "11\n"
     ]
    }
   ],
   "source": [
    "def Z(n,x,y):\n",
    "    # global로 안쓰면 안됨!!!\n",
    "    global result\n",
    "    if n==2:\n",
    "        if x == X and y == Y:\n",
    "            print(result)\n",
    "            return\n",
    "        result+=1\n",
    "        if x == X and y +1 == Y:\n",
    "            print(result)\n",
    "            return\n",
    "        result+=1\n",
    "        if x+1==X and y==Y:\n",
    "            print(result)\n",
    "            return\n",
    "        result += 1\n",
    "        if x+1==X and y+1 == Y:\n",
    "            print(result)\n",
    "            return\n",
    "        result+=1\n",
    "        return\n",
    "    Z(n/2,x,y)\n",
    "    Z(n/2,x,y+n/2)\n",
    "    Z(n/2,x+n/2,y)\n",
    "    Z(n/2,x+n/2,y+n/2)\n",
    "\n",
    "# result=0 안하면 안됨!!!\n",
    "result = 0\n",
    "N,X,Y = map(int,input().split())\n",
    "Z(2**N,0,0)"
   ]
  },
  {
   "cell_type": "markdown",
   "metadata": {},
   "source": [
    "## 3. 7490번 0 만들기\n",
    "- N개의 숫자들 사이에 '+','-',공백 3가지 가능\n",
    "- 3^(N-1)의 경우의 수 존재"
   ]
  },
  {
   "cell_type": "markdown",
   "metadata": {},
   "source": [
    "### 문자열을 수식화해 계산하는 eval()함수\n",
    "- \"1+2+3\" 문자열을 eval()함수를 사용하면 결과 6을 얻음\n",
    "\n",
    "### 객체를 복사하는 deepcopy()\n",
    "- "
   ]
  },
  {
   "cell_type": "code",
   "execution_count": 33,
   "metadata": {},
   "outputs": [
    {
     "name": "stdout",
     "output_type": "stream",
     "text": [
      "1\n",
      "2\n",
      "\n",
      "\n",
      "\n"
     ]
    }
   ],
   "source": [
    "import copy\n",
    "\n",
    "def recursive(array,n):\n",
    "    if len(array) == n:\n",
    "        operators_list.append(copy.deepcopy(array))\n",
    "        return\n",
    "    array.append(' ')\n",
    "    recursive(array,n)\n",
    "    array.pop()\n",
    "    \n",
    "    array.append('+')\n",
    "    recursive(array,n)\n",
    "    array.pop()\n",
    "    \n",
    "    array.append('-')\n",
    "    recursive(array,n)\n",
    "    array.pop()\n",
    "\n",
    "test_case = int(input())\n",
    "\n",
    "for _ in range(test_case):\n",
    "    operators_list = []\n",
    "    n = int(input())\n",
    "    recursive([],n-1)\n",
    "    \n",
    "    integers = [i for i in range(1,n+1)]\n",
    "    \n",
    "    for operators in operators_list:\n",
    "        string=\"\"\n",
    "        for i in range(n-1):\n",
    "            string += str(integers[i])+operators[i]\n",
    "            string += str(integers[-1])\n",
    "            if eval(string.replace(\" \",\"\")) == 0:\n",
    "                print(string)\n",
    "        print()"
   ]
  },
  {
   "cell_type": "code",
   "execution_count": null,
   "metadata": {},
   "outputs": [],
   "source": []
  },
  {
   "cell_type": "code",
   "execution_count": null,
   "metadata": {},
   "outputs": [],
   "source": []
  },
  {
   "cell_type": "code",
   "execution_count": null,
   "metadata": {},
   "outputs": [],
   "source": []
  },
  {
   "cell_type": "code",
   "execution_count": null,
   "metadata": {},
   "outputs": [],
   "source": []
  },
  {
   "cell_type": "code",
   "execution_count": null,
   "metadata": {},
   "outputs": [],
   "source": []
  },
  {
   "cell_type": "code",
   "execution_count": null,
   "metadata": {},
   "outputs": [],
   "source": []
  },
  {
   "cell_type": "code",
   "execution_count": null,
   "metadata": {},
   "outputs": [],
   "source": []
  },
  {
   "cell_type": "code",
   "execution_count": null,
   "metadata": {},
   "outputs": [],
   "source": []
  }
 ],
 "metadata": {
  "kernelspec": {
   "display_name": "Python 3",
   "language": "python",
   "name": "python3"
  },
  "language_info": {
   "codemirror_mode": {
    "name": "ipython",
    "version": 3
   },
   "file_extension": ".py",
   "mimetype": "text/x-python",
   "name": "python",
   "nbconvert_exporter": "python",
   "pygments_lexer": "ipython3",
   "version": "3.7.3"
  }
 },
 "nbformat": 4,
 "nbformat_minor": 2
}
