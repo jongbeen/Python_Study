{
 "cells": [
  {
   "cell_type": "markdown",
   "metadata": {},
   "source": [
    "### 1. 문서검색 - B1543\n",
    "- 내가한게 첫번째, 답이 두번째\n",
    "- 답이 index처리도 되어있는데 내것도 맞다고 한다 ㅋㅋ\n",
    "- index 범위를 초과해서 슬라이싱해도 문제가 발생하지 않음\n",
    "- (알아서 마지막까지 함)"
   ]
  },
  {
   "cell_type": "code",
   "execution_count": 9,
   "metadata": {},
   "outputs": [
    {
     "name": "stdout",
     "output_type": "stream",
     "text": [
      "ababababa\n",
      "aba\n",
      "2\n"
     ]
    }
   ],
   "source": [
    "text = input()\n",
    "word = input()\n",
    "count,i = 0,0\n",
    "while i < len(text):\n",
    "    if text[i:i+len(word)] == word:\n",
    "        count+=1\n",
    "        i+=len(word)\n",
    "    else:\n",
    "        i+=1\n",
    "        \n",
    "print(count)"
   ]
  },
  {
   "cell_type": "code",
   "execution_count": 3,
   "metadata": {
    "scrolled": true
   },
   "outputs": [
    {
     "name": "stdout",
     "output_type": "stream",
     "text": [
      "0\n",
      "3\n",
      "4\n",
      "1\n"
     ]
    }
   ],
   "source": [
    "Str='tcptc'\n",
    "i,count=0,0\n",
    "while i < 5:\n",
    "    print(i)\n",
    "    if Str[i:i+3] == \"tcp\":\n",
    "        count+=1\n",
    "        i+=3\n",
    "    else:\n",
    "        i+=1\n",
    "print(count)"
   ]
  },
  {
   "cell_type": "code",
   "execution_count": 4,
   "metadata": {},
   "outputs": [
    {
     "data": {
      "text/plain": [
       "'5'"
      ]
     },
     "execution_count": 4,
     "metadata": {},
     "output_type": "execute_result"
    }
   ],
   "source": [
    "# 파이썬은 index 범위를 초과해도,\n",
    "# 알아서 마지막까지 밖에 안함\n",
    "Str = \"12345\"\n",
    "Str[4:7]"
   ]
  },
  {
   "cell_type": "code",
   "execution_count": 15,
   "metadata": {},
   "outputs": [
    {
     "name": "stdout",
     "output_type": "stream",
     "text": [
      "aba\n",
      "ab\n",
      "1\n"
     ]
    }
   ],
   "source": [
    "# 전체 document 길이 - index >= word길이 가 되어있어야\n",
    "# indexbound가 발생하지 않는다\n",
    "\n",
    "document = input()\n",
    "word = input()\n",
    "\n",
    "index, result = 0,0\n",
    "\n",
    "while len(document) - index >= len(word):\n",
    "    if document[index:index+len(word)] == word:\n",
    "        result+=1\n",
    "        index+=len(word)\n",
    "    else:\n",
    "        index+=1\n",
    "print(result)"
   ]
  },
  {
   "cell_type": "code",
   "execution_count": 16,
   "metadata": {},
   "outputs": [
    {
     "name": "stdout",
     "output_type": "stream",
     "text": [
      "yes\n"
     ]
    }
   ],
   "source": [
    "test = \"abcdabc\"\n",
    "a = \"abc\"\n",
    "\n",
    "if test[0:len(a)] == a:\n",
    "    print('yes')"
   ]
  },
  {
   "cell_type": "markdown",
   "metadata": {},
   "source": [
    "### 2. 새 - B1568\n",
    "- 그냥 하나씩 하면 된다"
   ]
  },
  {
   "cell_type": "code",
   "execution_count": 2,
   "metadata": {},
   "outputs": [
    {
     "name": "stdout",
     "output_type": "stream",
     "text": [
      "14\n",
      "7\n"
     ]
    }
   ],
   "source": [
    "N = int(input())\n",
    "Count, Sum = 0,1\n",
    "\n",
    "while N!=0:\n",
    "    if Sum>N:\n",
    "        Sum=1\n",
    "    N-=Sum\n",
    "    Sum+=1\n",
    "    Count+=1\n",
    "\n",
    "print(Count)"
   ]
  },
  {
   "cell_type": "markdown",
   "metadata": {},
   "source": [
    "### 3. 베스트 셀러 - B1302\n",
    "- 딕셔너리 자료형을 활용하자"
   ]
  },
  {
   "cell_type": "code",
   "execution_count": 10,
   "metadata": {},
   "outputs": [
    {
     "name": "stdout",
     "output_type": "stream",
     "text": [
      "5\n",
      "top\n",
      "top\n",
      "top\n",
      "top\n",
      "est\n",
      "top\n"
     ]
    }
   ],
   "source": [
    "## 딕셔너리 자료형을 활용해 value가 높은것을 뽑앗으나,\n",
    "## 사전순 sort가 되지 않아서 오답처리됨\n",
    "\n",
    "Books = dict()\n",
    "\n",
    "N = int(input())\n",
    "\n",
    "for _ in range(N):\n",
    "    book = input()\n",
    "    if book not in Books:\n",
    "        Books[book] = 1\n",
    "    else:\n",
    "        Books[book] +=1\n",
    "Books = sorted(Books.items(), key=lambda item:item[1])\n",
    "\n",
    "print(Books[-1][0])"
   ]
  },
  {
   "cell_type": "code",
   "execution_count": null,
   "metadata": {},
   "outputs": [],
   "source": [
    "## 동일한 수의 책일때, target으로 최다 Value값을 찾고\n",
    "## 사전순 정렬을 sorted를 통해 최다 Value index찾기\n",
    "\n",
    "Books = dict()\n",
    "\n",
    "N = int(input())\n",
    "\n",
    "for _ in range(N):\n",
    "    book = input()\n",
    "    if book not in Books:\n",
    "        Books[book] = 1\n",
    "    else:\n",
    "        Books[book] +=1\n",
    "target = max(Books.values())\n",
    "array = []\n",
    "\n",
    "for book, number in Books.items():\n",
    "    if number == target:\n",
    "        array.append(book)\n",
    "\n",
    "print(sorted(array)[0])"
   ]
  },
  {
   "cell_type": "code",
   "execution_count": 10,
   "metadata": {},
   "outputs": [
    {
     "name": "stdout",
     "output_type": "stream",
     "text": [
      "5\n",
      "so\n",
      "so\n",
      "so\n",
      "so\n",
      "easy\n",
      "so\n"
     ]
    }
   ],
   "source": [
    "Books = dict()\n",
    "\n",
    "N = int(input())\n",
    "for _ in range(N):\n",
    "    book = input()\n",
    "    if book not in Books:\n",
    "        Books[book] = 1\n",
    "    else:\n",
    "        Books[book]+=1\n",
    "\n",
    "target = max(Books.values())\n",
    "array = []\n",
    "\n",
    "for name,num in Books.items():\n",
    "    if num == target:\n",
    "        array.append(name)\n",
    "\n",
    "print(sorted(array)[0])\n",
    "    "
   ]
  },
  {
   "cell_type": "markdown",
   "metadata": {},
   "source": [
    "### 4. 트로피 진열 - B1668\n",
    "- 앞에서 부터 최댓값을 갱신하며 count\n",
    "- reverse()후 같은 처리"
   ]
  },
  {
   "cell_type": "code",
   "execution_count": 12,
   "metadata": {},
   "outputs": [
    {
     "name": "stdout",
     "output_type": "stream",
     "text": [
      "5\n",
      "1\n",
      "2\n",
      "3\n",
      "4\n",
      "5\n",
      "5\n",
      "1\n"
     ]
    }
   ],
   "source": [
    "def Count(data):\n",
    "    Max = data[0]\n",
    "    result = 1\n",
    "    for i in range(1,len(data)):\n",
    "        if Max < data[i]:\n",
    "            Max = data[i]\n",
    "            result += 1\n",
    "    return result\n",
    "\n",
    "N = int(input())\n",
    "T = list()\n",
    "for _ in range(N):\n",
    "    T.append(int(input()))\n",
    "LAns = Count(T)\n",
    "T.reverse()\n",
    "RAns = Count(T)\n",
    "\n",
    "print(LAns)\n",
    "print(RAns)\n",
    "\n",
    "\n",
    "\n",
    "        "
   ]
  },
  {
   "cell_type": "markdown",
   "metadata": {},
   "source": [
    "### 5. 성 지키기 - B1236\n",
    "- 비어있는 행과 열중, 많이 비어있는 것을 고르면 됨\n",
    "- ㅅㅂ..append(input())은 한개씩이 아닌 ['....']로 저장한다..\n",
    "- 하지만 여전히 런타임 에러 라고 한다"
   ]
  },
  {
   "cell_type": "code",
   "execution_count": 47,
   "metadata": {},
   "outputs": [
    {
     "name": "stdout",
     "output_type": "stream",
     "text": [
      "4 4\n",
      "....\n",
      "....\n",
      ".X..\n",
      "....\n",
      "3\n"
     ]
    }
   ],
   "source": [
    "def checkN(n,castle):\n",
    "    count =0\n",
    "    for i in range(len(castle)):\n",
    "        for j in range(len(castle[i])):\n",
    "            if castle[i][j] == 'X':\n",
    "                count+=1\n",
    "                break\n",
    "    return (n-count)\n",
    "\n",
    "def checkM(m,castle):\n",
    "    count=0\n",
    "    for j in range(m):\n",
    "        for i in range(len(castle)):\n",
    "            if castle[i][j] == 'X':\n",
    "                count+=1\n",
    "                break\n",
    "    return (m-count)\n",
    "\n",
    "N,M = list(map(int,input().split()))\n",
    "Castle = [[] for _ in range(N) ]\n",
    "for i in range(N):\n",
    "    Str = input()\n",
    "    for k in range(N):\n",
    "        Castle[i].append(Str[k])\n",
    "Nc = checkN(N,Castle)\n",
    "Mc = checkM(M,Castle)\n",
    "result = max(Nc,Mc)\n",
    "print(result)"
   ]
  },
  {
   "cell_type": "markdown",
   "metadata": {},
   "source": [
    "### 성지키기 - 정답\n",
    "- i, j 인덱스 체크하는 일차원 리스트를 생성\n",
    "- i, j 체크중 'X'가 있으면 해당 row[i], column[j] 카운트 증가\n",
    "- row와 column의 count 가 더 많은 것이 정답"
   ]
  },
  {
   "cell_type": "code",
   "execution_count": 49,
   "metadata": {},
   "outputs": [
    {
     "name": "stdout",
     "output_type": "stream",
     "text": [
      "4 4\n",
      "....\n",
      "....\n",
      "....\n",
      "....\n",
      "4\n"
     ]
    }
   ],
   "source": [
    "N,M = map(int,input().split())\n",
    "\n",
    "array = []\n",
    "\n",
    "for _ in range(N):\n",
    "    array.append(input())\n",
    "    \n",
    "row = [0] * N\n",
    "column = [0] * M\n",
    "\n",
    "for i in range(N):\n",
    "    for j in range(M):\n",
    "        if array[i][j] == 'X':\n",
    "            row[i] = 1\n",
    "            column[j] = 1\n",
    "row_count = 0\n",
    "for i in range(N):\n",
    "    if row[i] == 0:\n",
    "        row_count+=1\n",
    "column_count = 0\n",
    "for j in range(M):\n",
    "    if column[j] == 0:\n",
    "        column_count +=1\n",
    "print(max(row_count,column_count))"
   ]
  },
  {
   "cell_type": "markdown",
   "metadata": {},
   "source": []
  },
  {
   "cell_type": "code",
   "execution_count": null,
   "metadata": {},
   "outputs": [],
   "source": []
  }
 ],
 "metadata": {
  "kernelspec": {
   "display_name": "Python 3",
   "language": "python",
   "name": "python3"
  },
  "language_info": {
   "codemirror_mode": {
    "name": "ipython",
    "version": 3
   },
   "file_extension": ".py",
   "mimetype": "text/x-python",
   "name": "python",
   "nbconvert_exporter": "python",
   "pygments_lexer": "ipython3",
   "version": "3.7.3"
  }
 },
 "nbformat": 4,
 "nbformat_minor": 2
}
