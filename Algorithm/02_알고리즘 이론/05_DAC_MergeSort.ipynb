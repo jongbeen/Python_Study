{
 "cells": [
  {
   "cell_type": "markdown",
   "metadata": {},
   "source": [
    "## 고급 정렬2: 병합 정렬 (merge sort) "
   ]
  },
  {
   "cell_type": "markdown",
   "metadata": {},
   "source": [
    "### 1. 병합 정렬 (merge sort) \n",
    "* 재귀용법을 활용한 정렬 알고리즘\n",
    "  1. 리스트를 절반으로 잘라 비슷한 크기의 두 부분 리스트로 나눈다.\n",
    "  2. 각 부분 리스트를 재귀적으로 합병 정렬을 이용해 정렬한다.\n",
    "  3. 두 부분 리스트를 다시 하나의 정렬된 리스트로 합병한다.\n",
    "\n",
    "#### 직접 눈으로 보면 더 이해가 쉽다: https://visualgo.net/en/sorting\n",
    "\n",
    "<img src=\"https://upload.wikimedia.org/wikipedia/commons/c/cc/Merge-sort-example-300px.gif\" width=400/>"
   ]
  },
  {
   "cell_type": "markdown",
   "metadata": {},
   "source": [
    "### 2. 알고리즘 이해\n",
    "* 데이터가 네 개 일때 (데이터 갯수에 따라 복잡도가 떨어지는 것은 아니므로, 네 개로 바로 로직을 이해해보자.)\n",
    "  - 예: data_list = [1, 9, 3, 2]\n",
    "    - 먼저 [1, 9], [3, 2] 로 나누고\n",
    "    - 다시 앞 부분은 [1], [9] 로 나누고\n",
    "    - 다시 정렬해서 합친다. [1, 9]\n",
    "    - 다음 [3, 2] 는 [3], [2] 로 나누고\n",
    "    - 다시 정렬해서 합친다 [2, 3]\n",
    "    - 이제 [1, 9] 와 [2, 3]을 합친다.\n",
    "      - 1 < 2 이니 [1]\n",
    "      - 9 > 2 이니 [1, 2]\n",
    "      - 9 > 3 이니 [1, 2, 3]\n",
    "      - 9 밖에 없으니, [1, 2, 3, 9]"
   ]
  },
  {
   "cell_type": "markdown",
   "metadata": {},
   "source": [
    "### 3. 알고리즘 구현\n",
    "* mergesplit 함수 만들기\n",
    "  - 만약 리스트 갯수가 한개이면 해당 값 리턴\n",
    "  - 그렇지 않으면, 리스트를 앞뒤, 두 개로 나누기\n",
    "  - left = mergesplit(앞)\n",
    "  - right = mergesplit(뒤)\n",
    "  - merge(left, right)\n",
    "\n",
    "* merge 함수 만들기\n",
    "  - 리스트 변수 하나 만들기 (sorted)\n",
    "  - left_index, right_index = 0\n",
    "  - while left_index < len(left) or right_index < len(right):\n",
    "    - 만약 left_index 나 right_index 가 이미 left 또는 right 리스트를 다 순회했다면, 그 반대쪽 데이터를 그대로 넣고, 해당 인덱스 1 증가\n",
    "    - if left[left_index] < right[right_index]:\n",
    "      - sorted.append(left[left_index])\n",
    "      - left_index += 1\n",
    "    - else:\n",
    "      - sorted.append(right[right_index])\n",
    "      - right_index += 1"
   ]
  },
  {
   "cell_type": "markdown",
   "metadata": {},
   "source": [
    "### 작은 부분부터 작성해서 하나씩 구현하기"
   ]
  },
  {
   "cell_type": "code",
   "execution_count": 1,
   "metadata": {},
   "outputs": [],
   "source": [
    "def split_func(data):\n",
    "    medium = int(len(data)/2)\n",
    "    # 중간 index 기준으로 left, right 리스트 생성\n",
    "    left = data[:medium]\n",
    "    right = data[medium:]\n",
    "    print(left,right)\n"
   ]
  },
  {
   "cell_type": "code",
   "execution_count": 2,
   "metadata": {},
   "outputs": [
    {
     "name": "stdout",
     "output_type": "stream",
     "text": [
      "[1, 5] [2, 4, 3]\n"
     ]
    }
   ],
   "source": [
    "split_func([1,5,2,4,3])"
   ]
  },
  {
   "cell_type": "markdown",
   "metadata": {},
   "source": [
    "### 재귀용법 활용하기"
   ]
  },
  {
   "cell_type": "markdown",
   "metadata": {},
   "source": [
    "다음 문장을 코드로 작성해보기 (merge함수는 아직은 없는 상태, 있다고만 가정)\n",
    "* mergesplit 함수 만들기\n",
    "  - 만약 리스트 갯수가 한개이면 해당 값 리턴\n",
    "  - 그렇지 않으면, 리스트를 앞뒤, 두 개로 나누기\n",
    "  - left = mergesplit(앞)\n",
    "  - right = mergesplit(뒤)\n",
    "  - merge(left, right)"
   ]
  },
  {
   "cell_type": "code",
   "execution_count": null,
   "metadata": {},
   "outputs": [],
   "source": [
    "def mergesplit(data):\n",
    "    if len(data)<=1:\n",
    "        return data\n",
    "    \n",
    "    medium = int(len(data)/2)\n",
    "    left = mergesplit(data[:medium])\n",
    "    right = mergesplit(data[medium:])\n",
    "    \n",
    "# merge()아직 구현 안됨\n",
    "#    return merge(left,right)"
   ]
  },
  {
   "cell_type": "markdown",
   "metadata": {},
   "source": [
    "### merge 함수 만들기\n",
    "* 목표: left 와 right 의 리스트 데이터를 정렬해서 merged 라는 이름으로 return 하기\n",
    "* left와 right는 이미 정렬된 상태 또는 데이터가 하나임"
   ]
  },
  {
   "cell_type": "code",
   "execution_count": 3,
   "metadata": {},
   "outputs": [],
   "source": [
    "def merge(left,right):\n",
    "    merged = list()\n",
    "    left_point, right_point = 0,0\n",
    "    \n",
    "    #case1 - left/right 둘 다 data가 있을 때\n",
    "    while len(left) > left_point and len(right) > right_point:\n",
    "        if left[left_point] > right[right_point]:\n",
    "            merged.append(right[right_point])\n",
    "            right_point+=1\n",
    "        else:\n",
    "            merged.append(left[left_point])\n",
    "            left_point += 1\n",
    "    \n",
    "    #case2 - left만 data가 남아 있을때\n",
    "    while len(left) > left_point:\n",
    "        merged.append(left[left_point])\n",
    "        left_point+=1\n",
    "        \n",
    "    #case3 - right만 data가 남아 있을때\n",
    "    while len(right) > right_point:\n",
    "        merged.append(right[right_point])\n",
    "        right_point+=1\n",
    "        \n",
    "    return merged"
   ]
  },
  {
   "cell_type": "markdown",
   "metadata": {},
   "source": [
    "### 최종 코드"
   ]
  },
  {
   "cell_type": "code",
   "execution_count": 1,
   "metadata": {},
   "outputs": [],
   "source": [
    "def merge(left,right):\n",
    "    merged = list()\n",
    "    left_point,right_point = 0,0\n",
    "    \n",
    "    while len(left) > left_point and len(right) > right_point:\n",
    "        if left[left_point] < right[right_point]:\n",
    "            merged.append(left[left_point])\n",
    "            left_point+=1\n",
    "        else:\n",
    "            merged.append(right[right_point])\n",
    "            right_point+=1\n",
    "    \n",
    "    while len(left) > left_point:\n",
    "        merged.append(left[left_point])\n",
    "        left_point += 1\n",
    "        \n",
    "    while len(right) > right_point:\n",
    "        merged.append(right[right_point])\n",
    "        right_point += 1\n",
    "    \n",
    "    return merged\n",
    "    \n",
    "\n",
    "def mergesplit(data):\n",
    "    print(data)\n",
    "    if len(data)<=1:\n",
    "        return data\n",
    "    \n",
    "    medium = int(len(data)/2)\n",
    "    left = mergesplit(data[:medium])\n",
    "    right = mergesplit(data[medium:])\n",
    "    \n",
    "    return merge(left,right)"
   ]
  },
  {
   "cell_type": "code",
   "execution_count": 2,
   "metadata": {},
   "outputs": [
    {
     "name": "stdout",
     "output_type": "stream",
     "text": [
      "[39, 48, 52, 66, 56, 49, 4, 74, 96, 11]\n",
      "[39, 48, 52, 66, 56]\n",
      "[39, 48]\n",
      "[39]\n",
      "[48]\n",
      "[52, 66, 56]\n",
      "[52]\n",
      "[66, 56]\n",
      "[66]\n",
      "[56]\n",
      "[49, 4, 74, 96, 11]\n",
      "[49, 4]\n",
      "[49]\n",
      "[4]\n",
      "[74, 96, 11]\n",
      "[74]\n",
      "[96, 11]\n",
      "[96]\n",
      "[11]\n"
     ]
    },
    {
     "data": {
      "text/plain": [
       "[4, 11, 39, 48, 49, 52, 56, 66, 74, 96]"
      ]
     },
     "execution_count": 2,
     "metadata": {},
     "output_type": "execute_result"
    }
   ],
   "source": [
    "import random\n",
    "\n",
    "data_list = random.sample(range(100), 10)\n",
    "mergesplit(data_list)"
   ]
  },
  {
   "cell_type": "markdown",
   "metadata": {},
   "source": [
    "### 4. 알고리즘 분석\n",
    "* 알고리즘 분석은 쉽지 않음, <font color='#BF360C'>이 부분은 참고로만 알아두자.</font>\n",
    "  - 다음을 보고 이해해보자\n",
    "    - 몇 단계 깊이까지 만들어지는지를 depth 라고 하고 i로 놓자. 맨 위 단계는 0으로 놓자.\n",
    "      - 다음 그림에서 n/$2^2$ 는 2단계 깊이라고 해보자.\n",
    "      - 각 단계에 있는 하나의 노드 안의 리스트 길이는 n/$2^2$ 가 된다.\n",
    "      - 각 단계에는 $2^i$ 개의 노드가 있다.\n",
    "    - 따라서, 각 단계는 항상 <font size=4em>$2^i * \\frac { n }{ 2^i } = O(n)$</font>\n",
    "    - 단계는 항상 $log_2 n$ 개 만큼 만들어짐, 시간 복잡도는 결국 O(log n), 2는 역시 상수이므로 삭제\n",
    "    - 따라서, 단계별 시간 복잡도 O(n) * O(log n) = O(n log n)\n",
    "\n",
    "<img src=\"https://www.fun-coding.org/00_Images/mergesortcomplexity.png\" />\n"
   ]
  }
 ],
 "metadata": {
  "kernelspec": {
   "display_name": "Python 3",
   "language": "python",
   "name": "python3"
  },
  "language_info": {
   "codemirror_mode": {
    "name": "ipython",
    "version": 3
   },
   "file_extension": ".py",
   "mimetype": "text/x-python",
   "name": "python",
   "nbconvert_exporter": "python",
   "pygments_lexer": "ipython3",
   "version": "3.7.3"
  }
 },
 "nbformat": 4,
 "nbformat_minor": 2
}
