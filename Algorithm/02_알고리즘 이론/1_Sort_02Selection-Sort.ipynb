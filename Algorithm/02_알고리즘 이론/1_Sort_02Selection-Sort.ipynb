{
 "cells": [
  {
   "cell_type": "markdown",
   "metadata": {},
   "source": [
    "## 2:선택 정렬 (selection sort) "
   ]
  },
  {
   "cell_type": "markdown",
   "metadata": {},
   "source": [
    "### 1. 선택 정렬 (selection sort) 란?\n",
    "* 다음과 같은 순서를 반복하며 정렬하는 알고리즘\n",
    "  1. 주어진 데이터 중, 최소값을 찾음\n",
    "  2. 해당 최소값을 데이터 맨 앞에 위치한 값과 교체함\n",
    "  3. 맨 앞의 위치를 뺀 나머지 데이터를 동일한 방법으로 반복함\n",
    "\n",
    "#### 직접 눈으로 보면 더 이해가 쉽다: https://visualgo.net/en/sorting\n",
    "\n",
    "<img src=\"https://upload.wikimedia.org/wikipedia/commons/9/94/Selection-Sort-Animation.gif\" width=100>"
   ]
  },
  {
   "cell_type": "markdown",
   "metadata": {},
   "source": [
    "### 2. 알고리즘 구현"
   ]
  },
  {
   "cell_type": "code",
   "execution_count": 6,
   "metadata": {},
   "outputs": [],
   "source": [
    "def selection_sort(data):\n",
    "    for stand in range(len(data)-1):\n",
    "        lowest = stand\n",
    "        for index in range(stand+1,len(data)):\n",
    "            if data[index] < data[lowest]:\n",
    "                lowest = index\n",
    "        data[lowest],data[stand] = data[stand],data[lowest]\n",
    "    return data\n"
   ]
  },
  {
   "cell_type": "code",
   "execution_count": 7,
   "metadata": {},
   "outputs": [
    {
     "data": {
      "text/plain": [
       "[69, 67, 84, 41, 1, 20, 76, 27, 6, 39]"
      ]
     },
     "execution_count": 7,
     "metadata": {},
     "output_type": "execute_result"
    }
   ],
   "source": [
    "import random\n",
    "\n",
    "data_list = random.sample(range(100), 10)\n",
    "data_list"
   ]
  },
  {
   "cell_type": "code",
   "execution_count": 8,
   "metadata": {},
   "outputs": [
    {
     "data": {
      "text/plain": [
       "[1, 6, 20, 27, 39, 41, 67, 69, 76, 84]"
      ]
     },
     "execution_count": 8,
     "metadata": {},
     "output_type": "execute_result"
    }
   ],
   "source": [
    "selection_sort(data_list)"
   ]
  },
  {
   "cell_type": "code",
   "execution_count": null,
   "metadata": {},
   "outputs": [],
   "source": []
  }
 ],
 "metadata": {
  "kernelspec": {
   "display_name": "Python 3",
   "language": "python",
   "name": "python3"
  },
  "language_info": {
   "codemirror_mode": {
    "name": "ipython",
    "version": 3
   },
   "file_extension": ".py",
   "mimetype": "text/x-python",
   "name": "python",
   "nbconvert_exporter": "python",
   "pygments_lexer": "ipython3",
   "version": "3.7.3"
  }
 },
 "nbformat": 4,
 "nbformat_minor": 2
}
