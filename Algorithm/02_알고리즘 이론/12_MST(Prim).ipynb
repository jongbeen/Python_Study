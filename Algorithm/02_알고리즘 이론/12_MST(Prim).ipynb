{
 "cells": [
  {
   "cell_type": "markdown",
   "metadata": {},
   "source": [
    "## 최소 신장 트리의 이해"
   ]
  },
  {
   "cell_type": "markdown",
   "metadata": {},
   "source": [
    "### 1. 프림 알고리즘 (Prim's algorithm)\n",
    "- 대표적인 최소 신장 트리 알고리즘\n",
    "  - Kruskal’s algorithm (크루스칼 알고리즘), Prim's algorithm (프림 알고리즘)\n",
    "- 프림 알고리즘 \n",
    "  - 시작 정점을 선택한 후, 정점에 인접한 간선중 최소 간선으로 연결된 정점을 선택하고, 해당 정점에서 다시 최소 간선으로 연결된 정점을 선택하는 방식으로 최소 신장 트리를 확장해가는 방식\n",
    "- Kruskal's algorithm 과 Prim's algorithm 비교\n",
    "  - 둘다, 탐욕 알고리즘을 기초로 하고 있음 (당장 눈 앞의 최소 비용을 선택해서, 결과적으로 최적의 솔루션을 찾음)\n",
    "  - Kruskal's algorithm은 가장 가중치가 작은 간선부터 선택하면서 MST를 구함\n",
    "  - Prim's algorithm은 특정 정점에서 시작, 해당 정점에 연결된 가장 가중치가 작은 간선을 선택, 간선으로 연결된 정점들에 연결된 간선 중에서 가장 가중치가 작은 간선을 택하는 방식으로 MST를 구함"
   ]
  },
  {
   "cell_type": "markdown",
   "metadata": {},
   "source": [
    "### -> Kruskal, Prim 모두 그리디 알고리즘"
   ]
  },
  {
   "cell_type": "markdown",
   "metadata": {},
   "source": [
    "<img src=\"https://www.fun-coding.org/00_Images/prim1.png\" width=800>"
   ]
  },
  {
   "cell_type": "markdown",
   "metadata": {},
   "source": [
    "<img src=\"https://www.fun-coding.org/00_Images/prim2.png\" width=800>"
   ]
  },
  {
   "cell_type": "markdown",
   "metadata": {},
   "source": [
    "<img src=\"https://www.fun-coding.org/00_Images/prim3.png\" width=800>"
   ]
  },
  {
   "cell_type": "markdown",
   "metadata": {},
   "source": [
    "### 3. 프림 알고리즘 (Prim's algorithm) 코드 작성"
   ]
  },
  {
   "cell_type": "markdown",
   "metadata": {},
   "source": [
    "### 참고: heapq 라이브러리 활용을 통해 우선순위 큐 사용하기\n",
    "- heapq.heappush를 통해 데이터를 heap 형태로 넣을 수 있음 \n",
    "#### (0번 인덱스를 우선순위로 인지함)"
   ]
  },
  {
   "cell_type": "code",
   "execution_count": 1,
   "metadata": {},
   "outputs": [
    {
     "name": "stdout",
     "output_type": "stream",
     "text": [
      "[2, 'A']\n",
      "[3, 'C']\n",
      "[5, 'B']\n",
      "[]\n"
     ]
    }
   ],
   "source": [
    "import heapq\n",
    "\n",
    "queue = []\n",
    "graph_data = [ [2,'A'], [5,'B'], [3,'C'] ]\n",
    "\n",
    "## 힙형태로 데이터를 넣기 위해 , 일일히 push를 할 필요가 있음\n",
    "## heapq는 key가 최소인 데이터를 가장 앞에 두어, pop시 최솟값 리턴\n",
    "\n",
    "for edge in graph_data:\n",
    "    heapq.heappush(queue, edge)\n",
    "    \n",
    "for index in range( len(queue)):\n",
    "    print(heapq.heappop(queue))\n",
    "\n",
    "print(queue)"
   ]
  },
  {
   "cell_type": "markdown",
   "metadata": {},
   "source": [
    "### 참고: heapq 라이브러리 활용을 통해 우선순위 큐 사용하기\n",
    "- heapq.heappush를 통해 데이터를 heap 형태로 넣을 수 있음 (0번 인덱스를 우선순위로 인지함)"
   ]
  },
  {
   "cell_type": "code",
   "execution_count": 2,
   "metadata": {},
   "outputs": [
    {
     "name": "stdout",
     "output_type": "stream",
     "text": [
      "[2, 'A']\n",
      "[3, 'C']\n",
      "[5, 'B']\n",
      "[]\n"
     ]
    }
   ],
   "source": [
    "import heapq\n",
    "\n",
    "graph_data = [[2, 'A'], [5, 'B'], [3, 'C']]\n",
    "\n",
    "heapq.heapify(graph_data)\n",
    "\n",
    "for index in range( len(graph_data) ):\n",
    "    print(heapq.heappop(graph_data))\n",
    "    \n",
    "print(graph_data)"
   ]
  },
  {
   "cell_type": "markdown",
   "metadata": {},
   "source": [
    "### 참고: collections 라이브러리의 defaultdict 함수 활용하기\n",
    "- defaultdict 함수를 사용해서, key에 대한 value를 지정하지 않았을 시, 빈 리스트로 초기화하기"
   ]
  },
  {
   "cell_type": "code",
   "execution_count": 3,
   "metadata": {},
   "outputs": [
    {
     "name": "stdout",
     "output_type": "stream",
     "text": [
      "[]\n"
     ]
    }
   ],
   "source": [
    "from collections import defaultdict\n",
    "\n",
    "list_dict = defaultdict(list)\n",
    "print(list_dict['key1'])"
   ]
  },
  {
   "cell_type": "markdown",
   "metadata": {},
   "source": [
    "<img src=\"https://www.fun-coding.org/00_Images/prim1.png\" width=800>"
   ]
  },
  {
   "cell_type": "markdown",
   "metadata": {},
   "source": [
    "### 프림 알고리즘 파이썬 코드\n",
    "0. 모든 간선 정보를 저장 (**adjacent_edges**)\n",
    "1. 임의의 정점을 선택, '연결된 노드 집합(**connected_nodes**)'에 삽입\n",
    "2. 선택된 정점에 연결된 간선들을 간선 리스트(**candidate_edge_list**)에 삽입\n",
    "3. 간선 리스트(**candidate_edge_list**)에서 최소 가중치를 가지는 간선부터 추출해서,\n",
    "   - 해당 간선에 연결된 인접 정점이 '연결된 노드 집합'에 이미 들어 있다면, 스킵함(cycle 발생을 막기 위함)\n",
    "   - 해당 간선에 연결된 인접 정점이 '연결된 노드 집합'에 들어 있지 않으면, 해당 간선을 선택하고, 해당 간선 정보를 '최소 신장 트리(**mst**)'에 삽입\n",
    "     - 해당 간선에 연결된 인접 정점의 간선들 중, '연결된 노드 집합(**connected_nodes**)' 에 없는 노드와 연결된 간선들만 간선 리스트(**candidate_edge_list**) 에 삽입 \n",
    "       - '연결된 노드 집합(**connected_nodes**)' 에 있는 노드와 연결된 간선들을 간선 리스트에 삽입해도, 해당 간선은 스킵될 것이기 때문임\n",
    "       - 어차피 스킵될 간선을 간선 리스트(**candidate_edge_list**)에 넣지 않으므로 해서, 간선 리스트(**candidate_edge_list**)에서 최소 가중치를 가지는 간선부터 추출하기 위한 자료구조 유지를 위한 effort를 줄일 수 있음 (예, 최소힙 구조 사용)\n",
    "     \n",
    "     \n",
    "4. 선택된 간선은 간선 리스트에서 제거\n",
    "5. 간선 리스트에 더 이상의 간선이 없을 때까지 3-4번을 반복"
   ]
  },
  {
   "cell_type": "code",
   "execution_count": 6,
   "metadata": {},
   "outputs": [],
   "source": [
    "myedges = [\n",
    "    (7, 'A', 'B'), (5, 'A', 'D'),\n",
    "    (8, 'B', 'C'), (9, 'B', 'D'), (7, 'B', 'E'),\n",
    "    (5, 'C', 'E'),\n",
    "    (7, 'D', 'E'), (6, 'D', 'F'),\n",
    "    (8, 'E', 'F'), (9, 'E', 'G'),\n",
    "    (11, 'F', 'G')\n",
    "]"
   ]
  },
  {
   "cell_type": "code",
   "execution_count": 13,
   "metadata": {},
   "outputs": [],
   "source": [
    "from collections import defaultdict\n",
    "from heapq import *\n",
    "\n",
    "adjacent_edges = defaultdict(list)\n",
    "\n",
    "def prim(start_node, edges):\n",
    "    mst = list()\n",
    "    #adjacent_edges = defaultdict(list)\n",
    "    \n",
    "    # adjacent_edges에 가중치와 간선 정보 추가 (양방향 추가)\n",
    "    for weight,n1,n2 in edges:\n",
    "        adjacent_edges[n1].append((weight,n1,n2))\n",
    "        adjacent_edges[n2].append((weight,n2,n1))\n",
    "    \n",
    "    # connected_nodes 는 시작노드를 초기화한 set()\n",
    "    connected_nodes = set(start_node)\n",
    "    # candidate_edge_list는 시작노드의 인접정보를 가지는 list\n",
    "    candidate_edge_list = adjacent_edges[start_node]\n",
    "    # 이 인접정보를 바탕으로 heap 생성\n",
    "    # (여기서 가장 작은 weight로 연결하기 위해)\n",
    "    heapify(candidate_edge_list)\n",
    "    \n",
    "    while candidate_edge_list:\n",
    "        # candidate_edge_list를 pop하지만\n",
    "        # 실제로 adjacent_edges[start_node]를 pop하고 있음\n",
    "        weight,n1,n2 = heappop(candidate_edge_list)\n",
    "        if n2 not in connected_nodes:\n",
    "            connected_nodes.add(n2)\n",
    "            mst.append((weight,n1,n2))\n",
    "            \n",
    "            # 현재 노드에서 가장 가까운 n2노드의 주변노드 정보를 push\n",
    "            for edge in adjacent_edges[n2]:\n",
    "                if edge[2] not in connected_nodes:\n",
    "                    heappush(candidate_edge_list, edge)\n",
    "                    \n",
    "    return mst"
   ]
  },
  {
   "cell_type": "code",
   "execution_count": 19,
   "metadata": {},
   "outputs": [
    {
     "data": {
      "text/plain": [
       "[(5, 'A', 'D'),\n",
       " (6, 'D', 'F'),\n",
       " (7, 'A', 'B'),\n",
       " (7, 'B', 'E'),\n",
       " (5, 'E', 'C'),\n",
       " (9, 'E', 'G')]"
      ]
     },
     "execution_count": 19,
     "metadata": {},
     "output_type": "execute_result"
    }
   ],
   "source": [
    "prim('A',myedges)"
   ]
  },
  {
   "cell_type": "code",
   "execution_count": 20,
   "metadata": {},
   "outputs": [
    {
     "data": {
      "text/plain": [
       "defaultdict(list,\n",
       "            {'A': [],\n",
       "             'B': [(7, 'B', 'A'), (8, 'B', 'C'), (9, 'B', 'D'), (7, 'B', 'E')],\n",
       "             'D': [(5, 'D', 'A'),\n",
       "              (9, 'D', 'B'),\n",
       "              (7, 'D', 'E'),\n",
       "              (6, 'D', 'F'),\n",
       "              (5, 'D', 'A'),\n",
       "              (9, 'D', 'B'),\n",
       "              (7, 'D', 'E'),\n",
       "              (6, 'D', 'F'),\n",
       "              (5, 'D', 'A'),\n",
       "              (9, 'D', 'B'),\n",
       "              (7, 'D', 'E'),\n",
       "              (6, 'D', 'F')],\n",
       "             'C': [(8, 'C', 'B'),\n",
       "              (5, 'C', 'E'),\n",
       "              (8, 'C', 'B'),\n",
       "              (5, 'C', 'E'),\n",
       "              (8, 'C', 'B'),\n",
       "              (5, 'C', 'E')],\n",
       "             'E': [(7, 'E', 'B'),\n",
       "              (5, 'E', 'C'),\n",
       "              (7, 'E', 'D'),\n",
       "              (8, 'E', 'F'),\n",
       "              (9, 'E', 'G'),\n",
       "              (7, 'E', 'B'),\n",
       "              (5, 'E', 'C'),\n",
       "              (7, 'E', 'D'),\n",
       "              (8, 'E', 'F'),\n",
       "              (9, 'E', 'G'),\n",
       "              (7, 'E', 'B'),\n",
       "              (5, 'E', 'C'),\n",
       "              (7, 'E', 'D'),\n",
       "              (8, 'E', 'F'),\n",
       "              (9, 'E', 'G')],\n",
       "             'F': [(6, 'F', 'D'),\n",
       "              (8, 'F', 'E'),\n",
       "              (11, 'F', 'G'),\n",
       "              (6, 'F', 'D'),\n",
       "              (8, 'F', 'E'),\n",
       "              (11, 'F', 'G'),\n",
       "              (6, 'F', 'D'),\n",
       "              (8, 'F', 'E'),\n",
       "              (11, 'F', 'G')],\n",
       "             'G': [(9, 'G', 'E'),\n",
       "              (11, 'G', 'F'),\n",
       "              (9, 'G', 'E'),\n",
       "              (11, 'G', 'F'),\n",
       "              (9, 'G', 'E'),\n",
       "              (11, 'G', 'F')]})"
      ]
     },
     "execution_count": 20,
     "metadata": {},
     "output_type": "execute_result"
    }
   ],
   "source": [
    "adjacent_edges"
   ]
  },
  {
   "cell_type": "markdown",
   "metadata": {},
   "source": [
    "### 4. 시간 복잡도\n",
    "  - 최악의 경우, while 구문에서 모든 간선에 대해 반복하고, 최소 힙 구조를 사용하므로 O($ElogE$) 시간 복잡도를 가짐"
   ]
  },
  {
   "cell_type": "markdown",
   "metadata": {},
   "source": [
    "### 참고: 개선된 프림 알고리즘\n",
    "- 간선이 아닌 노드를 중심으로 우선순위 큐를 적용하는 방식\n",
    "  - 초기화 - 정점:key 구조를 만들어놓고, 특정 정점의 key값은 0, 이외의 정점들의 key값은 무한대로 놓음.  모든 정점:key 값은 우선순위 큐에 넣음\n",
    "  - 가장 key값이 적은 정점:key를 추출한 후(pop 하므로 해당 정점:key 정보는 우선순위 큐에서 삭제됨), (extract min 로직이라고 부름)\n",
    "  - 해당 정점의 인접한 정점들에 대해 key 값과 연결된 가중치 값을 비교하여 key값이 작으면 해당 정점:key 값을 갱신\n",
    "    - 정점:key 값 갱신시, 우선순위 큐는 최소 key값을 가지는 정점:key 를 루트노드로 올려놓도록 재구성함 (decrease key 로직이라고 부름)"
   ]
  },
  {
   "cell_type": "markdown",
   "metadata": {},
   "source": [
    "- 개선된 프림 알고리즘 구현시 고려 사항\n",
    "  - 우선순위 큐(최소힙) 구조에서, 이미 들어가 있는 데이터의 값 변경시, 최소값을 가지는 데이터를 루트노드로 올려놓도록 재구성하는 기능이 필요함\n",
    "  - 구현 복잡도를 줄이기 위해, heapdict 라이브러리를 통해, 해당 기능을 간단히 구현"
   ]
  },
  {
   "cell_type": "code",
   "execution_count": 16,
   "metadata": {},
   "outputs": [
    {
     "data": {
      "text/plain": [
       "{'A'}"
      ]
     },
     "execution_count": 16,
     "metadata": {},
     "output_type": "execute_result"
    }
   ],
   "source": [
    "a  = set('A')\n",
    "a"
   ]
  },
  {
   "cell_type": "code",
   "execution_count": null,
   "metadata": {},
   "outputs": [],
   "source": []
  }
 ],
 "metadata": {
  "kernelspec": {
   "display_name": "Python 3",
   "language": "python",
   "name": "python3"
  },
  "language_info": {
   "codemirror_mode": {
    "name": "ipython",
    "version": 3
   },
   "file_extension": ".py",
   "mimetype": "text/x-python",
   "name": "python",
   "nbconvert_exporter": "python",
   "pygments_lexer": "ipython3",
   "version": "3.7.3"
  }
 },
 "nbformat": 4,
 "nbformat_minor": 2
}
