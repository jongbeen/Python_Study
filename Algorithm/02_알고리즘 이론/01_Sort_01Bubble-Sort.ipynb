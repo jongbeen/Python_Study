{
 "cells": [
  {
   "cell_type": "markdown",
   "metadata": {},
   "source": [
    "### 1. 버블 정렬 (bubble sort) 란?\n",
    "* 두 인접한 데이터를 비교해서, 앞에 있는 데이터가 뒤에 있는 데이터보다 크면, 자리를 바꾸는 정렬 알고리즘\n",
    "\n",
    "#### 직접 눈으로 보면 더 이해가 쉽다: https://visualgo.net/en/sorting\n",
    "\n",
    "<img src=\"https://upload.wikimedia.org/wikipedia/commons/c/c8/Bubble-sort-example-300px.gif\" width=600/>"
   ]
  },
  {
   "cell_type": "markdown",
   "metadata": {},
   "source": [
    "#### swap(index,index+1) 을 반복해 정렬하는 것"
   ]
  },
  {
   "cell_type": "markdown",
   "metadata": {},
   "source": [
    "### 2. 알고리즘 구현"
   ]
  },
  {
   "cell_type": "code",
   "execution_count": 6,
   "metadata": {},
   "outputs": [],
   "source": [
    "def bubblesort(data):\n",
    "    Swap = False\n",
    "    for index in range(len(data) -1):\n",
    "        for index2 in range( len(data) - index -1):\n",
    "            if data[index2] > data[index2+1]:\n",
    "                data[index2],data[index2 + 1] = data[index2+1],data[index2]\n",
    "                Swap = True\n",
    "        \n",
    "        if Swap == False:\n",
    "            break;\n",
    "    return data"
   ]
  },
  {
   "cell_type": "code",
   "execution_count": 7,
   "metadata": {},
   "outputs": [],
   "source": [
    "def bsort(data):\n",
    "    Swap = False\n",
    "    for index in range(len(data) - 1):\n",
    "        for index2 in range(index+1,len(data) - 1):\n",
    "            if data[index] > data[index2]:\n",
    "                data[index2],data[index2 + 1] = data[index2+1],data[index2]\n",
    "                Swap = True\n",
    "        if Swap == False:\n",
    "            break\n",
    "    return data\n"
   ]
  },
  {
   "cell_type": "code",
   "execution_count": 8,
   "metadata": {},
   "outputs": [
    {
     "name": "stdout",
     "output_type": "stream",
     "text": [
      "[0, 3, 4, 7, 10, 12, 13, 14, 16, 17, 19, 21, 22, 23, 24, 26, 27, 28, 31, 38, 41, 46, 47, 48, 49, 52, 53, 54, 55, 56, 58, 64, 65, 66, 67, 71, 74, 75, 76, 78, 80, 81, 83, 85, 86, 89, 92, 93, 97, 98]\n"
     ]
    }
   ],
   "source": [
    "import random\n",
    "\n",
    "data_list = random.sample(range(100), 50)\n",
    "print (bubblesort(data_list))"
   ]
  },
  {
   "cell_type": "code",
   "execution_count": 9,
   "metadata": {},
   "outputs": [
    {
     "name": "stdout",
     "output_type": "stream",
     "text": [
      "[0, 3, 4, 7, 10, 12, 13, 14, 16, 17, 19, 21, 22, 23, 24, 26, 27, 28, 31, 38, 41, 46, 47, 48, 49, 52, 53, 54, 55, 56, 58, 64, 65, 66, 67, 71, 74, 75, 76, 78, 80, 81, 83, 85, 86, 89, 92, 93, 97, 98]\n"
     ]
    }
   ],
   "source": [
    "print(bsort(data_list))"
   ]
  },
  {
   "cell_type": "code",
   "execution_count": null,
   "metadata": {},
   "outputs": [],
   "source": []
  }
 ],
 "metadata": {
  "kernelspec": {
   "display_name": "Python 3",
   "language": "python",
   "name": "python3"
  },
  "language_info": {
   "codemirror_mode": {
    "name": "ipython",
    "version": 3
   },
   "file_extension": ".py",
   "mimetype": "text/x-python",
   "name": "python",
   "nbconvert_exporter": "python",
   "pygments_lexer": "ipython3",
   "version": "3.7.3"
  }
 },
 "nbformat": 4,
 "nbformat_minor": 2
}
