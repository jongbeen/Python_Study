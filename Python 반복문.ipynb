{
 "cells": [
  {
   "cell_type": "markdown",
   "metadata": {},
   "source": [
    "while 조건:\n",
    "    코드블록"
   ]
  },
  {
   "cell_type": "code",
   "execution_count": 1,
   "metadata": {},
   "outputs": [
    {
     "name": "stdout",
     "output_type": "stream",
     "text": [
      "10\n",
      "1회 반복.\n",
      "2회 반복.\n",
      "3회 반복.\n",
      "4회 반복.\n",
      "5회 반복.\n",
      "6회 반복.\n",
      "7회 반복.\n",
      "8회 반복.\n",
      "9회 반복.\n",
      "10회 반복.\n",
      "반복이 종료되었습니다.\n"
     ]
    }
   ],
   "source": [
    "limit = int(input())\n",
    "\n",
    "count=0\n",
    "\n",
    "while count <limit:\n",
    "    count = count + 1\n",
    "    print('{0}회 반복.'.format(count))\n",
    "    \n",
    "print('반복이 종료되었습니다.')"
   ]
  },
  {
   "cell_type": "markdown",
   "metadata": {},
   "source": [
    ".format()함수의 쓰임"
   ]
  },
  {
   "cell_type": "code",
   "execution_count": 5,
   "metadata": {},
   "outputs": [
    {
     "name": "stdout",
     "output_type": "stream",
     "text": [
      "20 번 손님 환영합니다\n",
      "20 번 손님 환영합니다\n",
      "20 번 손님 환영합니다\n"
     ]
    }
   ],
   "source": [
    "number = 20\n",
    "welcome = '환영합니다'\n",
    "base = '{} 번 손님 {}'\n",
    "\n",
    "#아래 3개의 print는 같은 값을 출력\n",
    "print(number,'번 손님',welcome)\n",
    "print(base.format(number,welcome))\n",
    "print('{} 번 손님 {}'.format(number,welcome))\n",
    "# {}안을 정의하는 .format함수, {}의 개수가 format의 인자보다 많으면 Error발생"
   ]
  },
  {
   "cell_type": "markdown",
   "metadata": {},
   "source": [
    "for 반복변수 in 순서열:\n",
    "    코드블록"
   ]
  },
  {
   "cell_type": "code",
   "execution_count": 6,
   "metadata": {},
   "outputs": [
    {
     "name": "stdout",
     "output_type": "stream",
     "text": [
      "*\n",
      "**\n",
      "***\n",
      "****\n",
      "*****\n"
     ]
    }
   ],
   "source": [
    "for i in range(1,6):\n",
    "    for j in range(i):\n",
    "        print('*', end = \"\", ) # 줄바꾸지 않음\n",
    "    \n",
    "    print() #줄바꿈\n",
    "    "
   ]
  },
  {
   "cell_type": "markdown",
   "metadata": {},
   "source": [
    "튜플, 리스트, 문자열의 for()문"
   ]
  },
  {
   "cell_type": "code",
   "execution_count": 12,
   "metadata": {},
   "outputs": [
    {
     "name": "stdout",
     "output_type": "stream",
     "text": [
      "#############튜플이 순서열일때##########\n",
      "1\n",
      "2\n",
      "3\n",
      "---------------------\n",
      "############리스트가 순서열일때#############\n",
      "뇌를\n",
      "자극하는\n",
      "Python\n",
      "---------------------\n",
      "############문자열이 순서열일때#############\n",
      "파\n",
      "이\n",
      "썬\n"
     ]
    }
   ],
   "source": [
    "# 튜플이 순서열일 때\n",
    "print('#############튜플이 순서열일때##########')\n",
    "for i in (1,2,3):\n",
    "    print(i)\n",
    "\n",
    "print('---------------------')\n",
    "# 리스트가 순서열일 때\n",
    "print('############리스트가 순서열일때#############')\n",
    "for s in ['뇌를', '자극하는', 'Python']:\n",
    "    print(s)\n",
    "\n",
    "print('---------------------')\n",
    "# 문자열이 순서열일때\n",
    "print('############문자열이 순서열일때#############')\n",
    "for c in '파이썬':\n",
    "    print(c)"
   ]
  },
  {
   "cell_type": "code",
   "execution_count": 20,
   "metadata": {},
   "outputs": [
    {
     "name": "stdout",
     "output_type": "stream",
     "text": [
      "1.continue의 사용\n",
      "0\n",
      "2\n",
      "4\n",
      "6\n",
      "8\n",
      "--------------------\n",
      "2.break의 사용\n",
      "1\n",
      "2\n",
      "3\n",
      "4\n",
      "i가 5이 됬습니다. 반복문을 중단합니다\n"
     ]
    }
   ],
   "source": [
    "# Continue와 break로 반복문 제어\n",
    "\n",
    "print('1.continue의 사용')\n",
    "for i in range(10):\n",
    "    if i% 2 == 1:\n",
    "        continue\n",
    "        \n",
    "    print(i)\n",
    "print('--------------------')\n",
    "print('2.break의 사용')\n",
    "i=0\n",
    "while(True):\n",
    "    i = i+1\n",
    "    if i== 5:\n",
    "        print('i가 {0}이 됬습니다. 반복문을 중단합니다'.format(i))\n",
    "        break\n",
    "    print(i)"
   ]
  },
  {
   "cell_type": "code",
   "execution_count": null,
   "metadata": {},
   "outputs": [],
   "source": []
  }
 ],
 "metadata": {
  "kernelspec": {
   "display_name": "Python 3",
   "language": "python",
   "name": "python3"
  },
  "language_info": {
   "codemirror_mode": {
    "name": "ipython",
    "version": 3
   },
   "file_extension": ".py",
   "mimetype": "text/x-python",
   "name": "python",
   "nbconvert_exporter": "python",
   "pygments_lexer": "ipython3",
   "version": "3.7.3"
  }
 },
 "nbformat": 4,
 "nbformat_minor": 2
}
