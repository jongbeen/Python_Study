{
 "cells": [
  {
   "cell_type": "code",
   "execution_count": 198,
   "metadata": {},
   "outputs": [],
   "source": [
    "key = [[\"a\",\"b\",\"c\",\"d\",\"e\"],\n",
    "       [\"f\",\"g\",\"h\",\"i\",\"j\"],\n",
    "       [\"k\",\"l\",\"m\",\"n\",\"o\"],\n",
    "       [\"p\",\"q\",\"r\",\"s\",\"t\"],\n",
    "      [\"u\",\"v\",\"w\",\"x\",\"y\"],\n",
    "      [\"z\",\" \",\"0\",\"1\",\"2\"]]\n",
    "target = \"\"\"glory glory manunited glory glory manunited glory glory manunited as the reds go marching on on on just like the busby babes in days gone by well keep the red glags flying high\"\"\""
   ]
  },
  {
   "cell_type": "code",
   "execution_count": 199,
   "metadata": {},
   "outputs": [],
   "source": [
    "directions = [(-1,0),(1,0),(0,-1),(0,1)]\n",
    "\n",
    "def BFS(locations):\n",
    "    result=\"\"\n",
    "    for index in range(len(locations)-1):\n",
    "        start,end = locations[index], locations[index+1]\n",
    "        visited = [[False]*5 for _ in range(6)]\n",
    "        visited[start[0]][start[1]] = True\n",
    "        queue = [(start[0],start[1],\"\")]\n",
    "        while queue:\n",
    "            x,y,strs = queue.pop(0)\n",
    "            if x==end[0] and y==end[1]:\n",
    "                strs += \"@\"\n",
    "                result += strs\n",
    "                break\n",
    "            for dx, dy in directions:\n",
    "                nx,ny = x+dx,y+dy\n",
    "                if 0<=nx<6 and 0<=ny<5:\n",
    "                    if not visited[nx][ny]:\n",
    "                        if (dx,dy) == (-1,0):\n",
    "                            s='^'\n",
    "                        elif (dx,dy) == (1,0):\n",
    "                            s=\"_\"\n",
    "                        elif (dx,dy) == (0,1):\n",
    "                            s=\">\"\n",
    "                        elif (dx,dy) == (0,-1):\n",
    "                            s=\"<\"\n",
    "                        queue.append((nx,ny,strs+s))\n",
    "                        visited[nx][ny] = True\n",
    "    return result\n",
    "\n",
    "def simple(locations):\n",
    "    result = \"\"\n",
    "    for index in range(len(locations)-1):\n",
    "        start = locations[index]\n",
    "        end = locations[index+1]\n",
    "        s,d=\"\",\"\"\n",
    "        if start == end:\n",
    "            result+=\"@\"\n",
    "        else:\n",
    "            x,y = end[0]-start[0],end[1]-start[1]\n",
    "            if x>0:\n",
    "                s=\"_\"*x\n",
    "            else:\n",
    "                s=\"^\"*(-x)\n",
    "            result+=s\n",
    "            if y>0:\n",
    "                d=\">\"*y\n",
    "            else:\n",
    "                d=\"<\"*(-y)\n",
    "            d+=\"@\"\n",
    "        result +=d\n",
    "    return result\n",
    "        \n",
    "        \n",
    "\n",
    "def find_loc(words):\n",
    "    loc = [(0,0)]\n",
    "    for st in words:\n",
    "        find = False\n",
    "        for i in range(len(key)):\n",
    "            for j in range(len(key[i])):\n",
    "                if key[i][j] == st:\n",
    "                    find = True\n",
    "                    loc.append((i,j))\n",
    "            if find:\n",
    "                break\n",
    "    return loc\n",
    "\n",
    "def solution(words):\n",
    "    location = find_loc(words)\n",
    "    r = BFS(location)\n",
    "    return r\n",
    "\n",
    "def solution2(words):\n",
    "    location = find_loc(words)\n",
    "    r = simple(location)\n",
    "    return r\n",
    "        "
   ]
  },
  {
   "cell_type": "code",
   "execution_count": 200,
   "metadata": {},
   "outputs": [
    {
     "name": "stdout",
     "output_type": "stream",
     "text": [
      "time : 0.004986286163330078\n"
     ]
    }
   ],
   "source": [
    "import time\n",
    "start = time.time()\n",
    "a = solution(target)\n",
    "print(\"time :\", time.time() - start) "
   ]
  },
  {
   "cell_type": "code",
   "execution_count": 201,
   "metadata": {},
   "outputs": [
    {
     "name": "stdout",
     "output_type": "stream",
     "text": [
      "time : 0.0009970664978027344\n"
     ]
    }
   ],
   "source": [
    "import time\n",
    "start = time.time()\n",
    "b = solution2(target)\n",
    "print(\"time :\", time.time() - start) "
   ]
  },
  {
   "cell_type": "code",
   "execution_count": 202,
   "metadata": {},
   "outputs": [
    {
     "name": "stdout",
     "output_type": "stream",
     "text": [
      "_>@_@>>>@_<<@_>>@_<<<@^^^^@_@>>>@_<<@_>>@_<<<@^^^>@^^<<@__>>>@__<<<@^^>>>@^@__>@^^^@<@_____<<@^^^^@_@>>>@_<<@_>>@_<<<@^^^^@_@>>>@_<<@_>>@_<<<@^^^>@^^<<@__>>>@__<<<@^^>>>@^@__>@^^^@<@_____<<@^^^^@_@>>>@_<<@_>>@_<<<@^^^^@_@>>>@_<<@_>>@_<<<@^^^>@^^<<@__>>>@__<<<@^^>>>@^@__>@^^^@<@_____<<@^^^^^<@___>>>@__<<@^^>>>@^^<<@^>>@_____<<<@^^>@^^^>>@<@___@__<<@^^^^@_>>>@___<<<@^^^>@^^<<@___>>@^^^@_@>@_@^<<@____@^^^>>>@<@___<<@^^^>>>@<@___<<@^^^>>>@<@___<<@^^^^>>>@___<<<<@^>>>@>@__<<<@^^^@^>>@_<<<@^^>>>>@_____<<<@^^>>>@^^<<@^>>@_____<<<@^^^^^@____<@^>>>@^^^<<@____>>>@_<<<@^^^^^@<@>@>>>@___<@__<<@^^^^>>@_@___<<@^^^^^>>@<<<@____>>>>@^<@__<<@^^^^@_>>>@<@^^>@_____<<<@^^^^^@____>>>@_<<<@^>@^^^^>>@__<<<@@___@^^^<@^^>>>>@@___<<<<@__>@^^>>>@^^<<@^>>@_____<<<@^^>@^^^>>@<@_____<<@^^^^@_@^^<@_>@__>>@__<<@^^^^<@_>@__>>>@^^^<@_@^<<@____@^^^^>@>@<<@>@\n",
      "_>@_@>>>@_<<@_>>@_<<<@^^^^@_@>>>@_<<@_>>@_<<<@^^^>@^^<<@__>>>@__<<<@^^>>>@^@__>@^^^@<@_____<<@^^^^@_@>>>@_<<@_>>@_<<<@^^^^@_@>>>@_<<@_>>@_<<<@^^^>@^^<<@__>>>@__<<<@^^>>>@^@__>@^^^@<@_____<<@^^^^@_@>>>@_<<@_>>@_<<<@^^^^@_@>>>@_<<@_>>@_<<<@^^^>@^^<<@__>>>@__<<<@^^>>>@^@__>@^^^@<@_____<<@^^^^^<@___>>>@__<<@^^>>>@^^<<@^>>@_____<<<@^^>@^^^>>@<@___@__<<@^^^^@_>>>@___<<<@^^^>@^^<<@___>>@^^^@_@>@_@^<<@____@^^^>>>@<@___<<@^^^>>>@<@___<<@^^^>>>@<@___<<@^^^^>>>@___<<<<@^>>>@>@__<<<@^^^@^>>@_<<<@^^>>>>@_____<<<@^^>>>@^^<<@^>>@_____<<<@^^^^^@____<@^>>>@^^^<<@____>>>@_<<<@^^^^^@<@>@>>>@___<@__<<@^^^^>>@_@___<<@^^^^^>>@<<<@____>>>>@^<@__<<@^^^^@_>>>@<@^^>@_____<<<@^^^^^@____>>>@_<<<@^>@^^^^>>@__<<<@@___@^^^<@^^>>>>@@___<<<<@__>@^^>>>@^^<<@^>>@_____<<<@^^>@^^^>>@<@_____<<@^^^^@_@^^<@_>@__>>@__<<@^^^^<@_>@__>>>@^^^<@_@^<<@____@^^^^>@>@<<@>@\n"
     ]
    }
   ],
   "source": [
    "print(a)\n",
    "print(b)"
   ]
  },
  {
   "cell_type": "code",
   "execution_count": 203,
   "metadata": {},
   "outputs": [
    {
     "name": "stdout",
     "output_type": "stream",
     "text": [
      "y\n"
     ]
    }
   ],
   "source": [
    "if a == b:\n",
    "    print(\"y\")"
   ]
  },
  {
   "cell_type": "code",
   "execution_count": null,
   "metadata": {},
   "outputs": [],
   "source": []
  },
  {
   "cell_type": "code",
   "execution_count": null,
   "metadata": {},
   "outputs": [],
   "source": []
  }
 ],
 "metadata": {
  "kernelspec": {
   "display_name": "Python 3",
   "language": "python",
   "name": "python3"
  },
  "language_info": {
   "codemirror_mode": {
    "name": "ipython",
    "version": 3
   },
   "file_extension": ".py",
   "mimetype": "text/x-python",
   "name": "python",
   "nbconvert_exporter": "python",
   "pygments_lexer": "ipython3",
   "version": "3.7.3"
  }
 },
 "nbformat": 4,
 "nbformat_minor": 2
}
