{
 "cells": [
  {
   "cell_type": "code",
   "execution_count": 198,
   "metadata": {},
   "outputs": [],
   "source": [
    "key = [[\"a\",\"b\",\"c\",\"d\",\"e\"],\n",
    "       [\"f\",\"g\",\"h\",\"i\",\"j\"],\n",
    "       [\"k\",\"l\",\"m\",\"n\",\"o\"],\n",
    "       [\"p\",\"q\",\"r\",\"s\",\"t\"],\n",
    "      [\"u\",\"v\",\"w\",\"x\",\"y\"],\n",
    "      [\"z\",\" \",\"0\",\"1\",\"2\"]]\n",
    "target = \"\"\"glory glory manunited glory glory manunited glory glory manunited as the reds go marching on on on just like the busby babes in days gone by well keep the red glags flying high\"\"\""
   ]
  },
  {
   "cell_type": "code",
   "execution_count": 199,
   "metadata": {},
   "outputs": [],
   "source": [
    "directions = [(-1,0),(1,0),(0,-1),(0,1)]\n",
    "\n",
    "def BFS(locations):\n",
    "    result=\"\"\n",
    "    for index in range(len(locations)-1):\n",
    "        start,end = locations[index], locations[index+1]\n",
    "        visited = [[False]*5 for _ in range(6)]\n",
    "        visited[start[0]][start[1]] = True\n",
    "        queue = [(start[0],start[1],\"\")]\n",
    "        while queue:\n",
    "            x,y,strs = queue.pop(0)\n",
    "            if x==end[0] and y==end[1]:\n",
    "                strs += \"@\"\n",
    "                result += strs\n",
    "                break\n",
    "            for dx, dy in directions:\n",
    "                nx,ny = x+dx,y+dy\n",
    "                if 0<=nx<6 and 0<=ny<5:\n",
    "                    if not visited[nx][ny]:\n",
    "                        if (dx,dy) == (-1,0):\n",
    "                            s='^'\n",
    "                        elif (dx,dy) == (1,0):\n",
    "                            s=\"_\"\n",
    "                        elif (dx,dy) == (0,1):\n",
    "                            s=\">\"\n",
    "                        elif (dx,dy) == (0,-1):\n",
    "                            s=\"<\"\n",
    "                        queue.append((nx,ny,strs+s))\n",
    "                        visited[nx][ny] = True\n",
    "    return result\n",
    "\n",
    "def simple(locations):\n",
    "    result = \"\"\n",
    "    for index in range(len(locations)-1):\n",
    "        start = locations[index]\n",
    "        end = locations[index+1]\n",
    "        s,d=\"\",\"\"\n",
    "        if start == end:\n",
    "            result+=\"@\"\n",
    "        else:\n",
    "            x,y = end[0]-start[0],end[1]-start[1]\n",
    "            if x>0:\n",
    "                s=\"_\"*x\n",
    "            else:\n",
    "                s=\"^\"*(-x)\n",
    "            result+=s\n",
    "            if y>0:\n",
    "                d=\">\"*y\n",
    "            else:\n",
    "                d=\"<\"*(-y)\n",
    "            d+=\"@\"\n",
    "        result +=d\n",
    "    return result\n",
    "        \n",
    "        \n",
    "\n",
    "def find_loc(words):\n",
    "    loc = [(0,0)]\n",
    "    for st in words:\n",
    "        find = False\n",
    "        for i in range(len(key)):\n",
    "            for j in range(len(key[i])):\n",
    "                if key[i][j] == st:\n",
    "                    find = True\n",
    "                    loc.append((i,j))\n",
    "            if find:\n",
    "                break\n",
    "    return loc\n",
    "\n",
    "def solution(words):\n",
    "    location = find_loc(words)\n",
    "    r = BFS(location)\n",
    "    return r\n",
    "\n",
    "def solution2(words):\n",
    "    location = find_loc(words)\n",
    "    r = simple(location)\n",
    "    return r\n",
    "        "
   ]
  },
  {
   "cell_type": "code",
   "execution_count": 200,
   "metadata": {},
   "outputs": [
    {
     "name": "stdout",
     "output_type": "stream",
     "text": [
      "time : 0.004986286163330078\n"
     ]
    }
   ],
   "source": [
    "import time\n",
    "start = time.time()\n",
    "a = solution(target)\n",
    "print(\"time :\", time.time() - start) "
   ]
  },
  {
   "cell_type": "code",
   "execution_count": 201,
   "metadata": {},
   "outputs": [
    {
     "name": "stdout",
     "output_type": "stream",
     "text": [
      "time : 0.0009970664978027344\n"
     ]
    }
   ],
   "source": [
    "import time\n",
    "start = time.time()\n",
    "b = solution2(target)\n",
    "print(\"time :\", time.time() - start) "
   ]
  },
  {
   "cell_type": "code",
   "execution_count": 202,
   "metadata": {},
   "outputs": [
    {
     "name": "stdout",
     "output_type": "stream",
     "text": [
      "_>@_@>>>@_<<@_>>@_<<<@^^^^@_@>>>@_<<@_>>@_<<<@^^^>@^^<<@__>>>@__<<<@^^>>>@^@__>@^^^@<@_____<<@^^^^@_@>>>@_<<@_>>@_<<<@^^^^@_@>>>@_<<@_>>@_<<<@^^^>@^^<<@__>>>@__<<<@^^>>>@^@__>@^^^@<@_____<<@^^^^@_@>>>@_<<@_>>@_<<<@^^^^@_@>>>@_<<@_>>@_<<<@^^^>@^^<<@__>>>@__<<<@^^>>>@^@__>@^^^@<@_____<<@^^^^^<@___>>>@__<<@^^>>>@^^<<@^>>@_____<<<@^^>@^^^>>@<@___@__<<@^^^^@_>>>@___<<<@^^^>@^^<<@___>>@^^^@_@>@_@^<<@____@^^^>>>@<@___<<@^^^>>>@<@___<<@^^^>>>@<@___<<@^^^^>>>@___<<<<@^>>>@>@__<<<@^^^@^>>@_<<<@^^>>>>@_____<<<@^^>>>@^^<<@^>>@_____<<<@^^^^^@____<@^>>>@^^^<<@____>>>@_<<<@^^^^^@<@>@>>>@___<@__<<@^^^^>>@_@___<<@^^^^^>>@<<<@____>>>>@^<@__<<@^^^^@_>>>@<@^^>@_____<<<@^^^^^@____>>>@_<<<@^>@^^^^>>@__<<<@@___@^^^<@^^>>>>@@___<<<<@__>@^^>>>@^^<<@^>>@_____<<<@^^>@^^^>>@<@_____<<@^^^^@_@^^<@_>@__>>@__<<@^^^^<@_>@__>>>@^^^<@_@^<<@____@^^^^>@>@<<@>@\n",
      "_>@_@>>>@_<<@_>>@_<<<@^^^^@_@>>>@_<<@_>>@_<<<@^^^>@^^<<@__>>>@__<<<@^^>>>@^@__>@^^^@<@_____<<@^^^^@_@>>>@_<<@_>>@_<<<@^^^^@_@>>>@_<<@_>>@_<<<@^^^>@^^<<@__>>>@__<<<@^^>>>@^@__>@^^^@<@_____<<@^^^^@_@>>>@_<<@_>>@_<<<@^^^^@_@>>>@_<<@_>>@_<<<@^^^>@^^<<@__>>>@__<<<@^^>>>@^@__>@^^^@<@_____<<@^^^^^<@___>>>@__<<@^^>>>@^^<<@^>>@_____<<<@^^>@^^^>>@<@___@__<<@^^^^@_>>>@___<<<@^^^>@^^<<@___>>@^^^@_@>@_@^<<@____@^^^>>>@<@___<<@^^^>>>@<@___<<@^^^>>>@<@___<<@^^^^>>>@___<<<<@^>>>@>@__<<<@^^^@^>>@_<<<@^^>>>>@_____<<<@^^>>>@^^<<@^>>@_____<<<@^^^^^@____<@^>>>@^^^<<@____>>>@_<<<@^^^^^@<@>@>>>@___<@__<<@^^^^>>@_@___<<@^^^^^>>@<<<@____>>>>@^<@__<<@^^^^@_>>>@<@^^>@_____<<<@^^^^^@____>>>@_<<<@^>@^^^^>>@__<<<@@___@^^^<@^^>>>>@@___<<<<@__>@^^>>>@^^<<@^>>@_____<<<@^^>@^^^>>@<@_____<<@^^^^@_@^^<@_>@__>>@__<<@^^^^<@_>@__>>>@^^^<@_@^<<@____@^^^^>@>@<<@>@\n"
     ]
    }
   ],
   "source": [
    "print(a)\n",
    "print(b)"
   ]
  },
  {
   "cell_type": "code",
   "execution_count": 203,
   "metadata": {},
   "outputs": [
    {
     "name": "stdout",
     "output_type": "stream",
     "text": [
      "y\n"
     ]
    }
   ],
   "source": [
    "if a == b:\n",
    "    print(\"y\")"
   ]
  },
  {
   "attachments": {
    "image.png": {
     "image/png": "[encoded data removed]"
    }
   },
   "cell_type": "markdown",
   "metadata": {},
   "source": [
    "#### 1.도착가능한 모든 경로의 w를 구했어야 함. (단방향 그래프)\n",
    "> 다익스트라로 안하고 BFS로 했음...\n",
    "#### 2. 도착한 경로들을 짧은 순으로 정렬하라고 했던 기억\n",
    "> 확실하지 않음.\n",
    "\n",
    "![image.png](attachment:image.png)"
   ]
  },
  {
   "cell_type": "code",
   "execution_count": 27,
   "metadata": {},
   "outputs": [],
   "source": [
    "graph = dict()\n",
    "graph['A'] = [('B',1), ('C',2)]\n",
    "graph['B'] = [('D',1)]\n",
    "graph['C'] = [('D',1)]\n",
    "graph['D'] = [('E',3)]\n",
    "graph['E'] = []"
   ]
  },
  {
   "cell_type": "markdown",
   "metadata": {},
   "source": [
    "#### 내 답 \n",
    "> 이러면 갈림길 - 갈림길에서 모아짐 - 다음 경로에서\n",
    "- 먼저 갈림길에 모아진 경로때문에 끊김..."
   ]
  },
  {
   "cell_type": "code",
   "execution_count": 42,
   "metadata": {},
   "outputs": [],
   "source": [
    "def BFS(start,end):\n",
    "    visited,need_visit = list(),list()\n",
    "    need_visit.append((start,0))\n",
    "    result = []\n",
    "    while need_visit:\n",
    "        node,weight = need_visit.pop(0)\n",
    "        if node == end:\n",
    "            result.append(weight)\n",
    "        if node not in visited:\n",
    "            visited.append(node)\n",
    "            temp,added = graph[node],[]\n",
    "            for data in temp:\n",
    "                data = list(data)\n",
    "                added.append((data[0],data[1]+weight))\n",
    "            need_visit.extend(added)\n",
    "    return result\n",
    "\n",
    "def solution(graph):\n",
    "    answer = BFS('A','D')\n",
    "    print(answer)"
   ]
  },
  {
   "cell_type": "code",
   "execution_count": 43,
   "metadata": {},
   "outputs": [
    {
     "name": "stdout",
     "output_type": "stream",
     "text": [
      "[2, 3]\n"
     ]
    }
   ],
   "source": [
    "solution(graph)"
   ]
  },
  {
   "cell_type": "markdown",
   "metadata": {},
   "source": [
    "#### 수정 답"
   ]
  },
  {
   "cell_type": "code",
   "execution_count": 53,
   "metadata": {},
   "outputs": [],
   "source": [
    "def bfs(start,dest):\n",
    "    queue = [(start,[start],0)]\n",
    "    result = []\n",
    "    \n",
    "    while queue:\n",
    "        node, path, weight = queue.pop(0)\n",
    "        if n == dest:\n",
    "            result.append(weight)\n",
    "        else:\n",
    "            for m in graph[n]:\n",
    "                p = set(m[0]) - set(path)\n",
    "                queue.append((m,path+[m[0]]))\n",
    "    return result"
   ]
  },
  {
   "cell_type": "code",
   "execution_count": 54,
   "metadata": {},
   "outputs": [],
   "source": [
    "def solution(graph):\n",
    "    answer = bfs('A','D')\n",
    "    print(answer)"
   ]
  },
  {
   "cell_type": "code",
   "execution_count": 55,
   "metadata": {},
   "outputs": [],
   "source": [
    "graph = {'A': set(['B', 'C']),\n",
    "         'B': set(['A', 'D', 'E']),\n",
    "         'C': set(['A', 'F']),\n",
    "         'D': set(['B']),\n",
    "         'E': set(['B', 'F']),\n",
    "         'F': set(['C', 'E'])}"
   ]
  },
  {
   "cell_type": "code",
   "execution_count": 56,
   "metadata": {},
   "outputs": [],
   "source": [
    "def bfs(graph, start):\n",
    "    visited = []\n",
    "    queue = [start]\n",
    "\n",
    "    while queue:\n",
    "        n = queue.pop(0)\n",
    "        if n not in visited:\n",
    "            visited.append(n)\n",
    "            queue += graph[n] - set(visited)\n",
    "    return visited"
   ]
  },
  {
   "cell_type": "code",
   "execution_count": 57,
   "metadata": {},
   "outputs": [],
   "source": [
    "def bfs_paths(graph, start, goal):\n",
    "    queue = [(start, [start])]\n",
    "    result = []\n",
    "\n",
    "    while queue:\n",
    "        n, path = queue.pop(0)\n",
    "        if n == goal:\n",
    "            result.append(path)\n",
    "        else:\n",
    "            for m in graph[n] - set(path):\n",
    "                queue.append((m, path + [m]))\n",
    "    return result"
   ]
  },
  {
   "cell_type": "code",
   "execution_count": 58,
   "metadata": {},
   "outputs": [
    {
     "data": {
      "text/plain": [
       "[['D', 'B', 'E', 'F'], ['D', 'B', 'A', 'C', 'F']]"
      ]
     },
     "execution_count": 58,
     "metadata": {},
     "output_type": "execute_result"
    }
   ],
   "source": [
    "bfs_paths(graph,'D','F')"
   ]
  },
  {
   "cell_type": "code",
   "execution_count": null,
   "metadata": {},
   "outputs": [],
   "source": []
  }
 ],
 "metadata": {
  "kernelspec": {
   "display_name": "Python 3",
   "language": "python",
   "name": "python3"
  },
  "language_info": {
   "codemirror_mode": {
    "name": "ipython",
    "version": 3
   },
   "file_extension": ".py",
   "mimetype": "text/x-python",
   "name": "python",
   "nbconvert_exporter": "python",
   "pygments_lexer": "ipython3",
   "version": "3.7.3"
  }
 },
 "nbformat": 4,
 "nbformat_minor": 2
}
