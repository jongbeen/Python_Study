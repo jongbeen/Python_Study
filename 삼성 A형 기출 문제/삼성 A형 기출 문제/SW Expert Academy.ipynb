{
 "cells": [
  {
   "cell_type": "markdown",
   "metadata": {},
   "source": [
    "### 5658 보물상자 비밀번호"
   ]
  },
  {
   "cell_type": "code",
   "execution_count": 24,
   "metadata": {},
   "outputs": [
    {
     "name": "stdout",
     "output_type": "stream",
     "text": [
      "1\n",
      "12 10\n",
      "1B3B3B81F75E\n",
      "#1 503\n"
     ]
    }
   ],
   "source": [
    "result = []\n",
    "for _ in range(int(input())):\n",
    "    N,K = map(int,input().split())\n",
    "    text = list(map(str,input()))\n",
    "    count = N//4\n",
    "    numbers = []\n",
    "    for _ in range(count):\n",
    "        for i in range(0,len(text),count):\n",
    "            numbers.append(int(''.join(text[i:i+count]),16))\n",
    "        tt = text.pop()\n",
    "        text.insert(0,tt)\n",
    "    numbers = set(numbers)\n",
    "    numbers = list(numbers)\n",
    "    numbers.sort(reverse=True)\n",
    "    result.append(numbers[K-1])\n",
    "for i in range(len(result)):\n",
    "    print(\"#{0} {data}\".format(i+1,data = result[i]))"
   ]
  },
  {
   "cell_type": "code",
   "execution_count": 1,
   "metadata": {},
   "outputs": [
    {
     "name": "stdout",
     "output_type": "stream",
     "text": [
      "124a23\n",
      "18\n"
     ]
    },
    {
     "data": {
      "text/plain": [
       "['3', '1', '2', '4', 'a', '2']"
      ]
     },
     "execution_count": 1,
     "metadata": {},
     "output_type": "execute_result"
    }
   ],
   "source": [
    "result = []\n",
    "for _ in range(int(input())):\n",
    "    N,K = map(int,input().split())\n",
    "    text = list(map(str,input()))\n",
    "    count = N//4\n",
    "    for _ in range(count-1):\n",
    "        for i in range(0,len(text),count)"
   ]
  },
  {
   "cell_type": "markdown",
   "metadata": {},
   "source": [
    "### 1206. [S/W 문제해결 기본] 1일차 - 조망권"
   ]
  },
  {
   "attachments": {
    "image.png": {
     "image/png": "[encoded data removed]"
    }
   },
   "cell_type": "markdown",
   "metadata": {},
   "source": [
    "![image.png](attachment:image.png)\n",
    ">좌우로 2칸이상 걸리는게 없어야 view"
   ]
  },
  {
   "cell_type": "code",
   "execution_count": null,
   "metadata": {},
   "outputs": [],
   "source": [
    "ANSWER = []\n",
    "for _ in range(10):\n",
    "    N = int(input())\n",
    "    Array = list(map(int,input().split()))\n",
    "    result = []\n",
    "    for i in range(2,len(Array)-2):\n",
    "        left = max(Array[i-1],Array[i-2])\n",
    "        right = max(Array[i+1],Array[i+2])\n",
    "        comp = max(left,right)\n",
    "        if Array[i] > comp:\n",
    "            result.append(Array[i]-comp)\n",
    "    ANSWER.append(sum(result))\n",
    "for i in range(10):\n",
    "    print(\"#{0} {1}\".format(i+1,ANSWER[i]))"
   ]
  },
  {
   "cell_type": "markdown",
   "metadata": {},
   "source": [
    "### 1204. [S/W 문제해결 기본] 1일차 - 최빈점수"
   ]
  },
  {
   "cell_type": "code",
   "execution_count": null,
   "metadata": {},
   "outputs": [],
   "source": [
    "ANSWER = dict()\n",
    "for _ in range(int(input())):\n",
    "    N = int(input())\n",
    "    Count, result = [0]*101, []\n",
    "    Graph = list(map(int,input().split()))\n",
    "    for i in Graph:\n",
    "        Count[i] +=1\n",
    "    MAX = max(Count)\n",
    "    for i in range(len(Count)):\n",
    "        if Count[i]==MAX:\n",
    "            result.append(i)\n",
    "    ANSWER[N] = max(result)\n",
    "for key,value in ANSWER.items():\n",
    "    print(\"#{0} {1}\".format(key,value))"
   ]
  },
  {
   "cell_type": "markdown",
   "metadata": {},
   "source": [
    "### SW2819. 격자판의 숫자 이어 붙이기 (D4)"
   ]
  },
  {
   "cell_type": "markdown",
   "metadata": {},
   "source": [
    "#### 내 답[BFS] (정답)\n",
    "> value += Graph[nx][ny] 이거 때문에...\n",
    "- 아무생각없이 쓰지말자..."
   ]
  },
  {
   "cell_type": "code",
   "execution_count": null,
   "metadata": {},
   "outputs": [],
   "source": [
    "from collections import deque\n",
    "import sys\n",
    "sys.stdin = open('input_2819.txt','r')\n",
    "\n",
    "dx = [0,0,1,-1]\n",
    "dy = [1,-1,0,0]\n",
    "\n",
    "def BFS(i,j,Graph):\n",
    "    queue = deque([(i,j,Graph[i][j])])\n",
    "    while queue:\n",
    "        x,y,value= queue.popleft()\n",
    "        if len(value) == 7:\n",
    "            ANSWER.add(value)\n",
    "        elif len(value)<7:\n",
    "            for idx,idy in zip(dx,dy):\n",
    "                nx,ny = x+idx,y+idy\n",
    "                if 0<=nx<4 and 0<=ny<4:\n",
    "                    V = value + Graph[nx][ny]\n",
    "                    queue.append( (nx,ny,V) )\n",
    "\n",
    "T = int(input())\n",
    "result = []\n",
    "for _ in range(T):\n",
    "    Graph,ANSWER = [],set()\n",
    "    for i in range(4):\n",
    "        Graph.append(list(map(str,input().split())))\n",
    "    for i in range(4):\n",
    "        for j in range(4):\n",
    "            BFS(i,j,Graph)\n",
    "    result.append(len(ANSWER))\n",
    "\n",
    "for i in range(len(result)):\n",
    "    print(\"#{0} {1}\".format(i+1,result[i]))\n"
   ]
  },
  {
   "cell_type": "markdown",
   "metadata": {},
   "source": [
    "#### 다른 사람의 풀이 [DFS]\n",
    "- 큰차이는 없다"
   ]
  },
  {
   "cell_type": "code",
   "execution_count": null,
   "metadata": {},
   "outputs": [],
   "source": [
    "def dfs(idx,row,col,num):\n",
    "    dx = [1,-1,0,0]\n",
    "    dy = [0,0,1,-1]\n",
    "    num += mapp[row][col]\n",
    "    if idx == 6: # 6번 이동한 결과 값 result 배열에 추가\n",
    "        result.append(num)\n",
    "        return\n",
    "    for i in range(4):\n",
    "        if 0 <= row+dx[i] < 4 and 0 <= col+dy[i] < 4: # 벽 체크\n",
    "            dfs(idx+1,row+dx[i],col+dy[i],num)\n",
    "\n",
    "T = int(input())\n",
    "for t in range(T):\n",
    "    mapp = [list(map(str,input().split())) for _ in range(4)]\n",
    "    result = [] # 결과값 저장 될 배열\n",
    "    for x in range(4):\n",
    "        for y in range(4):\n",
    "            dfs(0,x,y,\"\")\n",
    " \n",
    "    answer = set(result) # 중복 제거를 위해 set 사용\n",
    "    print('#{} {}'.format(t+1,len(answer)))"
   ]
  }
 ],
 "metadata": {
  "kernelspec": {
   "display_name": "Python 3",
   "language": "python",
   "name": "python3"
  },
  "language_info": {
   "codemirror_mode": {
    "name": "ipython",
    "version": 3
   },
   "file_extension": ".py",
   "mimetype": "text/x-python",
   "name": "python",
   "nbconvert_exporter": "python",
   "pygments_lexer": "ipython3",
   "version": "3.7.3"
  }
 },
 "nbformat": 4,
 "nbformat_minor": 2
}
