{
 "cells": [
  {
   "cell_type": "markdown",
   "metadata": {},
   "source": [
    "## 1. B17070 파이프 옮기기"
   ]
  },
  {
   "cell_type": "markdown",
   "metadata": {},
   "source": [
    "### 1. BFS로 시도(시간 초과)"
   ]
  },
  {
   "cell_type": "code",
   "execution_count": 4,
   "metadata": {},
   "outputs": [
    {
     "name": "stdout",
     "output_type": "stream",
     "text": [
      "3\n",
      "0 0 0\n",
      "0 0 0\n",
      "0 0 0\n",
      "1\n"
     ]
    }
   ],
   "source": [
    "from collections import deque\n",
    "\n",
    "def BFS(x,y):\n",
    "    directions = [(0,1),(1,1),(1,0)]\n",
    "    global count\n",
    "    queue = deque([(x,y,0)])\n",
    "    \n",
    "    while queue:\n",
    "        now_x,now_y,p_type = queue.popleft()\n",
    "        if now_x == N-1 and now_y == N-1:\n",
    "            count+=1\n",
    "        \n",
    "        for dx,dy in directions:\n",
    "            next_x,next_y = now_x+dx,now_y+dy\n",
    "            if 0<=next_x<N and 0<=next_y<N and not array[next_x][next_y]:\n",
    "                if p_type == 0:\n",
    "                    if next_x == now_x and next_y == now_y+1:\n",
    "                            queue.append((next_x,next_y,0))\n",
    "\n",
    "                    if next_x == now_x+1 and next_y == now_y+1:\n",
    "                            if not array[next_x][next_y] and not array[now_x][now_y+1] and not array[now_x+1][now_y]:\n",
    "                                queue.append((next_x,next_y,1))\n",
    "\n",
    "                if p_type == 1:\n",
    "                    if next_x == now_x and next_y == now_y+1:\n",
    "                            queue.append((next_x,next_y,0))\n",
    "\n",
    "                    if next_x == now_x+1 and next_y == now_y+1:\n",
    "                            if not array[next_x][next_y] and not array[now_x][now_y+1] and not array[now_x+1][now_y]:\n",
    "                                queue.append((next_x,next_y,1))\n",
    "\n",
    "                    if next_x == now_x+1 and next_y == now_y:\n",
    "                            if not array[next_x][next_y]:\n",
    "                                queue.append((next_x,next_y,2))\n",
    "\n",
    "                if p_type == 2:\n",
    "                    if next_x == now_x+1 and next_y == now_y+1:\n",
    "                            if not array[next_x][next_y] and not array[now_x][now_y+1] and not array[now_x+1][now_y]:\n",
    "                                queue.append((next_x,next_y,1))\n",
    "\n",
    "                    if next_x == now_x+1 and next_y == now_y:\n",
    "                            if not array[next_x][next_y]:\n",
    "                                queue.append((next_x,next_y,2))\n",
    "\n",
    "N = int(input())\n",
    "array = [[] for _ in range(N) ]\n",
    "for i in range(N):\n",
    "    array[i].extend(list(map(int,input().split())))\n",
    "count = 0    \n",
    "BFS(0,1)\n",
    "print(count)\n",
    "        "
   ]
  },
  {
   "cell_type": "markdown",
   "metadata": {},
   "source": [
    "### DFS탐색"
   ]
  },
  {
   "cell_type": "code",
   "execution_count": 3,
   "metadata": {},
   "outputs": [
    {
     "name": "stdout",
     "output_type": "stream",
     "text": [
      "3\n",
      "0 0 0\n",
      "0 0 0\n",
      "0 0 0\n",
      "1\n"
     ]
    }
   ],
   "source": [
    "def DFS(x,y,p):\n",
    "    global count\n",
    "    if x == N-1 and y == N-1 :\n",
    "        count+=1\n",
    "    if p == 0 or p ==1:\n",
    "        if y+1 < N:\n",
    "            if array[x][y+1] == 0:\n",
    "                DFS(x,y+1,0)\n",
    "    if p == 0 or p == 1 or p==2:\n",
    "        if x+1 <N and y+1<N:\n",
    "            if array[x+1][y] == array[x][y+1] == array[x+1][y+1] == 0:\n",
    "                DFS(x+1,y+1,1)\n",
    "    if p == 1 or p == 2 :\n",
    "        if x+1 <N:\n",
    "            if array[x+1][y] == 0:\n",
    "                DFS(x+1,y,2)\n",
    "            \n",
    "N = int(input())\n",
    "array = [[] for _ in range(N)]\n",
    "for i in range(N):\n",
    "    array[i].extend(list(map(int,input().split())))\n",
    "count = 0\n",
    "DFS(0,1,0)\n",
    "print(count)"
   ]
  },
  {
   "cell_type": "markdown",
   "metadata": {},
   "source": [
    "### 2. B17136 색종이 붙이기"
   ]
  },
  {
   "cell_type": "markdown",
   "metadata": {},
   "source": [
    "### 최대정사각형 때 처럼 DP로 하려다가 망함\n",
    "> 이유\n",
    "- 1이 5X5 넘어가는 크기인 경우를 해결할 수 없음"
   ]
  },
  {
   "cell_type": "code",
   "execution_count": null,
   "metadata": {},
   "outputs": [],
   "source": [
    "array = [[] for _ in range(10)]\n",
    "for i in range(10):\n",
    "    array[i].extend(list(map(int,input().split())))\n",
    "\n",
    "stack = [1,2,3,4,5]\n",
    "count = [0,0,0,0,0]\n",
    "\n",
    "for i in range(10):\n",
    "    for j in range(10):\n",
    "        if i== 0 or j ==0:\n",
    "            if array[i][j] == 1:\n",
    "                array[i][j] = 1\n",
    "        else :\n",
    "            if array[i][j] == 1:\n",
    "                min_point = min(array[i-1][j],array[i][j-1],array[i-1][j-1])\n",
    "                array[i][j] = min_point\n",
    "                \n",
    "for i in range(10):\n",
    "    for j in range(5):\n",
    "        count[j] += array[i].count(stack[j])\n",
    "\n"
   ]
  },
  {
   "cell_type": "code",
   "execution_count": 15,
   "metadata": {},
   "outputs": [
    {
     "data": {
      "text/plain": [
       "[2, 3, 3]"
      ]
     },
     "execution_count": 15,
     "metadata": {},
     "output_type": "execute_result"
    }
   ],
   "source": [
    "test = [[1,2,3,1,2],[2,3,4],[3,4,5],[4,5,6]]\n",
    "\n",
    "a = [1,2,3]\n",
    "count = [0,0,0]\n",
    "\n",
    "for i in range(4):\n",
    "    for j in range(3):\n",
    "        count[j] += test[i].count(a[j])\n",
    "count        "
   ]
  },
  {
   "cell_type": "code",
   "execution_count": 36,
   "metadata": {},
   "outputs": [
    {
     "ename": "AttributeError",
     "evalue": "'str' object has no attribute 'insert'",
     "output_type": "error",
     "traceback": [
      "\u001b[1;31m---------------------------------------------------------------------------\u001b[0m",
      "\u001b[1;31mAttributeError\u001b[0m                            Traceback (most recent call last)",
      "\u001b[1;32m<ipython-input-36-60841f2b55d1>\u001b[0m in \u001b[0;36m<module>\u001b[1;34m\u001b[0m\n\u001b[0;32m      1\u001b[0m \u001b[0ma\u001b[0m \u001b[1;33m=\u001b[0m \u001b[1;34m'11111'\u001b[0m\u001b[1;33m\u001b[0m\u001b[1;33m\u001b[0m\u001b[0m\n\u001b[1;32m----> 2\u001b[1;33m \u001b[0ma\u001b[0m\u001b[1;33m.\u001b[0m\u001b[0minsert\u001b[0m\u001b[1;33m(\u001b[0m\u001b[1;36m0\u001b[0m\u001b[1;33m,\u001b[0m\u001b[1;36m0\u001b[0m\u001b[1;33m)\u001b[0m\u001b[1;33m\u001b[0m\u001b[1;33m\u001b[0m\u001b[0m\n\u001b[0m",
      "\u001b[1;31mAttributeError\u001b[0m: 'str' object has no attribute 'insert'"
     ]
    }
   ],
   "source": [
    "a = '111'\n",
    "a.insert(0,0)"
   ]
  },
  {
   "cell_type": "code",
   "execution_count": 37,
   "metadata": {},
   "outputs": [
    {
     "data": {
      "text/plain": [
       "'12345'"
      ]
     },
     "execution_count": 37,
     "metadata": {},
     "output_type": "execute_result"
    }
   ],
   "source": [
    "a = [1,2,3,4,5]\n",
    "b = ''\n",
    "for i in a:\n",
    "    b+=str(i)\n",
    "b"
   ]
  },
  {
   "cell_type": "code",
   "execution_count": 46,
   "metadata": {},
   "outputs": [
    {
     "ename": "SyntaxError",
     "evalue": "invalid syntax (<ipython-input-46-fe8e9f8d4673>, line 5)",
     "output_type": "error",
     "traceback": [
      "\u001b[1;36m  File \u001b[1;32m\"<ipython-input-46-fe8e9f8d4673>\"\u001b[1;36m, line \u001b[1;32m5\u001b[0m\n\u001b[1;33m    result = [2:]\u001b[0m\n\u001b[1;37m               ^\u001b[0m\n\u001b[1;31mSyntaxError\u001b[0m\u001b[1;31m:\u001b[0m invalid syntax\n"
     ]
    }
   ],
   "source": [
    "def solution(n, arr1, arr2):\n",
    "    answer = []\n",
    "    for i in range(n):\n",
    "        result = str(bin(arr1[i] | arr2[i]))\n",
    "        result = result[2:]\n",
    "        text = ''\n",
    "        if len(result) < n:\n",
    "            for _ in range(n-len(result)):\n",
    "                text += '0'\n",
    "            for t in result:\n",
    "                text += str(t)\n",
    "            answer.append(text)\n",
    "        else:\n",
    "            answer.append(result)\n",
    "        answer[i].replace('1','#')\n",
    "        answer[i].replace('0',' ')\n",
    "            \n",
    "    return answer"
   ]
  },
  {
   "cell_type": "code",
   "execution_count": 45,
   "metadata": {},
   "outputs": [
    {
     "data": {
      "text/plain": [
       "'2'"
      ]
     },
     "execution_count": 45,
     "metadata": {},
     "output_type": "execute_result"
    }
   ],
   "source": [
    "result = '0b2'\n",
    "result[2:]"
   ]
  },
  {
   "cell_type": "code",
   "execution_count": null,
   "metadata": {},
   "outputs": [],
   "source": []
  }
 ],
 "metadata": {
  "kernelspec": {
   "display_name": "Python 3",
   "language": "python",
   "name": "python3"
  },
  "language_info": {
   "codemirror_mode": {
    "name": "ipython",
    "version": 3
   },
   "file_extension": ".py",
   "mimetype": "text/x-python",
   "name": "python",
   "nbconvert_exporter": "python",
   "pygments_lexer": "ipython3",
   "version": "3.7.3"
  }
 },
 "nbformat": 4,
 "nbformat_minor": 2
}
