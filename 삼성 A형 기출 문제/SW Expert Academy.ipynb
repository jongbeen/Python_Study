{
 "cells": [
  {
   "cell_type": "markdown",
   "metadata": {},
   "source": [
    "### 5658 보물상자 비밀번호"
   ]
  },
  {
   "cell_type": "code",
   "execution_count": 24,
   "metadata": {},
   "outputs": [
    {
     "name": "stdout",
     "output_type": "stream",
     "text": [
      "1\n",
      "12 10\n",
      "1B3B3B81F75E\n",
      "#1 503\n"
     ]
    }
   ],
   "source": [
    "result = []\n",
    "for _ in range(int(input())):\n",
    "    N,K = map(int,input().split())\n",
    "    text = list(map(str,input()))\n",
    "    count = N//4\n",
    "    numbers = []\n",
    "    for _ in range(count):\n",
    "        for i in range(0,len(text),count):\n",
    "            numbers.append(int(''.join(text[i:i+count]),16))\n",
    "        tt = text.pop()\n",
    "        text.insert(0,tt)\n",
    "    numbers = set(numbers)\n",
    "    numbers = list(numbers)\n",
    "    numbers.sort(reverse=True)\n",
    "    result.append(numbers[K-1])\n",
    "for i in range(len(result)):\n",
    "    print(\"#{0} {data}\".format(i+1,data = result[i]))"
   ]
  },
  {
   "cell_type": "code",
   "execution_count": 1,
   "metadata": {},
   "outputs": [
    {
     "name": "stdout",
     "output_type": "stream",
     "text": [
      "124a23\n",
      "18\n"
     ]
    },
    {
     "data": {
      "text/plain": [
       "['3', '1', '2', '4', 'a', '2']"
      ]
     },
     "execution_count": 1,
     "metadata": {},
     "output_type": "execute_result"
    }
   ],
   "source": [
    "result = []\n",
    "for _ in range(int(input())):\n",
    "    N,K = map(int,input().split())\n",
    "    text = list(map(str,input()))\n",
    "    count = N//4\n",
    "    for _ in range(count-1):\n",
    "        for i in range(0,len(text),count)"
   ]
  },
  {
   "cell_type": "code",
   "execution_count": 25,
   "metadata": {},
   "outputs": [],
   "source": [
    "a = [[],[],[]]\n",
    "a[0].extend([1,2,3])"
   ]
  },
  {
   "cell_type": "code",
   "execution_count": 26,
   "metadata": {},
   "outputs": [
    {
     "data": {
      "text/plain": [
       "[[1, 2, 3], [], []]"
      ]
     },
     "execution_count": 26,
     "metadata": {},
     "output_type": "execute_result"
    }
   ],
   "source": [
    "a"
   ]
  },
  {
   "cell_type": "code",
   "execution_count": null,
   "metadata": {},
   "outputs": [],
   "source": []
  }
 ],
 "metadata": {
  "kernelspec": {
   "display_name": "Python 3",
   "language": "python",
   "name": "python3"
  },
  "language_info": {
   "codemirror_mode": {
    "name": "ipython",
    "version": 3
   },
   "file_extension": ".py",
   "mimetype": "text/x-python",
   "name": "python",
   "nbconvert_exporter": "python",
   "pygments_lexer": "ipython3",
   "version": "3.7.3"
  }
 },
 "nbformat": 4,
 "nbformat_minor": 2
}
