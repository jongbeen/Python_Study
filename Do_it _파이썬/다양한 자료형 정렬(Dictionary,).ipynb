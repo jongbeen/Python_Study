{
 "cells": [
  {
   "cell_type": "markdown",
   "metadata": {},
   "source": [
    "## 파이썬은 2가지 정렬방법이 존재"
   ]
  },
  {
   "cell_type": "markdown",
   "metadata": {},
   "source": [
    "### 1. data.sort() 를 통해 \n",
    "> 데이터를 바로 정렬하는 효과를 얻을 수 있다"
   ]
  },
  {
   "cell_type": "markdown",
   "metadata": {},
   "source": [
    "### 2. data = sorted(data)\n",
    "> 인자로 data를 줘서, 정렬한 결과를 받을 수 있다"
   ]
  },
  {
   "cell_type": "markdown",
   "metadata": {},
   "source": [
    "### 목차\n",
    "\n",
    "#### 딕셔너리 자료형 키와 값 기준으로 데이터 정렬\n",
    "<ol>\n",
    "    <li>키를 기준으로 오름차순 정렬 - sorted(Object.items())</li>\n",
    "    <li>키를 기준으로 내림차순 정렬 - sorted(~~.items(), reverse = True))</li>\n",
    "    <li>값을 기준으로 오름차순 정렬</li>\n",
    "    <li>값을 기준으로 내림차순 정렬</li>\n",
    "</ol>"
   ]
  },
  {
   "cell_type": "code",
   "execution_count": 1,
   "metadata": {},
   "outputs": [],
   "source": [
    "Pro = {\n",
    "    \"java\": 20, \n",
    "    \"javascript\": 8, \n",
    "    \"c\": 7,  \n",
    "    \"r\": 4, \n",
    "    \"python\": 28 }"
   ]
  },
  {
   "cell_type": "markdown",
   "metadata": {},
   "source": [
    "### 1. 키를 기준으로 오름차순 정렬 ( sorted(Object.items() )"
   ]
  },
  {
   "cell_type": "markdown",
   "metadata": {},
   "source": [
    "#### 그냥 items()는 쌍 리스트를 리턴하고, sorted는 첫번째 요소로 정렬하는것.."
   ]
  },
  {
   "cell_type": "code",
   "execution_count": 2,
   "metadata": {},
   "outputs": [
    {
     "name": "stdout",
     "output_type": "stream",
     "text": [
      "c : 7\n",
      "java : 20\n",
      "javascript : 8\n",
      "python : 28\n",
      "r : 4\n"
     ]
    }
   ],
   "source": [
    "# Pro에 적용하기 위해선 대입을 해야함!\n",
    "sorted(Pro.items())\n",
    "\n",
    "for key, value in sorted(Pro.items()):\n",
    "    print(key,\":\",value)"
   ]
  },
  {
   "cell_type": "markdown",
   "metadata": {},
   "source": [
    "### ### 2. 키를 기준으로 내림차순 정렬 { sorted(~~.items(), reverse = True) }"
   ]
  },
  {
   "cell_type": "code",
   "execution_count": 3,
   "metadata": {},
   "outputs": [
    {
     "name": "stdout",
     "output_type": "stream",
     "text": [
      "r : 4\n",
      "python : 28\n",
      "javascript : 8\n",
      "java : 20\n",
      "c : 7\n"
     ]
    }
   ],
   "source": [
    "sorted(Pro.items(), reverse = True)\n",
    "\n",
    "for key, value in sorted(Pro.items(), reverse=True):\n",
    "    print(key,\":\",value)"
   ]
  },
  {
   "cell_type": "markdown",
   "metadata": {},
   "source": [
    " ### 3. 값을 기준으로 오름차순 정렬"
   ]
  },
  {
   "cell_type": "code",
   "execution_count": 4,
   "metadata": {},
   "outputs": [
    {
     "name": "stdout",
     "output_type": "stream",
     "text": [
      "r : 4\n",
      "c : 7\n",
      "javascript : 8\n",
      "java : 20\n",
      "python : 28\n"
     ]
    }
   ],
   "source": [
    "# 정렬기준 item을 item[1]로 하겠다, 즉 값을 기준으로 하겠다는 뜻\n",
    "VSort_Pro = sorted(Pro.items(),key=lambda item:item[1] )\n",
    "\n",
    "for key,value in VSort_Pro:\n",
    "    print(key,\":\",value)"
   ]
  },
  {
   "cell_type": "markdown",
   "metadata": {},
   "source": [
    "### 4. 값을 기준으로 내림차순 정렬"
   ]
  },
  {
   "cell_type": "code",
   "execution_count": 5,
   "metadata": {},
   "outputs": [
    {
     "name": "stdout",
     "output_type": "stream",
     "text": [
      "r : 4\n",
      "c : 7\n",
      "javascript : 8\n",
      "java : 20\n",
      "python : 28\n"
     ]
    }
   ],
   "source": [
    "# reverse = True만 추가하면 됨\n",
    "VRsort_Pro = sorted(Pro.items(),reverse = True,key=lambda item:item[1])\n",
    "\n",
    "\n",
    "for key,value in VSort_Pro:\n",
    "    print(key,\":\",value)"
   ]
  },
  {
   "cell_type": "markdown",
   "metadata": {},
   "source": [
    "### 다중 조건으로 정렬 x:(+x[],-x[])\n",
    "\n",
    "#### a = [(5, 500), (4, 500), (0, 400), (2, 150)] 를 2번째 인자를 내림차순, 1번째 인자를 오름차순으로 정렬하고 싶다.\n",
    "\n",
    "#### 이때, sorted(a, reverse = True,key=lambda data:(data[1],data[0])) 라고 정렬한다면 안된다.\n",
    "> revese = True 조건으로 인해 2번째 인자를 내림차순, 1번째 인자도 내림차순으로 정렬하게 된다.\n",
    "\n",
    "#### <mark>-를 사용해 특정 부분만 역으로 정렬할 수 있다</mark>"
   ]
  },
  {
   "cell_type": "code",
   "execution_count": 2,
   "metadata": {},
   "outputs": [
    {
     "name": "stdout",
     "output_type": "stream",
     "text": [
      "[(5, 500), (4, 500), (0, 400), (2, 150)]\n",
      "[(4, 500), (5, 500), (0, 400), (2, 150)]\n"
     ]
    }
   ],
   "source": [
    "# 두 정렬 차이점 \n",
    "\n",
    "a = [(5, 500), (4, 500), (0, 400), (2, 150)]\n",
    "print(sorted(a, reverse = True,key=lambda data:(data[1],data[0])))\n",
    "print(sorted(a, reverse = True,key=lambda data:(data[1],-data[0])))"
   ]
  },
  {
   "cell_type": "markdown",
   "metadata": {},
   "source": [
    "### sort, sorted의 차이점\n",
    "\n",
    "#### sort는 return형이 None이다\n",
    "#### 정렬한 결과를 return하고 싶을땐 sorted를 사용해야 한다"
   ]
  },
  {
   "cell_type": "code",
   "execution_count": 2,
   "metadata": {},
   "outputs": [
    {
     "name": "stdout",
     "output_type": "stream",
     "text": [
      "None\n"
     ]
    }
   ],
   "source": [
    "# B에는 아무 값도 담기지 않는다!!!\n",
    "\n",
    "A = [4,3,2,1]\n",
    "B = A.sort()\n",
    "print(B)"
   ]
  },
  {
   "cell_type": "code",
   "execution_count": 3,
   "metadata": {},
   "outputs": [
    {
     "name": "stdout",
     "output_type": "stream",
     "text": [
      "[1, 2, 3, 4]\n"
     ]
    }
   ],
   "source": [
    "# sorted를 사용해야 그 결과가 리턴된다!!\n",
    "\n",
    "A = [4,3,2,1]\n",
    "B = sorted(A)\n",
    "print(B)"
   ]
  },
  {
   "cell_type": "code",
   "execution_count": null,
   "metadata": {},
   "outputs": [],
   "source": []
  }
 ],
 "metadata": {
  "kernelspec": {
   "display_name": "Python 3",
   "language": "python",
   "name": "python3"
  },
  "language_info": {
   "codemirror_mode": {
    "name": "ipython",
    "version": 3
   },
   "file_extension": ".py",
   "mimetype": "text/x-python",
   "name": "python",
   "nbconvert_exporter": "python",
   "pygments_lexer": "ipython3",
   "version": "3.7.3"
  }
 },
 "nbformat": 4,
 "nbformat_minor": 2
}
