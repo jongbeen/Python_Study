{
 "cells": [
  {
   "cell_type": "markdown",
   "metadata": {},
   "source": [
    "### I.개요\n",
    "####  1.인자로 주어진 객체의 기본값을 딕셔너리의 초깃값으로 지정함.\n",
    "> 숫자, 리스트, 세트 등으로 초기화 할 수 있음"
   ]
  },
  {
   "cell_type": "code",
   "execution_count": 9,
   "metadata": {},
   "outputs": [
    {
     "data": {
      "text/plain": [
       "defaultdict(int, {})"
      ]
     },
     "execution_count": 9,
     "metadata": {},
     "output_type": "execute_result"
    }
   ],
   "source": [
    "from collections import defaultdict\n",
    "int_dict = defaultdict(int)\n",
    "\n",
    "int_dict    # 디폴트 값이 int인 딕셔너리"
   ]
  },
  {
   "cell_type": "markdown",
   "metadata": {},
   "source": [
    "#### 2. 다음과 같이 키값을 정의하지 않으면 0으로 지정됨\n",
    "> int형 이어서 0, set형이면 set(), list형이면 list()지정"
   ]
  },
  {
   "cell_type": "code",
   "execution_count": 10,
   "metadata": {},
   "outputs": [
    {
     "data": {
      "text/plain": [
       "0"
      ]
     },
     "execution_count": 10,
     "metadata": {},
     "output_type": "execute_result"
    }
   ],
   "source": [
    "int_dict['key1']"
   ]
  },
  {
   "cell_type": "markdown",
   "metadata": {},
   "source": [
    "#### 3. 명시적으로 값을 지정하게되면 그 값이 지정됨"
   ]
  },
  {
   "cell_type": "code",
   "execution_count": 11,
   "metadata": {},
   "outputs": [
    {
     "data": {
      "text/plain": [
       "defaultdict(int, {'key1': 0, 'key2': 'test'})"
      ]
     },
     "execution_count": 11,
     "metadata": {},
     "output_type": "execute_result"
    }
   ],
   "source": [
    "int_dict['key2'] = \"test\"\n",
    "int_dict"
   ]
  },
  {
   "cell_type": "markdown",
   "metadata": {},
   "source": [
    "### II.defaultdict(int) 활용예제\n",
    "> 그냥 딕셔너리를 사용했더라면 키의 값을 먼저 초기화 했어야함"
   ]
  },
  {
   "cell_type": "code",
   "execution_count": 12,
   "metadata": {},
   "outputs": [
    {
     "data": {
      "text/plain": [
       "defaultdict(int,\n",
       "            {'W': 1,\n",
       "             'e': 7,\n",
       "             'l': 2,\n",
       "             'c': 2,\n",
       "             'o': 5,\n",
       "             'm': 2,\n",
       "             ' ': 8,\n",
       "             't': 3,\n",
       "             'O': 1,\n",
       "             'd': 3,\n",
       "             'T': 2,\n",
       "             'r': 3,\n",
       "             'a': 2,\n",
       "             'f': 3,\n",
       "             ',': 1,\n",
       "             'h': 3,\n",
       "             'M': 1,\n",
       "             'n': 2,\n",
       "             's': 1,\n",
       "             'U': 1,\n",
       "             'i': 1})"
      ]
     },
     "execution_count": 12,
     "metadata": {},
     "output_type": "execute_result"
    }
   ],
   "source": [
    "letters = \"Welcome to Old Trafford, The home of Manchester United\"\n",
    "letters_dict = defaultdict(int)\n",
    "\n",
    "# letters_dict의 키 값에 대해 초기화 할 필요 없음\n",
    "\n",
    "for k in letters:\n",
    "    letters_dict[k]+=1\n",
    "letters_dict"
   ]
  },
  {
   "cell_type": "markdown",
   "metadata": {},
   "source": [
    "### III.defaultdict(list), defaultdict(set) 활용예제"
   ]
  },
  {
   "cell_type": "code",
   "execution_count": 13,
   "metadata": {},
   "outputs": [
    {
     "data": {
      "text/plain": [
       "defaultdict(list,\n",
       "            {'Park': ['Jisung', 'Chanho'],\n",
       "             'Son': ['Heungmin'],\n",
       "             'Kim': ['Yuna', 'Yuna']})"
      ]
     },
     "execution_count": 13,
     "metadata": {},
     "output_type": "execute_result"
    }
   ],
   "source": [
    "name_list = [('Park','Jisung'),\n",
    "             ('Park','Chanho'),\n",
    "             ('Son','Heungmin'),\n",
    "            ('Kim','Yuna'),\n",
    "            ('Kim','Yuna'),]\n",
    "ndict = defaultdict(list)\n",
    "for f,l in name_list:\n",
    "    ndict[f].append(l)\n",
    "ndict"
   ]
  },
  {
   "cell_type": "code",
   "execution_count": 14,
   "metadata": {},
   "outputs": [
    {
     "data": {
      "text/plain": [
       "defaultdict(set,\n",
       "            {'Park': {'Chanho', 'Jisung'},\n",
       "             'Son': {'Heungmin'},\n",
       "             'Kim': {'Yuna'}})"
      ]
     },
     "execution_count": 14,
     "metadata": {},
     "output_type": "execute_result"
    }
   ],
   "source": [
    "nset = defaultdict(set)\n",
    "for f,l in name_list:\n",
    "    nset[f].add(l)\n",
    "nset"
   ]
  },
  {
   "cell_type": "code",
   "execution_count": null,
   "metadata": {},
   "outputs": [],
   "source": []
  }
 ],
 "metadata": {
  "kernelspec": {
   "display_name": "Python 3",
   "language": "python",
   "name": "python3"
  },
  "language_info": {
   "codemirror_mode": {
    "name": "ipython",
    "version": 3
   },
   "file_extension": ".py",
   "mimetype": "text/x-python",
   "name": "python",
   "nbconvert_exporter": "python",
   "pygments_lexer": "ipython3",
   "version": "3.7.3"
  }
 },
 "nbformat": 4,
 "nbformat_minor": 2
}
