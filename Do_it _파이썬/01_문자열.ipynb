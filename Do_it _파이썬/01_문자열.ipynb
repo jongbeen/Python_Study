{
 "cells": [
  {
   "cell_type": "markdown",
   "metadata": {},
   "source": [
    "### 문자열 큰 따옴표(\"\"), 작은 따옴표('') 혼용 이유"
   ]
  },
  {
   "cell_type": "code",
   "execution_count": 1,
   "metadata": {},
   "outputs": [
    {
     "name": "stdout",
     "output_type": "stream",
     "text": [
      "'life'is not easy\n",
      "Life is too short\n",
      "You need Python\n",
      "superfast\n"
     ]
    }
   ],
   "source": [
    "# 문자열에 작은 따옴표, 큰 따옴표를 혼용하여 사용하는 이유\n",
    "\n",
    "##1. 문자열\"\"사이의 ''문자를 사용하고 싶다면\n",
    "life = \"'life'is not easy\"\n",
    "print(life)\n",
    "\n",
    "\n",
    "\n",
    "##2. \"\"\" 로 개행을 그냥 엔터치고 쓰면 됨\n",
    "multiline='''Life is too short\n",
    "You need Python\n",
    "superfast'''\n",
    "print(multiline)\n",
    "\n"
   ]
  },
  {
   "cell_type": "markdown",
   "metadata": {},
   "source": [
    "### 문자열 포매팅"
   ]
  },
  {
   "cell_type": "code",
   "execution_count": 7,
   "metadata": {},
   "outputs": [
    {
     "data": {
      "text/plain": [
       "'I eat 7 apples and He eats two bananas'"
      ]
     },
     "execution_count": 7,
     "metadata": {},
     "output_type": "execute_result"
    }
   ],
   "source": [
    "\"I eat %d apples\" %3\n",
    "\"He eats %s bananas\" % \"five\"\n",
    "num = 7\n",
    "number = \"two\"\n",
    "\"I eat %d apples and He eats %s bananas\" % (num, number)"
   ]
  },
  {
   "cell_type": "code",
   "execution_count": 8,
   "metadata": {},
   "outputs": [
    {
     "data": {
      "text/plain": [
       "'Error is 80%'"
      ]
     },
     "execution_count": 8,
     "metadata": {},
     "output_type": "execute_result"
    }
   ],
   "source": [
    "# 다음과 같은 코드는 에러 발생함\n",
    "#\"Error is %d%\" %80\n",
    "\n",
    "#따라서, 문자열 안의 %는 %%로 작성할 필요가 있다\n",
    "\"Error is %d%%\" %80\n"
   ]
  },
  {
   "cell_type": "markdown",
   "metadata": {},
   "source": [
    "### 문자열 정렬"
   ]
  },
  {
   "cell_type": "code",
   "execution_count": 9,
   "metadata": {},
   "outputs": [
    {
     "data": {
      "text/plain": [
       "'        hi'"
      ]
     },
     "execution_count": 9,
     "metadata": {},
     "output_type": "execute_result"
    }
   ],
   "source": [
    "\"%10s\" %'hi'          #총 10칸 중 뒤에서 채우고 나머지는 여백"
   ]
  },
  {
   "cell_type": "code",
   "execution_count": 11,
   "metadata": {},
   "outputs": [
    {
     "data": {
      "text/plain": [
       "'jane      '"
      ]
     },
     "execution_count": 11,
     "metadata": {},
     "output_type": "execute_result"
    }
   ],
   "source": [
    "\"%-10s\" %'jane'        #총 10칸 중 앞에서 채우고 나머지는 여백"
   ]
  },
  {
   "cell_type": "code",
   "execution_count": 14,
   "metadata": {},
   "outputs": [
    {
     "data": {
      "text/plain": [
       "'I eat seven apples'"
      ]
     },
     "execution_count": 14,
     "metadata": {},
     "output_type": "execute_result"
    }
   ],
   "source": [
    "# 형식에 구애 받지 않고 format함수를 사용해 바로 대입이 가능하다\n",
    "life = \"I eat {0} apples\"\n",
    "life.format(3)\n",
    "life.format(\"seven\")"
   ]
  },
  {
   "cell_type": "code",
   "execution_count": 18,
   "metadata": {},
   "outputs": [
    {
     "data": {
      "text/plain": [
       "'I ate 5 apples, He ate seven bananas, She sleeps three days '"
      ]
     },
     "execution_count": 18,
     "metadata": {},
     "output_type": "execute_result"
    }
   ],
   "source": [
    "#format 함수를 이용해, 순서에 구애받지 않고 특정 변수를 지정해서 값을 할당할 수 있다.\n",
    "apple = \"I ate {0} apples, He ate {number} bananas, She sleeps {day} days \"\n",
    "apple.format(5, number = \"seven\", day = \"three\")"
   ]
  },
  {
   "cell_type": "code",
   "execution_count": 22,
   "metadata": {},
   "outputs": [
    {
     "data": {
      "text/plain": [
       "'King      '"
      ]
     },
     "execution_count": 22,
     "metadata": {},
     "output_type": "execute_result"
    }
   ],
   "source": [
    "#총 10칸 중 왼쪽부터 채우는 왼쪽 정렬\n",
    "text1= \"{0:<10}\".format(\"King\")\n",
    "text1"
   ]
  },
  {
   "cell_type": "code",
   "execution_count": 23,
   "metadata": {},
   "outputs": [
    {
     "data": {
      "text/plain": [
       "'      Back'"
      ]
     },
     "execution_count": 23,
     "metadata": {},
     "output_type": "execute_result"
    }
   ],
   "source": [
    "#총 10칸 중 오른쪽 부터 채우는 오른쪽 정렬\n",
    "text2= \"{0:>10}\".format(\"Back\")\n",
    "text2"
   ]
  },
  {
   "cell_type": "code",
   "execution_count": 24,
   "metadata": {},
   "outputs": [
    {
     "data": {
      "text/plain": [
       "'    is    '"
      ]
     },
     "execution_count": 24,
     "metadata": {},
     "output_type": "execute_result"
    }
   ],
   "source": [
    "#총 10칸 중 가운데를 채우는 가운데 정렬\n",
    "text3 = \"{:^10}\".format(\"is\")\n",
    "text3"
   ]
  },
  {
   "cell_type": "code",
   "execution_count": 27,
   "metadata": {},
   "outputs": [
    {
     "data": {
      "text/plain": [
       "'King          is          Back'"
      ]
     },
     "execution_count": 27,
     "metadata": {},
     "output_type": "execute_result"
    }
   ],
   "source": [
    "text1+text3+text2"
   ]
  },
  {
   "cell_type": "code",
   "execution_count": 31,
   "metadata": {},
   "outputs": [
    {
     "data": {
      "text/plain": [
       "'내년이면 나도 26 살이구나...'"
      ]
     },
     "execution_count": 31,
     "metadata": {},
     "output_type": "execute_result"
    }
   ],
   "source": [
    "#f문자열 포맷팅\n",
    "name = \"박종빈\"\n",
    "age = 25\n",
    "f'나의 이름은 {name}입니다. 나이는 {age}살 입니다.'\n",
    "f'내년이면 나도 {age+1} 살이구나...'"
   ]
  },
  {
   "cell_type": "code",
   "execution_count": 10,
   "metadata": {},
   "outputs": [
    {
     "name": "stdout",
     "output_type": "stream",
     "text": [
      "['에스프레소', '아메리카노', '카페라떼']\n"
     ]
    },
    {
     "data": {
      "text/plain": [
       "3"
      ]
     },
     "execution_count": 10,
     "metadata": {},
     "output_type": "execute_result"
    }
   ],
   "source": [
    "# 구분자를 기준으로 문자열 분리해 리스트 반환\n",
    "\n",
    "menu = \"에스프레소,아메리카노,카페라떼\"\n",
    "\n",
    "# 리스트로 리턴하지만, 원본은 그대로\n",
    "menu = menu.split(',')\n",
    "print(menu)\n",
    "len(menu)"
   ]
  },
  {
   "cell_type": "code",
   "execution_count": 15,
   "metadata": {},
   "outputs": [
    {
     "name": "stdout",
     "output_type": "stream",
     "text": [
      "Py a thon\n",
      "the king is back\n"
     ]
    }
   ],
   "source": [
    "#문자열의 공백을 제거하는 strip()\n",
    "#양 끝의 해당 문자를 지우지만, 가운데는 안지움\n",
    "\n",
    "print(\"aaaaaaPy a thonaaaa\".strip('a'))\n",
    "a = \"               the king is back           \"\n",
    "\n",
    "# 디폴트는 띄어쓰기\n",
    "a = a.strip()\n",
    "print(a)\n",
    "\n",
    "#lstrip, rstrip으로 좌,우 선택가능\n",
    "# 자바의 trim과 같은 역할"
   ]
  },
  {
   "cell_type": "code",
   "execution_count": null,
   "metadata": {},
   "outputs": [],
   "source": []
  }
 ],
 "metadata": {
  "kernelspec": {
   "display_name": "Python 3",
   "language": "python",
   "name": "python3"
  },
  "language_info": {
   "codemirror_mode": {
    "name": "ipython",
    "version": 3
   },
   "file_extension": ".py",
   "mimetype": "text/x-python",
   "name": "python",
   "nbconvert_exporter": "python",
   "pygments_lexer": "ipython3",
   "version": "3.7.3"
  }
 },
 "nbformat": 4,
 "nbformat_minor": 2
}
