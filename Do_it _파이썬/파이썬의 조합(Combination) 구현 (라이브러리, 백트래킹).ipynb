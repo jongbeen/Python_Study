{
 "cells": [
  {
   "cell_type": "markdown",
   "metadata": {},
   "source": [
    "### 1. itertools 의 permutations [라이브러리]"
   ]
  },
  {
   "cell_type": "code",
   "execution_count": 12,
   "metadata": {
    "scrolled": false
   },
   "outputs": [
    {
     "name": "stdout",
     "output_type": "stream",
     "text": [
      "문자열: 1 \t 정수: 1\n",
      "문자열: 0 \t 정수: 0\n",
      "문자열: 7 \t 정수: 7\n",
      "문자열: 10 \t 정수: 10\n",
      "문자열: 17 \t 정수: 17\n",
      "문자열: 01 \t 정수: 1\n",
      "문자열: 07 \t 정수: 7\n",
      "문자열: 71 \t 정수: 71\n",
      "문자열: 70 \t 정수: 70\n",
      "문자열: 107 \t 정수: 107\n",
      "문자열: 170 \t 정수: 170\n",
      "문자열: 017 \t 정수: 17\n",
      "문자열: 071 \t 정수: 71\n",
      "문자열: 710 \t 정수: 710\n",
      "문자열: 701 \t 정수: 701\n"
     ]
    }
   ],
   "source": [
    "from itertools import permutations\n",
    "s = \"107\"\n",
    "for i in range(1,len(s)+1):\n",
    "    a = permutations(s,i)\n",
    "    for data in a:\n",
    "        d = ''.join(list(data))\n",
    "        print('문자열:',d,'\\t','정수:', int(d))"
   ]
  },
  {
   "cell_type": "code",
   "execution_count": 52,
   "metadata": {
    "scrolled": true
   },
   "outputs": [
    {
     "name": "stdout",
     "output_type": "stream",
     "text": [
      "('0',)\n",
      "('1',)\n",
      "('2',)\n",
      "('0', '1')\n",
      "('0', '2')\n",
      "('1', '2')\n",
      "('0', '1', '2')\n"
     ]
    }
   ],
   "source": [
    "from itertools import combinations\n",
    "s, length = \"\",3\n",
    "for i in range(length):\n",
    "    s+=str(i)\n",
    "stack = []\n",
    "for i in range(1,length+1):\n",
    "    a = combinations(s,i)\n",
    "    for data in a:\n",
    "        stack.append(data)\n",
    "for i in stack:\n",
    "    print(i)"
   ]
  },
  {
   "cell_type": "code",
   "execution_count": 53,
   "metadata": {
    "scrolled": true
   },
   "outputs": [
    {
     "name": "stdout",
     "output_type": "stream",
     "text": [
      "[(0,), (1,), (2,), (3,), (4,), (0, 1), (0, 2), (0, 3), (0, 4), (1, 2), (1, 3), (1, 4), (2, 3), (2, 4), (3, 4), (0, 1, 2), (0, 1, 3), (0, 1, 4), (0, 2, 3), (0, 2, 4), (0, 3, 4), (1, 2, 3), (1, 2, 4), (1, 3, 4), (2, 3, 4), (0, 1, 2, 3), (0, 1, 2, 4), (0, 1, 3, 4), (0, 2, 3, 4), (1, 2, 3, 4), (0, 1, 2, 3, 4)]\n"
     ]
    }
   ],
   "source": [
    "n = 5\n",
    "c = []\n",
    "for i in range(1,n+1):\n",
    "    c.extend(combinations(range(n),i))\n",
    "print(c)"
   ]
  },
  {
   "cell_type": "markdown",
   "metadata": {},
   "source": [
    "### 2. 백트래킹"
   ]
  },
  {
   "cell_type": "code",
   "execution_count": 18,
   "metadata": {},
   "outputs": [
    {
     "data": {
      "text/plain": [
       "[(1, 2, 3), (1, 3, 2), (2, 1, 3), (2, 3, 1), (3, 1, 2), (3, 2, 1)]"
      ]
     },
     "execution_count": 18,
     "metadata": {},
     "output_type": "execute_result"
    }
   ],
   "source": [
    "def combination(data,n):\n",
    "    ret = []\n",
    "    if n==0 or n > len(data):\n",
    "        return ret\n",
    "    if n==1:\n",
    "        ret += list(map(lambda x: {x}, data))\n",
    "    else:\n",
    "        for i in range(len(data)):\n",
    "             ret += list(map(lambda x: {data[i]}|x, combination(data[i+1:], n-1)))\n",
    "    return ret\n",
    "\n",
    "def permutation(data, n):  # 순열: 순서 있는 조합\n",
    "    ret = []\n",
    "    if n==0 or n>len(data):\n",
    "        return ret\n",
    "    if n==1:\n",
    "        return list(map(lambda x:(x,), data))\n",
    "    for i in range(len(data)):\n",
    "        temp = [] + data\n",
    "        temp.remove(data[i])\n",
    "        ret += tuple(map(lambda x: (data[i],)+x, permutation(temp, n-1)))\n",
    "    return ret\n",
    "\n",
    "d = [1,2,3]\n",
    "combination(d,1)\n",
    "permutation(d,3)\n"
   ]
  }
 ],
 "metadata": {
  "kernelspec": {
   "display_name": "Python 3",
   "language": "python",
   "name": "python3"
  },
  "language_info": {
   "codemirror_mode": {
    "name": "ipython",
    "version": 3
   },
   "file_extension": ".py",
   "mimetype": "text/x-python",
   "name": "python",
   "nbconvert_exporter": "python",
   "pygments_lexer": "ipython3",
   "version": "3.7.3"
  }
 },
 "nbformat": 4,
 "nbformat_minor": 2
}
