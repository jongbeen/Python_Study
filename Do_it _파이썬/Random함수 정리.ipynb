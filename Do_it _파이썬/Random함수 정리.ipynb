{
 "cells": [
  {
   "cell_type": "markdown",
   "metadata": {},
   "source": [
    "### random 모듈의 대표적 함수\n",
    "#### 1. random.random()\n",
    "- 0~1 미만의 숫자중 아무숫자나 하나 뽑아서 return\n",
    "\n",
    "#### 2. random.randrange(Start,End)\n",
    "- Start이상 End미만의 난수. \n",
    "- Start<=N<End 의 범위\n",
    "\n",
    "#### 3. random. shuffle(list)\n",
    "- list를 뒤죽박죽으로 섞어놓는 함수\n",
    "\n",
    "#### 4. random. choice(list)\n",
    "- list중 원소를 하나 뽑는 함수\n"
   ]
  },
  {
   "cell_type": "markdown",
   "metadata": {},
   "source": [
    "#### 1. random.random"
   ]
  },
  {
   "cell_type": "code",
   "execution_count": 2,
   "metadata": {},
   "outputs": [
    {
     "name": "stdout",
     "output_type": "stream",
     "text": [
      "0.8727619654467348\n",
      "0.3426315767118525\n",
      "0.8788027812785708\n"
     ]
    }
   ],
   "source": [
    "import random\n",
    "print(random.random())\n",
    "print(random.random())\n",
    "print(random.random())"
   ]
  },
  {
   "cell_type": "markdown",
   "metadata": {},
   "source": [
    "#### 2. random.randrange"
   ]
  },
  {
   "cell_type": "code",
   "execution_count": 5,
   "metadata": {},
   "outputs": [
    {
     "name": "stdout",
     "output_type": "stream",
     "text": [
      "2\n",
      "7\n",
      "6\n"
     ]
    }
   ],
   "source": [
    "import random\n",
    "print(random.randrange(1,10))\n",
    "print(random.randrange(1,10))\n",
    "print(random.randrange(1,10))"
   ]
  },
  {
   "cell_type": "markdown",
   "metadata": {},
   "source": [
    "#### 3. random.shuffle(list)"
   ]
  },
  {
   "cell_type": "code",
   "execution_count": 7,
   "metadata": {},
   "outputs": [
    {
     "data": {
      "text/plain": [
       "[1, 3, 5, 2, 4]"
      ]
     },
     "execution_count": 7,
     "metadata": {},
     "output_type": "execute_result"
    }
   ],
   "source": [
    "abc = [1,2,3,4,5]\n",
    "random.shuffle(abc)\n",
    "abc"
   ]
  },
  {
   "cell_type": "markdown",
   "metadata": {},
   "source": [
    "#### 4. random.choice(list)"
   ]
  },
  {
   "cell_type": "code",
   "execution_count": 10,
   "metadata": {},
   "outputs": [
    {
     "name": "stdout",
     "output_type": "stream",
     "text": [
      "1\n",
      "5\n",
      "2\n",
      "2\n"
     ]
    }
   ],
   "source": [
    "test = [1,2,3,4,5,6]\n",
    "print(random.choice(test))\n",
    "print(random.choice(test))\n",
    "print(random.choice(test))\n",
    "print(random.choice(test))"
   ]
  },
  {
   "cell_type": "code",
   "execution_count": 12,
   "metadata": {},
   "outputs": [
    {
     "data": {
      "text/plain": [
       "False"
      ]
     },
     "execution_count": 12,
     "metadata": {},
     "output_type": "execute_result"
    }
   ],
   "source": [
    "# 참과 거짓중 무작위로 하나 선택해 리턴\n",
    "random.choice([True,False])"
   ]
  },
  {
   "cell_type": "code",
   "execution_count": null,
   "metadata": {},
   "outputs": [],
   "source": []
  }
 ],
 "metadata": {
  "kernelspec": {
   "display_name": "Python 3",
   "language": "python",
   "name": "python3"
  },
  "language_info": {
   "codemirror_mode": {
    "name": "ipython",
    "version": 3
   },
   "file_extension": ".py",
   "mimetype": "text/x-python",
   "name": "python",
   "nbconvert_exporter": "python",
   "pygments_lexer": "ipython3",
   "version": "3.7.3"
  }
 },
 "nbformat": 4,
 "nbformat_minor": 2
}
