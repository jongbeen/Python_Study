{
 "cells": [
  {
   "cell_type": "markdown",
   "metadata": {},
   "source": [
    "### 1. 기본적인 Range의 사용\n",
    "#### 범위의 값을 반복가능한 객체로 만들어 리턴"
   ]
  },
  {
   "cell_type": "code",
   "execution_count": 1,
   "metadata": {
    "scrolled": true
   },
   "outputs": [
    {
     "name": "stdout",
     "output_type": "stream",
     "text": [
      "range(0, 5) <class 'range'>\n",
      "(0, 1, 2, 3, 4)\n",
      "{0, 1, 2, 3, 4}\n",
      "[0, 1, 2, 3, 4]\n"
     ]
    }
   ],
   "source": [
    "print(range(5), type(range(5)))\n",
    "print(tuple(range(5)))\n",
    "print(set(range(5)))\n",
    "print(list(range(5)))"
   ]
  },
  {
   "cell_type": "markdown",
   "metadata": {},
   "source": [
    "### 2. Enumerate 함수\n",
    "<strong> 순서 상관없이 다양한 자료형 (list, set, tuple, dictionary, string) <br>을 입력으로 받아 인덱스 값을 포함하는 enum 객체 리턴 </strong>"
   ]
  },
  {
   "cell_type": "markdown",
   "metadata": {},
   "source": [
    "#### 1. Tuple형"
   ]
  },
  {
   "cell_type": "code",
   "execution_count": 3,
   "metadata": {
    "scrolled": true
   },
   "outputs": [
    {
     "name": "stdout",
     "output_type": "stream",
     "text": [
      "<enumerate object at 0x000001BC91F4FF78> <class 'enumerate'>\n",
      "0 : 1\n",
      "1 : 2\n",
      "2 : 3\n",
      "\n"
     ]
    }
   ],
   "source": [
    "data = enumerate((1,2,3))\n",
    "print(data,type(data))\n",
    "for i, value in data:\n",
    "    print(i,\":\", value)\n",
    "print()"
   ]
  },
  {
   "cell_type": "markdown",
   "metadata": {},
   "source": [
    "#### 2. List 형"
   ]
  },
  {
   "cell_type": "code",
   "execution_count": 4,
   "metadata": {},
   "outputs": [
    {
     "name": "stdout",
     "output_type": "stream",
     "text": [
      "0 : 1\n",
      "1 : 2\n",
      "2 : 3\n",
      "\n"
     ]
    }
   ],
   "source": [
    "data = enumerate([1, 2, 3])\n",
    "for i, value in data:\n",
    "    print(i, \":\", value)\n",
    "print()"
   ]
  },
  {
   "cell_type": "markdown",
   "metadata": {},
   "source": [
    "#### 3. Set 형"
   ]
  },
  {
   "cell_type": "code",
   "execution_count": 5,
   "metadata": {},
   "outputs": [
    {
     "name": "stdout",
     "output_type": "stream",
     "text": [
      "0 : 1\n",
      "1 : 2\n",
      "2 : 3\n",
      "\n"
     ]
    }
   ],
   "source": [
    "data = enumerate({1, 2, 3})\n",
    "for i, value in data:\n",
    "    print(i, \":\", value)\n",
    "print()"
   ]
  },
  {
   "cell_type": "markdown",
   "metadata": {},
   "source": [
    "#### 4. Dictionary 형\n",
    "> (index, key) 로 쌍을 만든다 <strong>(Value는 쌍에 포함X)</strong>"
   ]
  },
  {
   "cell_type": "code",
   "execution_count": 6,
   "metadata": {},
   "outputs": [
    {
     "name": "stdout",
     "output_type": "stream",
     "text": [
      "0 : 이름 한사람\n",
      "1 : 나이 33\n",
      "\n"
     ]
    }
   ],
   "source": [
    "dict1 = {'이름': '한사람', '나이': 33}\n",
    "data = enumerate(dict1)\n",
    "for i, key in data:\n",
    "    print(i, \":\", key, dict1[key])\n",
    "print()"
   ]
  },
  {
   "cell_type": "markdown",
   "metadata": {},
   "source": [
    "#### 5. String 형"
   ]
  },
  {
   "cell_type": "code",
   "execution_count": 7,
   "metadata": {},
   "outputs": [
    {
     "name": "stdout",
     "output_type": "stream",
     "text": [
      "0 : 재\n",
      "1 : 미\n",
      "2 : 있\n",
      "3 : 는\n",
      "4 :  \n",
      "5 : 파\n",
      "6 : 이\n",
      "7 : 썬\n",
      "\n"
     ]
    }
   ],
   "source": [
    "data = enumerate(\"재미있는 파이썬\")\n",
    "for i, value in data:\n",
    "    print(i, \":\", value)\n",
    "print()"
   ]
  },
  {
   "cell_type": "code",
   "execution_count": null,
   "metadata": {},
   "outputs": [],
   "source": []
  }
 ],
 "metadata": {
  "kernelspec": {
   "display_name": "Python 3",
   "language": "python",
   "name": "python3"
  },
  "language_info": {
   "codemirror_mode": {
    "name": "ipython",
    "version": 3
   },
   "file_extension": ".py",
   "mimetype": "text/x-python",
   "name": "python",
   "nbconvert_exporter": "python",
   "pygments_lexer": "ipython3",
   "version": "3.7.3"
  }
 },
 "nbformat": 4,
 "nbformat_minor": 2
}
