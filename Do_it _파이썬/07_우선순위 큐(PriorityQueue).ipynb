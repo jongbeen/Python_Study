{
 "cells": [
  {
   "cell_type": "markdown",
   "metadata": {},
   "source": [
    "### queue모듈의 PriorityQueue 클래스 \n",
    "- iterable하지 않다 (while,for문으로 출력 불가)\n",
    "- put()과 get()만 지원함 (pop() 안되더라)\n",
    "- 내부 정렬은 어떤지 모르겠다. get()시 최솟값 리턴"
   ]
  },
  {
   "cell_type": "markdown",
   "metadata": {},
   "source": [
    "#### 역대 최고 쓰레기 클래스\n",
    "- put()보다 get()이 많으면 무한 반복하는 기적\n",
    "- 절대 왠만하면 쓰지 말자 그냥 heapq쓰자"
   ]
  },
  {
   "cell_type": "code",
   "execution_count": 1,
   "metadata": {},
   "outputs": [
    {
     "name": "stdout",
     "output_type": "stream",
     "text": [
      "1\n",
      "2\n",
      "3\n",
      "4\n"
     ]
    }
   ],
   "source": [
    "from queue import PriorityQueue\n",
    "\n",
    "que = PriorityQueue()\n",
    "\n",
    "que.put(4)\n",
    "que.put(1)\n",
    "que.put(3)\n",
    "que.put(7)\n",
    "que.put(2)\n",
    "que.put(6)\n",
    "\n",
    "print(que.get())\n",
    "print(que.get())\n",
    "print(que.get())\n",
    "print(que.get())"
   ]
  },
  {
   "cell_type": "code",
   "execution_count": null,
   "metadata": {},
   "outputs": [],
   "source": []
  }
 ],
 "metadata": {
  "kernelspec": {
   "display_name": "Python 3",
   "language": "python",
   "name": "python3"
  },
  "language_info": {
   "codemirror_mode": {
    "name": "ipython",
    "version": 3
   },
   "file_extension": ".py",
   "mimetype": "text/x-python",
   "name": "python",
   "nbconvert_exporter": "python",
   "pygments_lexer": "ipython3",
   "version": "3.7.3"
  }
 },
 "nbformat": 4,
 "nbformat_minor": 2
}
