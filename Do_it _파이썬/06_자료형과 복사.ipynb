{
 "cells": [
  {
   "cell_type": "markdown",
   "metadata": {},
   "source": [
    "## Bool 자료형\n",
    "- 다른언어와 대부분 유사하지만, 몇가지가 예외가 있다.\n",
    "- 리스트가 비어있지 않으면 True, 비어있으면 False\n",
    "- 값이 0이면 False, 그 외이면 True (JAVA는 해당X)"
   ]
  },
  {
   "cell_type": "code",
   "execution_count": 1,
   "metadata": {},
   "outputs": [
    {
     "name": "stdout",
     "output_type": "stream",
     "text": [
      "4\n",
      "3\n",
      "2\n",
      "1\n"
     ]
    }
   ],
   "source": [
    "# Java의 경우 !a.isEmpty() 을 활용했었음\n",
    "\n",
    "a = [1,2,3,4]\n",
    "\n",
    "while a:\n",
    "    print(a.pop())"
   ]
  },
  {
   "cell_type": "markdown",
   "metadata": {},
   "source": [
    "### Bool 연산\n",
    "- 문자열이 비어있지 않으면 True, 비어있으면 False\n",
    "- 정수값이 0이 아니면 True, 0이면 False"
   ]
  },
  {
   "cell_type": "code",
   "execution_count": 4,
   "metadata": {},
   "outputs": [
    {
     "data": {
      "text/plain": [
       "True"
      ]
     },
     "execution_count": 4,
     "metadata": {},
     "output_type": "execute_result"
    }
   ],
   "source": [
    "bool(\"python\")"
   ]
  },
  {
   "cell_type": "code",
   "execution_count": 5,
   "metadata": {},
   "outputs": [
    {
     "data": {
      "text/plain": [
       "False"
      ]
     },
     "execution_count": 5,
     "metadata": {},
     "output_type": "execute_result"
    }
   ],
   "source": [
    "bool(\"\")"
   ]
  },
  {
   "cell_type": "code",
   "execution_count": 6,
   "metadata": {},
   "outputs": [
    {
     "name": "stdout",
     "output_type": "stream",
     "text": [
      "True\n",
      "False\n",
      "False\n",
      "True\n"
     ]
    }
   ],
   "source": [
    "print(bool([1,2,3]))\n",
    "print(bool(0))\n",
    "print(bool([]))\n",
    "print(bool(999))"
   ]
  },
  {
   "cell_type": "markdown",
   "metadata": {},
   "source": [
    "## 변수 - 리스트를 복사할때"
   ]
  },
  {
   "cell_type": "markdown",
   "metadata": {},
   "source": [
    "### 1. 대입을 통한 값의 복사\n",
    "#### a값 변경시 b값 변경 영향 O, 깊은 복사X\n",
    "#### a is b O, 얕은 복사X"
   ]
  },
  {
   "cell_type": "code",
   "execution_count": 2,
   "metadata": {},
   "outputs": [
    {
     "name": "stdout",
     "output_type": "stream",
     "text": [
      "id(a):  2261772959496\n",
      "id(b):  2261772959496\n",
      "-------\n",
      "id(a)==id(b)\n",
      "True\n",
      "-------\n",
      "a is b\n",
      "True\n",
      "-------\n",
      "a:  [1, 2, 3, 5]\n",
      "b:  [1, 2, 3, 5]\n",
      "-------\n"
     ]
    }
   ],
   "source": [
    "# 대입을 통한 값의 복사는,\n",
    "# 같은 대상을 참조함을 알 수 있다.\n",
    "\n",
    "a = [1,2,3]\n",
    "b = a\n",
    "\n",
    "print(\"id(a): \",id(a))\n",
    "print(\"id(b): \",id(b))\n",
    "print(\"-------\")\n",
    "\n",
    "print(\"id(a)==id(b)\")\n",
    "print(a==b)\n",
    "print(\"-------\")\n",
    "\n",
    "print(\"a is b\")\n",
    "print(a is b)\n",
    "print(\"-------\")\n",
    "\n",
    "# a.append(5)\n",
    "# print(\"a: \", a)\n",
    "# print(\"b: \", b)\n",
    "\n"
   ]
  },
  {
   "cell_type": "markdown",
   "metadata": {},
   "source": [
    "### 2.얕은 복사(shallow copy) - 슬라이싱 활용"
   ]
  },
  {
   "cell_type": "markdown",
   "metadata": {},
   "source": [
    "### a is b = False, 새로운 id가 부여되면서 서로 영향X"
   ]
  },
  {
   "cell_type": "code",
   "execution_count": 19,
   "metadata": {
    "scrolled": false
   },
   "outputs": [
    {
     "name": "stdout",
     "output_type": "stream",
     "text": [
      "id(a):  1741232710024\n",
      "id(b):  1741231872136\n",
      "-------\n",
      "id(a[0]):  140736641602368\n",
      "id(b[0]):  140736641602368\n",
      "a==b True\n",
      "a is b False\n"
     ]
    }
   ],
   "source": [
    "## a==b, 같은 내용을 가지고 있는데,\n",
    "## a is b 같은 내용을 참조하는건 아니다\n",
    "## 새로운 id가 부여되면서, 서로 영향을 받지 않는다.\n",
    "\n",
    "a = [1,2,3]\n",
    "b = a[:]\n",
    "\n",
    "print(\"id(a): \",id(a))\n",
    "print(\"id(b): \",id(b))\n",
    "print(\"-------\")\n",
    "\n",
    "print(\"a==b\",a==b)\n",
    "print(\"a is b\", a is b)\n"
   ]
  },
  {
   "cell_type": "markdown",
   "metadata": {},
   "source": [
    "#### 하지만 a[index]과 b[index]은 같은 id를 가지고 있다"
   ]
  },
  {
   "cell_type": "code",
   "execution_count": 20,
   "metadata": {},
   "outputs": [
    {
     "name": "stdout",
     "output_type": "stream",
     "text": [
      "id(a):  1741232005192\n",
      "id(b):  1741231873032\n",
      "-------\n",
      "id(a[0]):  1741232189960\n",
      "id(b[0]):  1741232189960\n",
      "-------\n",
      "id(a[1]):  1741231872840\n",
      "id(b[1]):  1741231872840\n",
      "-------\n"
     ]
    }
   ],
   "source": [
    "a = [[1,2],[3,4]]\n",
    "b = a[:]\n",
    "\n",
    "print(\"id(a): \",id(a))\n",
    "print(\"id(b): \",id(b))\n",
    "print(\"-------\")\n",
    "\n",
    "print(\"id(a[0]): \",id(a[0]))\n",
    "print(\"id(b[0]): \",id(b[0]))\n",
    "print(\"-------\")\n",
    "\n",
    "print(\"id(a[1]): \",id(a[1]))\n",
    "print(\"id(b[1]): \",id(b[1]))\n",
    "print(\"-------\")"
   ]
  },
  {
   "cell_type": "markdown",
   "metadata": {},
   "source": [
    "#### a[index]에 값을 재할당하면 새로운 id를 가진다\n",
    "#### 하지만 a[index] 값을 변경하면 b[index]도 내용이 변경된다"
   ]
  },
  {
   "cell_type": "code",
   "execution_count": 23,
   "metadata": {},
   "outputs": [
    {
     "name": "stdout",
     "output_type": "stream",
     "text": [
      "a:  [[1, 2], [3, 4, 5, 5, 5]]\n",
      "b:  [[1, 2], [3, 4, 5, 5, 5]]\n",
      "-------\n",
      "id(a[1]):  1741231872840\n",
      "id(b[1]):  1741231872840\n"
     ]
    }
   ],
   "source": [
    "a[1].append(5)\n",
    "print(\"a: \", a)\n",
    "print(\"b: \", b)\n",
    "print(\"-------\")\n",
    "\n",
    "print(\"id(a[1]): \",id(a[1]))\n",
    "print(\"id(b[1]): \",id(b[1]))\n"
   ]
  },
  {
   "cell_type": "markdown",
   "metadata": {},
   "source": [
    "### 깊은 복사 (deep copy) - 내부 객체까지 새롭게 copy"
   ]
  },
  {
   "cell_type": "markdown",
   "metadata": {},
   "source": [
    "#### a[index] 값을 변경해도 b[index]에 영향을 받지 않는다."
   ]
  },
  {
   "cell_type": "code",
   "execution_count": 24,
   "metadata": {},
   "outputs": [
    {
     "name": "stdout",
     "output_type": "stream",
     "text": [
      "a:  [[1, 2], [3, 4]]\n",
      "b:  [[1, 2], [3, 4]]\n",
      "-------\n",
      "a:  [[1, 2], [3, 4, 5]]\n",
      "b:  [[1, 2], [3, 4]]\n",
      "-------\n"
     ]
    }
   ],
   "source": [
    "from copy import deepcopy\n",
    "\n",
    "a = [[1,2],[3,4]]\n",
    "b = deepcopy(a)\n",
    "\n",
    "print(\"a: \", a)\n",
    "print(\"b: \", b)\n",
    "print(\"-------\")\n",
    "\n",
    "a[1].append(5)\n",
    "print(\"a: \", a)\n",
    "print(\"b: \", b)\n",
    "print(\"-------\")"
   ]
  },
  {
   "cell_type": "code",
   "execution_count": null,
   "metadata": {},
   "outputs": [],
   "source": []
  },
  {
   "cell_type": "code",
   "execution_count": null,
   "metadata": {},
   "outputs": [],
   "source": []
  }
 ],
 "metadata": {
  "kernelspec": {
   "display_name": "Python 3",
   "language": "python",
   "name": "python3"
  },
  "language_info": {
   "codemirror_mode": {
    "name": "ipython",
    "version": 3
   },
   "file_extension": ".py",
   "mimetype": "text/x-python",
   "name": "python",
   "nbconvert_exporter": "python",
   "pygments_lexer": "ipython3",
   "version": "3.7.3"
  }
 },
 "nbformat": 4,
 "nbformat_minor": 2
}
