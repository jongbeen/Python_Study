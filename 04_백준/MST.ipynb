{
 "cells": [
  {
   "cell_type": "markdown",
   "metadata": {},
   "source": [
    "### I.B1197 최소 스패닝트리"
   ]
  },
  {
   "cell_type": "code",
   "execution_count": 1,
   "metadata": {},
   "outputs": [
    {
     "name": "stdout",
     "output_type": "stream",
     "text": [
      "3 3\n",
      "1 2 1\n",
      "2 3 2\n",
      "1 3 3\n",
      "3\n"
     ]
    }
   ],
   "source": [
    "def find(parent,x):\n",
    "    if parent[x] != x:\n",
    "        parent[x] = find(parent,parent[x])\n",
    "    return parent[x]\n",
    "def union(parent,a,b):\n",
    "    a = find(parent,a)\n",
    "    b = find(parent,b)\n",
    "    if a < b:\n",
    "        parent[b] = a\n",
    "    else:\n",
    "        parent[a] = b\n",
    "        \n",
    "V, E = map(int,input().split())\n",
    "edges,parent = [], [0]*(V+1)\n",
    "result = 0\n",
    "for i in range(V+1):\n",
    "    parent[i] = i\n",
    "\n",
    "for _ in range(E):\n",
    "    a,b,c = map(int,input().split())\n",
    "    edges.append((c,a,b))\n",
    "edges.sort()\n",
    "for edge in edges:\n",
    "    c,a,b = edge\n",
    "    if find(parent,a) != find(parent,b):\n",
    "        union(parent,a,b)\n",
    "        result +=c\n",
    "print(result)"
   ]
  },
  {
   "cell_type": "markdown",
   "metadata": {},
   "source": [
    "### II. B1922 네트워크 연결"
   ]
  },
  {
   "cell_type": "code",
   "execution_count": null,
   "metadata": {},
   "outputs": [],
   "source": [
    "def find(parent, x):\n",
    "    if parent[x] != x:\n",
    "        parent[x] = find(parent, parent[x])\n",
    "    return parent[x]\n",
    "\n",
    "def union(parent, a, b):\n",
    "    a = find(parent, a)\n",
    "    b = find(parent, b)\n",
    "    if b > a:\n",
    "        parent[b] = a\n",
    "    else:\n",
    "        parent[a] = b\n",
    "\n",
    "N = int(input())\n",
    "M = int(input())\n",
    "answer= 0\n",
    "edges, parent = [], [0] * (N + 1)\n",
    "for i in range(1, N + 1):\n",
    "    parent[i] = i\n",
    "\n",
    "for _ in range(M):\n",
    "    a, b, c = map(int, input().split())\n",
    "    edges.append((c, a, b))\n",
    "edges.sort()\n",
    "for edge in edges:\n",
    "    cost, a, b = edge\n",
    "    if find(parent, a) != find(parent, b):\n",
    "        union(parent, a, b)\n",
    "        answer += cost\n",
    "print(answer)"
   ]
  },
  {
   "cell_type": "markdown",
   "metadata": {},
   "source": [
    "### III.B1647 도시 분할 계획\n",
    "> 분할에서 이해가 안됬는데, 그냥 MST에서 가장 큰 간선 제거하면 됨"
   ]
  },
  {
   "cell_type": "code",
   "execution_count": null,
   "metadata": {},
   "outputs": [],
   "source": [
    "def find(parent,x):\n",
    "    if parent[x] != x:\n",
    "        parent[x] = find(parent, parent[x])\n",
    "    return parent[x]\n",
    "\n",
    "def union(parent,a,b):\n",
    "    a = find(parent,a)\n",
    "    b = find(parent,b)\n",
    "    if b > a:\n",
    "        parent[b] = a\n",
    "    else:\n",
    "        parent[a] = b\n",
    "\n",
    "\n",
    "N, M = map(int,input().split())\n",
    "parent, edges = [0]*(N + 1), []\n",
    "result = []\n",
    "\n",
    "for i in range(1,N+1):\n",
    "    parent[i] = i\n",
    "\n",
    "for _ in range(M):\n",
    "    a, b, c = map(int,input().split())\n",
    "    edges.append((c,a,b))\n",
    "edges.sort()\n",
    "\n",
    "for edge in edges:\n",
    "    cost, a, b = edge\n",
    "    if find(parent,a) != find(parent,b):\n",
    "        union(parent,a,b)\n",
    "        result.append(cost)\n",
    "result = sum(result) - result[-1]\n",
    "print(result)"
   ]
  },
  {
   "cell_type": "markdown",
   "metadata": {},
   "source": [
    "### IV. B2887 행성터널\n",
    "#### 1. 모든 간선 완전 탐색 (메모리 초과) - O(N^2)"
   ]
  },
  {
   "cell_type": "code",
   "execution_count": null,
   "metadata": {},
   "outputs": [],
   "source": [
    "def find(parent, x):\n",
    "    if parent[x] != x:\n",
    "        parent[x] = find(parent, parent[x])\n",
    "    return parent[x]\n",
    "def union(parent, a, b):\n",
    "    a = find(parent, a)\n",
    "    b = find(parent, b)\n",
    "    if b > a:\n",
    "        parent[b] = a\n",
    "    else:\n",
    "        parent[a] = b\n",
    "\n",
    "N = int(input())\n",
    "loc, edges,parent = [0], [], [0]* (N + 1)\n",
    "result = 0\n",
    "for i in range(1,N+1):\n",
    "    parent[i] = i\n",
    "\n",
    "for _ in range(N):\n",
    "    x,y,z = map(int,input().split())\n",
    "    loc.append((x,y,z))\n",
    "for i in range(1,N+1):\n",
    "    for j in range(i+1,N+1):\n",
    "        x1,y1,z1 = loc[i]\n",
    "        x2,y2,z2 = loc[j]\n",
    "        cost = min(abs(x1-x2),abs(y1-y2),abs(z1-z2))\n",
    "        edges.append((cost,i,j))\n",
    "\n",
    "edges.sort()\n",
    "for edge in edges:\n",
    "    cost, a, b = edge\n",
    "    if find(parent,a) != find(parent,b):\n",
    "        union(parent,a,b)\n",
    "        result +=cost\n",
    "print(result)"
   ]
  },
  {
   "cell_type": "markdown",
   "metadata": {},
   "source": [
    "#### 2. 각 좌표별 정렬 \n",
    "> 어차피 각 노드간 x거리,y거리, z거리를 모두 간선정보에 담은 후, 짧은 거리의 노드를 서로소집합에 추가하면 됨"
   ]
  },
  {
   "cell_type": "code",
   "execution_count": null,
   "metadata": {},
   "outputs": [],
   "source": [
    "def find(parent, x):\n",
    "    if parent[x] != x:\n",
    "        parent[x] = find(parent, parent[x])\n",
    "    return parent[x]\n",
    "def union(parent, a, b):\n",
    "    a = find(parent, a)\n",
    "    b = find(parent, b)\n",
    "    if b > a:\n",
    "        parent[b] = a\n",
    "    else:\n",
    "        parent[a] = b\n",
    "\n",
    "N = int(input())\n",
    "loc, edges,parent = [], [], [0]* (N + 1)\n",
    "result = 0\n",
    "for i in range(1,N+1):\n",
    "    parent[i] = i\n",
    "\n",
    "for i in range(1,N+1):\n",
    "    x,y,z = map(int,input().split())\n",
    "    loc.append([x,y,z,i])\n",
    "    \n",
    "for j in range(3):\n",
    "    loc.sort(key=lambda data:data[j])\n",
    "    before = loc[0][3]\n",
    "    for i in range(1,N):\n",
    "        cur_loc = loc[i][3]\n",
    "        edges.append([abs(loc[i][j] - loc[i-1][j]),before, cur_loc])\n",
    "        before = cur_loc\n",
    "edges.sort()\n",
    "for edge in edges:\n",
    "    cost, a, b = edge\n",
    "    if find(parent,a) != find(parent,b):\n",
    "        union(parent,a,b)\n",
    "        result +=cost\n",
    "print(result)"
   ]
  },
  {
   "cell_type": "code",
   "execution_count": null,
   "metadata": {},
   "outputs": [],
   "source": []
  }
 ],
 "metadata": {
  "kernelspec": {
   "display_name": "Python 3",
   "language": "python",
   "name": "python3"
  },
  "language_info": {
   "codemirror_mode": {
    "name": "ipython",
    "version": 3
   },
   "file_extension": ".py",
   "mimetype": "text/x-python",
   "name": "python",
   "nbconvert_exporter": "python",
   "pygments_lexer": "ipython3",
   "version": "3.7.3"
  }
 },
 "nbformat": 4,
 "nbformat_minor": 2
}
