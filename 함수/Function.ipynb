{
 "cells": [
  {
   "cell_type": "markdown",
   "metadata": {},
   "source": [
    "1. 일반 함수     [  def 함수이름( 매개변수 목록 ):\n",
    "    코드블록\n",
    "    return 결과   ]"
   ]
  },
  {
   "cell_type": "code",
   "execution_count": 54,
   "metadata": {},
   "outputs": [],
   "source": [
    "# 첫번째 기초 함수 생성\n",
    "def my_abs( arg ):\n",
    "    if arg<0:\n",
    "        return arg*-1\n",
    "    else:\n",
    "        return arg\n"
   ]
  },
  {
   "cell_type": "code",
   "execution_count": 55,
   "metadata": {},
   "outputs": [
    {
     "name": "stdout",
     "output_type": "stream",
     "text": [
      "5\n",
      "10\n"
     ]
    }
   ],
   "source": [
    "print(my_abs(-5))\n",
    "print(my_abs(10))"
   ]
  },
  {
   "cell_type": "markdown",
   "metadata": {},
   "source": [
    "2. 여러 인자 함수     [  def 함수이름( 매개변수1,매개변수2 = default ):\n",
    "    코드블록\n",
    "    return 결과   ]"
   ]
  },
  {
   "cell_type": "code",
   "execution_count": 56,
   "metadata": {},
   "outputs": [
    {
     "name": "stdout",
     "output_type": "stream",
     "text": [
      "1. 2가지 인자 모두 준 경우\n",
      "안녕하세요\n",
      "안녕하세요\n",
      "안녕하세요\n",
      "--------------------------\n",
      "2. 1가지 인자만 준 경우\n",
      "안녕하세요\n"
     ]
    }
   ],
   "source": [
    "# 함수에 여러 인자 생성\n",
    "def print_string(text, count=1): #default = 1 로 설정\n",
    "    for i in range(count):\n",
    "        print(text)\n",
    "\n",
    "print('1. 2가지 인자 모두 준 경우')\n",
    "print_string(\"안녕하세요\",3)\n",
    "print('--------------------------')\n",
    "print('2. 1가지 인자만 준 경우')\n",
    "print_string('안녕하세요')"
   ]
  },
  {
   "cell_type": "code",
   "execution_count": 57,
   "metadata": {},
   "outputs": [
    {
     "name": "stdout",
     "output_type": "stream",
     "text": [
      "name:박종빈\n",
      "position:직원\n",
      "nationality:Korea\n"
     ]
    }
   ],
   "source": [
    "# default값과 여러가지 인자를 가지는 함수생성\n",
    "def personnal(name, position = 'Staff', nationality = 'Korea'):\n",
    "    print('name:{}'.format(name))\n",
    "    print('position:{}'.format(position))\n",
    "    print('nationality:{}'.format(nationality))\n",
    "    \n",
    "personnal('박종빈','직원')"
   ]
  },
  {
   "cell_type": "markdown",
   "metadata": {},
   "source": [
    "def 함수이름( *매개변수 ):  가변매개변수설정"
   ]
  },
  {
   "cell_type": "code",
   "execution_count": 58,
   "metadata": {},
   "outputs": [],
   "source": [
    "#가변 매개변수설정\n",
    "def merge_string(*text_list):   # *로 정의된 가변 매개변수는 tuple형이다. **로 정의된 가변매개 변수는 딕셔너리형 이다.\n",
    "    result = ''\n",
    "    for s in text_list:\n",
    "        result = result+s\n",
    "    return result"
   ]
  },
  {
   "cell_type": "code",
   "execution_count": 59,
   "metadata": {},
   "outputs": [
    {
     "data": {
      "text/plain": [
       "'아버지가 방에 들어가신다'"
      ]
     },
     "execution_count": 59,
     "metadata": {},
     "output_type": "execute_result"
    }
   ],
   "source": [
    "merge_string('아버지가 ','방에 ','들어가신다')"
   ]
  },
  {
   "cell_type": "code",
   "execution_count": 60,
   "metadata": {},
   "outputs": [],
   "source": [
    "# 가변 매개변수 설정 2. 딕셔너리형\n",
    "def print_team(**players):\n",
    "    for k in players.keys():\n",
    "        print('{0} = {1}'.format(k,players[k]))"
   ]
  },
  {
   "cell_type": "code",
   "execution_count": 61,
   "metadata": {},
   "outputs": [
    {
     "name": "stdout",
     "output_type": "stream",
     "text": [
      "데헤아 = GK\n",
      "래쉬포드 = FW\n",
      "매과이어 = DF\n",
      "맥토미니 = MF\n"
     ]
    }
   ],
   "source": [
    "print_team(데헤아='GK', 래쉬포드='FW', 매과이어=\"DF\", 맥토미니=\"MF\")"
   ]
  },
  {
   "cell_type": "code",
   "execution_count": 62,
   "metadata": {},
   "outputs": [
    {
     "name": "stdout",
     "output_type": "stream",
     "text": [
      "a:0\n",
      "b:0\n",
      "c:3\n"
     ]
    },
    {
     "data": {
      "text/plain": [
       "3"
      ]
     },
     "execution_count": 62,
     "metadata": {},
     "output_type": "execute_result"
    }
   ],
   "source": [
    "#키워드 매개변수란?\n",
    "# 그 이름까지 명시적으로 지정해서 전달하는 방법이다. \n",
    "# 만약 기본 인자가 세 개인 경우, 직접 인자에 (a=3,b=2,c=1) 값을 넣는 경우\n",
    "def add(a=0,b=0,c=0):\n",
    "    print(\"a:{}\".format(a))\n",
    "    print(\"b:{}\".format(b))\n",
    "    print(\"c:{}\".format(c))\n",
    "    return a+b+c\n",
    "\n",
    "add(c=3) #다음과 같이 c에만 직접 할당한 것을 키워드 매개변수라고 한다."
   ]
  },
  {
   "cell_type": "code",
   "execution_count": 63,
   "metadata": {},
   "outputs": [],
   "source": [
    "def f(a,*args, **argv):\n",
    "    print('a=',a)\n",
    "    print('args=',args)\n",
    "    print('argv=' ,argv)\n",
    "    "
   ]
  },
  {
   "cell_type": "code",
   "execution_count": 64,
   "metadata": {},
   "outputs": [
    {
     "name": "stdout",
     "output_type": "stream",
     "text": [
      "a= 11\n",
      "args= (22, 33)\n",
      "argv= {'b': 44, 'c': 55}\n"
     ]
    }
   ],
   "source": [
    "#f(a=11,11,22,33)  #가변 매개변수 앞 일반 매개변수를 키워드 매개변수로 사용 불가\n",
    "f(11,22,33,b=44,c=55)\n",
    "# 반드시 일반인자, 가변인자, 딕셔너리 가변인자 순으로 나열해야함"
   ]
  },
  {
   "cell_type": "markdown",
   "metadata": {},
   "source": [
    "재귀함수 "
   ]
  },
  {
   "cell_type": "code",
   "execution_count": 65,
   "metadata": {},
   "outputs": [
    {
     "data": {
      "text/plain": [
       "120"
      ]
     },
     "execution_count": 65,
     "metadata": {},
     "output_type": "execute_result"
    }
   ],
   "source": [
    "def factorial(n):\n",
    "    if n<=2:\n",
    "        result = n\n",
    "    else:\n",
    "        result = factorial(n-1)*n\n",
    "        \n",
    "    return result\n",
    "\n",
    "factorial(5)"
   ]
  },
  {
   "cell_type": "markdown",
   "metadata": {},
   "source": [
    "함수를 변수에 담아서 사용하기"
   ]
  },
  {
   "cell_type": "code",
   "execution_count": 66,
   "metadata": {},
   "outputs": [
    {
     "name": "stdout",
     "output_type": "stream",
     "text": [
      "8\n",
      "2\n"
     ]
    }
   ],
   "source": [
    "#함수를 변수에 담아 사용_1\n",
    "\n",
    "def plus(a,b):\n",
    "    return a+b\n",
    "\n",
    "def minus(a,b):\n",
    "    return a-b\n",
    "\n",
    "flist = [plus, minus]\n",
    "print(flist[0](5,3)) # plus 호출 효과\n",
    "print(flist[1](5,3)) # minus 호출효과\n"
   ]
  },
  {
   "cell_type": "code",
   "execution_count": 67,
   "metadata": {},
   "outputs": [
    {
     "name": "stdout",
     "output_type": "stream",
     "text": [
      "안녕\n",
      "HI~\n"
     ]
    }
   ],
   "source": [
    "#함수를 변수에 담아 사용_2\n",
    "def hello_korean():\n",
    "    print('안녕')\n",
    "\n",
    "def hello_english():\n",
    "    print('HI~')\n",
    "\n",
    "def greet(hello):\n",
    "    hello()\n",
    "\n",
    "greet(hello_korean)\n",
    "greet(hello_english)"
   ]
  },
  {
   "cell_type": "code",
   "execution_count": 68,
   "metadata": {},
   "outputs": [
    {
     "name": "stdout",
     "output_type": "stream",
     "text": [
      "안녕\n",
      "HI~\n"
     ]
    }
   ],
   "source": [
    "#함수를 변수에 담아 사용_3\n",
    "\n",
    "def get_greeting(where):\n",
    "    if where=='K':\n",
    "        return hello_korean()\n",
    "    else:\n",
    "        return hello_english()\n",
    "\n",
    "hello = get_greeting('K')\n",
    "hello\n",
    "hello = get_greeting('E')\n",
    "hello"
   ]
  },
  {
   "cell_type": "markdown",
   "metadata": {},
   "source": [
    "함수안의 함수 : 중첩함수"
   ]
  },
  {
   "cell_type": "code",
   "execution_count": 73,
   "metadata": {},
   "outputs": [
    {
     "data": {
      "text/plain": [
       "0.6"
      ]
     },
     "execution_count": 73,
     "metadata": {},
     "output_type": "execute_result"
    }
   ],
   "source": [
    "import math \n",
    "\n",
    "def stddev(*args):\n",
    "    def mean():                       # 중첩함수1, args의 평균을 구함\n",
    "        return sum(args)/len(args)\n",
    "    \n",
    "    def variance(m):                  # 중첩함수2, 인자간 편차의 합, 분산을 구함\n",
    "        total=0\n",
    "        for arg in args:\n",
    "            total += (arg - m) ** 2\n",
    "        return total/(len(args)-1)   \n",
    "    \n",
    "    v = variance(mean())              #mean()을 구하고 그 분산을 구함\n",
    "    return math.sqrt(v)\n",
    "\n",
    "stddev(2.3, 1.7, 1.4, 0.7, 1.9)\n"
   ]
  },
  {
   "cell_type": "code",
   "execution_count": null,
   "metadata": {},
   "outputs": [],
   "source": []
  }
 ],
 "metadata": {
  "kernelspec": {
   "display_name": "Python 3",
   "language": "python",
   "name": "python3"
  },
  "language_info": {
   "codemirror_mode": {
    "name": "ipython",
    "version": 3
   },
   "file_extension": ".py",
   "mimetype": "text/x-python",
   "name": "python",
   "nbconvert_exporter": "python",
   "pygments_lexer": "ipython3",
   "version": "3.7.3"
  }
 },
 "nbformat": 4,
 "nbformat_minor": 2
}
