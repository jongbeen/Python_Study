{
 "cells": [
  {
   "cell_type": "code",
   "execution_count": 3,
   "metadata": {},
   "outputs": [
    {
     "name": "stdout",
     "output_type": "stream",
     "text": [
      "Writing StepStack02_B10773.py\n"
     ]
    }
   ],
   "source": [
    "%%writefile StepStack02_B10773.py\n",
    "Num = list()\n",
    "\n",
    "K = int(input())\n",
    "\n",
    "for _ in range(K):\n",
    "    N = int(input())\n",
    "    if N==0:\n",
    "        Num.pop()\n",
    "    else:\n",
    "        Num.append(N)\n",
    "\n",
    "sum=0\n",
    "for i in range(len(Num)):\n",
    "    sum+=Num[i]\n",
    "print(sum)"
   ]
  },
  {
   "cell_type": "code",
   "execution_count": 25,
   "metadata": {},
   "outputs": [
    {
     "name": "stdout",
     "output_type": "stream",
     "text": [
      "Writing StepStack04_B4949.py\n"
     ]
    }
   ],
   "source": [
    "%%writefile StepStack04_B4949.py\n",
    "Ans = []\n",
    "while True:\n",
    "    Str = input()\n",
    "    if Str == '.':\n",
    "        break\n",
    "    else:\n",
    "        check = True\n",
    "        stack = []\n",
    "        for i in Str:\n",
    "            if i=='[' or i=='(':\n",
    "                stack.append(i)\n",
    "            elif i==']':\n",
    "                if not stack:\n",
    "                    Ans.append('no')\n",
    "                    check = False\n",
    "                    break\n",
    "                t = stack.pop()\n",
    "                if t!='[':\n",
    "                    check = False\n",
    "                    Ans.append('no')\n",
    "                    break\n",
    "            elif i==')':\n",
    "                if not stack:\n",
    "                    Ans.append('no')\n",
    "                    check=False\n",
    "                    break\n",
    "                t = stack.pop()\n",
    "                if t!='(':\n",
    "                    check = False\n",
    "                    Ans.append('no')\n",
    "                    break\n",
    "    if check==True:\n",
    "        Ans.append('yes')\n",
    "\n",
    "for i in range(len(Ans)):\n",
    "    print(Ans[i])"
   ]
  },
  {
   "cell_type": "code",
   "execution_count": null,
   "metadata": {},
   "outputs": [],
   "source": []
  }
 ],
 "metadata": {
  "kernelspec": {
   "display_name": "Python 3",
   "language": "python",
   "name": "python3"
  },
  "language_info": {
   "codemirror_mode": {
    "name": "ipython",
    "version": 3
   },
   "file_extension": ".py",
   "mimetype": "text/x-python",
   "name": "python",
   "nbconvert_exporter": "python",
   "pygments_lexer": "ipython3",
   "version": "3.7.3"
  }
 },
 "nbformat": 4,
 "nbformat_minor": 2
}
