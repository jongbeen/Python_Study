{
 "cells": [
  {
   "cell_type": "code",
   "execution_count": 39,
   "metadata": {},
   "outputs": [
    {
     "name": "stdout",
     "output_type": "stream",
     "text": [
      "Writing Dij01_B1753.py\n"
     ]
    }
   ],
   "source": [
    "#%%writefile Dij01_B1753.py\n",
    "# 내 풀이- 나는 되는데 틀렸다고 함 ㅠ\n",
    "import heapq\n",
    "\n",
    "\n",
    "def dijkstra(graph,start):\n",
    "    distances = {node : float(\"INF\") for node in graph}\n",
    "    distances[start] = 0\n",
    "    queue = []\n",
    "    heapq.heappush(queue,[distances[start],start])\n",
    "    \n",
    "    while queue:\n",
    "        current_distance,current_node = heapq.heappop(queue)\n",
    "        \n",
    "        if distances[current_node] < current_distance:\n",
    "            continue\n",
    "        \n",
    "        if graph[current_node] != float('inf'):\n",
    "            for adjacent, weight in graph[current_node].items():\n",
    "                distance = current_distance+weight\n",
    "                if distance < distances[adjacent]:\n",
    "                    distances[adjacent] = distance\n",
    "                    heapq.heappush(queue,[distance,adjacent])\n",
    "    return distances\n",
    "\n",
    "\n",
    "V,E = list(map(int,input().split()))\n",
    "Start = input()\n",
    "\n",
    "mygraph = dict()\n",
    "\n",
    "for i in range(1,V+1):\n",
    "    mygraph[str(i)] = dict()\n",
    "\n",
    "for _ in range(E):\n",
    "    u,v,w = input().split()\n",
    "    w = int(w)\n",
    "    mygraph[u][v] = w\n",
    "\n",
    "ans = dijkstra(mygraph,Start)\n",
    "\n",
    "for i in ans.values():\n",
    "    if i==float('inf'):\n",
    "        print(\"INF\")\n",
    "    else:\n",
    "        print(i)"
   ]
  },
  {
   "cell_type": "code",
   "execution_count": 27,
   "metadata": {},
   "outputs": [
    {
     "data": {
      "text/plain": [
       "{1: {'kk': 3, 'tt': 4}}"
      ]
     },
     "execution_count": 27,
     "metadata": {},
     "output_type": "execute_result"
    }
   ],
   "source": [
    "test = dict()\n",
    "test[1] = dict()\n",
    "test[1]['kk'] = 3\n",
    "test[1]['kk']\n",
    "test[1]['tt']  = 4\n",
    "test"
   ]
  },
  {
   "cell_type": "code",
   "execution_count": 34,
   "metadata": {},
   "outputs": [
    {
     "name": "stdout",
     "output_type": "stream",
     "text": [
      "1234\n",
      "2345\n"
     ]
    }
   ],
   "source": [
    "Test = {1:\"1234\", 2:\"2345\"}\n",
    "\n",
    "for i in Test.values():\n",
    "    print(i)"
   ]
  },
  {
   "cell_type": "code",
   "execution_count": 1,
   "metadata": {},
   "outputs": [
    {
     "name": "stdout",
     "output_type": "stream",
     "text": [
      "5 6\n",
      "1\n",
      "5 1 1\n",
      "1 2 2\n",
      "1 3 3\n",
      "2 3 4\n",
      "2 4 5\n",
      "3 4 6\n",
      "1000000000.0\n",
      "0\n",
      "2\n",
      "3\n",
      "7\n",
      "1000000000.0\n"
     ]
    }
   ],
   "source": [
    "from heapq import heappush,heappop\n",
    "INF = 1e9\n",
    "\n",
    "def dijkstra(graph,start):\n",
    "    dist = [INF] * (V)\n",
    "    dist[start] = 0\n",
    "    queue = []\n",
    "    heappush(queue,[0,start])\n",
    "    \n",
    "    while queue:\n",
    "        cost,pos = heappop(queue)\n",
    "        for p,c in graph[pos]:\n",
    "            c += cost\n",
    "            if dist[p] > c:\n",
    "                dist[p] = c\n",
    "                heappush(queue,[c,p])\n",
    "    return dist\n",
    "\n",
    "V,E = map(int,input().split())\n",
    "K = int(input())\n",
    "Graph = [[] for _ in range(V+1)]\n",
    "for _ in range(E):\n",
    "    s,e,w = map(int,input().split())\n",
    "    Graph[s].append((e,w))\n",
    "result = dijkstra(Graph,K)\n",
    "for data in result:\n",
    "    print(data)"
   ]
  },
  {
   "cell_type": "code",
   "execution_count": 42,
   "metadata": {},
   "outputs": [
    {
     "name": "stdout",
     "output_type": "stream",
     "text": [
      "5 6\n",
      "1\n",
      "5 1 1\n",
      "1 2 2\n",
      "1 3 3\n",
      "2 3 4\n",
      "2 4 5\n",
      "3 4 6\n"
     ]
    },
    {
     "data": {
      "text/plain": [
       "[[[1, 2], [2, 3]], [[2, 4], [3, 5]], [[3, 6]], [], [[0, 1]]]"
      ]
     },
     "execution_count": 42,
     "metadata": {},
     "output_type": "execute_result"
    }
   ],
   "source": [
    "import heapq\n",
    "INF = 1e9\n",
    "\n",
    "def dijkstra(v, k, g):\n",
    "    dist = [INF] * v\n",
    "    dist[k - 1] = 0\n",
    "    q = []\n",
    "    heapq.heappush(q, [0, k-1])\n",
    "\n",
    "    while q:\n",
    "        cost, pos = heapq.heappop(q)\n",
    "\n",
    "        for p, c in g[pos]:\n",
    "            c += cost\n",
    "            if c < dist[p]:\n",
    "                dist[p] = c\n",
    "                heapq.heappush(q, [c, p])\n",
    "    return dist\n",
    "\n",
    "V, E = map(int, input().split())\n",
    "K = int(input())\n",
    "graph = [[] for _ in range(V)]\n",
    "for _ in range(E):\n",
    "    u, v, w = map(int, input().split())\n",
    "    graph[u-1].append([v-1, w])\n",
    "\n",
    "graph\n",
    "\n",
    "# for d in dijkstra(V, K, graph):\n",
    "#     print(d if d != INF else \"INF\")"
   ]
  },
  {
   "cell_type": "code",
   "execution_count": 7,
   "metadata": {},
   "outputs": [
    {
     "name": "stdout",
     "output_type": "stream",
     "text": [
      "Overwriting Dij02_B1916.py\n"
     ]
    }
   ],
   "source": [
    "%%writefile Dij02_B1916.py\n",
    "from heapq import heappush, heappop\n",
    "\n",
    "INF = 1e9\n",
    "\n",
    "def dijkstra(V,start,graph):\n",
    "    dist = [INF] * V\n",
    "    dist[start-1] = 0\n",
    "    queue =[]\n",
    "    heappush(queue, [0, start-1])\n",
    "    \n",
    "    while queue:\n",
    "        cost , pos = heappop(queue)\n",
    "        for p,c in graph[pos]:\n",
    "            c += cost\n",
    "            if c < dist[p]:\n",
    "                dist[p] = c\n",
    "                heappush(queue,[c,p])\n",
    "    return dist\n",
    "\n",
    "\n",
    "N = int(input())\n",
    "M = int(input())\n",
    "Graph = [[] for _ in range(N)]\n",
    "for _ in range(M):\n",
    "    u,v,w = list(map(int,input().split()))\n",
    "    Graph[u-1].append([v-1,w])\n",
    "\n",
    "S,E = list(map(int,input().split()))\n",
    "Path = dijkstra(N,S,Graph)\n",
    "print(Path[E-1])"
   ]
  },
  {
   "cell_type": "code",
   "execution_count": 2,
   "metadata": {},
   "outputs": [],
   "source": [
    "def dijkstra(V,K,graph):\n",
    "    dist = [INF] * V\n",
    "    dist[K-1] = 0\n",
    "    q=[]\n",
    "    heappush(q,[0,K-1])\n",
    "    \n",
    "    while q:\n",
    "        cost,pos = heappop(q)\n",
    "        \n",
    "        for c,p in graph[pos]:\n",
    "            c += cost\n",
    "            if c < dist[p] :\n",
    "                dist[p] = c\n",
    "                heappush(q,[c,p])"
   ]
  },
  {
   "cell_type": "code",
   "execution_count": 1,
   "metadata": {},
   "outputs": [
    {
     "ename": "SyntaxError",
     "evalue": "unexpected EOF while parsing (<ipython-input-1-550fb703a628>, line 18)",
     "output_type": "error",
     "traceback": [
      "\u001b[1;36m  File \u001b[1;32m\"<ipython-input-1-550fb703a628>\"\u001b[1;36m, line \u001b[1;32m18\u001b[0m\n\u001b[1;33m    \u001b[0m\n\u001b[1;37m    ^\u001b[0m\n\u001b[1;31mSyntaxError\u001b[0m\u001b[1;31m:\u001b[0m unexpected EOF while parsing\n"
     ]
    }
   ],
   "source": [
    "import heapq\n",
    "\n",
    "def dijkstra(graph, start):\n",
    "    dist = {node: float('inf')for node in graph}\n",
    "    dist = [[INF]*V]\n",
    "    dist[start] = 0\n",
    "    queue =[]\n",
    "    heappush(queue, [0,start])\n",
    "    heappush(queue,[0,start-1])\n",
    "    \n",
    "    while queue:\n",
    "        current_distance,current_node = heappop(queue)\n",
    "        cost, pos = heappop(queue)\n",
    "        \n",
    "        if dist[current_node] < current_distance:\n",
    "            continue\n",
    "        for adjacent,weight in graph[current_node].items():\n",
    "    "
   ]
  },
  {
   "cell_type": "code",
   "execution_count": 1,
   "metadata": {},
   "outputs": [
    {
     "name": "stdout",
     "output_type": "stream",
     "text": [
      "Writing Dij03_B1238.py\n"
     ]
    }
   ],
   "source": [
    "%%writefile Dij03_B1238.py\n",
    "from heapq import heappush, heappop\n",
    "\n",
    "INF = 1e9\n",
    "\n",
    "def dijkstra(V,S,graph):\n",
    "    dist =  [INF] *V \n",
    "    dist[S-1] = 0\n",
    "    queue = []\n",
    "    heappush(queue, [0,S-1])\n",
    "    \n",
    "    while queue:\n",
    "        cost,pos = heappop(queue)\n",
    "        for p,c in graph[pos]:\n",
    "            c += cost\n",
    "            if c < dist[p]:\n",
    "                dist[p] = c\n",
    "                heappush(queue,[c,p])\n",
    "    return dist\n",
    "\n",
    "N,M,X = list(map(int,input().split()))\n",
    "Graph = [[] for _ in range(N)]\n",
    "Ans = []\n",
    "viliage,rev_viliage = list(),list()\n",
    "for _ in range(M):\n",
    "    u,v,w = list(map(int,input().split()))\n",
    "    Graph[u-1].append([v-1,w])\n",
    "    \n",
    "\n",
    "for i in range(1,N+1):\n",
    "    temp = dijkstra(N,i,Graph)\n",
    "    num = temp[X-1]\n",
    "    viliage.append(num)\n",
    "rev_vilage = dijkstra(N,X,Graph)    \n",
    "\n",
    "for i in range(len(viliage)):\n",
    "    Ans.append(viliage[i]+rev_vilage[i])\n",
    "Ans.sort()\n",
    "print(Ans[-1])"
   ]
  },
  {
   "cell_type": "code",
   "execution_count": 20,
   "metadata": {},
   "outputs": [
    {
     "ename": "IndexError",
     "evalue": "list assignment index out of range",
     "output_type": "error",
     "traceback": [
      "\u001b[1;31m---------------------------------------------------------------------------\u001b[0m",
      "\u001b[1;31mIndexError\u001b[0m                                Traceback (most recent call last)",
      "\u001b[1;32m<ipython-input-20-cbc17c07b06f>\u001b[0m in \u001b[0;36m<module>\u001b[1;34m\u001b[0m\n\u001b[0;32m      2\u001b[0m \u001b[1;33m\u001b[0m\u001b[0m\n\u001b[0;32m      3\u001b[0m \u001b[1;32mfor\u001b[0m \u001b[0mi\u001b[0m \u001b[1;32min\u001b[0m \u001b[0mrange\u001b[0m\u001b[1;33m(\u001b[0m\u001b[1;36m4\u001b[0m\u001b[1;33m)\u001b[0m\u001b[1;33m:\u001b[0m\u001b[1;33m\u001b[0m\u001b[1;33m\u001b[0m\u001b[0m\n\u001b[1;32m----> 4\u001b[1;33m     \u001b[0mans\u001b[0m\u001b[1;33m[\u001b[0m\u001b[0mi\u001b[0m\u001b[1;33m]\u001b[0m \u001b[1;33m=\u001b[0m \u001b[0mi\u001b[0m\u001b[1;33m\u001b[0m\u001b[1;33m\u001b[0m\u001b[0m\n\u001b[0m",
      "\u001b[1;31mIndexError\u001b[0m: list assignment index out of range"
     ]
    }
   ],
   "source": [
    "ans = []\n",
    "\n",
    "for i in range(4):\n",
    "    ans[i] = i"
   ]
  },
  {
   "cell_type": "code",
   "execution_count": null,
   "metadata": {},
   "outputs": [],
   "source": [
    "from heapq import heappush, heappop\n",
    "\n",
    "def dijkstra(graph,start):\n",
    "    \n",
    "    distances = {node:float('int') for node in graph}\n",
    "    distances[start] = 0\n",
    "    queue = []\n",
    "    heappush(queue,[0,start])\n",
    "    \n",
    "    while queue:\n",
    "        current_distance, current_node = heappop(queue)\n",
    "        \n",
    "        if graph[current_node] < current_distance:\n",
    "            continue\n",
    "        \n",
    "        for adjacent, weight in graph[current_node].items():\n",
    "            distance = current_distance + weight\n",
    "            if distances[adjacent] < distance:\n",
    "                distances[adjacent] = distance\n",
    "                heappush(queue, [distance,adjacent])"
   ]
  },
  {
   "cell_type": "code",
   "execution_count": null,
   "metadata": {},
   "outputs": [],
   "source": [
    "def dijkstra(N,S,Graph):\n",
    "    dist = [inf for _ in range(N)]\n",
    "    dist[S-1] = 0\n",
    "    queue = []\n",
    "    heappush(queue,[0,S-1])\n",
    "    \n",
    "    while queue:\n",
    "        cost, pos = heappop(queue)\n",
    "        for p,c in graph[pos]:\n",
    "            c += cost\n",
    "            if c < dist[p]:\n",
    "                dist[p] = c\n",
    "                heappush(queue, [c, p])\n",
    "    return dist"
   ]
  },
  {
   "cell_type": "code",
   "execution_count": 4,
   "metadata": {},
   "outputs": [
    {
     "name": "stdout",
     "output_type": "stream",
     "text": [
      "5\n",
      "8\n",
      "1 2 2\n",
      "1 3 3\n",
      "1 4 1\n",
      "1 5 10\n",
      "2 4 2\n",
      "3 4 1\n",
      "3 5 1\n",
      "4 5 3\n",
      "1 5\n",
      "4\n"
     ]
    }
   ],
   "source": [
    "from heapq import heappush,heappop\n",
    "\n",
    "INF = 1e9\n",
    "\n",
    "def dijkstra(start,end,graph):\n",
    "    distance = [INF]*(N+1)\n",
    "    distance[start] = 0\n",
    "    queue = []\n",
    "    heappush(queue,[0,start])\n",
    "    while queue:\n",
    "        cost,pos = heappop(queue)\n",
    "        for p,c in graph[pos]:\n",
    "            c+=cost\n",
    "            if distance[p] > c:\n",
    "                distance[p] = c\n",
    "                heappush(queue,[c,p])\n",
    "    return distance[end]\n",
    "\n",
    "\n",
    "N = int(input())\n",
    "M = int(input())\n",
    "Graph = [[] for _ in range(N+1)]\n",
    "for _ in range(M):\n",
    "    S,E,W = map(int,input().split())\n",
    "    Graph[S].append((E,W))\n",
    "    \n",
    "Start,End = map(int,input().split())\n",
    "result = dijkstra(Start,End,Graph)\n",
    "print(result)"
   ]
  },
  {
   "cell_type": "markdown",
   "metadata": {},
   "source": [
    "### B4485 - 녹색옷입은애가 젤다지? [유형-다익스트라]"
   ]
  },
  {
   "cell_type": "markdown",
   "metadata": {},
   "source": [
    "#### [내 답] - 불완전\n",
    "> 진짜 개열받는 문제\n",
    "- 당연히 아래, 오른쪽으로만 이동할거라 생각해서 작성한 코드\n",
    "- 위, 왼쪽으로도 간다고 한다.\n",
    "- 위, 왼쪽으로 가는 코드는 추가만 하면 된다 하지만..\n",
    "- 너무 귀찮고 더 좋은방법을 찾기로 했다."
   ]
  },
  {
   "cell_type": "code",
   "execution_count": null,
   "metadata": {},
   "outputs": [],
   "source": [
    "from heapq import heappush, heappop\n",
    "import sys\n",
    "sys.stdin =  open('input_4485.txt','r')\n",
    "INF = 1e9\n",
    "\n",
    "def dijkstra(Graph):\n",
    "    distance = [INF]*(N**2)\n",
    "    distance[0] = 0\n",
    "    queue = []\n",
    "    heappush(queue,[0,0])\n",
    "    print(Graph)\n",
    "    while queue:\n",
    "        cost,pos = heappop(queue)\n",
    "        for p,c in Graph[pos]:\n",
    "            c += cost\n",
    "            if distance[p] > c:\n",
    "                distance[p] = c\n",
    "                heappush(queue,[c,p])\n",
    "    return distance[-1]+array[N-1][N-1]\n",
    "\n",
    "result = []\n",
    "while True:\n",
    "    N = int(input())\n",
    "    array,Graph = [],[[] for _ in range(N**2)]\n",
    "    if N == 0:\n",
    "        break\n",
    "    for _ in range(N):\n",
    "        array.append(list(map(int,input().split())))\n",
    "    for i in range(N):\n",
    "        for j in range(N):\n",
    "            if i<N-1 and j <N-1:\n",
    "                pos1,pos2 = (i*N)+j+1,(i*N)+j+N\n",
    "                Graph[(i*N)+j].append( (pos1,array[i][j]) )\n",
    "                Graph[(i*N)+j].append( (pos2,array[i][j]) )\n",
    "            elif i<N-1 and j>=N-1 :\n",
    "                pos2 = (i*N)+j+N\n",
    "                Graph[(i*N)+j].append((pos2,array[i][j]))\n",
    "            elif i>=N-1 and j<N-1:\n",
    "                pos1 = (i*N)+j+1\n",
    "                Graph[(i*N)+j].append((pos1,array[i][j]))\n",
    "    answer = dijkstra(Graph)\n",
    "    result.append(answer)\n",
    "for i in range(len(result)):\n",
    "    print(\"Problem {}: {value}\".format(i+1,value = result[i]))"
   ]
  },
  {
   "cell_type": "markdown",
   "metadata": {},
   "source": [
    "#### 다른사람의 풀이\n",
    ">평소 distance를 1차원으로만 만들었는데, 2차원으로 만듦\n",
    "- dx,dy 4방향을 설정해, nw통해 가중치를 합해줌\n",
    "- N-1,N-1일때 합한 가중치를 리턴"
   ]
  },
  {
   "cell_type": "code",
   "execution_count": null,
   "metadata": {},
   "outputs": [],
   "source": [
    "from heapq import heappush, heappop\n",
    "# import sys\n",
    "# sys.stdin =  open('input_4485.txt','r')\n",
    "import sys\n",
    "\n",
    "INF = sys.maxsize\n",
    "input = sys.stdin.readline\n",
    "\n",
    "\n",
    "dx = [1, -1, 0, 0]\n",
    "dy = [0, 0, 1, -1]\n",
    "\n",
    "def dij(cnt):\n",
    "    distance,queue = [[INF]*N for _ in range(N)],[]\n",
    "    heappush(queue,[a[0][0],0,0])\n",
    "    distance[0][0] = 0\n",
    "    while queue:\n",
    "        w,x,y = heappop(queue)\n",
    "        if x == N-1 and y==N-1:\n",
    "            print(\"Problem {0}:{1}\".format(cnt,w))\n",
    "            return\n",
    "        for i in range(4):\n",
    "            nx = x+dx[i]\n",
    "            ny = y+dy[i]\n",
    "            if 0<=nx<N and 0<=ny<N:\n",
    "                nw = w + a[nx][ny]\n",
    "                if distance[nx][ny] > nw:\n",
    "                    distance[nx][ny] = nw\n",
    "                    heappush(queue,[nw,nx,ny])\n",
    "cnt=1\n",
    "while True:\n",
    "    N = int(input())\n",
    "    if N==0:\n",
    "        break\n",
    "    a = [list(map(int,input().split())) for _ in range(N) ]\n",
    "    dij(cnt)\n",
    "    cnt+=1        "
   ]
  },
  {
   "cell_type": "code",
   "execution_count": null,
   "metadata": {},
   "outputs": [],
   "source": [
    "from heapq import heappush, heappop\n",
    "import sys\n",
    "\n",
    "INF = sys.maxsize\n",
    "input = sys.stdin.readline\n",
    "\n",
    "dx = [1, -1, 0, 0]\n",
    "dy = [0, 0, 1, -1]\n",
    "\n",
    "def dij(cnt):\n",
    "    d, q = [[INF]*n for _ in range(n)], []\n",
    "    heappush(q, [a[0][0], 0, 0])\n",
    "    d[0][0] = 0\n",
    "    while q:\n",
    "        w, x, y = heappop(q)\n",
    "        if x == n-1 and y == n-1:\n",
    "            print(\"Problem {0}: {1}\".format(cnt, w))\n",
    "            return\n",
    "        for i in range(4):\n",
    "            nx = x + dx[i]\n",
    "            ny = y + dy[i]\n",
    "            if 0 <= nx < n and 0 <= ny < n:\n",
    "                nw = w + a[nx][ny]\n",
    "                if nw < d[nx][ny]:\n",
    "                    d[nx][ny] = nw\n",
    "                    heappush(q, [nw, nx, ny])\n",
    "\n",
    "cnt = 1\n",
    "while True:\n",
    "    n = int(input())\n",
    "    if n == 0:\n",
    "        break\n",
    "    a = [list(map(int, input().split())) for _ in range(n)]\n",
    "    dij(cnt)\n",
    "    cnt += 1"
   ]
  },
  {
   "cell_type": "code",
   "execution_count": null,
   "metadata": {},
   "outputs": [],
   "source": []
  },
  {
   "cell_type": "code",
   "execution_count": null,
   "metadata": {},
   "outputs": [],
   "source": []
  },
  {
   "cell_type": "code",
   "execution_count": null,
   "metadata": {},
   "outputs": [],
   "source": []
  },
  {
   "cell_type": "code",
   "execution_count": null,
   "metadata": {},
   "outputs": [],
   "source": []
  },
  {
   "cell_type": "code",
   "execution_count": null,
   "metadata": {},
   "outputs": [],
   "source": []
  }
 ],
 "metadata": {
  "kernelspec": {
   "display_name": "Python 3",
   "language": "python",
   "name": "python3"
  },
  "language_info": {
   "codemirror_mode": {
    "name": "ipython",
    "version": 3
   },
   "file_extension": ".py",
   "mimetype": "text/x-python",
   "name": "python",
   "nbconvert_exporter": "python",
   "pygments_lexer": "ipython3",
   "version": "3.7.3"
  }
 },
 "nbformat": 4,
 "nbformat_minor": 2
}
