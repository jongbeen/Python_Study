{
 "cells": [
  {
   "cell_type": "code",
   "execution_count": 39,
   "metadata": {},
   "outputs": [
    {
     "name": "stdout",
     "output_type": "stream",
     "text": [
      "Writing Dij01_B1753.py\n"
     ]
    }
   ],
   "source": [
    "#%%writefile Dij01_B1753.py\n",
    "# 내 풀이- 나는 되는데 틀렸다고 함 ㅠ\n",
    "import heapq\n",
    "\n",
    "\n",
    "def dijkstra(graph,start):\n",
    "    distances = {node : float(\"INF\") for node in graph}\n",
    "    distances[start] = 0\n",
    "    queue = []\n",
    "    heapq.heappush(queue,[distances[start],start])\n",
    "    \n",
    "    while queue:\n",
    "        current_distance,current_node = heapq.heappop(queue)\n",
    "        \n",
    "        if distances[current_node] < current_distance:\n",
    "            continue\n",
    "        \n",
    "        if graph[current_node] != float('inf'):\n",
    "            for adjacent, weight in graph[current_node].items():\n",
    "                distance = current_distance+weight\n",
    "                if distance < distances[adjacent]:\n",
    "                    distances[adjacent] = distance\n",
    "                    heapq.heappush(queue,[distance,adjacent])\n",
    "    return distances\n",
    "\n",
    "\n",
    "V,E = list(map(int,input().split()))\n",
    "Start = input()\n",
    "\n",
    "mygraph = dict()\n",
    "\n",
    "for i in range(1,V+1):\n",
    "    mygraph[str(i)] = dict()\n",
    "\n",
    "for _ in range(E):\n",
    "    u,v,w = input().split()\n",
    "    w = int(w)\n",
    "    mygraph[u][v] = w\n",
    "\n",
    "ans = dijkstra(mygraph,Start)\n",
    "\n",
    "for i in ans.values():\n",
    "    if i==float('inf'):\n",
    "        print(\"INF\")\n",
    "    else:\n",
    "        print(i)"
   ]
  },
  {
   "cell_type": "code",
   "execution_count": 27,
   "metadata": {},
   "outputs": [
    {
     "data": {
      "text/plain": [
       "{1: {'kk': 3, 'tt': 4}}"
      ]
     },
     "execution_count": 27,
     "metadata": {},
     "output_type": "execute_result"
    }
   ],
   "source": [
    "test = dict()\n",
    "test[1] = dict()\n",
    "test[1]['kk'] = 3\n",
    "test[1]['kk']\n",
    "test[1]['tt']  = 4\n",
    "test"
   ]
  },
  {
   "cell_type": "code",
   "execution_count": 34,
   "metadata": {},
   "outputs": [
    {
     "name": "stdout",
     "output_type": "stream",
     "text": [
      "1234\n",
      "2345\n"
     ]
    }
   ],
   "source": [
    "Test = {1:\"1234\", 2:\"2345\"}\n",
    "\n",
    "for i in Test.values():\n",
    "    print(i)"
   ]
  },
  {
   "cell_type": "code",
   "execution_count": 1,
   "metadata": {},
   "outputs": [
    {
     "name": "stdout",
     "output_type": "stream",
     "text": [
      "5 6\n",
      "1\n",
      "5 1 1\n",
      "1 2 2\n",
      "1 3 3\n",
      "2 3 4\n",
      "2 4 5\n",
      "3 4 6\n",
      "1000000000.0\n",
      "0\n",
      "2\n",
      "3\n",
      "7\n",
      "1000000000.0\n"
     ]
    }
   ],
   "source": [
    "from heapq import heappush,heappop\n",
    "INF = 1e9\n",
    "\n",
    "def dijkstra(graph,start):\n",
    "    dist = [INF] * (V)\n",
    "    dist[start] = 0\n",
    "    queue = []\n",
    "    heappush(queue,[0,start])\n",
    "    \n",
    "    while queue:\n",
    "        cost,pos = heappop(queue)\n",
    "        for p,c in graph[pos]:\n",
    "            c += cost\n",
    "            if dist[p] > c:\n",
    "                dist[p] = c\n",
    "                heappush(queue,[c,p])\n",
    "    return dist\n",
    "\n",
    "V,E = map(int,input().split())\n",
    "K = int(input())\n",
    "Graph = [[] for _ in range(V+1)]\n",
    "for _ in range(E):\n",
    "    s,e,w = map(int,input().split())\n",
    "    Graph[s].append((e,w))\n",
    "result = dijkstra(Graph,K)\n",
    "for data in result:\n",
    "    print(data)"
   ]
  },
  {
   "cell_type": "code",
   "execution_count": 42,
   "metadata": {},
   "outputs": [
    {
     "name": "stdout",
     "output_type": "stream",
     "text": [
      "5 6\n",
      "1\n",
      "5 1 1\n",
      "1 2 2\n",
      "1 3 3\n",
      "2 3 4\n",
      "2 4 5\n",
      "3 4 6\n"
     ]
    },
    {
     "data": {
      "text/plain": [
       "[[[1, 2], [2, 3]], [[2, 4], [3, 5]], [[3, 6]], [], [[0, 1]]]"
      ]
     },
     "execution_count": 42,
     "metadata": {},
     "output_type": "execute_result"
    }
   ],
   "source": [
    "import heapq\n",
    "INF = 1e9\n",
    "\n",
    "def dijkstra(v, k, g):\n",
    "    dist = [INF] * v\n",
    "    dist[k - 1] = 0\n",
    "    q = []\n",
    "    heapq.heappush(q, [0, k-1])\n",
    "\n",
    "    while q:\n",
    "        cost, pos = heapq.heappop(q)\n",
    "\n",
    "        for p, c in g[pos]:\n",
    "            c += cost\n",
    "            if c < dist[p]:\n",
    "                dist[p] = c\n",
    "                heapq.heappush(q, [c, p])\n",
    "    return dist\n",
    "\n",
    "V, E = map(int, input().split())\n",
    "K = int(input())\n",
    "graph = [[] for _ in range(V)]\n",
    "for _ in range(E):\n",
    "    u, v, w = map(int, input().split())\n",
    "    graph[u-1].append([v-1, w])\n",
    "\n",
    "graph\n",
    "\n",
    "# for d in dijkstra(V, K, graph):\n",
    "#     print(d if d != INF else \"INF\")"
   ]
  },
  {
   "cell_type": "code",
   "execution_count": 7,
   "metadata": {},
   "outputs": [
    {
     "name": "stdout",
     "output_type": "stream",
     "text": [
      "Overwriting Dij02_B1916.py\n"
     ]
    }
   ],
   "source": [
    "%%writefile Dij02_B1916.py\n",
    "from heapq import heappush, heappop\n",
    "\n",
    "INF = 1e9\n",
    "\n",
    "def dijkstra(V,start,graph):\n",
    "    dist = [INF] * V\n",
    "    dist[start-1] = 0\n",
    "    queue =[]\n",
    "    heappush(queue, [0, start-1])\n",
    "    \n",
    "    while queue:\n",
    "        cost , pos = heappop(queue)\n",
    "        for p,c in graph[pos]:\n",
    "            c += cost\n",
    "            if c < dist[p]:\n",
    "                dist[p] = c\n",
    "                heappush(queue,[c,p])\n",
    "    return dist\n",
    "\n",
    "\n",
    "N = int(input())\n",
    "M = int(input())\n",
    "Graph = [[] for _ in range(N)]\n",
    "for _ in range(M):\n",
    "    u,v,w = list(map(int,input().split()))\n",
    "    Graph[u-1].append([v-1,w])\n",
    "\n",
    "S,E = list(map(int,input().split()))\n",
    "Path = dijkstra(N,S,Graph)\n",
    "print(Path[E-1])"
   ]
  },
  {
   "cell_type": "code",
   "execution_count": 2,
   "metadata": {},
   "outputs": [],
   "source": [
    "def dijkstra(V,K,graph):\n",
    "    dist = [INF] * V\n",
    "    dist[K-1] = 0\n",
    "    q=[]\n",
    "    heappush(q,[0,K-1])\n",
    "    \n",
    "    while q:\n",
    "        cost,pos = heappop(q)\n",
    "        \n",
    "        for c,p in graph[pos]:\n",
    "            c += cost\n",
    "            if c < dist[p] :\n",
    "                dist[p] = c\n",
    "                heappush(q,[c,p])"
   ]
  },
  {
   "cell_type": "code",
   "execution_count": 1,
   "metadata": {},
   "outputs": [
    {
     "ename": "SyntaxError",
     "evalue": "unexpected EOF while parsing (<ipython-input-1-550fb703a628>, line 18)",
     "output_type": "error",
     "traceback": [
      "\u001b[1;36m  File \u001b[1;32m\"<ipython-input-1-550fb703a628>\"\u001b[1;36m, line \u001b[1;32m18\u001b[0m\n\u001b[1;33m    \u001b[0m\n\u001b[1;37m    ^\u001b[0m\n\u001b[1;31mSyntaxError\u001b[0m\u001b[1;31m:\u001b[0m unexpected EOF while parsing\n"
     ]
    }
   ],
   "source": [
    "import heapq\n",
    "\n",
    "def dijkstra(graph, start):\n",
    "    dist = {node: float('inf')for node in graph}\n",
    "    dist = [[INF]*V]\n",
    "    dist[start] = 0\n",
    "    queue =[]\n",
    "    heappush(queue, [0,start])\n",
    "    heappush(queue,[0,start-1])\n",
    "    \n",
    "    while queue:\n",
    "        current_distance,current_node = heappop(queue)\n",
    "        cost, pos = heappop(queue)\n",
    "        \n",
    "        if dist[current_node] < current_distance:\n",
    "            continue\n",
    "        for adjacent,weight in graph[current_node].items():\n",
    "    "
   ]
  },
  {
   "cell_type": "code",
   "execution_count": 1,
   "metadata": {},
   "outputs": [
    {
     "name": "stdout",
     "output_type": "stream",
     "text": [
      "Writing Dij03_B1238.py\n"
     ]
    }
   ],
   "source": [
    "%%writefile Dij03_B1238.py\n",
    "from heapq import heappush, heappop\n",
    "\n",
    "INF = 1e9\n",
    "\n",
    "def dijkstra(V,S,graph):\n",
    "    dist =  [INF] *V \n",
    "    dist[S-1] = 0\n",
    "    queue = []\n",
    "    heappush(queue, [0,S-1])\n",
    "    \n",
    "    while queue:\n",
    "        cost,pos = heappop(queue)\n",
    "        for p,c in graph[pos]:\n",
    "            c += cost\n",
    "            if c < dist[p]:\n",
    "                dist[p] = c\n",
    "                heappush(queue,[c,p])\n",
    "    return dist\n",
    "\n",
    "N,M,X = list(map(int,input().split()))\n",
    "Graph = [[] for _ in range(N)]\n",
    "Ans = []\n",
    "viliage,rev_viliage = list(),list()\n",
    "for _ in range(M):\n",
    "    u,v,w = list(map(int,input().split()))\n",
    "    Graph[u-1].append([v-1,w])\n",
    "    \n",
    "\n",
    "for i in range(1,N+1):\n",
    "    temp = dijkstra(N,i,Graph)\n",
    "    num = temp[X-1]\n",
    "    viliage.append(num)\n",
    "rev_vilage = dijkstra(N,X,Graph)    \n",
    "\n",
    "for i in range(len(viliage)):\n",
    "    Ans.append(viliage[i]+rev_vilage[i])\n",
    "Ans.sort()\n",
    "print(Ans[-1])"
   ]
  },
  {
   "cell_type": "code",
   "execution_count": 20,
   "metadata": {},
   "outputs": [
    {
     "ename": "IndexError",
     "evalue": "list assignment index out of range",
     "output_type": "error",
     "traceback": [
      "\u001b[1;31m---------------------------------------------------------------------------\u001b[0m",
      "\u001b[1;31mIndexError\u001b[0m                                Traceback (most recent call last)",
      "\u001b[1;32m<ipython-input-20-cbc17c07b06f>\u001b[0m in \u001b[0;36m<module>\u001b[1;34m\u001b[0m\n\u001b[0;32m      2\u001b[0m \u001b[1;33m\u001b[0m\u001b[0m\n\u001b[0;32m      3\u001b[0m \u001b[1;32mfor\u001b[0m \u001b[0mi\u001b[0m \u001b[1;32min\u001b[0m \u001b[0mrange\u001b[0m\u001b[1;33m(\u001b[0m\u001b[1;36m4\u001b[0m\u001b[1;33m)\u001b[0m\u001b[1;33m:\u001b[0m\u001b[1;33m\u001b[0m\u001b[1;33m\u001b[0m\u001b[0m\n\u001b[1;32m----> 4\u001b[1;33m     \u001b[0mans\u001b[0m\u001b[1;33m[\u001b[0m\u001b[0mi\u001b[0m\u001b[1;33m]\u001b[0m \u001b[1;33m=\u001b[0m \u001b[0mi\u001b[0m\u001b[1;33m\u001b[0m\u001b[1;33m\u001b[0m\u001b[0m\n\u001b[0m",
      "\u001b[1;31mIndexError\u001b[0m: list assignment index out of range"
     ]
    }
   ],
   "source": [
    "ans = []\n",
    "\n",
    "for i in range(4):\n",
    "    ans[i] = i"
   ]
  },
  {
   "cell_type": "code",
   "execution_count": null,
   "metadata": {},
   "outputs": [],
   "source": [
    "from heapq import heappush, heappop\n",
    "\n",
    "def dijkstra(graph,start):\n",
    "    \n",
    "    distances = {node:float('int') for node in graph}\n",
    "    distances[start] = 0\n",
    "    queue = []\n",
    "    heappush(queue,[0,start])\n",
    "    \n",
    "    while queue:\n",
    "        current_distance, current_node = heappop(queue)\n",
    "        \n",
    "        if graph[current_node] < current_distance:\n",
    "            continue\n",
    "        \n",
    "        for adjacent, weight in graph[current_node].items():\n",
    "            distance = current_distance + weight\n",
    "            if distances[adjacent] < distance:\n",
    "                distances[adjacent] = distance\n",
    "                heappush(queue, [distance,adjacent])"
   ]
  },
  {
   "cell_type": "code",
   "execution_count": null,
   "metadata": {},
   "outputs": [],
   "source": [
    "def dijkstra(N,S,Graph):\n",
    "    dist = [inf for _ in range(N)]\n",
    "    dist[S-1] = 0\n",
    "    queue = []\n",
    "    heappush(queue,[0,S-1])\n",
    "    \n",
    "    while queue:\n",
    "        cost, pos = heappop(queue)\n",
    "        for p,c in graph[pos]:\n",
    "            c += cost\n",
    "            if c < dist[p]:\n",
    "                dist[p] = c\n",
    "                heappush(queue, [c, p])\n",
    "    return dist"
   ]
  },
  {
   "cell_type": "code",
   "execution_count": 4,
   "metadata": {},
   "outputs": [
    {
     "name": "stdout",
     "output_type": "stream",
     "text": [
      "5\n",
      "8\n",
      "1 2 2\n",
      "1 3 3\n",
      "1 4 1\n",
      "1 5 10\n",
      "2 4 2\n",
      "3 4 1\n",
      "3 5 1\n",
      "4 5 3\n",
      "1 5\n",
      "4\n"
     ]
    }
   ],
   "source": [
    "from heapq import heappush,heappop\n",
    "\n",
    "INF = 1e9\n",
    "\n",
    "def dijkstra(start,end,graph):\n",
    "    distance = [INF]*(N+1)\n",
    "    distance[start] = 0\n",
    "    queue = []\n",
    "    heappush(queue,[0,start])\n",
    "    while queue:\n",
    "        cost,pos = heappop(queue)\n",
    "        for p,c in graph[pos]:\n",
    "            c+=cost\n",
    "            if distance[p] > c:\n",
    "                distance[p] = c\n",
    "                heappush(queue,[c,p])\n",
    "    return distance[end]\n",
    "\n",
    "\n",
    "N = int(input())\n",
    "M = int(input())\n",
    "Graph = [[] for _ in range(N+1)]\n",
    "for _ in range(M):\n",
    "    S,E,W = map(int,input().split())\n",
    "    Graph[S].append((E,W))\n",
    "    \n",
    "Start,End = map(int,input().split())\n",
    "result = dijkstra(Start,End,Graph)\n",
    "print(result)"
   ]
  },
  {
   "cell_type": "code",
   "execution_count": null,
   "metadata": {},
   "outputs": [],
   "source": []
  }
 ],
 "metadata": {
  "kernelspec": {
   "display_name": "Python 3",
   "language": "python",
   "name": "python3"
  },
  "language_info": {
   "codemirror_mode": {
    "name": "ipython",
    "version": 3
   },
   "file_extension": ".py",
   "mimetype": "text/x-python",
   "name": "python",
   "nbconvert_exporter": "python",
   "pygments_lexer": "ipython3",
   "version": "3.7.3"
  }
 },
 "nbformat": 4,
 "nbformat_minor": 2
}
