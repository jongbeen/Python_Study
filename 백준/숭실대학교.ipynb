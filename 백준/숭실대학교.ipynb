{
 "cells": [
  {
   "cell_type": "code",
   "execution_count": null,
   "metadata": {},
   "outputs": [],
   "source": [
    "class cake:\n",
    "    def __init__(self,x,y,z):\n",
    "        self.x = x\n",
    "        self.y = y\n",
    "        self.z = z\n",
    "        \n",
    "X,Y,Z = list(map(int,input().split()))\n",
    "a = cake(X,Y,Z)\n",
    "X,Y,Z = list(map(int,input().split()))\n",
    "c = cake(X,Y,Z)\n",
    "\n",
    "X = c.x-a.z\n",
    "Y= c.y/a.y\n",
    "Z = c.z-a.x\n",
    "\n",
    "b = cake(X,Y,Z)\n",
    "\n",
    "print(\"%d %d %d\" %(b.x,b.y,b.z))"
   ]
  },
  {
   "cell_type": "code",
   "execution_count": null,
   "metadata": {},
   "outputs": [],
   "source": []
  }
 ],
 "metadata": {
  "kernelspec": {
   "display_name": "Python 3",
   "language": "python",
   "name": "python3"
  },
  "language_info": {
   "codemirror_mode": {
    "name": "ipython",
    "version": 3
   },
   "file_extension": ".py",
   "mimetype": "text/x-python",
   "name": "python",
   "nbconvert_exporter": "python",
   "pygments_lexer": "ipython3",
   "version": "3.7.3"
  }
 },
 "nbformat": 4,
 "nbformat_minor": 2
}
