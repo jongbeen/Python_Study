{
 "cells": [
  {
   "cell_type": "code",
   "execution_count": 7,
   "metadata": {},
   "outputs": [
    {
     "name": "stdout",
     "output_type": "stream",
     "text": [
      "Writing StepGreedy01_B11047.py\n"
     ]
    }
   ],
   "source": [
    "%%writefile StepGreedy01_B11047.py\n",
    "N,K = list(map(int,input().split()))\n",
    "coins = [0]*N\n",
    "for i in range(N):\n",
    "    coins[i] = int(input())\n",
    "\n",
    "count=0\n",
    "ptr = len(coins)-1\n",
    "while K !=0:\n",
    "    if K//coins[ptr] != 0:\n",
    "        count += K//coins[ptr]\n",
    "        K%=coins[ptr]\n",
    "    ptr-=1\n",
    "print(count)"
   ]
  },
  {
   "cell_type": "code",
   "execution_count": 15,
   "metadata": {},
   "outputs": [
    {
     "name": "stdout",
     "output_type": "stream",
     "text": [
      "5\n",
      "3 1 4 3 2\n",
      "32\n"
     ]
    }
   ],
   "source": [
    "N = int(input())\n",
    "Time = [0 for _ in range(N)]\n",
    "\n",
    "wait = list(input().split())\n",
    "wait.sort()\n",
    "sum=0\n",
    "for i in range(len(wait)):\n",
    "    sum+=int(wait[i])\n",
    "    Time[i] = sum\n",
    "Sum=0\n",
    "for i in range(len(Time)):\n",
    "    Sum+=Time[i]\n",
    "    \n",
    "print(Sum)"
   ]
  },
  {
   "cell_type": "code",
   "execution_count": 35,
   "metadata": {},
   "outputs": [
    {
     "name": "stdout",
     "output_type": "stream",
     "text": [
      "Writing StepGreedy03_B11399.py\n"
     ]
    }
   ],
   "source": [
    "%%writefile StepGreedy03_B11399.py\n",
    "Time = int(input())\n",
    "Wait = list(map(int, input().split()))\n",
    "answer = 0\n",
    "Wait.sort()\n",
    "\n",
    "for i in range(Time):\n",
    "    answer += Wait[i] * (Time-i)\n",
    "\n",
    "print(answer)"
   ]
  },
  {
   "cell_type": "code",
   "execution_count": 34,
   "metadata": {},
   "outputs": [
    {
     "name": "stdout",
     "output_type": "stream",
     "text": [
      "55-50+40\n"
     ]
    },
    {
     "data": {
      "text/plain": [
       "['5', '5', '-', '(', '5', '0', '+', '4', '0']"
      ]
     },
     "execution_count": 34,
     "metadata": {},
     "output_type": "execute_result"
    }
   ],
   "source": [
    "Ex = list(input())\n",
    "ptr = 0\n",
    "check = False\n",
    "for i in range(len(Ex)):\n",
    "    if check == False:\n",
    "        if Ex[i] == '-':\n",
    "            ptr+=1\n",
    "            Ex.insert(ptr,'(')\n",
    "            check=True\n",
    "            continue\n",
    "        else:\n",
    "            ptr+=1\n",
    "    else:\n",
    "        if Ex[i] == '-':\n",
    "            Ex.insert(ptr,')')\n",
    "            ptr+=1\n",
    "            check=False\n",
    "        elif i==len(Ex)-1:\n",
    "            Ex.append(')')\n",
    "            break\n",
    "        else:\n",
    "            ptr+=1\n",
    "Ex"
   ]
  },
  {
   "cell_type": "code",
   "execution_count": 31,
   "metadata": {},
   "outputs": [
    {
     "name": "stdout",
     "output_type": "stream",
     "text": [
      "4\n"
     ]
    }
   ],
   "source": [
    "test = [1,2,3,4,5]\n",
    "for i in range(len(test)):\n",
    "    if i==len(test)-1:\n",
    "        print(i)"
   ]
  },
  {
   "cell_type": "code",
   "execution_count": null,
   "metadata": {},
   "outputs": [],
   "source": []
  }
 ],
 "metadata": {
  "kernelspec": {
   "display_name": "Python 3",
   "language": "python",
   "name": "python3"
  },
  "language_info": {
   "codemirror_mode": {
    "name": "ipython",
    "version": 3
   },
   "file_extension": ".py",
   "mimetype": "text/x-python",
   "name": "python",
   "nbconvert_exporter": "python",
   "pygments_lexer": "ipython3",
   "version": "3.7.3"
  }
 },
 "nbformat": 4,
 "nbformat_minor": 2
}
