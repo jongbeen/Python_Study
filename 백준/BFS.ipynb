{
 "cells": [
  {
   "cell_type": "markdown",
   "metadata": {},
   "source": [
    "## B9019 - DSLR [유형 - BFS]"
   ]
  },
  {
   "cell_type": "markdown",
   "metadata": {},
   "source": [
    "### [내 답] \n",
    "> 0인 경우에서 문제\n",
    "- 0인 경우 'D'연산은 다른 연산을 막아버리게하는 효과를 낸다\n",
    "- 차라리 0을 벗어나게 해주는 'S'연산을 우선적으로 하게 교체했다"
   ]
  },
  {
   "cell_type": "code",
   "execution_count": 11,
   "metadata": {},
   "outputs": [
    {
     "name": "stdout",
     "output_type": "stream",
     "text": [
      "1\n",
      "0 9998\n",
      "SS\n"
     ]
    }
   ],
   "source": [
    "from collections import deque\n",
    "\n",
    "MAX = 10000\n",
    "\n",
    "def BFS(start,end):\n",
    "    visited = [False] * MAX\n",
    "    array = ['']* MAX\n",
    "    types = ['S','D','L','R']\n",
    "    queue = deque([start])\n",
    "    \n",
    "    while queue:\n",
    "        now = queue.popleft()\n",
    "        \n",
    "        if now == end:\n",
    "            return array[now]\n",
    "        for Type in types:\n",
    "            if Type == 'D':\n",
    "                next_v = now*2\n",
    "                if next_v > 9999:\n",
    "                    next_v = (now*2) % MAX\n",
    "                if not visited[next_v]:\n",
    "                    visited[next_v] = True\n",
    "                    array[next_v] = array[now]+'D'\n",
    "                    queue.append(next_v)\n",
    "            if Type == 'S':\n",
    "                if now !=0:\n",
    "                    next_v = now -1\n",
    "                else:\n",
    "                    next_v = MAX-1\n",
    "                if not visited[next_v]:\n",
    "                    visited[next_v] = True\n",
    "                    array[next_v] = array[now]+'S'\n",
    "                    queue.append(next_v)\n",
    "            if Type == 'L':\n",
    "                next_v = (now%1000)*10 + (now//1000)\n",
    "                if not visited[next_v]:\n",
    "                    visited[next_v] = True\n",
    "                    queue.append(next_v)\n",
    "                    array[next_v] = array[now]+'L'\n",
    "            if Type == 'R' :\n",
    "                next_v = (now%10)*1000+(now//10)\n",
    "                if not visited[next_v]:\n",
    "                    visited[next_v] = True\n",
    "                    queue.append(next_v)\n",
    "                    array[next_v] = array[now]+'R'\n",
    "T = int(input())\n",
    "DATA = ['']*T\n",
    "for i in range(T):\n",
    "    X,Y = map(int,input().split())\n",
    "    DATA[i] = BFS(X,Y)\n",
    "for data in DATA:\n",
    "    print(data)    "
   ]
  },
  {
   "cell_type": "markdown",
   "metadata": {},
   "source": [
    "### [다른사람의 풀이]\n",
    "> 두개의 배열을 통해 접근\n",
    "- 하나의 배열은 A[next] = 'D'같은 문자\n",
    "- 다른 배열에는 F[next] = now 값\n",
    "- F[]배열을 통해 now 도착할때까지 역 슬라이싱"
   ]
  },
  {
   "cell_type": "code",
   "execution_count": 10,
   "metadata": {},
   "outputs": [
    {
     "name": "stdout",
     "output_type": "stream",
     "text": [
      "1\n",
      "0 9998\n",
      "SD\n"
     ]
    }
   ],
   "source": [
    "from collections import deque\n",
    "def D(k):\n",
    "    return (2*k)%10000,'D'\n",
    "def S(k):\n",
    "    if k==0:\n",
    "        return 9999,'S'\n",
    "    else:\n",
    "        return k-1,'S'\n",
    "def L(k):\n",
    "    return (k%1000)*10+(k//1000),'L'\n",
    "def R(k):\n",
    "    return (k//10)+(k%10)*1000,'R'\n",
    " \n",
    "for __ in range(int(input())):\n",
    "    n,m=map(int,input().split())\n",
    "    A,F=['']*10000,[-1]*10000\n",
    "    q=deque()\n",
    "    q.append(n)\n",
    "    F[n]=-2\n",
    "    while q:\n",
    "        x=q.popleft()\n",
    "        for i,j in [D(x),S(x),L(x),R(x)]:\n",
    "            if F[i]==-1:\n",
    "                q.append(i)\n",
    "                A[i]=j\n",
    "                F[i]=x\n",
    "    k=''\n",
    "    while m!=n:\n",
    "        k+=A[m]\n",
    "        m=F[m]\n",
    "    print(k[::-1])"
   ]
  },
  {
   "cell_type": "code",
   "execution_count": 37,
   "metadata": {},
   "outputs": [
    {
     "name": "stdout",
     "output_type": "stream",
     "text": [
      "4 6\n",
      "101111\n",
      "101010\n",
      "101011\n",
      "111011\n",
      "15\n"
     ]
    }
   ],
   "source": [
    "from collections import deque\n",
    "\n",
    "N,M = map(int,input().split())\n",
    "array = []\n",
    "visited = [[False]*M for _ in range(N)]\n",
    "for i in range(N):\n",
    "    array.append(list(map(int,str(input()))))\n",
    "count = 0\n",
    "directions = [ (0,1),(0,-1),(1,0),(-1,0) ]\n",
    "queue = deque([(0,0,1)])\n",
    "result = 0\n",
    "\n",
    "while queue:\n",
    "    x,y,z = queue.popleft()\n",
    "    if x == N-1 and y == M-1:\n",
    "        result = z\n",
    "        break\n",
    "    \n",
    "    for dx,dy in directions:\n",
    "        nx,ny = x+dx,y+dy\n",
    "        if 0<=nx<N and 0<=ny<M:\n",
    "            if not visited[nx][ny] and array[nx][ny] == 1:\n",
    "                queue.append((nx,ny,z+1))\n",
    "print(result)"
   ]
  },
  {
   "cell_type": "code",
   "execution_count": 38,
   "metadata": {},
   "outputs": [
    {
     "name": "stdout",
     "output_type": "stream",
     "text": [
      "4 6\n",
      "101111\n",
      "101010\n",
      "101011\n",
      "111011\n",
      "15\n"
     ]
    }
   ],
   "source": [
    "from collections import deque\n",
    "\n",
    "def BFS(x,y,z):\n",
    "    visited = [[False]*M for _ in range(N)]\n",
    "    directions = [ (0,1),(0,-1),(1,0),(-1,0) ]\n",
    "    queue = deque([(0,0,1)])\n",
    "    while queue:\n",
    "        x,y,z = queue.popleft()\n",
    "        if x == N-1 and y == M-1:\n",
    "            return z\n",
    "        for dx,dy in directions:\n",
    "            nx,ny = x+dx,y+dy\n",
    "            if 0<=nx<N and 0<=ny<M:\n",
    "                if not visited[nx][ny] and array[nx][ny] == 1:\n",
    "                    queue.append((nx,ny,z+1))\n",
    "N,M = map(int,input().split())\n",
    "array = []\n",
    "for i in range(N):\n",
    "    array.append(list(map(int,str(input()))))\n",
    "print(BFS(0,0,1))"
   ]
  },
  {
   "cell_type": "code",
   "execution_count": null,
   "metadata": {},
   "outputs": [],
   "source": []
  }
 ],
 "metadata": {
  "kernelspec": {
   "display_name": "Python 3",
   "language": "python",
   "name": "python3"
  },
  "language_info": {
   "codemirror_mode": {
    "name": "ipython",
    "version": 3
   },
   "file_extension": ".py",
   "mimetype": "text/x-python",
   "name": "python",
   "nbconvert_exporter": "python",
   "pygments_lexer": "ipython3",
   "version": "3.7.3"
  }
 },
 "nbformat": 4,
 "nbformat_minor": 2
}
