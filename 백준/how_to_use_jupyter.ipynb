{
 "cells": [
  {
   "cell_type": "code",
   "execution_count": 2,
   "metadata": {},
   "outputs": [
    {
     "name": "stdout",
     "output_type": "stream",
     "text": [
      "Writing B15596_F1.py\n"
     ]
    }
   ],
   "source": [
    "%%writefile B15596_F1.py\n",
    "def solve(a):\n",
    "    ans = 0\n",
    "    for i in range(0,len(a)):\n",
    "        ans += a[i]\n",
    "    return ans\n",
    "\n",
    "a = [1,2,3,4,5]\n",
    "print(solve(a))"
   ]
  },
  {
   "cell_type": "code",
   "execution_count": 5,
   "metadata": {},
   "outputs": [
    {
     "name": "stdout",
     "output_type": "stream",
     "text": [
      "15\n"
     ]
    }
   ],
   "source": [
    "%run B_15596.py"
   ]
  },
  {
   "cell_type": "code",
   "execution_count": null,
   "metadata": {},
   "outputs": [],
   "source": [
    "# %load B_15596\n",
    "# %load 파일명 시 코드 호출, 한번더 실행하면 코드 동작\n",
    "def solve(a):\n",
    "    ans = 0\n",
    "    for i in range(0,len(a)):\n",
    "        ans += a[i]\n",
    "    return ans\n",
    "\n",
    "a = [1,2,3,4,5]\n",
    "print(solve(a))\n"
   ]
  },
  {
   "cell_type": "code",
   "execution_count": 3,
   "metadata": {},
   "outputs": [
    {
     "name": "stdout",
     "output_type": "stream",
     "text": [
      "Writing B4673_F2.py\n"
     ]
    }
   ],
   "source": [
    "%%writefile B4673_F2.py\n",
    "natural_number_set = set(range(1,10001))\n",
    "generated_number_set = set()\n",
    "\n",
    "for i in range(1,10001):\n",
    "    for j in str(i):                        # 문자열은 list, 차례로 더할수 있다            \n",
    "        i += int(j)\n",
    "    generated_number_set.add(i)\n",
    "    \n",
    "self_number_set = natural_number_set - generated_number_set\n",
    "\n",
    "for i in sorted(self_number_set):\n",
    "    print(i)"
   ]
  },
  {
   "cell_type": "code",
   "execution_count": 7,
   "metadata": {},
   "outputs": [
    {
     "name": "stdout",
     "output_type": "stream",
     "text": [
      "Writing B1065_F3.py\n"
     ]
    }
   ],
   "source": [
    "%%writefile B1065_F3.py\n",
    "\n",
    "num = input()\n",
    "table = [0,0,0]\n",
    "\n",
    "def checkHan(num):\n",
    "    if num <= 0:\n",
    "        return False\n",
    "    elif num<100:\n",
    "        return True\n",
    "    elif num>=100 and num <1000:\n",
    "        index=0\n",
    "        for i in str(num):\n",
    "            table[index] = int(i) \n",
    "            index+=1\n",
    "        c1 = table[1] - table[0]\n",
    "        c2 = table[2] - table[1]\n",
    "        \n",
    "        if c2 == c1:\n",
    "            return True\n",
    "        else:\n",
    "            return False\n",
    "    else:\n",
    "        return False\n",
    "\n",
    "test=1\n",
    "count=0\n",
    "while test <= int(num):\n",
    "    if checkHan(test) == True:\n",
    "        count+=1\n",
    "        test+=1\n",
    "    else :\n",
    "        test+=1\n",
    "print(count)\n",
    " "
   ]
  },
  {
   "cell_type": "code",
   "execution_count": 6,
   "metadata": {},
   "outputs": [
    {
     "name": "stdout",
     "output_type": "stream",
     "text": [
      "Writing B11654_S1.py\n"
     ]
    }
   ],
   "source": [
    "%%writefile B11654_S1.py\n",
    "test = input()\n",
    "num = ord(test)\n",
    "\n",
    "print(num)\n",
    "\n"
   ]
  },
  {
   "cell_type": "code",
   "execution_count": 5,
   "metadata": {},
   "outputs": [
    {
     "name": "stdout",
     "output_type": "stream",
     "text": [
      "Writing B11720_S2.py\n"
     ]
    }
   ],
   "source": [
    "%%writefile B11720_S2.py\n",
    "#숫자의 합. N입력후 N자리 수 모두 10단위로 합\n",
    "\n",
    "count = input()\n",
    "count = int(count)\n",
    "\n",
    "if count >=1 and count<=100:\n",
    "    cnt=0\n",
    "    sum=0\n",
    "    test = input()\n",
    "    for i in  test:\n",
    "        sum += int(i)\n",
    "        cnt +=1\n",
    "\n",
    "    if cnt == count:\n",
    "        print(sum)\n",
    "    \n",
    "    "
   ]
  },
  {
   "cell_type": "code",
   "execution_count": 4,
   "metadata": {},
   "outputs": [
    {
     "name": "stdout",
     "output_type": "stream",
     "text": [
      "Writing B10809_S3.py\n"
     ]
    }
   ],
   "source": [
    "%%writefile B10809_S3.py\n",
    "\n",
    "test = input()\n",
    "table = list()\n",
    "alpha  = range(97,123)\n",
    "             \n",
    "for i in alpha:\n",
    "    if test.find(chr(i))!=-1:\n",
    "        table.append(test.find(chr(i)))\n",
    "    else:\n",
    "        table.append(-1)\n",
    "\n",
    "for i in range(0,26):\n",
    "    print(table[i], end=' ' )\n",
    "    "
   ]
  },
  {
   "cell_type": "code",
   "execution_count": 32,
   "metadata": {},
   "outputs": [
    {
     "name": "stdout",
     "output_type": "stream",
     "text": [
      "Writing S4_B2675.py\n"
     ]
    }
   ],
   "source": [
    "%%writefile S4_B2675.py\n",
    "\n",
    "P = \"\"\n",
    "newline = \"\\n\"\n",
    "T = input()\n",
    "T = int(T)\n",
    "\n",
    "while T>0:\n",
    "    T -=1;\n",
    "    R, test = input().split()\n",
    "    R = int(R)\n",
    "    \n",
    "    for st in test:\n",
    "        for i in range(0,R):\n",
    "            P+=st\n",
    "    P+=newline\n",
    "print(P)"
   ]
  },
  {
   "cell_type": "code",
   "execution_count": 33,
   "metadata": {},
   "outputs": [
    {
     "name": "stdout",
     "output_type": "stream",
     "text": [
      "Writing S5_B1157.py\n"
     ]
    }
   ],
   "source": [
    "%%writefile S5_B1157.py\n",
    "\n",
    "sen = input()\n",
    "sen = list(sen.upper())\n",
    "alpha = [0]*26\n",
    "\n",
    "for i in sen:\n",
    "    alpha[ord(i) - 65] += 1\n",
    "    \n",
    "if alpha.count(max(alpha)) >=2:\n",
    "    print(\"?\")\n",
    "else:\n",
    "    # 가장 큰 값의 index + 65는 해당 알파벳이 됨\n",
    "    print(chr(alpha.index(max(alpha))+65))"
   ]
  },
  {
   "cell_type": "code",
   "execution_count": 35,
   "metadata": {},
   "outputs": [
    {
     "name": "stdout",
     "output_type": "stream",
     "text": [
      "Writing S6_B1152.py\n"
     ]
    }
   ],
   "source": [
    "%%writefile S6_B1152.py\n",
    "a = input().split()\n",
    "print(len(a))"
   ]
  },
  {
   "cell_type": "code",
   "execution_count": 36,
   "metadata": {},
   "outputs": [
    {
     "name": "stdout",
     "output_type": "stream",
     "text": [
      "Writing S7_B2908.py\n"
     ]
    }
   ],
   "source": [
    "%%writefile S7_B2908.py\n",
    "A,B = input().split()\n",
    "A = list(A)\n",
    "B = list(B)\n",
    "\n",
    "A.reverse()\n",
    "B.reverse()\n",
    "a=\"\"\n",
    "b=\"\"\n",
    "\n",
    "for i in range(len(A)):\n",
    "    a += str(A[i])\n",
    "    b += str(B[i])\n",
    "A = int(a)\n",
    "B = int(b)\n",
    "if A<B:\n",
    "    print(B)\n",
    "else:\n",
    "    print(A)"
   ]
  },
  {
   "cell_type": "code",
   "execution_count": 29,
   "metadata": {},
   "outputs": [
    {
     "ename": "TypeError",
     "evalue": "'int' object is not iterable",
     "output_type": "error",
     "traceback": [
      "\u001b[1;31m---------------------------------------------------------------------------\u001b[0m",
      "\u001b[1;31mTypeError\u001b[0m                                 Traceback (most recent call last)",
      "\u001b[1;32m<ipython-input-29-c5a3ec3c5c0b>\u001b[0m in \u001b[0;36m<module>\u001b[1;34m\u001b[0m\n\u001b[1;32m----> 1\u001b[1;33m \u001b[1;32mfor\u001b[0m \u001b[0mi\u001b[0m \u001b[1;32min\u001b[0m \u001b[1;36m3\u001b[0m\u001b[1;33m:\u001b[0m\u001b[1;33m\u001b[0m\u001b[1;33m\u001b[0m\u001b[0m\n\u001b[0m\u001b[0;32m      2\u001b[0m     \u001b[0mprint\u001b[0m\u001b[1;33m(\u001b[0m\u001b[1;36m3\u001b[0m\u001b[1;33m)\u001b[0m\u001b[1;33m\u001b[0m\u001b[1;33m\u001b[0m\u001b[0m\n",
      "\u001b[1;31mTypeError\u001b[0m: 'int' object is not iterable"
     ]
    }
   ],
   "source": [
    "for i in r:\n",
    "    print(3)"
   ]
  },
  {
   "cell_type": "code",
   "execution_count": 37,
   "metadata": {},
   "outputs": [
    {
     "name": "stdout",
     "output_type": "stream",
     "text": [
      "Writing R1_B10872_factorial.py\n"
     ]
    }
   ],
   "source": [
    "%%writefile R1_B10872_factorial.py\n",
    "N = int(input())\n",
    " \n",
    "def factorial(N):\n",
    "    if N == 0:\n",
    "        return 1\n",
    "    elif N == 1:\n",
    "        return 1\n",
    "    return N * factorial(N-1)\n",
    " \n",
    "print(factorial(N))"
   ]
  },
  {
   "cell_type": "code",
   "execution_count": null,
   "metadata": {},
   "outputs": [],
   "source": [
    "Sen = input()\n",
    "check = True\n",
    "\n",
    "for i in Sen:\n",
    "    if i == i+1:\n",
    "        check = True\n",
    "        "
   ]
  },
  {
   "cell_type": "code",
   "execution_count": null,
   "metadata": {},
   "outputs": [],
   "source": []
  },
  {
   "cell_type": "code",
   "execution_count": null,
   "metadata": {},
   "outputs": [],
   "source": [
    "\n",
    "\n",
    "\n",
    "\n",
    "\n",
    "\n",
    "\n",
    "\n",
    "\n",
    "\n",
    "\n",
    "\n",
    "\n",
    "\n",
    "\n",
    "\n",
    "\n",
    "\n",
    "\n",
    "\n",
    "\n",
    "\n",
    "\n",
    "\n",
    "\n",
    "\n",
    "\n",
    "\n",
    "\n",
    "\n",
    "\n"
   ]
  }
 ],
 "metadata": {
  "kernelspec": {
   "display_name": "Python 3",
   "language": "python",
   "name": "python3"
  },
  "language_info": {
   "codemirror_mode": {
    "name": "ipython",
    "version": 3
   },
   "file_extension": ".py",
   "mimetype": "text/x-python",
   "name": "python",
   "nbconvert_exporter": "python",
   "pygments_lexer": "ipython3",
   "version": "3.7.3"
  }
 },
 "nbformat": 4,
 "nbformat_minor": 2
}
