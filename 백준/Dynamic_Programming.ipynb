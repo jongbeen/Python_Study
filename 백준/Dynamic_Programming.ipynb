{
 "cells": [
  {
   "cell_type": "code",
   "execution_count": 23,
   "metadata": {
    "scrolled": true
   },
   "outputs": [
    {
     "name": "stdout",
     "output_type": "stream",
     "text": [
      "Writing DP01_B9095.py\n"
     ]
    }
   ],
   "source": [
    "%%writefile DP01_B9095.py\n",
    "\n",
    "def dyn(n):\n",
    "    ans = [0 for _ in range(n+1)]\n",
    "    for i in range(n+1):\n",
    "        if i<=2:\n",
    "            ans[i] = i\n",
    "        elif i==3:\n",
    "            ans[i] = 4\n",
    "        else :\n",
    "            ans[i] = ans[i-1]+ans[i-2]+ans[i-3]\n",
    "    \n",
    "    return ans[n]\n",
    "\n",
    "T = int(input())\n",
    "ANS = []\n",
    "while T>0:\n",
    "    T-=1\n",
    "    N = int(input())\n",
    "    ANS.append(dyn(N))\n",
    "for _ in range(len(ANS)):\n",
    "    print(ANS[_])"
   ]
  },
  {
   "cell_type": "code",
   "execution_count": 1,
   "metadata": {},
   "outputs": [
    {
     "name": "stdout",
     "output_type": "stream",
     "text": [
      "1\n",
      "1\n",
      "1\n"
     ]
    }
   ],
   "source": [
    "N=3\n",
    "while N>0:\n",
    "    N-=1\n",
    "    print(\"1\")"
   ]
  },
  {
   "cell_type": "code",
   "execution_count": 20,
   "metadata": {},
   "outputs": [
    {
     "data": {
      "text/plain": [
       "7"
      ]
     },
     "execution_count": 20,
     "metadata": {},
     "output_type": "execute_result"
    }
   ],
   "source": [
    "\n",
    "def dyn(n):\n",
    "    ans = [0 for _ in range(n+1)]\n",
    "    for i in range(n+1):\n",
    "        if i<=2:\n",
    "            ans[i] = i\n",
    "        elif i==3:\n",
    "            ans[i] = 4\n",
    "        else :\n",
    "            ans[i] = ans[i-1]+ans[i-2]+ans[i-3]\n",
    "    \n",
    "    return ans[n]\n",
    "\n",
    "dyn(4)"
   ]
  },
  {
   "cell_type": "code",
   "execution_count": 5,
   "metadata": {},
   "outputs": [
    {
     "data": {
      "text/plain": [
       "[0, 0, 0]"
      ]
     },
     "execution_count": 5,
     "metadata": {},
     "output_type": "execute_result"
    }
   ],
   "source": [
    "ans = [0 for _ in range(3)]\n",
    "ans"
   ]
  },
  {
   "cell_type": "code",
   "execution_count": 1,
   "metadata": {},
   "outputs": [
    {
     "name": "stdout",
     "output_type": "stream",
     "text": [
      "6\n",
      "10\n",
      "20\n",
      "15\n",
      "25\n",
      "10\n",
      "20\n"
     ]
    },
    {
     "data": {
      "text/plain": [
       "[10, 30, 35, 55, 65, 75]"
      ]
     },
     "execution_count": 1,
     "metadata": {},
     "output_type": "execute_result"
    }
   ],
   "source": [
    "#%%writefile DP04_B2579.py\n",
    "\n",
    "# 1.현재값 + 현재값-2 까지의 합 VS 2.최근2개 값 + 그전까지의 합\n",
    "# 현(밟)+전(밟X) +전전(최대)\n",
    "\n",
    "# 2.는 2칸 연속 걸었다는 가정\n",
    "# 현(밟),전(밟),+전전(밟X)+전전전(밟)\n",
    "# 이 두가지중 더 큰 값을 구하면 되는 문제\n",
    "\n",
    "stairs = int(input())\n",
    "N = stairs\n",
    "point = []\n",
    "ans = [0 for _ in range(N)]\n",
    "\n",
    "while(stairs>0):\n",
    "    stairs-=1\n",
    "    point.append(int(input()))\n",
    "\n",
    "for i in range(N):\n",
    "    if i==0:\n",
    "        ans[i] = point[i]\n",
    "    elif i==1:\n",
    "        ans[i] = point[i]+point[i-1]\n",
    "    elif i==2:\n",
    "        ans[i] = max(point[i]+point[i-2],point[i]+point[i-1])\n",
    "    else :\n",
    "        ans[i] = max(point[i]+ans[i-2],point[i]+point[i-1]+ans[i-3])\n",
    "\n",
    "ans"
   ]
  },
  {
   "cell_type": "code",
   "execution_count": 30,
   "metadata": {},
   "outputs": [
    {
     "name": "stdout",
     "output_type": "stream",
     "text": [
      "75\n"
     ]
    }
   ],
   "source": [
    "num = [10,20,15,25,10,20]\n",
    "ans = list()\n",
    "ans.append(num[0])\n",
    "ans.append(num[0]+num[1])\n",
    "ans.append(max(num[2]+num[0],num[2]+num[1]))\n",
    "for i in range(3, 6):\n",
    "    ans.append(max(num[i]+ans[i-2],num[i]+num[i-1]+ans[i-3])) \n",
    "\n",
    "print(ans[-1])\n"
   ]
  },
  {
   "cell_type": "code",
   "execution_count": 24,
   "metadata": {},
   "outputs": [
    {
     "name": "stdout",
     "output_type": "stream",
     "text": [
      "6\n",
      "10\n",
      "20\n",
      "15\n",
      "20\n",
      "10\n",
      "20\n",
      "70\n"
     ]
    }
   ],
   "source": [
    "stair_count = int(input())\n",
    "stair_scores_list = list()\n",
    "stair_scores_list.append(0)\n",
    "\n",
    "for i in range(stair_count):\n",
    "    stair_scores_list.append(int(input()))\n",
    "\n",
    "sum_of_score = list()\n",
    "sum_of_score.append(0)\n",
    "sum_of_score.append(stair_scores_list[1])\n",
    "sum_of_score.append(stair_scores_list[1] + stair_scores_list[2])\n",
    "sum_of_score.append(max(stair_scores_list[3] + stair_scores_list[1], stair_scores_list[3] + stair_scores_list[2]))\n",
    "\n",
    "for i in range(4, stair_count + 1):\n",
    "    sum_of_score.append(max(stair_scores_list[i] + sum_of_score[i - 2],\n",
    "                            stair_scores_list[i] + stair_scores_list[i - 1] + sum_of_score[i - 3]))\n",
    "\n",
    "print(sum_of_score[-1])"
   ]
  },
  {
   "cell_type": "code",
   "execution_count": 13,
   "metadata": {},
   "outputs": [
    {
     "name": "stdout",
     "output_type": "stream",
     "text": [
      "6\n",
      "10\n",
      "20\n",
      "15\n",
      "25\n",
      "10\n",
      "20\n",
      "[10, 30, 35, 55, 65, 75]\n"
     ]
    }
   ],
   "source": [
    "stairs = int(input())\n",
    "N = stairs\n",
    "ans = [0 for _ in range(N)]\n",
    "stair=list()\n",
    "while N >0:\n",
    "    N-=1\n",
    "    stair.append(int(input()))\n",
    "for i in range(stairs):\n",
    "    if i == 0:\n",
    "        ans[i] = stair[i]\n",
    "    elif i==1:\n",
    "        ans[i] = stair[i]+stair[i-1]\n",
    "    elif i==2:\n",
    "        ans[i] = max(stair[i]+stair[i-2],stair[i]+stair[i-1])\n",
    "    else:\n",
    "        ans[i] = max(stair[i]+ans[i-2],stair[i]+stair[i-1]+ans[i-3])\n",
    "\n",
    "print(ans)"
   ]
  },
  {
   "cell_type": "code",
   "execution_count": 10,
   "metadata": {},
   "outputs": [],
   "source": [
    "stair=0\n",
    "ans=0"
   ]
  },
  {
   "cell_type": "code",
   "execution_count": 9,
   "metadata": {},
   "outputs": [
    {
     "name": "stdout",
     "output_type": "stream",
     "text": [
      "6\n",
      "6\n",
      "10\n",
      "13\n",
      "9\n",
      "8\n",
      "1\n",
      "[6, 16, 23, 28, 33, 33]\n"
     ]
    }
   ],
   "source": [
    "# 포도주 시식\n",
    "#%%writefile StepDP10_B2156.py\n",
    "N = int(input())\n",
    "array = []\n",
    "result = [0]*N\n",
    "for _ in range(N):\n",
    "    array.append(int(input()))\n",
    "    \n",
    "result[0] = array[0]\n",
    "result[1] = array[1] + array[0]\n",
    "for i in range(2,N):\n",
    "    if i==2:\n",
    "        result[i] = max(array[i]+array[0],array[i]+array[i-1])\n",
    "    else:\n",
    "        result[i] = max(array[i]+result[i-2],array[i]+array[i-1]+result[i-3],result[i-1])\n",
    "\n",
    "print(result[-1])"
   ]
  },
  {
   "cell_type": "code",
   "execution_count": 11,
   "metadata": {},
   "outputs": [
    {
     "name": "stdout",
     "output_type": "stream",
     "text": [
      "6\n",
      "6\n",
      "10\n",
      "13\n",
      "9\n",
      "8\n",
      "1\n",
      "[0, 6, 16, 23, 28, 33, 33]\n"
     ]
    }
   ],
   "source": [
    "wine = int(input())\n",
    "wine_capa = [0]\n",
    "result = [0 for _ in range(wine + 1)]\n",
    "\n",
    "for _ in range(wine):\n",
    "    wine_capa.append(int(input()))\n",
    "\n",
    "for i in range(1, wine + 1):\n",
    "    if i == 1:\n",
    "        result[1] = wine_capa[1]\n",
    "    elif i == 2:\n",
    "        result[2] = wine_capa[1] + wine_capa[2]\n",
    "    else:\n",
    "        result[i] = max(result[i-3] + wine_capa[i-1] + wine_capa[i], result[i-2] + wine_capa[i], result[i-1])  \n",
    "\n",
    "print(result[i])"
   ]
  },
  {
   "cell_type": "code",
   "execution_count": null,
   "metadata": {},
   "outputs": [],
   "source": []
  },
  {
   "cell_type": "code",
   "execution_count": null,
   "metadata": {},
   "outputs": [],
   "source": []
  },
  {
   "cell_type": "code",
   "execution_count": null,
   "metadata": {},
   "outputs": [],
   "source": []
  }
 ],
 "metadata": {
  "kernelspec": {
   "display_name": "Python 3",
   "language": "python",
   "name": "python3"
  },
  "language_info": {
   "codemirror_mode": {
    "name": "ipython",
    "version": 3
   },
   "file_extension": ".py",
   "mimetype": "text/x-python",
   "name": "python",
   "nbconvert_exporter": "python",
   "pygments_lexer": "ipython3",
   "version": "3.7.3"
  }
 },
 "nbformat": 4,
 "nbformat_minor": 2
}
