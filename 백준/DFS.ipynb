{
 "cells": [
  {
   "cell_type": "markdown",
   "metadata": {},
   "source": [
    "### 단지번호 붙이기 - B2667"
   ]
  },
  {
   "cell_type": "code",
   "execution_count": 3,
   "metadata": {},
   "outputs": [
    {
     "name": "stdout",
     "output_type": "stream",
     "text": [
      "7\n",
      "0110100\n",
      "0110101\n",
      "1110101\n",
      "0000111\n",
      "0100000\n",
      "0111110\n",
      "0111000\n",
      "3\n",
      "7\n",
      "8\n",
      "9\n"
     ]
    }
   ],
   "source": [
    "def DFS(x,y):\n",
    "    visited[x][y] = True\n",
    "    global count\n",
    "    directions = [(1,0),(-1,0),(0,1),(0,-1)]\n",
    "    for dx,dy in directions:\n",
    "        nx,ny = x+dx, y+dy\n",
    "        if 0<=nx<N and 0<=ny<N and not visited[nx][ny]:\n",
    "            if array[nx][ny] == 1:\n",
    "                DFS(nx,ny)\n",
    "                count+=1\n",
    "    return count\n",
    "    \n",
    "N = int(input())\n",
    "array,apart = [],[]\n",
    "for _ in range(N):\n",
    "    array.append(list(map(int,str(input()))))\n",
    "    \n",
    "visited = [[False]*N for _ in range(N)]\n",
    "for i in range(N):\n",
    "    for j in range(N):\n",
    "        count=1\n",
    "        if array[i][j]==1 and not visited[i][j]:\n",
    "            apart.append(DFS(i,j))\n",
    "apart.sort()\n",
    "print(len(apart))\n",
    "for data in apart:\n",
    "    print(data)"
   ]
  },
  {
   "cell_type": "code",
   "execution_count": null,
   "metadata": {},
   "outputs": [],
   "source": []
  }
 ],
 "metadata": {
  "kernelspec": {
   "display_name": "Python 3",
   "language": "python",
   "name": "python3"
  },
  "language_info": {
   "codemirror_mode": {
    "name": "ipython",
    "version": 3
   },
   "file_extension": ".py",
   "mimetype": "text/x-python",
   "name": "python",
   "nbconvert_exporter": "python",
   "pygments_lexer": "ipython3",
   "version": "3.7.3"
  }
 },
 "nbformat": 4,
 "nbformat_minor": 2
}
