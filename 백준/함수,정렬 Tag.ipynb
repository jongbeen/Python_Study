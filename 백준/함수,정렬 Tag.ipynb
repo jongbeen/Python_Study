{
 "cells": [
  {
   "cell_type": "markdown",
   "metadata": {},
   "source": [
    "### B2941 크로아티아 알파벳 [문제유형 - 함수]"
   ]
  },
  {
   "cell_type": "code",
   "execution_count": 9,
   "metadata": {},
   "outputs": [
    {
     "name": "stdout",
     "output_type": "stream",
     "text": [
      "ddz=z=\n",
      "3\n"
     ]
    }
   ],
   "source": [
    "text = input()\n",
    "\n",
    "croatia = ['c=','c-','dz=','d-','lj','nj','s=','z=']\n",
    "\n",
    "for word in croatia:\n",
    "    text = text.replace(word,'*')\n",
    "print(len(text))"
   ]
  },
  {
   "cell_type": "markdown",
   "metadata": {},
   "source": [
    "### B2108 통계학 [문제유형 - 정렬]"
   ]
  },
  {
   "cell_type": "code",
   "execution_count": 22,
   "metadata": {},
   "outputs": [
    {
     "name": "stdout",
     "output_type": "stream",
     "text": [
      "5\n",
      "1\n",
      "3\n",
      "8\n",
      "-2\n",
      "2\n",
      "2\n",
      "2\n",
      "1\n",
      "10\n"
     ]
    }
   ],
   "source": [
    "#import sys \n",
    "from collections import Counter\n",
    "\n",
    "#t = int(sys.stdin.readline())\n",
    "t = int(input())\n",
    "\n",
    "numbers = []\n",
    "for _ in range(t):\n",
    "    #numbers.append(int(sys.stdin.readline()))\n",
    "    numbers.append(int(input()))\n",
    "    \n",
    "def mean(nums):\n",
    "    return round(sum(nums)/len(nums))\n",
    "\n",
    "def median(nums):\n",
    "    nums.sort()\n",
    "    mid = nums[len(nums)//2] # nums의 개수는 홀수\n",
    "    \n",
    "    return mid\n",
    "\n",
    "def mode(nums):\n",
    "    num_dict = Counter(nums)\n",
    "    nums = num_dict.most_common()\n",
    "    \n",
    "    if len(nums) >=2 :\n",
    "        if nums[0][1] == nums[1][1]:\n",
    "            mod = nums[1][0]\n",
    "        else:\n",
    "            mod = nums[0][0]\n",
    "    else:\n",
    "        mod = nums[0][0]\n",
    "    return mod\n",
    "        \n",
    "def scope(nums):\n",
    "    return max(nums) - min(nums)\n",
    "\n",
    "print(mean(numbers))\n",
    "print(median(numbers))\n",
    "print(mode(numbers))\n",
    "print(scope(numbers))"
   ]
  },
  {
   "cell_type": "code",
   "execution_count": 19,
   "metadata": {},
   "outputs": [
    {
     "data": {
      "text/plain": [
       "[('l', 3),\n",
       " ('o', 2),\n",
       " ('h', 1),\n",
       " ('e', 1),\n",
       " (' ', 1),\n",
       " ('w', 1),\n",
       " ('r', 1),\n",
       " ('d', 1)]"
      ]
     },
     "execution_count": 19,
     "metadata": {},
     "output_type": "execute_result"
    }
   ],
   "source": [
    "from collections import Counter\n",
    "a =\"hello world\"\n",
    "a_dict = Counter(a)\n",
    "a_dict.most_common()"
   ]
  },
  {
   "cell_type": "markdown",
   "metadata": {},
   "source": [
    "### B11651 좌표정렬하기2 [문제유형 - 정렬]"
   ]
  },
  {
   "cell_type": "code",
   "execution_count": 25,
   "metadata": {},
   "outputs": [
    {
     "name": "stdout",
     "output_type": "stream",
     "text": [
      "5\n",
      "0 4\n",
      "2 2\n",
      "1 2\n",
      "1 -1\n",
      "3 3\n",
      "(1, -1)\n",
      "(1, 2)\n",
      "(2, 2)\n",
      "(3, 3)\n",
      "(0, 4)\n"
     ]
    }
   ],
   "source": [
    "N = int(input())\n",
    "array = []\n",
    "for _ in range(N):\n",
    "    X,Y = map(int,input().split())\n",
    "    array.append((X,Y))\n",
    "array = sorted(array,key=lambda data:(data[1],data[0]) )\n",
    "\n",
    "for data in array:\n",
    "    print(data[0],data[1])\n"
   ]
  },
  {
   "cell_type": "markdown",
   "metadata": {},
   "source": [
    "###  B1181 단어정렬 [문제유형 - 정렬]"
   ]
  },
  {
   "cell_type": "code",
   "execution_count": 35,
   "metadata": {},
   "outputs": [
    {
     "name": "stdout",
     "output_type": "stream",
     "text": [
      "13\n",
      "but\n",
      "i\n",
      "wont\n",
      "hesitate\n",
      "no\n",
      "more\n",
      "no\n",
      "more\n",
      "it\n",
      "cannot\n",
      "wait\n",
      "im\n",
      "yours\n",
      "i\n",
      "im\n",
      "it\n",
      "no\n",
      "but\n",
      "more\n",
      "wait\n",
      "wont\n",
      "yours\n",
      "cannot\n",
      "hesitate\n"
     ]
    }
   ],
   "source": [
    "word = set()\n",
    "Dict = []\n",
    "N = int(input())\n",
    "for _ in range(N):\n",
    "    word.add(input())\n",
    "word = list(word)\n",
    "\n",
    "for item in word:\n",
    "    Dict.append((len(item),item))\n",
    "Dict = sorted(Dict,key=lambda data:(data[0],data[1]))\n",
    "for data in Dict:\n",
    "    print(data[1])"
   ]
  },
  {
   "cell_type": "markdown",
   "metadata": {},
   "source": [
    "### B1149 RGB거리 [유형 - DP]"
   ]
  },
  {
   "cell_type": "code",
   "execution_count": 36,
   "metadata": {},
   "outputs": [
    {
     "name": "stdout",
     "output_type": "stream",
     "text": [
      "3\n",
      "26 40 83\n",
      "49 69 57\n",
      "13 89 999\n",
      "96\n"
     ]
    }
   ],
   "source": [
    "N = int(input())\n",
    "\n",
    "array = [[] for _ in range(N) ]\n",
    "\n",
    "for i in range(N):\n",
    "    array[i].extend(list(map(int,input().split())))\n",
    "\n",
    "matrix = [[0]*3 for _ in range(N)]\n",
    "\n",
    "for i in range(N):\n",
    "    if i == 0:\n",
    "        matrix[i] = array[i]\n",
    "    else:\n",
    "        matrix[i][0] = array[i][0] + min(matrix[i-1][1],matrix[i-1][2])\n",
    "        matrix[i][1] = array[i][1] + min(matrix[i-1][0],matrix[i-1][2])\n",
    "        matrix[i][2] = array[i][2] + min(matrix[i-1][0],matrix[i-1][1])\n",
    "print(min(matrix[N-1]))\n",
    "    \n",
    "        \n"
   ]
  },
  {
   "cell_type": "code",
   "execution_count": null,
   "metadata": {},
   "outputs": [],
   "source": []
  }
 ],
 "metadata": {
  "kernelspec": {
   "display_name": "Python 3",
   "language": "python",
   "name": "python3"
  },
  "language_info": {
   "codemirror_mode": {
    "name": "ipython",
    "version": 3
   },
   "file_extension": ".py",
   "mimetype": "text/x-python",
   "name": "python",
   "nbconvert_exporter": "python",
   "pygments_lexer": "ipython3",
   "version": "3.7.3"
  }
 },
 "nbformat": 4,
 "nbformat_minor": 2
}
