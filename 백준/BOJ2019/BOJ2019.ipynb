{
 "cells": [
  {
   "cell_type": "markdown",
   "metadata": {},
   "source": [
    "### 엘사문제 - B18247"
   ]
  },
  {
   "cell_type": "code",
   "execution_count": 9,
   "metadata": {},
   "outputs": [
    {
     "name": "stdout",
     "output_type": "stream",
     "text": [
      "2\n",
      "13 5\n",
      "10 9\n",
      "59\n",
      "-1\n"
     ]
    }
   ],
   "source": [
    "result = []\n",
    "for _ in range(int(input())):\n",
    "    N,M = map(int,input().split())\n",
    "    if N < 12 or M <4:\n",
    "        print(-1)\n",
    "    else:\n",
    "        r = 11*M + 4\n",
    "        print(r)\n",
    "    "
   ]
  },
  {
   "cell_type": "markdown",
   "metadata": {},
   "source": [
    "### 제야의 종 - B18248"
   ]
  },
  {
   "cell_type": "code",
   "execution_count": 17,
   "metadata": {},
   "outputs": [
    {
     "name": "stdout",
     "output_type": "stream",
     "text": [
      "2 2\n",
      "1 0\n",
      "0 1\n",
      "NO\n"
     ]
    },
    {
     "ename": "SystemExit",
     "evalue": "",
     "output_type": "error",
     "traceback": [
      "An exception has occurred, use %tb to see the full traceback.\n",
      "\u001b[1;31mSystemExit\u001b[0m\n"
     ]
    }
   ],
   "source": [
    "import sys\n",
    "\n",
    "N,M = map(int,input().split())\n",
    "array = []\n",
    "for _ in range(N):\n",
    "    array.append(list(map(int,input().split())))    \n",
    "\n",
    "for i in range(N):\n",
    "    c1,c2 = False,False\n",
    "    for k in range(M):\n",
    "        if array[i][k] == 1 and array[i+1][k] == 0:\n",
    "            c1 = True\n",
    "        if array[i][k] == 0 and array[i+1][k] == 1:\n",
    "            c2 = True\n",
    "        if c1 and c2:\n",
    "            print('NO')\n",
    "            sys.exit()\n",
    "print(\"YES\")"
   ]
  },
  {
   "cell_type": "code",
   "execution_count": null,
   "metadata": {},
   "outputs": [],
   "source": []
  }
 ],
 "metadata": {
  "kernelspec": {
   "display_name": "Python 3",
   "language": "python",
   "name": "python3"
  },
  "language_info": {
   "codemirror_mode": {
    "name": "ipython",
    "version": 3
   },
   "file_extension": ".py",
   "mimetype": "text/x-python",
   "name": "python",
   "nbconvert_exporter": "python",
   "pygments_lexer": "ipython3",
   "version": "3.7.3"
  }
 },
 "nbformat": 4,
 "nbformat_minor": 2
}
