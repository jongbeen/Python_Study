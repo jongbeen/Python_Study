{
 "cells": [
  {
   "cell_type": "markdown",
   "metadata": {},
   "source": [
    "### 손익분기점 - B1712"
   ]
  },
  {
   "cell_type": "raw",
   "metadata": {},
   "source": [
    "A,B,C = map(int,input().split())\n",
    "if C<=B:\n",
    "    print(-1)\n",
    "else:\n",
    "    r = A // (C-B) +1\n",
    "    print(r)"
   ]
  },
  {
   "cell_type": "markdown",
   "metadata": {},
   "source": [
    "### 설탕배달 - B2839\n",
    "- 풀가치X"
   ]
  },
  {
   "cell_type": "code",
   "execution_count": 8,
   "metadata": {},
   "outputs": [
    {
     "name": "stdout",
     "output_type": "stream",
     "text": [
      "6\n",
      "2\n"
     ]
    }
   ],
   "source": [
    "sugar = int(input())\n",
    "number_of_package = 0\n",
    "\n",
    "while sugar > 0:\n",
    "    if sugar % 5 != 0:\n",
    "        sugar -= 3\n",
    "        if sugar < 0:\n",
    "            number_of_package = -1\n",
    "            break\n",
    "        number_of_package += 1\n",
    "    elif sugar % 5 == 0:\n",
    "        number_of_package += 1\n",
    "        sugar -= 5\n",
    "    elif sugar % 5 != 0 and sugar % 3 != 0:\n",
    "        number_of_package = -1\n",
    "\n",
    "print(number_of_package)"
   ]
  },
  {
   "cell_type": "code",
   "execution_count": null,
   "metadata": {},
   "outputs": [],
   "source": []
  }
 ],
 "metadata": {
  "kernelspec": {
   "display_name": "Python 3",
   "language": "python",
   "name": "python3"
  },
  "language_info": {
   "codemirror_mode": {
    "name": "ipython",
    "version": 3
   },
   "file_extension": ".py",
   "mimetype": "text/x-python",
   "name": "python",
   "nbconvert_exporter": "python",
   "pygments_lexer": "ipython3",
   "version": "3.7.3"
  }
 },
 "nbformat": 4,
 "nbformat_minor": 2
}
