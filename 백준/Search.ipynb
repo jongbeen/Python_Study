{
 "cells": [
  {
   "cell_type": "code",
   "execution_count": 3,
   "metadata": {},
   "outputs": [
    {
     "name": "stdout",
     "output_type": "stream",
     "text": [
      "Overwriting Search02_B1316.py\n"
     ]
    }
   ],
   "source": [
    "%%writefile Search02_B1316.py\n",
    "result = int(input())\n",
    "for _ in range(result):\n",
    "    word = input()\n",
    "    for i in range(1, len(word)):\n",
    "        if word.find(word[i-1]) > word.find(word[i]):\n",
    "            result -= 1\n",
    "            break\n",
    "print(result)"
   ]
  },
  {
   "cell_type": "code",
   "execution_count": 4,
   "metadata": {},
   "outputs": [
    {
     "name": "stdout",
     "output_type": "stream",
     "text": [
      "3\n",
      "zzabbbcc\n",
      "test\n",
      "aabbccc\n",
      "2\n"
     ]
    }
   ],
   "source": [
    "result = int(input())\n",
    "for _ in range(result):\n",
    "    word = input()\n",
    "    for i in range(1, len(word)):\n",
    "        if word.find(word[i-1]) > word.find(word[i]):\n",
    "            result -= 1\n",
    "            break\n",
    "print(result)"
   ]
  },
  {
   "cell_type": "code",
   "execution_count": 15,
   "metadata": {},
   "outputs": [
    {
     "name": "stdout",
     "output_type": "stream",
     "text": [
      "Overwriting Search03_B1026.py\n"
     ]
    }
   ],
   "source": [
    "%%writefile Search03_B1026.py\n",
    "import heapq\n",
    "\n",
    "N = int(input())\n",
    "A = list(map(int,input().split()))\n",
    "B = list(map(int,input().split()))\n",
    "Sum = 0\n",
    "\n",
    "heapq.heapify(B)\n",
    "A.sort(reverse=True)\n",
    "\n",
    "for i in range(len(A)):\n",
    "    b = heapq.heappop(B)\n",
    "    Sum += A[i]*b\n",
    "print(Sum)"
   ]
  },
  {
   "cell_type": "code",
   "execution_count": 19,
   "metadata": {},
   "outputs": [
    {
     "name": "stdout",
     "output_type": "stream",
     "text": [
      "Writing Search04_B1100.py\n"
     ]
    }
   ],
   "source": [
    "%%writefile Search04_B1100.py\n",
    "\n",
    "chess = list()\n",
    "count = 0\n",
    "\n",
    "for _ in range(8):\n",
    "    chess.append(list(map(str,list(input()))))\n",
    "for i in range(8):\n",
    "    for j in range(8):\n",
    "        if (i+j)%2==0:\n",
    "            if chess[i][j] == 'F':\n",
    "                count+=1\n",
    "print(count)"
   ]
  },
  {
   "cell_type": "code",
   "execution_count": 19,
   "metadata": {},
   "outputs": [
    {
     "name": "stdout",
     "output_type": "stream",
     "text": [
      "6\n",
      "5666\n"
     ]
    }
   ],
   "source": [
    "#%%writefile Search05_B1436.py\n",
    "\n",
    "N = int(input())\n",
    "\n",
    "movie = 666\n",
    "\n",
    "while N:\n",
    "    if \"666\" in str(movie):\n",
    "        N-=1\n",
    "    movie+=1\n",
    "    \n",
    "print(movie - 1)"
   ]
  },
  {
   "cell_type": "code",
   "execution_count": 2,
   "metadata": {},
   "outputs": [
    {
     "name": "stdout",
     "output_type": "stream",
     "text": [
      "6\n",
      "5666\n"
     ]
    }
   ],
   "source": [
    "N = int(input())\n",
    "movie = 666\n",
    "\n",
    "while N:\n",
    "    if \"666\" in str(movie):\n",
    "        N -= 1\n",
    "    movie += 1\n",
    "\n",
    "print(movie-1)"
   ]
  },
  {
   "cell_type": "code",
   "execution_count": null,
   "metadata": {},
   "outputs": [],
   "source": []
  },
  {
   "cell_type": "code",
   "execution_count": null,
   "metadata": {},
   "outputs": [],
   "source": []
  }
 ],
 "metadata": {
  "kernelspec": {
   "display_name": "Python 3",
   "language": "python",
   "name": "python3"
  },
  "language_info": {
   "codemirror_mode": {
    "name": "ipython",
    "version": 3
   },
   "file_extension": ".py",
   "mimetype": "text/x-python",
   "name": "python",
   "nbconvert_exporter": "python",
   "pygments_lexer": "ipython3",
   "version": "3.7.3"
  }
 },
 "nbformat": 4,
 "nbformat_minor": 2
}
