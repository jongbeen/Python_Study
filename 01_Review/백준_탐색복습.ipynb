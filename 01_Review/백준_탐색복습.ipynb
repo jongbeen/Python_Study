{
 "cells": [
  {
   "cell_type": "code",
   "execution_count": 2,
   "metadata": {},
   "outputs": [
    {
     "name": "stdout",
     "output_type": "stream",
     "text": [
      "4 5 1\n",
      "1 2\n",
      "1 3\n",
      "1 4\n",
      "2 4\n",
      "3 4\n",
      "1 2 4 3 \n",
      "1 2 3 4 "
     ]
    }
   ],
   "source": [
    "from collections import deque\n",
    "def dfs(graph,start):\n",
    "    visited[start] = True\n",
    "    print(start,end=\" \")\n",
    "    for node in graph[start]:\n",
    "        if not visited[node]:\n",
    "            dfs(graph,node)\n",
    "\n",
    "def bfs(graph,start):\n",
    "    queue = deque([start])\n",
    "    visited = [False]*(N+1)\n",
    "    visited[start] = True\n",
    "    while queue:\n",
    "        start = queue.popleft()\n",
    "        print(start,end=\" \")\n",
    "        for node in graph[start]:\n",
    "            if not visited[node]:\n",
    "                queue.append(node)\n",
    "                visited[node] = True\n",
    "    \n",
    "            \n",
    "N,M,V = map(int,input().split())\n",
    "Graph = [[] for _ in range(N+1)]\n",
    "for _ in range(M):\n",
    "    S,E = map(int,input().split())\n",
    "    Graph[S].append(E)\n",
    "    Graph[E].append(S)\n",
    "visited = [False]*(N+1)\n",
    "dfs(Graph,V)\n",
    "print()\n",
    "bfs(Graph,V)\n"
   ]
  },
  {
   "cell_type": "code",
   "execution_count": 4,
   "metadata": {},
   "outputs": [
    {
     "name": "stdout",
     "output_type": "stream",
     "text": [
      "5 17\n",
      "4\n"
     ]
    }
   ],
   "source": [
    "from collections import deque\n",
    "\n",
    "MAX = 100001\n",
    "\n",
    "def BFS(S,E):\n",
    "    queue = deque([(S,E,0)])\n",
    "    visited = [False]*MAX\n",
    "    visited[S] = True\n",
    "    while queue:\n",
    "        cur, dest, time = queue.popleft()\n",
    "        if cur == dest:\n",
    "            return time\n",
    "        for nex in (cur-1,cur+1,2*cur):\n",
    "            if not visited[nex]:\n",
    "                queue.append((nex,dest,time+1))\n",
    "                visited[nex] = True\n",
    "\n",
    "N,K = map(int,input().split())\n",
    "print(BFS(N,K))\n"
   ]
  },
  {
   "cell_type": "code",
   "execution_count": 7,
   "metadata": {},
   "outputs": [
    {
     "name": "stdout",
     "output_type": "stream",
     "text": [
      "7\n",
      "6\n",
      "1 2\n",
      "2 3\n",
      "1 5\n",
      "5 2\n",
      "5 6\n",
      "4 7\n",
      "4\n"
     ]
    }
   ],
   "source": [
    "def DFS(graph,start):\n",
    "    global count\n",
    "    visited[start] = True\n",
    "    for node in graph[start]:\n",
    "        if not visited[node]:\n",
    "            count+=1\n",
    "            DFS(graph,node)\n",
    "    \n",
    "N = int(input())\n",
    "V = int(input())\n",
    "Graph = [[] for _ in range(N+1)]\n",
    "for _ in range(V):\n",
    "    S,E = map(int,input().split())\n",
    "    Graph[S].append(E)\n",
    "    Graph[E].append(S)\n",
    "visited = [False]*(N+1)\n",
    "count = 0\n",
    "DFS(Graph,1)\n",
    "print(count)"
   ]
  },
  {
   "cell_type": "code",
   "execution_count": null,
   "metadata": {},
   "outputs": [],
   "source": []
  }
 ],
 "metadata": {
  "kernelspec": {
   "display_name": "Python 3",
   "language": "python",
   "name": "python3"
  },
  "language_info": {
   "codemirror_mode": {
    "name": "ipython",
    "version": 3
   },
   "file_extension": ".py",
   "mimetype": "text/x-python",
   "name": "python",
   "nbconvert_exporter": "python",
   "pygments_lexer": "ipython3",
   "version": "3.7.3"
  }
 },
 "nbformat": 4,
 "nbformat_minor": 2
}
