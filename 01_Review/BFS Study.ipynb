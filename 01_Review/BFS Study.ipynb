{
 "cells": [
  {
   "cell_type": "markdown",
   "metadata": {},
   "source": [
    "### 7576 토마토"
   ]
  },
  {
   "cell_type": "code",
   "execution_count": 26,
   "metadata": {
    "scrolled": true
   },
   "outputs": [
    {
     "name": "stdout",
     "output_type": "stream",
     "text": [
      "2 2\n",
      "1 0\n",
      "0 1\n",
      "1\n"
     ]
    }
   ],
   "source": [
    "import sys\n",
    "from collections import deque\n",
    "\n",
    "dx = (0,0,1,-1)\n",
    "dy = (1,-1,0,0)\n",
    "INF = 1e9\n",
    "\n",
    "def BFS(graph,start):\n",
    "    visited = [[False]*N for _ in range(M)]\n",
    "    table = [[0]*N for _ in range(M)]\n",
    "    queue,c = deque([]),0\n",
    "                \n",
    "    for ix,iy in start:\n",
    "        visited[ix][iy] = True\n",
    "        queue.append((ix,iy,c))\n",
    "    while queue:\n",
    "        px,py,c = queue.popleft()\n",
    "        for nx,ny in zip(dx,dy):\n",
    "            idx,idy = nx+px,ny+py\n",
    "            if 0<=idx<M and 0<=idy<N:\n",
    "                if graph[idx][idy] == 0 and not visited[idx][idy]:\n",
    "                    queue.append((idx,idy,c+1))\n",
    "                    visited[idx][idy] = True\n",
    "                    graph[idx][idy] = 1\n",
    "                    table[idx][idy] = c+1\n",
    "    check = True\n",
    "    Max = -1\n",
    "    for i in range(len(table)):\n",
    "        for j in range(len(table[i])):\n",
    "            if table[i][j] == 0 and graph[i][j] != -1:\n",
    "                if (i,j) not in start:\n",
    "                    check = False\n",
    "                    break\n",
    "            if table[i][j] > Max and table[i][j]!=INF:\n",
    "                Max = table[i][j]\n",
    "        if check==False:\n",
    "            break\n",
    "    #print(table)\n",
    "    if check==False:\n",
    "        return -1\n",
    "    return Max\n",
    "\n",
    "N,M = map(int,input().split())\n",
    "Graph = []\n",
    "for _ in range(M):\n",
    "    Graph.append(list(map(int, input().split())))\n",
    "start_point = []\n",
    "\n",
    "for i in range(len(Graph)):\n",
    "    for j in range(len(Graph[i])):\n",
    "        if Graph[i][j] == 1:\n",
    "            start_point.append((i,j))\n",
    "                        \n",
    "print(BFS(Graph,start_point))"
   ]
  },
  {
   "cell_type": "code",
   "execution_count": 35,
   "metadata": {},
   "outputs": [
    {
     "name": "stdout",
     "output_type": "stream",
     "text": [
      "2 2\n",
      "1 1\n",
      "1 1\n",
      "0\n"
     ]
    }
   ],
   "source": [
    "import sys\n",
    "from collections import deque\n",
    "\n",
    "\n",
    "def bfs(M, N, box):\n",
    "    # 좌우상하\n",
    "    dx = [0, 0, 1, -1]\n",
    "    dy = [-1, 1, 0, 0]\n",
    "    days = -1\n",
    "    while ripe:\n",
    "        days += 1\n",
    "        for _ in range(len(ripe)):\n",
    "            x, y = ripe.popleft()\n",
    "\n",
    "            for i in range(4):\n",
    "                nx = x + dx[i]\n",
    "                ny = y + dy[i]\n",
    "\n",
    "                if (0 <= nx < N) and (0 <= ny < M) and (box[nx][ny] == 0):\n",
    "                    box[nx][ny] = box[x][y] + 1\n",
    "                    ripe.append([nx, ny])\n",
    "    for b in box:\n",
    "        if 0 in b:\n",
    "            return -1\n",
    "    return days\n",
    "\n",
    "M, N = map(int, input().split())\n",
    "box, ripe = [], deque()\n",
    "for i in range(N):\n",
    "    row = list(map(int, input().split()))\n",
    "    for j in range(M):\n",
    "        if row[j] == 1:\n",
    "            ripe.append([i, j])\n",
    "    box.append(row)\n",
    "\n",
    "print(bfs(M, N, box))\n",
    "\n"
   ]
  },
  {
   "cell_type": "markdown",
   "metadata": {},
   "source": [
    "### 1260 DFS와 BFS"
   ]
  },
  {
   "cell_type": "code",
   "execution_count": 28,
   "metadata": {},
   "outputs": [
    {
     "name": "stdout",
     "output_type": "stream",
     "text": [
      "4 5 1\n",
      "1 2\n",
      "1 3\n",
      "1 4\n",
      "2 4\n",
      "3 4\n",
      "1 2 4 3 1 2 3 4 "
     ]
    }
   ],
   "source": [
    "from collections import deque\n",
    "\n",
    "def DFS(graph,start):\n",
    "    visited[start] = True\n",
    "    print(start,end=' ')\n",
    "    for node in graph[start]:\n",
    "        if not visited[node]:\n",
    "            DFS(graph,node)\n",
    "            \n",
    "def BFS(graph,start):\n",
    "    visited = [False]*(N+1)\n",
    "    queue = deque([start])\n",
    "    visited[start] = True\n",
    "    while queue:\n",
    "        start = queue.popleft()\n",
    "        print(start,end=' ')\n",
    "        for node in graph[start]:\n",
    "            if not visited[node]:\n",
    "                queue.append(node)\n",
    "                visited[node] = True\n",
    "\n",
    "N,M,V = map(int,input().split())\n",
    "graph = [[] for _ in range(N+1)]\n",
    "for _ in range(M):\n",
    "    S,E = map(int,input().split())\n",
    "    graph[S].append(E)\n",
    "visited = [False] * (N+1)\n",
    "DFS(graph,V)\n",
    "BFS(graph,V)"
   ]
  },
  {
   "cell_type": "code",
   "execution_count": 34,
   "metadata": {},
   "outputs": [
    {
     "name": "stdout",
     "output_type": "stream",
     "text": [
      "5 17\n",
      "4\n"
     ]
    }
   ],
   "source": [
    "from collections import deque\n",
    "\n",
    "Max = (int)(1e5+1)\n",
    "\n",
    "def BFS(start,end):\n",
    "    visited = [False]*Max\n",
    "    queue = deque([(start,0)])\n",
    "    visited[start] = True\n",
    "    while queue:\n",
    "        cur_pos,cost = queue.popleft()\n",
    "        if cur_pos == end:\n",
    "            return cost\n",
    "        for next_pos in (cur_pos-1,cur_pos+1,2*cur_pos):\n",
    "            if 0<=next_pos<Max and not visited[next_pos]:\n",
    "                visited[next_pos] = True\n",
    "                queue.append((next_pos,cost+1))\n",
    "    return -1\n",
    "\n",
    "N,K = map(int,input().split())\n",
    "print(BFS(N,K))\n",
    "\n"
   ]
  },
  {
   "cell_type": "markdown",
   "metadata": {},
   "source": [
    "### Knight's_Tour"
   ]
  },
  {
   "cell_type": "code",
   "execution_count": 2,
   "metadata": {},
   "outputs": [
    {
     "name": "stdout",
     "output_type": "stream",
     "text": [
      "4\n",
      "[[2, 3, 2, 5], [3, 4, 1, 2], [2, 1, 4, 3], [5, 2, 3, 2]]\n"
     ]
    }
   ],
   "source": [
    "from collections import deque\n",
    "\n",
    "Dx = [-2,-1,1,2,1,2,-1,-2]\n",
    "Dy = [-1,-2,2,1,-2,-1,2,1]\n",
    "\n",
    "def BFS(graph):\n",
    "    visited = [[False]*N for _ in range(N)]\n",
    "    table = [[0]*N for _ in range(N)]\n",
    "    visited[0][0],table[0][0] = False,0\n",
    "    queue = deque([(0,0,0)])\n",
    "    while queue:\n",
    "        x,y,c = queue.popleft()\n",
    "        for di,dj in zip(Dx,Dy):\n",
    "            nx,ny = x+di,y+dj\n",
    "            if 0<=nx<N and 0<=ny<N:\n",
    "                if not visited[nx][ny]:\n",
    "                    queue.append((nx,ny,c+1))\n",
    "                    visited[nx][ny] = True\n",
    "                    table[nx][ny] = c+1\n",
    "    return table\n",
    "    \n",
    "N = int(input())\n",
    "graph = [[0]*N for _ in range(N)]\n",
    "print(BFS(graph))"
   ]
  },
  {
   "cell_type": "markdown",
   "metadata": {},
   "source": [
    "### 2606 - 바이러스"
   ]
  },
  {
   "cell_type": "code",
   "execution_count": 3,
   "metadata": {},
   "outputs": [
    {
     "name": "stdout",
     "output_type": "stream",
     "text": [
      "7\n",
      "6\n",
      "1 2\n",
      "2 3\n",
      "1 5\n",
      "5 2\n",
      "5 6\n",
      "4 7\n",
      "4\n"
     ]
    }
   ],
   "source": [
    "def DFS(graph,start):\n",
    "    global n\n",
    "    visited[start] = True\n",
    "    for node in graph[start]:\n",
    "        if not visited[node]:\n",
    "            n+=1\n",
    "            DFS(graph,node)   \n",
    "\n",
    "N = int(input())\n",
    "M= int(input())\n",
    "graph = [[] for _ in range(N+1)]\n",
    "for _ in range(M):\n",
    "    S,E = map(int,input().split())\n",
    "    graph[S].append(E)\n",
    "    graph[E].append(S)\n",
    "visited = [False]*(N+1)\n",
    "n=0\n",
    "DFS(graph,1)\n",
    "print(n)"
   ]
  },
  {
   "cell_type": "markdown",
   "metadata": {},
   "source": [
    "### B1325 효율적인 해킹"
   ]
  },
  {
   "cell_type": "code",
   "execution_count": 13,
   "metadata": {},
   "outputs": [
    {
     "name": "stdout",
     "output_type": "stream",
     "text": [
      "5 4\n",
      "3 1\n",
      "3 2\n",
      "4 3\n",
      "5 3\n",
      "1 2 "
     ]
    }
   ],
   "source": [
    "def DFS(start):\n",
    "    global count\n",
    "    visited[start] = True\n",
    "    for node in graph[start]:\n",
    "        count+=1\n",
    "        if not visited[node]:\n",
    "            DFS(node)\n",
    "\n",
    "N,M = map(int,input().split())\n",
    "graph=[[] for _ in range(N+1)]\n",
    "for _ in range(M):\n",
    "    S,E = map(int,input().split())\n",
    "    graph[E].append(S)\n",
    "Max,ANS,result = -1,[],[]\n",
    "for i in range(1,N):\n",
    "    count=0\n",
    "    visited = [False]*(N+1)\n",
    "    DFS(i)\n",
    "    ANS.append(count)\n",
    "for index,data in enumerate(ANS):\n",
    "    if data == max(ANS):\n",
    "        result.append(index+1)\n",
    "for ans in result:\n",
    "    print(ans,end=\" \")"
   ]
  },
  {
   "cell_type": "code",
   "execution_count": null,
   "metadata": {},
   "outputs": [],
   "source": []
  },
  {
   "cell_type": "code",
   "execution_count": null,
   "metadata": {},
   "outputs": [],
   "source": []
  },
  {
   "cell_type": "code",
   "execution_count": null,
   "metadata": {},
   "outputs": [],
   "source": []
  },
  {
   "cell_type": "code",
   "execution_count": null,
   "metadata": {},
   "outputs": [],
   "source": []
  }
 ],
 "metadata": {
  "kernelspec": {
   "display_name": "Python 3",
   "language": "python",
   "name": "python3"
  },
  "language_info": {
   "codemirror_mode": {
    "name": "ipython",
    "version": 3
   },
   "file_extension": ".py",
   "mimetype": "text/x-python",
   "name": "python",
   "nbconvert_exporter": "python",
   "pygments_lexer": "ipython3",
   "version": "3.7.3"
  }
 },
 "nbformat": 4,
 "nbformat_minor": 2
}
