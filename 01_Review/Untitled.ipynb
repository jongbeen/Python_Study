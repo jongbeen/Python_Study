{
 "cells": [
  {
   "cell_type": "markdown",
   "metadata": {},
   "source": [
    "## DFS BFS"
   ]
  },
  {
   "cell_type": "code",
   "execution_count": null,
   "metadata": {},
   "outputs": [],
   "source": [
    "from collections import deque\n",
    "\n",
    "def dfs(graph,start):\n",
    "    visited[start] = True\n",
    "    print(start, end=' ')\n",
    "    for node in graph[start]:\n",
    "        if not visited[node]:\n",
    "            dfs(graph,node)\n",
    "            \n",
    "def bfs(graph,start):\n",
    "    visited = [False]* (N+1)\n",
    "    queue = deque([start])\n",
    "    visited[start] = True\n",
    "    while queue:\n",
    "        start = queue.popleft()\n",
    "        for node in graph[start]:\n",
    "            if not visited[node]:\n",
    "                queue.append(node)\n",
    "                visited[node] = True\n",
    "            \n",
    "N,M,V = map(int,input().split())\n",
    "graph = [[] for _ in range(N+1)]\n",
    "for _ in range(M):\n",
    "    S,E = map(int,input().split())\n",
    "    graph[S].append(E)\n",
    "visited = [False] *(N+1)"
   ]
  },
  {
   "cell_type": "code",
   "execution_count": 5,
   "metadata": {},
   "outputs": [
    {
     "name": "stdout",
     "output_type": "stream",
     "text": [
      "7\n",
      "6\n",
      "1 2\n",
      "2 3\n",
      "1 5\n",
      "5 2\n",
      "5 6\n",
      "4 7\n",
      "5\n"
     ]
    }
   ],
   "source": [
    "from collections import deque\n",
    "\n",
    "def BFS(graph,start):\n",
    "    global n\n",
    "    visited = [False] * (N+1)\n",
    "    queue = deque([start])\n",
    "    visited[start] = True\n",
    "    while queue:\n",
    "        start = queue.popleft()\n",
    "        for node in graph[start]:\n",
    "            if not visited[node]:\n",
    "                n+=1\n",
    "                queue.append(node)\n",
    "                visited[node] = True\n",
    "\n",
    "N = int(input())\n",
    "V = int(input())\n",
    "graph = [[] for _ in range(N+1)]\n",
    "for _ in range(V):\n",
    "    S,E = map(int,input().split())\n",
    "    graph[S].append(E)\n",
    "    graph[E].append(S)\n",
    "n=0\n",
    "BFS(graph,1)\n",
    "print(n)\n"
   ]
  },
  {
   "cell_type": "code",
   "execution_count": 24,
   "metadata": {
    "scrolled": true
   },
   "outputs": [
    {
     "name": "stdout",
     "output_type": "stream",
     "text": [
      "a\n"
     ]
    },
    {
     "ename": "ValueError",
     "evalue": "invalid literal for int() with base 10: 'a'",
     "output_type": "error",
     "traceback": [
      "\u001b[1;31m---------------------------------------------------------------------------\u001b[0m",
      "\u001b[1;31mValueError\u001b[0m                                Traceback (most recent call last)",
      "\u001b[1;32m<ipython-input-24-484871b461a5>\u001b[0m in \u001b[0;36m<module>\u001b[1;34m\u001b[0m\n\u001b[0;32m     17\u001b[0m                     \u001b[0mqueue\u001b[0m\u001b[1;33m.\u001b[0m\u001b[0mappend\u001b[0m\u001b[1;33m(\u001b[0m\u001b[1;33m(\u001b[0m\u001b[0midx\u001b[0m\u001b[1;33m,\u001b[0m \u001b[0midy\u001b[0m\u001b[1;33m)\u001b[0m\u001b[1;33m)\u001b[0m\u001b[1;33m\u001b[0m\u001b[1;33m\u001b[0m\u001b[0m\n\u001b[0;32m     18\u001b[0m \u001b[1;33m\u001b[0m\u001b[0m\n\u001b[1;32m---> 19\u001b[1;33m \u001b[0mN\u001b[0m\u001b[1;33m,\u001b[0m \u001b[0mM\u001b[0m \u001b[1;33m=\u001b[0m \u001b[0mmap\u001b[0m\u001b[1;33m(\u001b[0m\u001b[0mint\u001b[0m\u001b[1;33m,\u001b[0m \u001b[0minput\u001b[0m\u001b[1;33m(\u001b[0m\u001b[1;33m)\u001b[0m\u001b[1;33m.\u001b[0m\u001b[0msplit\u001b[0m\u001b[1;33m(\u001b[0m\u001b[1;33m)\u001b[0m\u001b[1;33m)\u001b[0m\u001b[1;33m\u001b[0m\u001b[1;33m\u001b[0m\u001b[0m\n\u001b[0m\u001b[0;32m     20\u001b[0m \u001b[0mgraph\u001b[0m \u001b[1;33m=\u001b[0m \u001b[1;33m[\u001b[0m\u001b[1;33m[\u001b[0m\u001b[1;36m0\u001b[0m\u001b[1;33m]\u001b[0m \u001b[1;33m*\u001b[0m \u001b[0mN\u001b[0m \u001b[1;32mfor\u001b[0m \u001b[0m_\u001b[0m \u001b[1;32min\u001b[0m \u001b[0mrange\u001b[0m\u001b[1;33m(\u001b[0m\u001b[0mM\u001b[0m\u001b[1;33m)\u001b[0m\u001b[1;33m]\u001b[0m\u001b[1;33m\u001b[0m\u001b[1;33m\u001b[0m\u001b[0m\n\u001b[0;32m     21\u001b[0m \u001b[0mstart_point\u001b[0m \u001b[1;33m=\u001b[0m \u001b[1;33m[\u001b[0m\u001b[1;33m]\u001b[0m\u001b[1;33m\u001b[0m\u001b[1;33m\u001b[0m\u001b[0m\n",
      "\u001b[1;31mValueError\u001b[0m: invalid literal for int() with base 10: 'a'"
     ]
    }
   ],
   "source": [
    "from collections import deque\n",
    "\n",
    "dx = [0, 0, 1, -1]\n",
    "dy = [-1, 1, 0, 0]\n",
    "\n",
    "\n",
    "def BFS(graph):\n",
    "    queue = deque(start_point)\n",
    "    while queue:\n",
    "        x, y = queue.popleft()\n",
    "        visited[x][y] = True\n",
    "        for nx, ny in zip(dx, dy):\n",
    "            idx, idy = x + nx, y + ny\n",
    "            if 0 <= idx < M and 0 <= idy < N:\n",
    "                if graph[idx][idy] != -1 and graph[idx][idy]:\n",
    "                    graph[idx][idy] = graph[x][y] + 1\n",
    "                    queue.append((idx, idy))\n",
    "\n",
    "N, M = map(int, input().split())\n",
    "graph = [[0] * N for _ in range(M)]\n",
    "start_point = []\n",
    "\n",
    "for i in range(M):\n",
    "    graph[i] = list(map(int, input().split()))\n",
    "\n",
    "for i in range(M):\n",
    "    for j in range(N):\n",
    "        if graph[i][j] == 1:\n",
    "            start_point.append((i, j))\n",
    "BFS(graph)\n",
    "M, check = -2, True\n",
    "\n",
    "for i in graph:\n",
    "    if max(i) > M:\n",
    "        M = max(i)\n",
    "    if 0 in i:\n",
    "        check = False\n",
    "        break\n",
    "if check:\n",
    "    if M == -1:\n",
    "        print(0)\n",
    "    else:\n",
    "        print(M - 1)\n",
    "else:\n",
    "    print(-1)\n"
   ]
  },
  {
   "cell_type": "code",
   "execution_count": 7,
   "metadata": {},
   "outputs": [
    {
     "data": {
      "text/plain": [
       "[[1, 2, 3, 4], [3, 4]]"
      ]
     },
     "execution_count": 7,
     "metadata": {},
     "output_type": "execute_result"
    }
   ],
   "source": [
    "a= [[1,2],[3,4]] \n",
    "a[0] = [1,2,3,4]\n",
    "a"
   ]
  },
  {
   "cell_type": "code",
   "execution_count": 9,
   "metadata": {},
   "outputs": [
    {
     "data": {
      "text/plain": [
       "2"
      ]
     },
     "execution_count": 9,
     "metadata": {},
     "output_type": "execute_result"
    }
   ],
   "source": [
    "a = [1,2,3]\n",
    "a.index(3)\n"
   ]
  },
  {
   "cell_type": "markdown",
   "metadata": {},
   "source": [
    "## 다익스트라"
   ]
  },
  {
   "cell_type": "code",
   "execution_count": 3,
   "metadata": {},
   "outputs": [
    {
     "name": "stdout",
     "output_type": "stream",
     "text": [
      "1\n",
      "3 2 2\n",
      "2 1 5\n",
      "3 2 5\n",
      "2 5\n"
     ]
    }
   ],
   "source": [
    "from heapq import heappush, heappop\n",
    "\n",
    "INF = 1e9\n",
    "\n",
    "def dijkstra(graph,start):\n",
    "    distance = [INF] * (N+1)\n",
    "    distance[start], queue = 0, []\n",
    "    heappush(queue,[0,start])\n",
    "    while queue:\n",
    "        cost, pos = heappop(queue)\n",
    "        for p,c in graph[pos]:\n",
    "            c += cost\n",
    "            if distance[p] > c:\n",
    "                distance[p] = c\n",
    "                heappush(queue,[c,p])\n",
    "    return distance\n",
    "\n",
    "\n",
    "for _ in range(int(input())):\n",
    "    #N개 컴퓨터, D개 경로, C에서 출발\n",
    "    N,D,C = map(int,input().split())\n",
    "    graph = [[] for _ in range(N+1)]\n",
    "    for _ in range(D):\n",
    "        # B에서 A까지 S초 소요\n",
    "        A,B,S = map(int,input().split())\n",
    "        graph[B].append((A,S))\n",
    "    result = dijkstra(graph,C)\n",
    "    Max,count,answer = -1,0,[]\n",
    "    for i in range(len(result)):\n",
    "        if result[i] != INF:\n",
    "            count+=1\n",
    "            answer.append(result[i])\n",
    "    print(count,max(answer))"
   ]
  },
  {
   "cell_type": "code",
   "execution_count": 6,
   "metadata": {},
   "outputs": [
    {
     "name": "stdout",
     "output_type": "stream",
     "text": [
      "5\n",
      "8\n",
      "1 2 2\n",
      "1 3 3\n",
      "1 4 1\n",
      "1 5 10\n",
      "2 4 2\n",
      "3 4 1\n",
      "3 5 1\n",
      "4 5 3\n",
      "1 5\n",
      "4\n"
     ]
    }
   ],
   "source": [
    "from heapq import heappush, heappop\n",
    "\n",
    "INF = 1e9\n",
    "\n",
    "def dijkstra(graph,start):\n",
    "    distance = [INF]*(N+1)\n",
    "    distance[start],queue = 0,[]\n",
    "    heappush(queue,[0,start])\n",
    "    while queue:\n",
    "        cost,pos = heappop(queue)\n",
    "        for p,c in graph[pos]:\n",
    "            c+=cost\n",
    "            if distance[p] > c:\n",
    "                distance[p] = c\n",
    "                heappush(queue,[c,p])\n",
    "    return distance[finish]\n",
    "    \n",
    "\n",
    "\n",
    "N = int(input())\n",
    "M = int(input())\n",
    "graph = [[] for _ in range(N+1)]\n",
    "\n",
    "for _ in range(M):\n",
    "    S,E,C = map(int,input().split())\n",
    "    graph[S].append((E,C))\n",
    "    \n",
    "start,finish = map(int,input().split())\n",
    "print(dijkstra(graph,start))"
   ]
  },
  {
   "cell_type": "code",
   "execution_count": 7,
   "metadata": {},
   "outputs": [
    {
     "name": "stdout",
     "output_type": "stream",
     "text": [
      "0100\n"
     ]
    },
    {
     "data": {
      "text/plain": [
       "[0, 1, 0, 0]"
      ]
     },
     "execution_count": 7,
     "metadata": {},
     "output_type": "execute_result"
    }
   ],
   "source": [
    "a = list(map(int,str(input())))\n",
    "a"
   ]
  },
  {
   "cell_type": "code",
   "execution_count": 11,
   "metadata": {},
   "outputs": [],
   "source": [
    "queue = []\n",
    "heappush(queue,[0,(0,0)])\n",
    "heappush(queue,[1,(0,1)])"
   ]
  },
  {
   "cell_type": "code",
   "execution_count": 12,
   "metadata": {},
   "outputs": [
    {
     "data": {
      "text/plain": [
       "[[0, (0, 0)], [1, (0, 1)]]"
      ]
     },
     "execution_count": 12,
     "metadata": {},
     "output_type": "execute_result"
    }
   ],
   "source": [
    "queue"
   ]
  },
  {
   "cell_type": "code",
   "execution_count": 15,
   "metadata": {},
   "outputs": [],
   "source": [
    "if [1,2] == [1,3]:\n",
    "    print('yes')"
   ]
  },
  {
   "cell_type": "code",
   "execution_count": 17,
   "metadata": {},
   "outputs": [
    {
     "data": {
      "text/plain": [
       "[1, 2, 3]"
      ]
     },
     "execution_count": 17,
     "metadata": {},
     "output_type": "execute_result"
    }
   ],
   "source": []
  },
  {
   "cell_type": "code",
   "execution_count": null,
   "metadata": {},
   "outputs": [],
   "source": []
  },
  {
   "cell_type": "code",
   "execution_count": null,
   "metadata": {},
   "outputs": [],
   "source": []
  }
 ],
 "metadata": {
  "kernelspec": {
   "display_name": "Python 3",
   "language": "python",
   "name": "python3"
  },
  "language_info": {
   "codemirror_mode": {
    "name": "ipython",
    "version": 3
   },
   "file_extension": ".py",
   "mimetype": "text/x-python",
   "name": "python",
   "nbconvert_exporter": "python",
   "pygments_lexer": "ipython3",
   "version": "3.7.3"
  }
 },
 "nbformat": 4,
 "nbformat_minor": 2
}
