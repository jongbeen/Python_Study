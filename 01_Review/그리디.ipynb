{
 "cells": [
  {
   "cell_type": "markdown",
   "metadata": {},
   "source": [
    "### 거스름돈"
   ]
  },
  {
   "cell_type": "code",
   "execution_count": 6,
   "metadata": {},
   "outputs": [
    {
     "name": "stdout",
     "output_type": "stream",
     "text": [
      "380\n",
      "4\n"
     ]
    }
   ],
   "source": [
    "M = [500,100,50,10,5,1]\n",
    "pay = 1000 - int(input())\n",
    "i,cnt = 0,0\n",
    "while pay>0:\n",
    "    cnt = int(pay/M[i]) + cnt\n",
    "    pay = pay%M[i]\n",
    "    i+=1\n",
    "print(cnt)"
   ]
  },
  {
   "cell_type": "code",
   "execution_count": 7,
   "metadata": {},
   "outputs": [
    {
     "name": "stdout",
     "output_type": "stream",
     "text": [
      "380\n",
      "4\n"
     ]
    }
   ],
   "source": [
    "M = [500,100,50,10,5,1]\n",
    "\n",
    "pay = 1000 - int(input())\n",
    "coin = 0\n",
    "\n",
    "for i in M:\n",
    "    coin += pay //i\n",
    "    pay %=i\n",
    "print(coin)\n"
   ]
  },
  {
   "cell_type": "markdown",
   "metadata": {},
   "source": [
    "### 4564 숫자 카드 놀이"
   ]
  },
  {
   "cell_type": "code",
   "execution_count": 13,
   "metadata": {},
   "outputs": [
    {
     "name": "stdout",
     "output_type": "stream",
     "text": [
      "95\n",
      "396\n",
      "28\n",
      "4\n",
      "40\n",
      "0\n",
      "95 45 20 0 \n",
      "396 162 12 2 \n",
      "28 16 6 \n",
      "4 \n",
      "40 0 \n"
     ]
    }
   ],
   "source": [
    "Num = []\n",
    "while True:\n",
    "    num = int(input())\n",
    "    if num ==0:\n",
    "        break\n",
    "    Num.append(num)\n",
    "    \n",
    "Result = [[] for _ in range(len(Num))]\n",
    "for index in range(len(Num)):\n",
    "    num = Num[index]\n",
    "    Result[index].append(num)\n",
    "    while num >=10:\n",
    "        S,c = list(str(num)),1\n",
    "        for i in S:\n",
    "            c*=int(i)\n",
    "        num = c\n",
    "        Result[index].append(num)\n",
    "for lists in Result:\n",
    "    for element in lists:\n",
    "        print(element, end=' ')\n",
    "    print()"
   ]
  },
  {
   "cell_type": "markdown",
   "metadata": {},
   "source": [
    "### 1931 회의실 배정"
   ]
  },
  {
   "cell_type": "markdown",
   "metadata": {},
   "source": [
    "#### 내코드 - 안되는 이유: 중복을 해결하지 않음"
   ]
  },
  {
   "cell_type": "code",
   "execution_count": 12,
   "metadata": {
    "scrolled": true
   },
   "outputs": [
    {
     "name": "stdout",
     "output_type": "stream",
     "text": [
      "11\n",
      "1 4\n",
      "3 5\n",
      "0 6\n",
      "5 7\n",
      "3 8\n",
      "5 9\n",
      "6 10\n",
      "8 11\n",
      "8 12\n",
      "2 13\n",
      "12 14\n",
      "4\n"
     ]
    }
   ],
   "source": [
    "N = int(input())\n",
    "Case,Max = [],0\n",
    "check = []\n",
    "\n",
    "for _ in range(N):\n",
    "    s,e = list(map(int,input().split()))\n",
    "    if e>Max:\n",
    "        Max = e\n",
    "    Case.append((s,e,e-s))\n",
    "Case = sorted(Case, key=lambda data:data[2])\n",
    "\n",
    "check,count = [False] * (Max+1),0\n",
    "\n",
    "\n",
    "for cs in Case:\n",
    "    C = True\n",
    "    for i in range(cs[0],cs[1]):\n",
    "        if check[i]:\n",
    "            C = False\n",
    "            break\n",
    "    if C == True:\n",
    "        for i in range(cs[0],cs[1]):\n",
    "            check[i] = True\n",
    "        count+=1\n",
    "print(count)"
   ]
  },
  {
   "cell_type": "code",
   "execution_count": null,
   "metadata": {},
   "outputs": [],
   "source": [
    "N = int(input()) \n",
    "time = [[0]*2 for _ in range(N)] \n",
    "for i in range(N):\n",
    "    s, e = map(int, input().split()) \n",
    "    time[i][0] = s \n",
    "    time[i][1] = e \n",
    "time.sort(key = lambda x: (x[1], x[0])) \n",
    "## 제일 먼저 끝나는 순서로 정렬\n",
    "\n",
    "cnt = 1 \n",
    "end_time = time[0][1] \n",
    "## 몇시에 시작하는것 상관 없이 가장 먼저 끝나는것 \n",
    "## 다음으로 먼저 끝나는것 갯수 합산\n",
    "for i in range(1, N): \n",
    "    if time[i][0] >= end_time: \n",
    "        cnt += 1 \n",
    "        end_time = time[i][1] \n",
    "print(cnt)"
   ]
  },
  {
   "cell_type": "markdown",
   "metadata": {},
   "source": [
    "### B2217 로프"
   ]
  },
  {
   "cell_type": "markdown",
   "metadata": {},
   "source": [
    "#### w/n 개소리해서 무슨 말인가 헷갈렸는데 정리하자면\n",
    "> [10,6,1] 존재\n",
    "- 10을 올리면 [6,1]은 10을 못견딘다\n",
    "- 6을 올리면 [10,6]이 견디므로 12가 최대 중량\n",
    "- 1을 올리면 [10,6,1] 모두 견디지만 3이 최대 중량"
   ]
  },
  {
   "cell_type": "code",
   "execution_count": 8,
   "metadata": {},
   "outputs": [
    {
     "name": "stdout",
     "output_type": "stream",
     "text": [
      "3\n",
      "10\n",
      "6\n",
      "1\n",
      "12\n"
     ]
    }
   ],
   "source": [
    "N = int(input())\n",
    "Rope,result = [],[]\n",
    "\n",
    "for _ in range(N):\n",
    "    weight = int(input())\n",
    "    Rope.append(weight)\n",
    "Rope.sort(reverse = True)\n",
    "\n",
    "for i in range(len(Rope)):\n",
    "    max_w  = Rope[i] * (i+1)\n",
    "    result.append(max_w)\n",
    "print(max(result))\n",
    "    "
   ]
  },
  {
   "cell_type": "markdown",
   "metadata": {},
   "source": [
    "### B10310 30배수 만들기"
   ]
  },
  {
   "cell_type": "markdown",
   "metadata": {},
   "source": [
    "#### N이 10^^5승\n",
    "> 처음엔 조합을 통해 30으로 차례로 나눠가면서 Max를 찾으려 했음\n",
    "- 조합만들기가 더 어려움;\n",
    "- 조합으로 해도 시간복잡도 최대 120아닌가..? 문제 안될거 같은데\n",
    "\n",
    "> 그냥 3의 배수는 각 자리수 합하면 3의 배수란걸 일단 사용;\n",
    "- 그 정보를 활용해 큰 수 기준 내림차순 정렬\n",
    "- 하지만 조합만들기도 포기하지 않을것..."
   ]
  },
  {
   "cell_type": "code",
   "execution_count": 14,
   "metadata": {},
   "outputs": [
    {
     "name": "stdout",
     "output_type": "stream",
     "text": [
      "102\n",
      "210"
     ]
    }
   ],
   "source": [
    "N = input()\n",
    "\n",
    "if '0' not in N:\n",
    "    print(-1)\n",
    "else:\n",
    "    sum_n = 0\n",
    "    for i in N:\n",
    "        sum_n += int(i)\n",
    "    if sum_n % 3 !=0:\n",
    "        print(-1)\n",
    "    else:\n",
    "        for i in sorted(N, reverse = True):\n",
    "            print(i,end = '')"
   ]
  },
  {
   "cell_type": "markdown",
   "metadata": {},
   "source": [
    "### B1541 잃어버린 괄호"
   ]
  },
  {
   "cell_type": "markdown",
   "metadata": {},
   "source": [
    "#### '-' 문자를 기준으로 문자열을 나눠 계산\n",
    "> eval()함수 시도\n",
    "- '012'는 eval()함수에서 사용할 수 없어서 Runtime Error\n",
    "\n",
    "> '+'문자를 기준으로 한번 더 문자열을 나눴음"
   ]
  },
  {
   "cell_type": "code",
   "execution_count": 12,
   "metadata": {},
   "outputs": [
    {
     "name": "stdout",
     "output_type": "stream",
     "text": [
      "55-50+40\n",
      "-35\n"
     ]
    }
   ],
   "source": [
    "a = input()\n",
    "a = a.split('-')\n",
    "result,n= [],0\n",
    "for i in a:\n",
    "    num=0\n",
    "    ex = i.split('+')\n",
    "    for j in ex:\n",
    "        num += int(j)\n",
    "    result.append(num)\n",
    "n = result[0]\n",
    "for i in range(1,len(result)):\n",
    "    n-=result[i]\n",
    "print(n)    "
   ]
  },
  {
   "cell_type": "markdown",
   "metadata": {},
   "source": [
    "### B2875 대회 or 인턴"
   ]
  },
  {
   "cell_type": "markdown",
   "metadata": {},
   "source": [
    "#### 내코드 - 틀림 why?"
   ]
  },
  {
   "cell_type": "code",
   "execution_count": 22,
   "metadata": {},
   "outputs": [
    {
     "name": "stdout",
     "output_type": "stream",
     "text": [
      "3 6 5\n",
      "1\n"
     ]
    }
   ],
   "source": [
    "N,M,K = map(int,input().split())\n",
    "M2, spare, teams = M*2,0,0\n",
    "\n",
    "if N>=M2:\n",
    "    spare = N-M2\n",
    "    teams = M\n",
    "else:\n",
    "    spare = (M2-N)//2\n",
    "    teams = M-spare\n",
    "    \n",
    "while K>spare:\n",
    "    teams-=1\n",
    "    spare+=3\n",
    "print(teams)"
   ]
  },
  {
   "cell_type": "code",
   "execution_count": 24,
   "metadata": {},
   "outputs": [
    {
     "name": "stdout",
     "output_type": "stream",
     "text": [
      "6 3 2\n",
      "2\n"
     ]
    }
   ],
   "source": [
    "N,M,K = map(int,input().split())\n",
    "\n",
    "while K:\n",
    "    if N>=2*M:\n",
    "        N-=1\n",
    "    else:\n",
    "        M-=1\n",
    "    K-=1\n",
    "print(min(N//2,M))"
   ]
  },
  {
   "cell_type": "markdown",
   "metadata": {},
   "source": [
    "### B1120 문자열"
   ]
  },
  {
   "cell_type": "code",
   "execution_count": null,
   "metadata": {},
   "outputs": [],
   "source": [
    "adaabc\n",
    "aababbc"
   ]
  }
 ],
 "metadata": {
  "kernelspec": {
   "display_name": "Python 3",
   "language": "python",
   "name": "python3"
  },
  "language_info": {
   "codemirror_mode": {
    "name": "ipython",
    "version": 3
   },
   "file_extension": ".py",
   "mimetype": "text/x-python",
   "name": "python",
   "nbconvert_exporter": "python",
   "pygments_lexer": "ipython3",
   "version": "3.7.3"
  }
 },
 "nbformat": 4,
 "nbformat_minor": 2
}
