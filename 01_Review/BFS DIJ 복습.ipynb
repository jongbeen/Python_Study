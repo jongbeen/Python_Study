{
 "cells": [
  {
   "cell_type": "markdown",
   "metadata": {},
   "source": [
    "### 1697"
   ]
  },
  {
   "cell_type": "code",
   "execution_count": 2,
   "metadata": {},
   "outputs": [
    {
     "name": "stdout",
     "output_type": "stream",
     "text": [
      "5 17\n",
      "4\n"
     ]
    }
   ],
   "source": [
    "from collections import deque\n",
    "\n",
    "def BFS(N,K):\n",
    "    visited = [0] * 100001\n",
    "    queue = deque([(N,0)])\n",
    "    while queue:\n",
    "        N,count = queue.popleft()\n",
    "        if N == K:\n",
    "            return count\n",
    "        for x in (N-1,N+1,2*N):\n",
    "            if 0<=x<=100000 and not visited[x]:\n",
    "                visited[x] = 1\n",
    "                queue.append((x,count+1))\n",
    "    \n",
    "\n",
    "N, K = map(int,input().split())\n",
    "print(BFS(N,K))"
   ]
  },
  {
   "cell_type": "markdown",
   "metadata": {},
   "source": [
    "### 1735"
   ]
  },
  {
   "cell_type": "code",
   "execution_count": 4,
   "metadata": {},
   "outputs": [
    {
     "name": "stdout",
     "output_type": "stream",
     "text": [
      "Writing input1735.txt\n"
     ]
    }
   ],
   "source": [
    "%%writefile input1735.txt\n",
    "5 6\n",
    "1\n",
    "5 1 1\n",
    "1 2 2\n",
    "1 3 3\n",
    "2 3 4\n",
    "2 4 5\n",
    "3 4 6"
   ]
  },
  {
   "cell_type": "code",
   "execution_count": 10,
   "metadata": {},
   "outputs": [
    {
     "name": "stdout",
     "output_type": "stream",
     "text": [
      "5 6\n",
      "1\n",
      "5 1 1\n",
      "1 2 2\n",
      "1 3 3\n",
      "2 3 4\n",
      "2 4 5\n",
      "3 4 6\n",
      "INF\n",
      "0\n",
      "2\n",
      "3\n",
      "7\n",
      "INF\n"
     ]
    }
   ],
   "source": [
    "from heapq import heappush, heappop\n",
    "import sys\n",
    "sys.stdin = open('input1735.txt','r')\n",
    "\n",
    "INF = 1e9\n",
    "\n",
    "def dijkstra(graph,start):\n",
    "    queue,distance = [],[INF] * (V+1)\n",
    "    distance[start] = 0\n",
    "    heappush(queue,[0,start])\n",
    "    while queue:\n",
    "        cost,pos = heappop(queue)\n",
    "        for p,c in graph[pos]:\n",
    "            c += cost\n",
    "            if distance[p] > c:\n",
    "                distance[p] = c\n",
    "                heappush(queue,(c,p))\n",
    "    return distance\n",
    "\n",
    "\n",
    "V,E = map(int,input().split())\n",
    "Graph = [[] for _ in range(V+1)]\n",
    "K = int(input())\n",
    "for _ in range(E):\n",
    "    u,v,w = map(int,input().split())\n",
    "    Graph[u].append((v,w))\n",
    "answer = dijkstra(Graph,K)\n",
    "for index in range(1,len(answer)):\n",
    "    if answer[index] == INF:\n",
    "        print(\"INF\")\n",
    "    else:\n",
    "        print(answer[index])\n"
   ]
  },
  {
   "cell_type": "markdown",
   "metadata": {},
   "source": [
    "### 1261"
   ]
  },
  {
   "cell_type": "code",
   "execution_count": 25,
   "metadata": {},
   "outputs": [
    {
     "name": "stdout",
     "output_type": "stream",
     "text": [
      "4 2\n",
      "0001\n",
      "1000\n",
      "0\n"
     ]
    }
   ],
   "source": [
    "from heapq import heappush, heappop\n",
    "\n",
    "INF = 1e9\n",
    "directions = [(1,0),(0,1),(-1,0),(0,-1)]\n",
    "\n",
    "def dijkstra(graph,n,m):\n",
    "    distance = [[INF]*N for _ in range(M)]\n",
    "    distance[0][0] = 0\n",
    "    queue = []\n",
    "    heappush(queue,[0,0,0])\n",
    "    while queue:\n",
    "        w,x,y = heappop(queue)\n",
    "        if x == M-1 and y == N-1:\n",
    "            return w\n",
    "        for nx,ny in directions:\n",
    "            nx,ny = x+nx,y+ny\n",
    "            if 0<=nx<M and 0<=ny<N:\n",
    "                nw = w+graph[nx][ny]\n",
    "                if distance[nx][ny] > nw:\n",
    "                    distance[nx][ny] = w\n",
    "                    heappush(queue,[nw,nx,ny])\n",
    "\n",
    "\n",
    "N,M = map(int,input().split())\n",
    "Graph = []\n",
    "for _ in range(M):\n",
    "    Graph.append(list(map(int,input())))\n",
    "print(dijkstra(Graph,N,M))\n"
   ]
  },
  {
   "cell_type": "code",
   "execution_count": null,
   "metadata": {},
   "outputs": [],
   "source": []
  },
  {
   "cell_type": "code",
   "execution_count": null,
   "metadata": {},
   "outputs": [],
   "source": []
  },
  {
   "cell_type": "code",
   "execution_count": null,
   "metadata": {},
   "outputs": [],
   "source": []
  },
  {
   "cell_type": "code",
   "execution_count": null,
   "metadata": {},
   "outputs": [],
   "source": []
  },
  {
   "cell_type": "code",
   "execution_count": null,
   "metadata": {},
   "outputs": [],
   "source": []
  },
  {
   "cell_type": "code",
   "execution_count": null,
   "metadata": {},
   "outputs": [],
   "source": []
  },
  {
   "cell_type": "code",
   "execution_count": null,
   "metadata": {},
   "outputs": [],
   "source": []
  },
  {
   "cell_type": "code",
   "execution_count": null,
   "metadata": {},
   "outputs": [],
   "source": []
  },
  {
   "cell_type": "code",
   "execution_count": null,
   "metadata": {},
   "outputs": [],
   "source": []
  },
  {
   "cell_type": "code",
   "execution_count": null,
   "metadata": {},
   "outputs": [],
   "source": []
  }
 ],
 "metadata": {
  "kernelspec": {
   "display_name": "Python 3",
   "language": "python",
   "name": "python3"
  },
  "language_info": {
   "codemirror_mode": {
    "name": "ipython",
    "version": 3
   },
   "file_extension": ".py",
   "mimetype": "text/x-python",
   "name": "python",
   "nbconvert_exporter": "python",
   "pygments_lexer": "ipython3",
   "version": "3.7.3"
  }
 },
 "nbformat": 4,
 "nbformat_minor": 2
}
