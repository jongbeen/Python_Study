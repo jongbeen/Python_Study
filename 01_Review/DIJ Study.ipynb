{
 "cells": [
  {
   "cell_type": "markdown",
   "metadata": {},
   "source": [
    "### B10282 해킹"
   ]
  },
  {
   "cell_type": "code",
   "execution_count": null,
   "metadata": {},
   "outputs": [],
   "source": [
    "from heapq import heappush, heappop\n",
    "\n",
    "INF = 1e9\n",
    "\n",
    "def dijkstra(start):\n",
    "    distance = [INF]*(N+1)\n",
    "    queue, distance[start] = [], 0\n",
    "    heappush(queue,[0,start])\n",
    "    while queue:\n",
    "        cost,pos = heappop(queue)\n",
    "        for p,c in graph[pos]:\n",
    "            c += cost\n",
    "            if distance[p] > c:\n",
    "                distance[p] = c\n",
    "                heappush(queue,[c,p])\n",
    "    return distance\n",
    "\n",
    "Answer = []\n",
    "for _ in range(int(T)):\n",
    "    N,D,C = map(int,input().split())\n",
    "    Graph = [[] for _ in range(N+1)]\n",
    "    for _ in range(D):\n",
    "        a,b,s = map(int,input().split())\n",
    "        Graph[b].append((a,s))\n",
    "    result = dijkstra(C)\n",
    "    Max,count = -1,0\n",
    "    for data in result:\n",
    "        if data != INF and data>Max:\n",
    "            Max = data\n",
    "            count +=1\n",
    "    print(count,Max)"
   ]
  },
  {
   "cell_type": "markdown",
   "metadata": {},
   "source": [
    "### B5719거의 최단경로"
   ]
  },
  {
   "cell_type": "code",
   "execution_count": null,
   "metadata": {},
   "outputs": [],
   "source": [
    "from heapq import heappush, heappop\n",
    "i\n",
    "\n",
    "\n",
    "\n",
    "\n",
    "while True:\n",
    "    N,M = map(int,input().split())\n",
    "    if N ==0:\n",
    "        break\n",
    "    start,end = map(int,input().split())\n",
    "    adj = [[] for _ in range(N+1)]\n",
    "    reverse_adj = [[] for _ in range(N+1)]\n",
    "    for _ in range(M):\n",
    "        x,y,cost = map(int,input().split())\n",
    "        adj[x].append((y,cost))\n",
    "    dropped = [[False]*(N+1) for _ in range(M+1)]\n",
    "    distance = [INF] * (N+1)\n",
    "    dijkstra(adj,start)\n",
    "    distance = [INF] * (N+1)\n",
    "    dijkstra(adj,start)\n",
    "    if distance[end] != INF:\n",
    "        print(distance[end])\n",
    "    else:\n",
    "        print(-1)"
   ]
  }
 ],
 "metadata": {
  "kernelspec": {
   "display_name": "Python 3",
   "language": "python",
   "name": "python3"
  },
  "language_info": {
   "codemirror_mode": {
    "name": "ipython",
    "version": 3
   },
   "file_extension": ".py",
   "mimetype": "text/x-python",
   "name": "python",
   "nbconvert_exporter": "python",
   "pygments_lexer": "ipython3",
   "version": "3.7.3"
  }
 },
 "nbformat": 4,
 "nbformat_minor": 2
}
