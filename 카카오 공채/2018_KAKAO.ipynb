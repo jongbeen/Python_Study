{
 "cells": [
  {
   "cell_type": "markdown",
   "metadata": {},
   "source": [
    "## 1. 비밀지도"
   ]
  },
  {
   "cell_type": "markdown",
   "metadata": {},
   "source": [
    "### 문자열, 2진수변환 등 라이브러리 필수\n"
   ]
  },
  {
   "cell_type": "code",
   "execution_count": 1,
   "metadata": {},
   "outputs": [],
   "source": [
    "def solution(n, arr1, arr2):\n",
    "    answer = []\n",
    "    for i in range(n):\n",
    "        result = str(bin(arr1[i] | arr2[i]))\n",
    "        result = result[2:]\n",
    "        text = ''\n",
    "        if len(result) < n:\n",
    "            for _ in range(n-len(result)):\n",
    "                text += '0'\n",
    "            for t in result:\n",
    "                text += str(t)\n",
    "            answer.append(text)\n",
    "        else:\n",
    "            answer.append(result)\n",
    "        answer[i] = answer[i].replace('1','#')\n",
    "        answer[i] = answer[i].replace('0',' ')\n",
    "            \n",
    "    return answer"
   ]
  },
  {
   "cell_type": "markdown",
   "metadata": {},
   "source": [
    "## 2. 다트경력"
   ]
  },
  {
   "cell_type": "markdown",
   "metadata": {},
   "source": [
    "### isnumeric()메소드를 아느냐가 관건이였음..."
   ]
  },
  {
   "cell_type": "markdown",
   "metadata": {},
   "source": [
    "### [내 답] , 93/100 오답"
   ]
  },
  {
   "cell_type": "code",
   "execution_count": null,
   "metadata": {},
   "outputs": [],
   "source": [
    "def solution(dartResult):\n",
    "    answer = []\n",
    "    dr = dartResult\n",
    "    check = False\n",
    "    for index in range(len(dartResult)):\n",
    "        if '0' <=dr[index]<='9':\n",
    "            if dr[index-1] == '0':\n",
    "                temp = 10\n",
    "            else:\n",
    "                temp = int(dr[index])\n",
    "            \n",
    "        if dr[index] == 'S':\n",
    "            temp = temp**1\n",
    "            answer.append(temp)\n",
    "        elif dr[index] == 'D':\n",
    "            temp = temp**2\n",
    "            answer.append(temp)\n",
    "        elif dr[index] == 'T':\n",
    "            temp = temp**3\n",
    "            answer.append(temp)\n",
    "        \n",
    "        if dr[index] == '*':\n",
    "            if len(answer) < 2:\n",
    "                temp = answer.pop()\n",
    "                temp*=2\n",
    "                answer.append(temp)\n",
    "            else:\n",
    "                temp1 = answer.pop()\n",
    "                temp2 = answer.pop()\n",
    "                temp1 *=2\n",
    "                temp2 *=2\n",
    "                answer.append(temp1)\n",
    "                answer.append(temp2)\n",
    "        if dr[index] == '#':\n",
    "            temp = answer.pop()\n",
    "            temp *= -1\n",
    "            answer.append(temp)\n",
    "    \n",
    "    return sum(answer)"
   ]
  },
  {
   "cell_type": "markdown",
   "metadata": {},
   "source": [
    "#### isnumeric()\n",
    "- 문자열이 숫자면 True, 아니면 False"
   ]
  },
  {
   "cell_type": "code",
   "execution_count": null,
   "metadata": {},
   "outputs": [],
   "source": [
    "def solution(dartResult):\n",
    "    score = []\n",
    "    n = ''\n",
    "    for i in dartResult:\n",
    "        if i.isnumeric():\n",
    "            n += i\n",
    "        elif i == 'S':\n",
    "            score.append(int(n) ** 1)\n",
    "            n = ''\n",
    "        elif i == 'D':\n",
    "            score.append(int(n) ** 2)\n",
    "            n = ''\n",
    "        elif i == 'T':\n",
    "            score.append(int(n) ** 3)\n",
    "            n = ''\n",
    "        elif i == '*':\n",
    "            if len(score) > 1:\n",
    "                score[-2] *= 2\n",
    "            score[-1] *= 2\n",
    "        elif i == '#':\n",
    "            score[-1] *= -1\n",
    "    return sum(score)"
   ]
  }
 ],
 "metadata": {
  "kernelspec": {
   "display_name": "Python 3",
   "language": "python",
   "name": "python3"
  },
  "language_info": {
   "codemirror_mode": {
    "name": "ipython",
    "version": 3
   },
   "file_extension": ".py",
   "mimetype": "text/x-python",
   "name": "python",
   "nbconvert_exporter": "python",
   "pygments_lexer": "ipython3",
   "version": "3.7.3"
  }
 },
 "nbformat": 4,
 "nbformat_minor": 2
}
