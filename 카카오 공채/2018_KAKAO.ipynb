{
 "cells": [
  {
   "cell_type": "markdown",
   "metadata": {},
   "source": [
    "## 1. 비밀지도"
   ]
  },
  {
   "cell_type": "markdown",
   "metadata": {},
   "source": [
    "### 문자열, 2진수변환 등 라이브러리 필수\n"
   ]
  },
  {
   "cell_type": "code",
   "execution_count": 1,
   "metadata": {},
   "outputs": [],
   "source": [
    "def solution(n, arr1, arr2):\n",
    "    answer = []\n",
    "    for i in range(n):\n",
    "        result = str(bin(arr1[i] | arr2[i]))\n",
    "        result = result[2:]\n",
    "        text = ''\n",
    "        if len(result) < n:\n",
    "            for _ in range(n-len(result)):\n",
    "                text += '0'\n",
    "            for t in result:\n",
    "                text += str(t)\n",
    "            answer.append(text)\n",
    "        else:\n",
    "            answer.append(result)\n",
    "        answer[i] = answer[i].replace('1','#')\n",
    "        answer[i] = answer[i].replace('0',' ')\n",
    "            \n",
    "    return answer"
   ]
  },
  {
   "cell_type": "markdown",
   "metadata": {},
   "source": [
    "## 2. 다트경력"
   ]
  },
  {
   "cell_type": "markdown",
   "metadata": {},
   "source": [
    "### isnumeric()메소드를 아느냐가 관건이였음..."
   ]
  },
  {
   "cell_type": "markdown",
   "metadata": {},
   "source": [
    "### [내 답] , 93/100 오답"
   ]
  },
  {
   "cell_type": "code",
   "execution_count": null,
   "metadata": {},
   "outputs": [],
   "source": [
    "def solution(dartResult):\n",
    "    answer = []\n",
    "    dr = dartResult\n",
    "    check = False\n",
    "    for index in range(len(dartResult)):\n",
    "        if '0' <=dr[index]<='9':\n",
    "            if dr[index-1] == '0':\n",
    "                temp = 10\n",
    "            else:\n",
    "                temp = int(dr[index])\n",
    "            \n",
    "        if dr[index] == 'S':\n",
    "            temp = temp**1\n",
    "            answer.append(temp)\n",
    "        elif dr[index] == 'D':\n",
    "            temp = temp**2\n",
    "            answer.append(temp)\n",
    "        elif dr[index] == 'T':\n",
    "            temp = temp**3\n",
    "            answer.append(temp)\n",
    "        \n",
    "        if dr[index] == '*':\n",
    "            if len(answer) < 2:\n",
    "                temp = answer.pop()\n",
    "                temp*=2\n",
    "                answer.append(temp)\n",
    "            else:\n",
    "                temp1 = answer.pop()\n",
    "                temp2 = answer.pop()\n",
    "                temp1 *=2\n",
    "                temp2 *=2\n",
    "                answer.append(temp1)\n",
    "                answer.append(temp2)\n",
    "        if dr[index] == '#':\n",
    "            temp = answer.pop()\n",
    "            temp *= -1\n",
    "            answer.append(temp)\n",
    "    \n",
    "    return sum(answer)"
   ]
  },
  {
   "cell_type": "markdown",
   "metadata": {},
   "source": [
    "#### isnumeric()\n",
    "- 문자열이 숫자면 True, 아니면 False"
   ]
  },
  {
   "cell_type": "code",
   "execution_count": null,
   "metadata": {},
   "outputs": [],
   "source": [
    "def solution(dartResult):\n",
    "    score = []\n",
    "    n = ''\n",
    "    for i in dartResult:\n",
    "        if i.isnumeric():\n",
    "            n += i\n",
    "        elif i == 'S':\n",
    "            score.append(int(n) ** 1)\n",
    "            n = ''\n",
    "        elif i == 'D':\n",
    "            score.append(int(n) ** 2)\n",
    "            n = ''\n",
    "        elif i == 'T':\n",
    "            score.append(int(n) ** 3)\n",
    "            n = ''\n",
    "        elif i == '*':\n",
    "            if len(score) > 1:\n",
    "                score[-2] *= 2\n",
    "            score[-1] *= 2\n",
    "        elif i == '#':\n",
    "            score[-1] *= -1\n",
    "    return sum(score)"
   ]
  },
  {
   "cell_type": "markdown",
   "metadata": {},
   "source": [
    "### 프렌즈 4블록"
   ]
  },
  {
   "cell_type": "code",
   "execution_count": 19,
   "metadata": {},
   "outputs": [],
   "source": [
    "dx = [0,1,0,1]\n",
    "dy = [0,0,1,1]\n",
    "\n",
    "def safe(width,height,c_idx,r_idx):\n",
    "    for x,y in zip(dx,dy):\n",
    "        if width-1<x+c_idx or x+c_idx<0 or height-1<y+r_idx or y+r_idx<0:\n",
    "        #정사각형 범위 밖이면 False, 정사각형 범위 안이면 True\n",
    "            return False\n",
    "    return True\n",
    "\n",
    "def del_check(board,c_idx,r_idx):\n",
    "    square_set = set()\n",
    "    for x,y in zip(dx,dy):\n",
    "        square_set.add(board[y+r_idx][x+c_idx])\n",
    "    if len(square_set) == 1 and square_set != {\" \"}:\n",
    "    # set은 같은것은 제거함, 같은 것만 들어와서 전체 길이가 1인경우\n",
    "    # 또한 ' '으로 replace한것 역시 무시\n",
    "        return True\n",
    "    return False\n",
    "\n",
    "def del_block(board,c_idx,r_idx):\n",
    "    for x,y in zip(dx,dy):\n",
    "        board[y+r_idx][x+c_idx]=\"\"\n",
    "    return board\n",
    "\n",
    "def drop_block(width,height,board):\n",
    "    for x_idx in range(width):\n",
    "        tmp_lst = []\n",
    "        for y_idx in range(height):\n",
    "            tmp_lst.append(board[y_idx][x_idx])\n",
    "        col_str = \"\".join(tmp_lst)\n",
    "        col_str = (height-len(col_str))*\" \"+col_str\n",
    "        # 비는 만큼 \" \"(공백)을 위에 두고 내용(col_str)추가\n",
    "        for y_idx in range(height):\n",
    "            board[y_idx][x_idx] = col_str[y_idx]\n",
    "    return board\n",
    "def total_del_block(board):\n",
    "    total = 0\n",
    "    for row in board:\n",
    "        for block in row:\n",
    "            if block == ' ':\n",
    "                total+=1\n",
    "    return total\n",
    "\n",
    "def solution(height, width, board):\n",
    "    board = [[block for block in row] for row in board]\n",
    "    while True:\n",
    "        del_lst = []\n",
    "        for r_idx in range(height):\n",
    "            for c_idx in range(width):\n",
    "                if safe(width,height,c_idx,r_idx):\n",
    "                    if del_check(board,c_idx,r_idx):\n",
    "                        del_lst.append([c_idx,r_idx])\n",
    "        if len(del_lst) == 0:\n",
    "            break\n",
    "        for del_pos in del_lst:\n",
    "            board = del_block(board, del_pos[0],del_pos[1])\n",
    "        board = drop_block(width, height, board)\n",
    "    return total_del_block(board)"
   ]
  },
  {
   "cell_type": "code",
   "execution_count": 20,
   "metadata": {},
   "outputs": [
    {
     "name": "stdout",
     "output_type": "stream",
     "text": [
      "15\n"
     ]
    }
   ],
   "source": [
    "B = [\"TTTANT\",\"RRFACC\",\"RRRFCC\",\"TRRRAA\",\"TTMMMF\",\"TMMTTJ\"]\n",
    "print(solution(6,6,B))  "
   ]
  },
  {
   "cell_type": "code",
   "execution_count": 26,
   "metadata": {},
   "outputs": [],
   "source": [
    "dx = [0,0,1,1]\n",
    "dy = [0,1,0,1]\n",
    "\n",
    "def safe(c_idx,r_idx,height,width,board):\n",
    "    for x,y in zip(dx,dy):\n",
    "        if c_idx+x <0 or c_idx+x>width-1 or r_idx+y<0 or r_idx+y>height-1:\n",
    "            return False\n",
    "    return True\n",
    "\n",
    "def del_check(c_idx,r_idx,board):\n",
    "    square_set = set()\n",
    "    for x,y in zip(dx,dy):\n",
    "        square_set.add(board[r_idx+y][c_idx+x])\n",
    "    if len(square_set) == 1 and square_set != {\" \"}:\n",
    "        return True\n",
    "    return False\n",
    "\n",
    "def del_block(c_idx,r_idx,board):\n",
    "    for x,y in zip(dx,dy):\n",
    "        board[r_idx+y][c_idx+x] = \"\"\n",
    "    return board\n",
    "def drop_block(width,height,board):\n",
    "    for c_idx in range(width):\n",
    "        tmp_lst = []\n",
    "        for r_idx in range(height):\n",
    "            tmp_lst.append(board[r_idx][c_idx])\n",
    "        col_str = \"\".join(tmp_lst)\n",
    "        col_str = (height-len(col_str))*' '+col_str\n",
    "        for r_idx in range(height):\n",
    "            board[r_idx][c_idx] = col_str[r_idx]\n",
    "    return board\n",
    "\n",
    "def total_del_block(board):\n",
    "    total = 0\n",
    "    for row in board:\n",
    "        for block in row:\n",
    "            if block == ' ':\n",
    "                total+=1\n",
    "    return total\n",
    "\n",
    "\n",
    "def solution (height,width,board):\n",
    "    board = [[block for block in row] for row in board]\n",
    "    while True:\n",
    "        del_lst = []\n",
    "        for r_idx in range(height):\n",
    "            for c_idx in range(width):\n",
    "                if safe(c_idx,r_idx,height,width,board):\n",
    "                    if del_check(c_idx,r_idx,board):\n",
    "                        del_lst.append([c_idx,r_idx])\n",
    "        if len(del_lst) == 0:\n",
    "            break\n",
    "        for del_pos in del_lst:\n",
    "            board = del_block(del_pos[0],del_pos[1],board)\n",
    "        board = drop_block(width,height,board)\n",
    "    return total_del_block(board)"
   ]
  },
  {
   "cell_type": "code",
   "execution_count": 27,
   "metadata": {},
   "outputs": [
    {
     "name": "stdout",
     "output_type": "stream",
     "text": [
      "15\n"
     ]
    }
   ],
   "source": [
    "B = [\"TTTANT\",\"RRFACC\",\"RRRFCC\",\"TRRRAA\",\"TTMMMF\",\"TMMTTJ\"]\n",
    "print(solution(6,6,B))  "
   ]
  },
  {
   "cell_type": "markdown",
   "metadata": {},
   "source": [
    "### 뉴스 클러스터링"
   ]
  },
  {
   "cell_type": "markdown",
   "metadata": {},
   "source": [
    "#### [내 답] - 리스트의 +연산과 checked를 활용해 구현\n",
    "> 비효율적"
   ]
  },
  {
   "cell_type": "code",
   "execution_count": null,
   "metadata": {},
   "outputs": [],
   "source": [
    "def check(str,i):\n",
    "    if str[i] <'a' or str[i] >'z':\n",
    "        return False\n",
    "    if str[i+1] < 'a' or str[i+1] > 'z':\n",
    "        return False\n",
    "    return True\n",
    "\n",
    "def Inter(s1_list,s2_list):\n",
    "    inter = []\n",
    "    s1_check = [False]*len(s1_list)\n",
    "    s2_check = [False]*len(s2_list)\n",
    "    for i in range(len(s1_list)):\n",
    "        for j in range(len(s2_list)):\n",
    "            if s1_list[i] == s2_list[j] and not s2_check[j]:\n",
    "                s2_check[j] = True\n",
    "                inter.append(s2_list[j])\n",
    "                break\n",
    "    return inter\n",
    "\n",
    "\n",
    "def Union(s1_list,s2_list,inter):\n",
    "    union = []\n",
    "    union = s1_list + s2_list\n",
    "    for i in inter:\n",
    "        union.remove(i)\n",
    "    return union\n",
    "\n",
    "\n",
    "def solution(str1, str2):\n",
    "    str1 = str1.lower()\n",
    "    str2 = str2.lower()\n",
    "    s1_list,s2_list = [],[]\n",
    "    for i in range(len(str1)-1):\n",
    "        if check(str1,i):\n",
    "            s1_list.append(str1[i]+str1[i+1])\n",
    "    for i in range(len(str2)-1):\n",
    "        if check(str2,i):\n",
    "            s2_list.append(str2[i]+str2[i+1])\n",
    "    inter = Inter(s1_list,s2_list)\n",
    "    union = Union(s1_list,s2_list,inter)\n",
    "    Ilen = len(inter)\n",
    "    Ulen = len(union)\n",
    "    if Ulen == 0 :\n",
    "        return 65536\n",
    "    return int((Ilen/Ulen)*65536)\n",
    "\n",
    "\n",
    "print(solution('FRANCE','french'))\n",
    "print(solution('handshake','shake hands'))\n",
    "print(solution('aa1+aa2','AAAA12'))\n",
    "print(solution('E=M*C^2','e=m*c^2'))"
   ]
  },
  {
   "cell_type": "markdown",
   "metadata": {},
   "source": [
    "#### [다른사람의 풀이]\n",
    "> 라이브러리를 활용한 효율적 풀이"
   ]
  },
  {
   "cell_type": "code",
   "execution_count": 1,
   "metadata": {},
   "outputs": [],
   "source": [
    "import re\n",
    "from collections import Counter\n",
    "\n",
    "pattern = re.compile('[a-z][a-z]')\n",
    "def processing(content):\n",
    "    result = []\n",
    "    for i in range(0,len(content)-1):\n",
    "        two_letter = content[i+i+2]\n",
    "        if pattern.search(two_letter):\n",
    "            result.append(two_letter)\n",
    "    print(result)\n",
    "    return result\n",
    "\n",
    "def solution(str1,str2):\n",
    "    str1 = str1.lower()\n",
    "    str2 = str2.lower()\n",
    "    \n",
    "    if str1 == str2:\n",
    "        return 65536\n",
    "    str1 = processing(str1)\n",
    "    str2 = processing(str2)\n",
    "    \n",
    "    counter_1 = Counter(str1)\n",
    "    counter_2 = Counter(str2)\n",
    "    \n",
    "    intersections = counter_1 & counter_2\n",
    "    intersections = sum(list(intersections.values()))\n",
    "    \n",
    "    unions = counter_1 | counter_2\n",
    "    unions = sum(list(unions.values()))\n",
    "    \n",
    "    return int(intersections/unions * 65536)"
   ]
  },
  {
   "cell_type": "code",
   "execution_count": null,
   "metadata": {},
   "outputs": [],
   "source": []
  },
  {
   "cell_type": "code",
   "execution_count": null,
   "metadata": {},
   "outputs": [],
   "source": []
  },
  {
   "cell_type": "code",
   "execution_count": null,
   "metadata": {},
   "outputs": [],
   "source": []
  },
  {
   "cell_type": "code",
   "execution_count": null,
   "metadata": {},
   "outputs": [],
   "source": []
  },
  {
   "cell_type": "code",
   "execution_count": null,
   "metadata": {},
   "outputs": [],
   "source": []
  },
  {
   "cell_type": "code",
   "execution_count": null,
   "metadata": {},
   "outputs": [],
   "source": []
  }
 ],
 "metadata": {
  "kernelspec": {
   "display_name": "Python 3",
   "language": "python",
   "name": "python3"
  },
  "language_info": {
   "codemirror_mode": {
    "name": "ipython",
    "version": 3
   },
   "file_extension": ".py",
   "mimetype": "text/x-python",
   "name": "python",
   "nbconvert_exporter": "python",
   "pygments_lexer": "ipython3",
   "version": "3.7.3"
  }
 },
 "nbformat": 4,
 "nbformat_minor": 2
}
