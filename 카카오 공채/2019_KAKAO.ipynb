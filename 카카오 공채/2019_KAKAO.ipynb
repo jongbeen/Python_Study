{
 "cells": [
  {
   "cell_type": "markdown",
   "metadata": {},
   "source": [
    "## 2019 카카오 공채"
   ]
  },
  {
   "cell_type": "markdown",
   "metadata": {},
   "source": [
    "### 01. 오픈채팅방"
   ]
  },
  {
   "cell_type": "code",
   "execution_count": 1,
   "metadata": {},
   "outputs": [],
   "source": [
    "record = [\"Enter uid1234 Muzi\",\n",
    "          \"Enter uid4567 Prodo\",\n",
    "          \"Leave uid1234\",\n",
    "          \"Enter uid1234 Prodo\",\n",
    "          \"Change uid4567 Ryan\"]\n",
    "\n",
    "def solution(record):\n",
    "    answer = []\n",
    "    Nick_ID = dict()\n",
    "    result = []\n",
    "    for text in record:\n",
    "        output = text.split()\n",
    "        result.append( (output[0],output[1]) )\n",
    "        if output[0] == \"Enter\":\n",
    "            Nick_ID[output[1]] = output[2]\n",
    "        if output[0] == \"Change\":\n",
    "            Nick_ID[output[1]] = output[2]\n",
    "    for text,ID in result:\n",
    "        if text == \"Enter\":\n",
    "            answer.append(\"%s님이 들어왔습니다.\" %Nick_ID[ID])\n",
    "        if text == \"Leave\":\n",
    "            answer.append(\"%s님이 나갔습니다.\" %Nick_ID[ID])\n",
    "    return answer"
   ]
  },
  {
   "cell_type": "markdown",
   "metadata": {},
   "source": [
    "### 02. 실패율"
   ]
  },
  {
   "cell_type": "markdown",
   "metadata": {},
   "source": [
    "> (1) 내가 푼답\n",
    "- 65점, 틀렷음\n",
    "- 2중 for문 때문에 시간초과 발생\n",
    "\n",
    "> (2) 내가 푼 답\n",
    "- 70점, 틀렸음\n",
    "- 시간 초과는 발생하지 않지만 런타임에러 발생"
   ]
  },
  {
   "cell_type": "code",
   "execution_count": 35,
   "metadata": {},
   "outputs": [
    {
     "data": {
      "text/plain": [
       "[4, 1, 2, 3]"
      ]
     },
     "execution_count": 35,
     "metadata": {},
     "output_type": "execute_result"
    }
   ],
   "source": [
    "#Stage = [2,1,2,6,2,4,3,3]\n",
    "Stage = [4,4,4,4,4]\n",
    "\n",
    "def solution(N,stages):\n",
    "    answer=[]\n",
    "    trying = [1] * (N+1)\n",
    "    current = [0] * (N+1)\n",
    "    fail = [0] * N\n",
    "    for i in range(N):\n",
    "        for j in range(len(stages)):\n",
    "            if stages[j] == N+1:\n",
    "                continue\n",
    "            if stages[j] == i+1:\n",
    "                current[i+1] +=1\n",
    "            if stages[j] >= i+1:\n",
    "                trying[i+1] += 1\n",
    "    for i in range(1,N+1):\n",
    "        if current[i] == 0:\n",
    "            fail[i-1] = (0,i)\n",
    "        else:\n",
    "            fail[i-1] = (current[i]/trying[i],i)\n",
    "    fail = sorted(fail,reverse=True, key=lambda data:data[0])\n",
    "    \n",
    "    for i in range(len(fail)):\n",
    "        answer.append(fail[i][1])\n",
    "    \n",
    "    return answer\n",
    "test = solution(4,Stage)\n",
    "test\n"
   ]
  },
  {
   "cell_type": "code",
   "execution_count": 36,
   "metadata": {},
   "outputs": [
    {
     "name": "stdout",
     "output_type": "stream",
     "text": [
      "[4, 1, 2, 3]\n"
     ]
    }
   ],
   "source": [
    "def solution(N,stages):\n",
    "    answer = []\n",
    "    result = []\n",
    "    fail = [(0,0)]*(N+1)\n",
    "    dp = [0]*(N+2)\n",
    "    for i in range(len(stages)):\n",
    "        dp[stages[i]] += 1\n",
    "    num = len(stages)\n",
    "    for i in range(1,N+1):\n",
    "        if i==N and dp[i]==0 and dp[i+1]!=0:\n",
    "            fail[i] = (0, i)\n",
    "            break\n",
    "        fail[i] = (dp[i]/num, i)\n",
    "        num-=dp[i]\n",
    "    for i in range(1,len(fail)):\n",
    "        result.append(fail[i])\n",
    "    result = sorted(result,reverse=True, key=lambda data:data[0])\n",
    "    for i in range(len(result)):\n",
    "        answer.append(result[i][1])\n",
    "    return answer\n",
    "\n",
    "Stage = [2,1,2,6,2,4,3,3]\n",
    "#Stage = [4,4,4,4,4]\n",
    "N = 4\n",
    "test = solution(N,Stage)\n",
    "print(test)"
   ]
  },
  {
   "cell_type": "code",
   "execution_count": 40,
   "metadata": {},
   "outputs": [],
   "source": [
    "def solution(N,stages):\n",
    "    result = {}\n",
    "    denominator = len(stages)\n",
    "    for stage in range(1,N+1):\n",
    "        if denominator !=0:\n",
    "            count = stages.count(stage)\n",
    "            result[stage] = count/denominator\n",
    "            denominator -= count\n",
    "        else:\n",
    "            result[stage] = 0\n",
    "    return sorted(result, key=lambda x:result[x], reverse=True)"
   ]
  },
  {
   "cell_type": "code",
   "execution_count": 42,
   "metadata": {},
   "outputs": [
    {
     "name": "stdout",
     "output_type": "stream",
     "text": [
      "[3, 4, 2, 1, 5]\n"
     ]
    }
   ],
   "source": [
    "Stage = [2,1,2,6,2,4,3,3]\n",
    "#Stage = [4,4,4,4,4]\n",
    "N = 5\n",
    "test = solution(N,Stage)\n",
    "print(test)"
   ]
  },
  {
   "cell_type": "markdown",
   "metadata": {},
   "source": [
    "### 03. 무지의 먹방라이브"
   ]
  },
  {
   "cell_type": "code",
   "execution_count": null,
   "metadata": {},
   "outputs": [],
   "source": [
    "def solution(food_times,k):\n",
    "    \n",
    "    Time = [0]*len(food_times)\n",
    "    data = food_times.index(min(food_times))\n",
    "    Time[data] = (food_times[data]-1)*len(food_times) + food_times[data]\n",
    "    \n",
    "    \n",
    "    \n",
    "    answer = 0\n",
    "    return answer\n"
   ]
  },
  {
   "cell_type": "code",
   "execution_count": 44,
   "metadata": {},
   "outputs": [
    {
     "data": {
      "text/plain": [
       "4"
      ]
     },
     "execution_count": 44,
     "metadata": {},
     "output_type": "execute_result"
    }
   ],
   "source": [
    "a = [1,2,3,4,5]\n",
    "a.index(max(a))"
   ]
  },
  {
   "cell_type": "code",
   "execution_count": 47,
   "metadata": {},
   "outputs": [
    {
     "name": "stdout",
     "output_type": "stream",
     "text": [
      "1\n"
     ]
    }
   ],
   "source": [
    "from queue import PriorityQueue\n",
    "\n",
    "def solution(food_times,k):\n",
    "    if sum(food_times) <=k:\n",
    "        return -1\n",
    "    \n",
    "    answner=0\n",
    "    \n",
    "    q = PriorityQueue()\n",
    "    for i in range(len(food_times)):\n",
    "        q.put((food_times[i],i+1))\n",
    "    sum_value = 0\n",
    "    previous = 0\n",
    "    length = len(food_times)\n",
    "    \n",
    "    while sum_value + ((q.queue[0][0]-previous) * length)<=k:\n",
    "        now = q.get()[0]\n",
    "        sum_value += (now-previous) * length\n",
    "        length -= 1\n",
    "        previous = now\n",
    "        \n",
    "    result = sorted(q.queue,key=lambda x:x[1])\n",
    "    return result[(k-sum_value) % len(q.queue)][1]\n",
    "\n",
    "F = [3,1,2]\n",
    "a = solution(F,5)\n",
    "print(a)"
   ]
  },
  {
   "cell_type": "code",
   "execution_count": 56,
   "metadata": {},
   "outputs": [
    {
     "name": "stdout",
     "output_type": "stream",
     "text": [
      "False\n"
     ]
    }
   ],
   "source": [
    "\n",
    "def solution(s):\n",
    "    answer = True\n",
    "    if len(s) != 4:\n",
    "        return False\n",
    "    for text in s:\n",
    "        if ord(text)<48 or ord(text) > 57:\n",
    "            return False\n",
    "    return answer\n",
    "print(solution('a123'))"
   ]
  },
  {
   "cell_type": "code",
   "execution_count": 57,
   "metadata": {},
   "outputs": [],
   "source": [
    "def solution(arr):\n",
    "    answer = 0\n",
    "    for data in arr:\n",
    "        answer += data\n",
    "    answer /= len(arr)\n",
    "    return answer"
   ]
  },
  {
   "cell_type": "code",
   "execution_count": 58,
   "metadata": {},
   "outputs": [
    {
     "data": {
      "text/plain": [
       "2.5"
      ]
     },
     "execution_count": 58,
     "metadata": {},
     "output_type": "execute_result"
    }
   ],
   "source": [
    "a = solution([1,2,3,4])\n",
    "a"
   ]
  },
  {
   "cell_type": "code",
   "execution_count": 63,
   "metadata": {},
   "outputs": [],
   "source": [
    "def check(num):\n",
    "    if num<=2:\n",
    "        return True\n",
    "    for i in range(2,num-1):\n",
    "        if num % i ==0:\n",
    "            return False\n",
    "    return True\n",
    "\n",
    "def solution(nums):\n",
    "    answer = 0\n",
    "    for i in range(len(nums)-2):\n",
    "        for j in range(i+1,len(nums)-1):\n",
    "            for k in range(j+1,len(nums)):\n",
    "                s = nums[i]+nums[j]+nums[k]\n",
    "                if check(s) == True:\n",
    "                    answer+=1\n",
    "    return answer"
   ]
  },
  {
   "cell_type": "code",
   "execution_count": 64,
   "metadata": {},
   "outputs": [
    {
     "data": {
      "text/plain": [
       "6"
      ]
     },
     "execution_count": 64,
     "metadata": {},
     "output_type": "execute_result"
    }
   ],
   "source": [
    "a = solution([1,2,3,4])\n",
    "a"
   ]
  },
  {
   "cell_type": "code",
   "execution_count": 69,
   "metadata": {},
   "outputs": [
    {
     "name": "stdout",
     "output_type": "stream",
     "text": [
      "True\n",
      "True\n",
      "False\n"
     ]
    }
   ],
   "source": [
    "print(check(7))\n",
    "print(check(2))\n",
    "print(check(10))"
   ]
  },
  {
   "cell_type": "code",
   "execution_count": 27,
   "metadata": {},
   "outputs": [],
   "source": [
    "from collections import deque\n",
    "\n",
    "\n",
    "def solution(n, computers):\n",
    "    answer = 0\n",
    "    global length\n",
    "    length = len(computers)\n",
    "    global visited\n",
    "    visited = [[False]*length for _ in range(length)]\n",
    "    for i in range(length):\n",
    "        for j in range(length):\n",
    "            if computers[i][j] and not visited[i][j]:\n",
    "                BFS(computers,i,j)\n",
    "                answer+=1\n",
    "    return answer\n",
    "\n",
    "def BFS(Graph,x,y):\n",
    "    queue = deque([(x,y)])\n",
    "    visited[x][y] = True\n",
    "    while queue:\n",
    "        X,Y = queue.popleft()\n",
    "        for i in range(length):\n",
    "            if Graph[Y][i] and not visited[Y][i]:\n",
    "                visited[Y][i] = True\n",
    "                queue.append((Y,i))"
   ]
  },
  {
   "cell_type": "code",
   "execution_count": 29,
   "metadata": {},
   "outputs": [
    {
     "name": "stdout",
     "output_type": "stream",
     "text": [
      "1\n"
     ]
    }
   ],
   "source": [
    "Com = [[1,1,0],[1,1,1],[0,1,1]]\n",
    "print(solution(3,Com))"
   ]
  },
  {
   "cell_type": "code",
   "execution_count": null,
   "metadata": {},
   "outputs": [],
   "source": []
  }
 ],
 "metadata": {
  "kernelspec": {
   "display_name": "Python 3",
   "language": "python",
   "name": "python3"
  },
  "language_info": {
   "codemirror_mode": {
    "name": "ipython",
    "version": 3
   },
   "file_extension": ".py",
   "mimetype": "text/x-python",
   "name": "python",
   "nbconvert_exporter": "python",
   "pygments_lexer": "ipython3",
   "version": "3.7.3"
  }
 },
 "nbformat": 4,
 "nbformat_minor": 2
}
