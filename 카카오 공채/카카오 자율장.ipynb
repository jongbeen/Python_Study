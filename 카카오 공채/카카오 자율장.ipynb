{
 "cells": [
  {
   "cell_type": "code",
   "execution_count": 9,
   "metadata": {},
   "outputs": [],
   "source": [
    "def solution(N,stages):\n",
    "    result = {}\n",
    "    answer =[]\n",
    "    denominator = len(stages)\n",
    "    for stage in range(1,N+1):\n",
    "        if denominator !=0:\n",
    "            count = stages.count(stage)\n",
    "            result[stage] = count/denominator\n",
    "            denominator -= count\n",
    "        else:\n",
    "            result[stage] = 0\n",
    "    for key,value in sorted(result.items(), reverse=True, key=lambda data:data[1]):\n",
    "        answer.append(key)\n",
    "    return answer\n",
    "    "
   ]
  },
  {
   "cell_type": "code",
   "execution_count": 10,
   "metadata": {},
   "outputs": [
    {
     "name": "stdout",
     "output_type": "stream",
     "text": [
      "[3, 4, 2, 1, 5]\n"
     ]
    }
   ],
   "source": [
    "Stage = [2,1,2,6,2,4,3,3]\n",
    "#Stage = [4,4,4,4,4]\n",
    "N = 5\n",
    "test = solution(N,Stage)\n",
    "print(test)"
   ]
  },
  {
   "cell_type": "code",
   "execution_count": null,
   "metadata": {},
   "outputs": [],
   "source": [
    "def solution(food_times,k):\n",
    "    # 음식 먹는시간 정렬\n",
    "    s_times = sorted(food_times)\n",
    "    # 음식 종류 개수\n",
    "    l_times = len(food_times)\n",
    "    \n",
    "    # 합산시간\n",
    "    d_time = 0\n",
    "    l_idx = 0\n",
    "    \n",
    "    for idx in range(l_times):\n",
    "        if idx ==0:\n",
    "            # 먹는데 가장 적게 걸리는 음식 다먹는 시간\n",
    "            d_time +=s_times[idx]*(l_times - idx)\n",
    "        else:\n",
    "            # 그 다음으로 먹는데 가장 적게 걸리는 시간씩 합\n",
    "            # 0없으니 (1이 다먹는 시간 - 0이다먹는시간)\n",
    "            # X (총 횟수-다먹은 음식갯수)\n",
    "            d_time += (s_times[idx]-s_times[idx-1])*(l_times-idx)\n",
    "            \n",
    "        if d_time >k:\n",
    "            l_idx = idx-1\n",
    "            break\n",
    "    if d_time <=k:\n",
    "        return -1\n",
    "    lst = []\n",
    "    for idx in range(l_times-1, -1,-1):\n",
    "        if food_times[idx] > s_times[l_idx]:\n",
    "            lst.append(idx+1)\n",
    "    if len(lst) != 0:\n",
    "        return lst[(d_time-k-1) % len(lst)]\n",
    "    else:\n",
    "        return k % l_times+1"
   ]
  },
  {
   "cell_type": "code",
   "execution_count": null,
   "metadata": {},
   "outputs": [],
   "source": []
  },
  {
   "cell_type": "code",
   "execution_count": null,
   "metadata": {},
   "outputs": [],
   "source": []
  },
  {
   "cell_type": "code",
   "execution_count": null,
   "metadata": {},
   "outputs": [],
   "source": []
  },
  {
   "cell_type": "code",
   "execution_count": null,
   "metadata": {},
   "outputs": [],
   "source": []
  },
  {
   "cell_type": "code",
   "execution_count": null,
   "metadata": {},
   "outputs": [],
   "source": []
  },
  {
   "cell_type": "code",
   "execution_count": null,
   "metadata": {},
   "outputs": [],
   "source": []
  },
  {
   "cell_type": "code",
   "execution_count": null,
   "metadata": {},
   "outputs": [],
   "source": []
  }
 ],
 "metadata": {
  "kernelspec": {
   "display_name": "Python 3",
   "language": "python",
   "name": "python3"
  },
  "language_info": {
   "codemirror_mode": {
    "name": "ipython",
    "version": 3
   },
   "file_extension": ".py",
   "mimetype": "text/x-python",
   "name": "python",
   "nbconvert_exporter": "python",
   "pygments_lexer": "ipython3",
   "version": "3.7.3"
  }
 },
 "nbformat": 4,
 "nbformat_minor": 2
}
